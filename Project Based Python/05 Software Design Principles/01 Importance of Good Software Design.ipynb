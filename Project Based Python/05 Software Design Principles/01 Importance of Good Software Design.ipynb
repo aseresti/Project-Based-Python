{
 "cells": [
  {
   "cell_type": "markdown",
   "metadata": {},
   "source": [
    "<img src=\"./images/banner.png\" width=\"800\">"
   ]
  },
  {
   "cell_type": "markdown",
   "metadata": {},
   "source": [
    "\n",
    "In this document, we will explore the importance of good software design and the SOLID principles, which are fundamental to achieving it. We'll also learn how to apply these principles to improve Python code.\n"
   ]
  },
  {
   "cell_type": "markdown",
   "metadata": {},
   "source": [
    "**Table of contents**<a id='toc0_'></a>    \n",
    "- [Robert C. Martin: \"Uncle Bob\"](#toc1_)    \n",
    "- [The SOLID Principles](#toc2_)    \n",
    "  - [Single Responsibility Principle (SRP)](#toc2_1_)    \n",
    "  - [Open/Closed Principle (OCP)](#toc2_2_)    \n",
    "  - [Liskov Substitution Principle (LSP)](#toc2_3_)    \n",
    "  - [Interface Segregation Principle (ISP)](#toc2_4_)    \n",
    "  - [Dependency Inversion Principle (DIP)](#toc2_5_)    \n",
    "- [Using SOLID Principles for Better Python Code](#toc3_)    \n",
    "\n",
    "<!-- vscode-jupyter-toc-config\n",
    "\tnumbering=false\n",
    "\tanchor=true\n",
    "\tflat=false\n",
    "\tminLevel=2\n",
    "\tmaxLevel=6\n",
    "\t/vscode-jupyter-toc-config -->\n",
    "<!-- THIS CELL WILL BE REPLACED ON TOC UPDATE. DO NOT WRITE YOUR TEXT IN THIS CELL -->"
   ]
  },
  {
   "cell_type": "markdown",
   "metadata": {},
   "source": [
    "\n",
    "## <a id='toc1_'></a>[Robert C. Martin: \"Uncle Bob\"](#toc0_)\n"
   ]
  },
  {
   "cell_type": "markdown",
   "metadata": {},
   "source": [
    "\n",
    "\"Uncle Bob\" is a nickname for **Robert C. Martin**, a renowned figure in the software development world. He has been a software professional since the 1970s and has been influential in the development of many software principles and practices.\n",
    "\n",
    "Key Points about Uncle Bob:\n",
    "- **Clean Code**: He wrote the book \"Clean Code: A Handbook of Agile Software Craftsmanship,\" which is considered a classic in the software development world. It emphasizes the importance of writing code that is readable, maintainable, and efficient.\n",
    "- **Agile Manifesto**: Uncle Bob is one of the original authors of the Agile Manifesto, a set of principles for software development under which requirements and solutions evolve through the collaborative effort of self-organizing cross-functional teams.\n",
    "- **SOLID Principles**: He's known for promoting the SOLID principles, which are a set of design principles in object-oriented software development that, when followed properly, can lead to more understandable, flexible, and maintainable code.\n",
    "- **Software Craftsmanship**: Uncle Bob is a strong advocate for software craftsmanship, which emphasizes the coding skill and professionalism of software developers.\n",
    "- **Founder of the Clean Coders**: He founded Clean Coders, which produces instructional videos for software professionals.\n",
    "- **Public Speaker**: Uncle Bob is a frequent speaker at software conferences worldwide."
   ]
  },
  {
   "cell_type": "markdown",
   "metadata": {},
   "source": [
    "\n",
    "His contributions to the field of software development, especially in the areas of Agile, clean code, and software craftsmanship, have left a lasting impact, and he continues to be a source of inspiration for many developers around the world.\n"
   ]
  },
  {
   "cell_type": "markdown",
   "metadata": {},
   "source": [
    "\n",
    "## <a id='toc2_'></a>[The SOLID Principles](#toc0_)\n"
   ]
  },
  {
   "cell_type": "markdown",
   "metadata": {},
   "source": [
    "<img src=\"./images/solid/1.png\" width=\"800\">"
   ]
  },
  {
   "cell_type": "markdown",
   "metadata": {},
   "source": [
    "\n",
    "Robert C. Martin introduced the SOLID principles, a set of five principles that guide software design and development. Let's explore each principle:\n"
   ]
  },
  {
   "cell_type": "markdown",
   "metadata": {},
   "source": [
    "\n",
    "### <a id='toc2_1_'></a>[Single Responsibility Principle (SRP)](#toc0_)\n"
   ]
  },
  {
   "cell_type": "markdown",
   "metadata": {},
   "source": [
    "The Single Responsibility Principle (SRP) states that a class should have only one reason to change or, in other words, a single responsibility. It should focus on doing one thing and doing it well.\n",
    "\n",
    "> Originator: Robert C. Martin (Uncle Bob) in the early 2000s"
   ]
  },
  {
   "cell_type": "markdown",
   "metadata": {},
   "source": [
    "\n",
    "### <a id='toc2_2_'></a>[Open/Closed Principle (OCP)](#toc0_)\n"
   ]
  },
  {
   "cell_type": "markdown",
   "metadata": {},
   "source": [
    "The Open/Closed Principle (OCP) encourages software entities (classes, modules, functions) to be open for extension but closed for modification. It means that you can add new features or behavior without altering existing code.\n",
    "\n",
    "> Originator: Bertrand Meyer in the 1980s"
   ]
  },
  {
   "cell_type": "markdown",
   "metadata": {},
   "source": [
    "\n",
    "### <a id='toc2_3_'></a>[Liskov Substitution Principle (LSP)](#toc0_)\n"
   ]
  },
  {
   "cell_type": "markdown",
   "metadata": {},
   "source": [
    "The Liskov Substitution Principle (LSP) states that objects of a derived class should be able to replace objects of the base class without affecting the correctness of the program. In other words, derived classes should be substitutable for their base classes.\n",
    "\n",
    "> Originator: Barbara Liskov (and later elaborated on by Jeannette Wing) in the 1980s"
   ]
  },
  {
   "cell_type": "markdown",
   "metadata": {},
   "source": [
    "\n",
    "### <a id='toc2_4_'></a>[Interface Segregation Principle (ISP)](#toc0_)\n"
   ]
  },
  {
   "cell_type": "markdown",
   "metadata": {},
   "source": [
    "The Interface Segregation Principle (ISP) suggests that a class should not be forced to implement interfaces or methods it does not use. It promotes the creation of small, specific interfaces rather than large, monolithic ones.\n",
    "\n",
    "> Originator: Robert C. Martin (Uncle Bob) in the early 2000s"
   ]
  },
  {
   "cell_type": "markdown",
   "metadata": {},
   "source": [
    "\n",
    "### <a id='toc2_5_'></a>[Dependency Inversion Principle (DIP)](#toc0_)\n"
   ]
  },
  {
   "cell_type": "markdown",
   "metadata": {},
   "source": [
    "The Dependency Inversion Principle (DIP) advocates depending on abstractions rather than concrete implementations. High-level modules should not depend on low-level modules; both should depend on abstractions.\n",
    "\n",
    "> Originator: Concept has been around, but as known in the context of SOLID, it was defined and promoted by Robert C. Martin (Uncle Bob) in the early 2000s"
   ]
  },
  {
   "cell_type": "markdown",
   "metadata": {},
   "source": [
    "\n",
    "## <a id='toc3_'></a>[Using SOLID Principles for Better Python Code](#toc0_)\n"
   ]
  },
  {
   "cell_type": "markdown",
   "metadata": {},
   "source": [
    "When creating classes in Python, following the SOLID principles can lead to more organized and maintainable code. In this section, we'll learn how to apply these principles to improve Python code and make it clearer and more robust."
   ]
  },
  {
   "cell_type": "markdown",
   "metadata": {},
   "source": [
    "\n",
    "To get started, let's understand each SOLID rule and see how they work with Python examples.\n",
    "\n",
    "- Single-responsibility principle (SRP): A class should have only one job.\n",
    "- Open–closed principle (OCP): You should be able to add new features without changing existing code.\n",
    "- Liskov substitution principle (LSP): If a class is a subtype of another, you should be able to use them interchangeably without issues.\n",
    "- Interface segregation principle (ISP): Don't force a class to use methods it doesn't need.\n",
    "- Dependency inversion principle (DIP): Depend on abstractions, not specifics.\n",
    "\n",
    "We'll delve into each rule and demonstrate its application with Python examples, ultimately helping you create clearer, more organized, and easier-to-maintain code.\n",
    "\n"
   ]
  }
 ],
 "metadata": {
  "language_info": {
   "name": "python"
  },
  "orig_nbformat": 4
 },
 "nbformat": 4,
 "nbformat_minor": 2
}
