{
 "cells": [
  {
   "cell_type": "markdown",
   "metadata": {},
   "source": [
    "<img src=\"./images/banner.png\" width=\"800\">"
   ]
  },
  {
   "cell_type": "markdown",
   "metadata": {},
   "source": [
    "# Liskov Substitution Principle (LSP)"
   ]
  },
  {
   "cell_type": "markdown",
   "metadata": {},
   "source": [
    "<img src=\"./images/solid/4.png\" width=\"800\">"
   ]
  },
  {
   "cell_type": "markdown",
   "metadata": {},
   "source": [
    "The Liskov Substitution Principle (LSP) is a rule introduced by Barbara Liskov in 1987. It's a bit like saying:\n",
    "> If you have a toy box for toy cars, any kind of toy car (race car, truck, van) should fit in it.\n",
    "\n",
    "In coding terms, if you have a class (like a toy box) and some subclasses (like different toy cars), you should be able to use any subclass without breaking things.\n"
   ]
  },
  {
   "cell_type": "markdown",
   "metadata": {},
   "source": [
    "For instance, if you have a `Shape` class and you use a `Rectangle` or `Circle` subclass, everything should still work."
   ]
  },
  {
   "cell_type": "markdown",
   "metadata": {},
   "source": [
    "**Example Time!**\n",
    "\n",
    "Imagine you have a `Rectangle` class. You can calculate its area."
   ]
  },
  {
   "cell_type": "code",
   "execution_count": 2,
   "metadata": {},
   "outputs": [],
   "source": [
    "class Rectangle:\n",
    "    def __init__(self, width, height):\n",
    "        self.width = width\n",
    "        self.height = height\n",
    "\n",
    "    def calculate_area(self):\n",
    "        return self.width * self.height"
   ]
  },
  {
   "cell_type": "markdown",
   "metadata": {},
   "source": [
    "Now, a square is a type of rectangle, right? So, you might think of making a `Square` class based on the `Rectangle`. But here's the catch: if you change the width of a square, its height should also change (because all sides are equal). This behavior is different from a regular rectangle."
   ]
  },
  {
   "cell_type": "code",
   "execution_count": 3,
   "metadata": {},
   "outputs": [],
   "source": [
    "class Square(Rectangle):\n",
    "    def __init__(self, side):\n",
    "        super().__init__(side, side)\n",
    "\n",
    "    def __setattr__(self, key, value):\n",
    "        super().__setattr__(key, value)\n",
    "        if key in (\"width\", \"height\"):\n",
    "            self.__dict__[\"width\"] = value\n",
    "            self.__dict__[\"height\"] = value"
   ]
  },
  {
   "cell_type": "markdown",
   "metadata": {},
   "source": [
    "This can cause problems. If someone uses a `Square` thinking it's just like any `Rectangle`, they might get unexpected results. This breaks the LSP rule."
   ]
  },
  {
   "cell_type": "markdown",
   "metadata": {},
   "source": [
    "A better way? Make a base `Shape` class. Then, have both `Rectangle` and `Square` as separate subclasses:"
   ]
  },
  {
   "cell_type": "code",
   "execution_count": 4,
   "metadata": {},
   "outputs": [],
   "source": [
    "from abc import ABC, abstractmethod\n",
    "\n",
    "class Shape(ABC):\n",
    "    @abstractmethod\n",
    "    def calculate_area(self):\n",
    "        pass\n",
    "\n",
    "class Rectangle(Shape):\n",
    "    def __init__(self, width, height):\n",
    "        self.width = width\n",
    "        self.height = height\n",
    "\n",
    "    def calculate_area(self):\n",
    "        return self.width * self.height\n",
    "\n",
    "class Square(Shape):\n",
    "    def __init__(self, side):\n",
    "        self.side = side\n",
    "\n",
    "    def calculate_area(self):\n",
    "        return self.side ** 2"
   ]
  },
  {
   "cell_type": "markdown",
   "metadata": {},
   "source": [
    "Now, both `Rectangle` and `Square` are like siblings. They both know how to calculate their area, but they don't interfere with each other."
   ]
  },
  {
   "cell_type": "markdown",
   "metadata": {},
   "source": [
    "Another example: imagine you have a `Bird` class. It has a `fly()` method. Now, you make a `Penguin` subclass. Penguins can't fly, so you might be tempted to remove the `fly()` method from the `Penguin` class. But this breaks the LSP rule. Instead, you should keep the `fly()` method, but make it do nothing."
   ]
  },
  {
   "cell_type": "code",
   "execution_count": 4,
   "metadata": {},
   "outputs": [],
   "source": [
    "class Bird:\n",
    "    def fly(self):\n",
    "        pass\n",
    "\n",
    "class Sparrow(Bird):\n",
    "    def fly(self):\n",
    "        print(\"Sparrow can fly\")\n",
    "\n",
    "class Penguin(Bird):\n",
    "    def fly(self):\n",
    "        print(\"Penguin cannot fly\")\n",
    "\n",
    "def make_bird_fly(bird):\n",
    "    bird.fly()"
   ]
  },
  {
   "cell_type": "code",
   "execution_count": 5,
   "metadata": {},
   "outputs": [],
   "source": [
    "# Usage of LSP\n",
    "sparrow = Sparrow()\n",
    "penguin = Penguin()"
   ]
  },
  {
   "cell_type": "code",
   "execution_count": 6,
   "metadata": {},
   "outputs": [
    {
     "name": "stdout",
     "output_type": "stream",
     "text": [
      "Sparrow can fly\n",
      "Penguin cannot fly\n"
     ]
    }
   ],
   "source": [
    "make_bird_fly(sparrow)  # Output: \"Sparrow can fly\"\n",
    "make_bird_fly(penguin)  # Output: \"Penguin cannot fly\""
   ]
  },
  {
   "cell_type": "markdown",
   "metadata": {},
   "source": [
    "This demonstrates the Liskov Substitution Principle because you can substitute instances of the derived classes (`Sparrow` and `Penguin`) for instances of the base class (`Bird`) without affecting the correctness of the program."
   ]
  },
  {
   "cell_type": "markdown",
   "metadata": {},
   "source": [
    "Despite the fact that `Sparrow` and `Penguin` have different implementations of `fly()`, they can both be passed to `make_bird_fly()` without causing errors, and the function behaves correctly based on the specific type of bird."
   ]
  },
  {
   "cell_type": "markdown",
   "metadata": {},
   "source": [
    "This example illustrates how LSP promotes polymorphism and allows you to write code that can work with objects of different derived classes in a consistent and predictable manner."
   ]
  },
  {
   "cell_type": "markdown",
   "metadata": {},
   "source": [
    "\n",
    "In short, the LSP rule helps make sure that when you use a subclass, it behaves as expected and doesn't cause surprises."
   ]
  }
 ],
 "metadata": {
  "kernelspec": {
   "display_name": "py310",
   "language": "python",
   "name": "python3"
  },
  "language_info": {
   "codemirror_mode": {
    "name": "ipython",
    "version": 3
   },
   "file_extension": ".py",
   "mimetype": "text/x-python",
   "name": "python",
   "nbconvert_exporter": "python",
   "pygments_lexer": "ipython3",
   "version": "3.10.12"
  },
  "orig_nbformat": 4
 },
 "nbformat": 4,
 "nbformat_minor": 2
}
