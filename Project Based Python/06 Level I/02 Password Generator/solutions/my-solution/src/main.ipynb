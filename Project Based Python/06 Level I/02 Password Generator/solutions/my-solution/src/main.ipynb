{
 "cells": [
  {
   "cell_type": "markdown",
   "metadata": {},
   "source": [
    "- Parent: PasswordGenerator\n",
    "  - Abstract\n",
    "  - Methods: __init__, generate\n",
    "- RandomPasswordGenerator\n",
    "- MemorablePasswordGenerator\n",
    "- PinGenerator"
   ]
  },
  {
   "cell_type": "code",
   "execution_count": 101,
   "metadata": {},
   "outputs": [
    {
     "name": "stderr",
     "output_type": "stream",
     "text": [
      "[nltk_data] Downloading package words to /Users/hejazizo/nltk_data...\n",
      "[nltk_data]   Package words is already up-to-date!\n"
     ]
    }
   ],
   "source": [
    "from abc import ABC, abstractmethod\n",
    "import nltk\n",
    "\n",
    "nltk.download('words')\n",
    "\n",
    "\n",
    "class PasswordGenerator(ABC):\n",
    "    @abstractmethod\n",
    "    def generate(self):\n",
    "        pass"
   ]
  },
  {
   "cell_type": "code",
   "execution_count": 103,
   "metadata": {},
   "outputs": [
    {
     "data": {
      "text/plain": [
       "236736"
      ]
     },
     "execution_count": 103,
     "metadata": {},
     "output_type": "execute_result"
    }
   ],
   "source": []
  },
  {
   "cell_type": "code",
   "execution_count": null,
   "metadata": {},
   "outputs": [],
   "source": []
  },
  {
   "cell_type": "code",
   "execution_count": 25,
   "metadata": {},
   "outputs": [],
   "source": [
    "import random\n",
    "import string\n",
    "\n",
    "\n",
    "class PinGenerator(PasswordGenerator):\n",
    "    def __init__(self, length: int):\n",
    "        self.length = length\n",
    "\n",
    "    def generate(self) -> str:\n",
    "        return ''.join([random.choice(string.digits) for _ in range(self.length)])"
   ]
  },
  {
   "cell_type": "code",
   "execution_count": 37,
   "metadata": {},
   "outputs": [],
   "source": [
    "import string\n",
    "\n",
    "\n",
    "class RandomPasswordGenerator(PasswordGenerator):\n",
    "    def __init__(self, length: int = 8, include_numbers: bool = False, include_symbols: bool = False):\n",
    "        self.length = length\n",
    "        self.characters = string.ascii_letters\n",
    "        if include_numbers:\n",
    "            self.characters += string.digits\n",
    "        if include_symbols:\n",
    "            self.characters += string.punctuation\n",
    "\n",
    "    def generate(self):\n",
    "        return ''.join([random.choice(self.characters) for _ in range(self.length)])"
   ]
  },
  {
   "cell_type": "code",
   "execution_count": 116,
   "metadata": {},
   "outputs": [],
   "source": [
    "words = [\n",
    "    'sarina', 'nika', 'niloufar', 'elahe', 'hamidreza', 'armita'\n",
    "]\n",
    "\n",
    "\n",
    "class MemorablePasswordGenerator(PasswordGenerator):\n",
    "    def __init__(\n",
    "        self,\n",
    "        num_of_words: int = 4,\n",
    "        separator: str = '-',\n",
    "        capitalize: bool = False,\n",
    "        vocabulary: list = None\n",
    "    ):\n",
    "        if vocabulary is None:\n",
    "            vocabulary = nltk.corpus.words.words()\n",
    "\n",
    "        self.vocabulary = vocabulary\n",
    "        self.num_of_words = num_of_words\n",
    "        self.capitalize = capitalize\n",
    "        self.separator = separator\n",
    "\n",
    "    def generate(self):\n",
    "        password_words = [random.choice(self.vocabulary) for _ in range(self.num_of_words)]\n",
    "        if self.capitalize:\n",
    "            password_words = [word.upper() if random.choice([True, False]) else word.lower() for word in password_words]\n",
    "\n",
    "        return self.separator.join(password_words)"
   ]
  },
  {
   "cell_type": "code",
   "execution_count": 117,
   "metadata": {},
   "outputs": [
    {
     "data": {
      "text/plain": [
       "'NIKA-NIKA-sarina-NIKA'"
      ]
     },
     "execution_count": 117,
     "metadata": {},
     "output_type": "execute_result"
    }
   ],
   "source": [
    "password_generator = MemorablePasswordGenerator(capitalize=True, vocabulary=['sarina', 'nika'])\n",
    "\n",
    "password_generator.generate()"
   ]
  },
  {
   "cell_type": "code",
   "execution_count": null,
   "metadata": {},
   "outputs": [],
   "source": []
  }
 ],
 "metadata": {
  "kernelspec": {
   "display_name": "py310",
   "language": "python",
   "name": "python3"
  },
  "language_info": {
   "codemirror_mode": {
    "name": "ipython",
    "version": 3
   },
   "file_extension": ".py",
   "mimetype": "text/x-python",
   "name": "python",
   "nbconvert_exporter": "python",
   "pygments_lexer": "ipython3",
   "version": "3.10.12"
  }
 },
 "nbformat": 4,
 "nbformat_minor": 2
}
