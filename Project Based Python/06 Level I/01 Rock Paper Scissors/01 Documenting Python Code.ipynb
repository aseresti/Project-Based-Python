{
 "cells": [
  {
   "cell_type": "markdown",
   "metadata": {},
   "source": [
    "<img src=\"./images/code-doc-banner.png\" width=\"800\">"
   ]
  },
  {
   "cell_type": "markdown",
   "metadata": {},
   "source": [
    "# Documenting Python Code"
   ]
  },
  {
   "cell_type": "markdown",
   "metadata": {},
   "source": [
    "Welcome to this straightforward guide on documenting Python code. Regardless if you're working on a small script or big project, a beginner or advanced coder, this guide has you covered."
   ]
  },
  {
   "cell_type": "markdown",
   "metadata": {},
   "source": [
    "Our tutorial is split into four main parts:\n",
    "\n",
    "1. **Why Documenting Your Code Is So Important**: We start with what documentation is and why it matters.\n",
    "2. **Commenting vs Documenting Code**: Here we discuss the key differences between commenting and documenting, along with when and how to use comments effectively.\n",
    "3. **Documenting Your Python Code Base Using Docstrings**: This part focus on docstrings, covering their uses in different parts of code from classes, methods, functions to modules, packages, and scripts. We'll also discuss what exactly should be included in each docstring.\n"
   ]
  },
  {
   "cell_type": "markdown",
   "metadata": {},
   "source": [
    "Feel free to go through the tutorial from start to end or jump to any section that interests you. The tutorial is built to be flexible for your learning needs."
   ]
  },
  {
   "cell_type": "markdown",
   "metadata": {},
   "source": [
    "**Table of contents**<a id='toc0_'></a>    \n",
    "- [Why Documenting Your Code Matters](#toc1_)    \n",
    "- [Commenting vs Documenting Code](#toc2_)    \n",
    "  - [Basics of Commenting Code](#toc2_1_)    \n",
    "  - [Commenting Code via Type Hinting (Python 3.5+)](#toc2_2_)    \n",
    "- [Documenting Your Python Code Base Using Docstrings](#toc3_)    \n",
    "  - [Docstrings Background](#toc3_1_)    \n",
    "  - [Docstring Types](#toc3_2_)    \n",
    "    - [Class Docstrings](#toc3_2_1_)    \n",
    "    - [Package and Module Docstrings](#toc3_2_2_)    \n",
    "    - [Script Docstrings](#toc3_2_3_)    \n",
    "  - [Docstring Formats](#toc3_3_)    \n",
    "- [Where Do I Start?](#toc4_)    \n",
    "\n",
    "<!-- vscode-jupyter-toc-config\n",
    "\tnumbering=false\n",
    "\tanchor=true\n",
    "\tflat=false\n",
    "\tminLevel=2\n",
    "\tmaxLevel=6\n",
    "\t/vscode-jupyter-toc-config -->\n",
    "<!-- THIS CELL WILL BE REPLACED ON TOC UPDATE. DO NOT WRITE YOUR TEXT IN THIS CELL -->"
   ]
  },
  {
   "cell_type": "markdown",
   "metadata": {},
   "source": [
    "## <a id='toc1_'></a>[Why Documenting Your Code Matters](#toc0_)"
   ]
  },
  {
   "cell_type": "markdown",
   "metadata": {},
   "source": [
    "Welcome to the pivotal section on **why documenting your code matters**. You might have encountered the words of Python's creator, Guido van Rossum - **\"Code is more often read than written\"**. This adage drives home the essence of **readable code**.\n"
   ]
  },
  {
   "cell_type": "markdown",
   "metadata": {},
   "source": [
    "All code, whether big or small, is intended for two main groups: **users** and **developers** (that includes you!). Both are very important. If you've ever looked back at your old code and wondered what you were thinking, you're not alone. Picture users or other developers trying to understand or build upon your hard-to-understand code."
   ]
  },
  {
   "cell_type": "markdown",
   "metadata": {},
   "source": [
    "From another viewpoint, imagine you're working on a Python task and find a library that seems suited for it. However, you can't find examples, explanations, or even official documentation. No matter how good the code, inadequate or missing documentation discourages use. As Daniele Procida puts it:\n",
    "\n",
    "> _\"No matter how good your software is, people won't use it if the documentation isn't good enough.\"_"
   ]
  },
  {
   "cell_type": "markdown",
   "metadata": {},
   "source": [
    "In this guide, you are embarking on a practical learning venture to **document Python code effectively**, from the simplest of scripts to the most extensive of Python projects. Our goal is to shield your users and contributors from uncertainty and frustration when interacting with your code."
   ]
  },
  {
   "cell_type": "markdown",
   "metadata": {},
   "source": [
    "## <a id='toc2_'></a>[Commenting vs Documenting Code](#toc0_)"
   ]
  },
  {
   "cell_type": "markdown",
   "metadata": {},
   "source": [
    "Let's demystify **commenting** versus **documenting** code before we dive into documentation techniques.\n"
   ]
  },
  {
   "cell_type": "markdown",
   "metadata": {},
   "source": [
    "When we talk about *commenting*, we refer to describing code for developers, the folks who maintain and build upon your Python code. Comments, in hand with well-structured code, aid developers’ understanding of your code's design:\n",
    "\n",
    ">\"Code tells you how; Comments tell you why.\"\n",
    "\n",
    ">— *Jeff Atwood (aka Coding Horror)*\n"
   ]
  },
  {
   "cell_type": "markdown",
   "metadata": {},
   "source": [
    "In contrast, *documenting* code describes its use and functionality to users. Although helpful to developers, the users of your code are the primary audience.\n"
   ]
  },
  {
   "cell_type": "markdown",
   "metadata": {},
   "source": [
    "### <a id='toc2_1_'></a>[Basics of Commenting Code](#toc0_)"
   ]
  },
  {
   "cell_type": "markdown",
   "metadata": {},
   "source": [
    "Use the pound sign (#) to create comments in Python. Comment lines should be short and not exceeds 72 characters, regardless of your project's max line set-up. An example:\n",
    "\n",
    "```python\n",
    "# Attempt a connection. If unsuccessful, prompt user for settings.\n",
    "```\n"
   ]
  },
  {
   "cell_type": "markdown",
   "metadata": {},
   "source": [
    "With a longer comment, split it into multiple lines:\n",
    "\n",
    "```python\n",
    "# A long statement that persistently goes above 72 chars and extends\n",
    "# way beyond the line limit of 80 chars.\n",
    "print(\"Hello long World\")\n",
    "```\n"
   ]
  },
  {
   "cell_type": "markdown",
   "metadata": {},
   "source": [
    "Comments are handy for a variety of tasks:\n",
    "- Outlining and reviewing new code sections\n",
    "```python\n",
    "# First step\n",
    "# Second step\n",
    "# Third step\n",
    "```\n",
    "- Explaining code intent\n",
    "```python\n",
    "# Attempt a connection based on previous settings. If unsuccessful,\n",
    "# prompt user for new settings.\n",
    "```\n",
    "- Describing algorithm use\n",
    "```python\n",
    "# Using quick sort for performance gains\n",
    "```\n",
    "- Marking known issues or areas needing improvements (using tags)\n",
    "```python\n",
    "# TODO: Add condition for when val is None\n",
    "```\n"
   ]
  },
  {
   "cell_type": "markdown",
   "metadata": {},
   "source": [
    "Jeff Atwood suggests these rules for effective comments:\n",
    "- Position comments near the related code.\n",
    "- Avoid complex formatting.\n",
    "- Don’t include redundant information.\n",
    "- Design self-explaining code.\n"
   ]
  },
  {
   "cell_type": "markdown",
   "metadata": {},
   "source": [
    "In essence, comments are meant to clarify the code's purpose and structure for the reader."
   ]
  },
  {
   "cell_type": "markdown",
   "metadata": {},
   "source": [
    "### <a id='toc2_2_'></a>[Commenting Code via Type Hinting (Python 3.5+)](#toc0_)"
   ]
  },
  {
   "cell_type": "markdown",
   "metadata": {},
   "source": [
    "Type hinting, introduced in Python 3.5, enriches commenting in code. Type hinting provides readers of your code with a clear idea of what types of arguments are expected by a function, and what type it returns.\n"
   ]
  },
  {
   "cell_type": "markdown",
   "metadata": {},
   "source": [
    "Let's look at a simple example:\n",
    "\n",
    "```python\n",
    "def greet(name: str) -> str:\n",
    "    return(f\"Hello {name}\")\n",
    "```\n"
   ]
  },
  {
   "cell_type": "markdown",
   "metadata": {},
   "source": [
    "Here, the function `greet` expects `name` to be of type `str`, and it also returns a result of type `str`. This way, a quick look at the function signature gives a pretty good idea of how this function works.\n"
   ]
  },
  {
   "cell_type": "markdown",
   "metadata": {},
   "source": [
    "To take type hinting further, Python has the `typing` module, allowing even more explicit type annotations. This module is especially useful for more complex type hints involving lists, dictionaries, or custom classes. Here's an example:\n",
    "\n",
    "```python\n",
    "from typing import List, Tuple\n",
    "\n",
    "def stats(numbers: List[int]) -> Tuple[float, float]:\n",
    "    return sum(numbers)/len(numbers), max(numbers)\n",
    "```\n"
   ]
  },
  {
   "cell_type": "markdown",
   "metadata": {},
   "source": [
    "In this `stats` function, it is clear that `numbers` should be a list of integers. The function returns a tuple containing two floating-point numbers.\n"
   ]
  },
  {
   "cell_type": "markdown",
   "metadata": {},
   "source": [
    "However, it's vital to remember that although type hinting improves code readability, overusing it might complicate code writing and updating, especially for small projects or quick scripts. Also, Python's dynamic typing paradigm should not be overlooked.\n"
   ]
  },
  {
   "cell_type": "markdown",
   "metadata": {},
   "source": [
    "## <a id='toc3_'></a>[Documenting Your Python Code Base Using Docstrings](#toc0_)\n"
   ]
  },
  {
   "cell_type": "markdown",
   "metadata": {},
   "source": [
    "Now, let's explore documenting a Python code base, focusing on docstrings. Docstrings are a crucial tool for proper documentation. In this section, we'll break down:\n",
    "\n",
    "- **Docstrings Background**: Understanding how Python internally handles docstrings.\n",
    "- **Docstring Types**: Reviewing the range of docstrings for different code elements – functions, classes, class methods, modules, packages, and scripts.\n",
    "- **Docstring Formats**: Comparing different docstring formats like Google, NumPy/SciPy, reStructuredText, and Epytext."
   ]
  },
  {
   "cell_type": "markdown",
   "metadata": {},
   "source": [
    "### <a id='toc3_1_'></a>[Docstrings Background](#toc0_)"
   ]
  },
  {
   "cell_type": "markdown",
   "metadata": {},
   "source": [
    "At the heart of documenting Python code are **docstrings**. These are built-in strings that can facilitate your project’s documentation if used correctly. Python's built-in `help()` function conveniently prints the docstring of an object to the console. Here’s a quick example\n"
   ]
  },
  {
   "cell_type": "code",
   "execution_count": 21,
   "metadata": {},
   "outputs": [
    {
     "name": "stdout",
     "output_type": "stream",
     "text": [
      "Help on class str in module builtins:\n",
      "\n",
      "class str(object)\n",
      " |  str(object='') -> str\n",
      " |  str(bytes_or_buffer[, encoding[, errors]]) -> str\n",
      " |  \n",
      " |  Create a new string object from the given object. If encoding or\n",
      " |  errors is specified, then the object must expose a data buffer\n",
      " |  that will be decoded using the given encoding and error handler.\n",
      " |  Otherwise, returns the result of object.__str__() (if defined)\n",
      " |  or repr(object).\n",
      " |  encoding defaults to sys.getdefaultencoding().\n",
      " |  errors defaults to 'strict'.\n",
      " |  \n",
      " |  Methods defined here:\n",
      " |  \n",
      " |  __add__(self, value, /)\n",
      " |      Return self+value.\n",
      " |  \n",
      " |  __contains__(self, key, /)\n",
      " |      Return key in self.\n",
      " |  \n",
      " |  __eq__(self, value, /)\n",
      " |      Return self==value.\n",
      " |  \n",
      " |  __format__(self, format_spec, /)\n",
      " |      Return a formatted version of the string as described by format_spec.\n",
      " |  \n",
      " |  __ge__(self, value, /)\n",
      " |      Return self>=value.\n",
      " |  \n",
      " |  __getattribute__(self, name, /)\n",
      " |      Return getattr(self, name).\n",
      " |  \n",
      " |  __getitem__(self, key, /)\n",
      " |      Return self[key].\n",
      " |  \n",
      " |  __getnewargs__(...)\n",
      " |  \n",
      " |  __gt__(self, value, /)\n",
      " |      Return self>value.\n",
      " |  \n",
      " |  __hash__(self, /)\n",
      " |      Return hash(self).\n",
      " |  \n",
      " |  __iter__(self, /)\n",
      " |      Implement iter(self).\n",
      " |  \n",
      " |  __le__(self, value, /)\n",
      " |      Return self<=value.\n",
      " |  \n",
      " |  __len__(self, /)\n",
      " |      Return len(self).\n",
      " |  \n",
      " |  __lt__(self, value, /)\n",
      " |      Return self<value.\n",
      " |  \n",
      " |  __mod__(self, value, /)\n",
      " |      Return self%value.\n",
      " |  \n",
      " |  __mul__(self, value, /)\n",
      " |      Return self*value.\n",
      " |  \n",
      " |  __ne__(self, value, /)\n",
      " |      Return self!=value.\n",
      " |  \n",
      " |  __repr__(self, /)\n",
      " |      Return repr(self).\n",
      " |  \n",
      " |  __rmod__(self, value, /)\n",
      " |      Return value%self.\n",
      " |  \n",
      " |  __rmul__(self, value, /)\n",
      " |      Return value*self.\n",
      " |  \n",
      " |  __sizeof__(self, /)\n",
      " |      Return the size of the string in memory, in bytes.\n",
      " |  \n",
      " |  __str__(self, /)\n",
      " |      Return str(self).\n",
      " |  \n",
      " |  capitalize(self, /)\n",
      " |      Return a capitalized version of the string.\n",
      " |      \n",
      " |      More specifically, make the first character have upper case and the rest lower\n",
      " |      case.\n",
      " |  \n",
      " |  casefold(self, /)\n",
      " |      Return a version of the string suitable for caseless comparisons.\n",
      " |  \n",
      " |  center(self, width, fillchar=' ', /)\n",
      " |      Return a centered string of length width.\n",
      " |      \n",
      " |      Padding is done using the specified fill character (default is a space).\n",
      " |  \n",
      " |  count(...)\n",
      " |      S.count(sub[, start[, end]]) -> int\n",
      " |      \n",
      " |      Return the number of non-overlapping occurrences of substring sub in\n",
      " |      string S[start:end].  Optional arguments start and end are\n",
      " |      interpreted as in slice notation.\n",
      " |  \n",
      " |  encode(self, /, encoding='utf-8', errors='strict')\n",
      " |      Encode the string using the codec registered for encoding.\n",
      " |      \n",
      " |      encoding\n",
      " |        The encoding in which to encode the string.\n",
      " |      errors\n",
      " |        The error handling scheme to use for encoding errors.\n",
      " |        The default is 'strict' meaning that encoding errors raise a\n",
      " |        UnicodeEncodeError.  Other possible values are 'ignore', 'replace' and\n",
      " |        'xmlcharrefreplace' as well as any other name registered with\n",
      " |        codecs.register_error that can handle UnicodeEncodeErrors.\n",
      " |  \n",
      " |  endswith(...)\n",
      " |      S.endswith(suffix[, start[, end]]) -> bool\n",
      " |      \n",
      " |      Return True if S ends with the specified suffix, False otherwise.\n",
      " |      With optional start, test S beginning at that position.\n",
      " |      With optional end, stop comparing S at that position.\n",
      " |      suffix can also be a tuple of strings to try.\n",
      " |  \n",
      " |  expandtabs(self, /, tabsize=8)\n",
      " |      Return a copy where all tab characters are expanded using spaces.\n",
      " |      \n",
      " |      If tabsize is not given, a tab size of 8 characters is assumed.\n",
      " |  \n",
      " |  find(...)\n",
      " |      S.find(sub[, start[, end]]) -> int\n",
      " |      \n",
      " |      Return the lowest index in S where substring sub is found,\n",
      " |      such that sub is contained within S[start:end].  Optional\n",
      " |      arguments start and end are interpreted as in slice notation.\n",
      " |      \n",
      " |      Return -1 on failure.\n",
      " |  \n",
      " |  format(...)\n",
      " |      S.format(*args, **kwargs) -> str\n",
      " |      \n",
      " |      Return a formatted version of S, using substitutions from args and kwargs.\n",
      " |      The substitutions are identified by braces ('{' and '}').\n",
      " |  \n",
      " |  format_map(...)\n",
      " |      S.format_map(mapping) -> str\n",
      " |      \n",
      " |      Return a formatted version of S, using substitutions from mapping.\n",
      " |      The substitutions are identified by braces ('{' and '}').\n",
      " |  \n",
      " |  index(...)\n",
      " |      S.index(sub[, start[, end]]) -> int\n",
      " |      \n",
      " |      Return the lowest index in S where substring sub is found,\n",
      " |      such that sub is contained within S[start:end].  Optional\n",
      " |      arguments start and end are interpreted as in slice notation.\n",
      " |      \n",
      " |      Raises ValueError when the substring is not found.\n",
      " |  \n",
      " |  isalnum(self, /)\n",
      " |      Return True if the string is an alpha-numeric string, False otherwise.\n",
      " |      \n",
      " |      A string is alpha-numeric if all characters in the string are alpha-numeric and\n",
      " |      there is at least one character in the string.\n",
      " |  \n",
      " |  isalpha(self, /)\n",
      " |      Return True if the string is an alphabetic string, False otherwise.\n",
      " |      \n",
      " |      A string is alphabetic if all characters in the string are alphabetic and there\n",
      " |      is at least one character in the string.\n",
      " |  \n",
      " |  isascii(self, /)\n",
      " |      Return True if all characters in the string are ASCII, False otherwise.\n",
      " |      \n",
      " |      ASCII characters have code points in the range U+0000-U+007F.\n",
      " |      Empty string is ASCII too.\n",
      " |  \n",
      " |  isdecimal(self, /)\n",
      " |      Return True if the string is a decimal string, False otherwise.\n",
      " |      \n",
      " |      A string is a decimal string if all characters in the string are decimal and\n",
      " |      there is at least one character in the string.\n",
      " |  \n",
      " |  isdigit(self, /)\n",
      " |      Return True if the string is a digit string, False otherwise.\n",
      " |      \n",
      " |      A string is a digit string if all characters in the string are digits and there\n",
      " |      is at least one character in the string.\n",
      " |  \n",
      " |  isidentifier(self, /)\n",
      " |      Return True if the string is a valid Python identifier, False otherwise.\n",
      " |      \n",
      " |      Call keyword.iskeyword(s) to test whether string s is a reserved identifier,\n",
      " |      such as \"def\" or \"class\".\n",
      " |  \n",
      " |  islower(self, /)\n",
      " |      Return True if the string is a lowercase string, False otherwise.\n",
      " |      \n",
      " |      A string is lowercase if all cased characters in the string are lowercase and\n",
      " |      there is at least one cased character in the string.\n",
      " |  \n",
      " |  isnumeric(self, /)\n",
      " |      Return True if the string is a numeric string, False otherwise.\n",
      " |      \n",
      " |      A string is numeric if all characters in the string are numeric and there is at\n",
      " |      least one character in the string.\n",
      " |  \n",
      " |  isprintable(self, /)\n",
      " |      Return True if the string is printable, False otherwise.\n",
      " |      \n",
      " |      A string is printable if all of its characters are considered printable in\n",
      " |      repr() or if it is empty.\n",
      " |  \n",
      " |  isspace(self, /)\n",
      " |      Return True if the string is a whitespace string, False otherwise.\n",
      " |      \n",
      " |      A string is whitespace if all characters in the string are whitespace and there\n",
      " |      is at least one character in the string.\n",
      " |  \n",
      " |  istitle(self, /)\n",
      " |      Return True if the string is a title-cased string, False otherwise.\n",
      " |      \n",
      " |      In a title-cased string, upper- and title-case characters may only\n",
      " |      follow uncased characters and lowercase characters only cased ones.\n",
      " |  \n",
      " |  isupper(self, /)\n",
      " |      Return True if the string is an uppercase string, False otherwise.\n",
      " |      \n",
      " |      A string is uppercase if all cased characters in the string are uppercase and\n",
      " |      there is at least one cased character in the string.\n",
      " |  \n",
      " |  join(self, iterable, /)\n",
      " |      Concatenate any number of strings.\n",
      " |      \n",
      " |      The string whose method is called is inserted in between each given string.\n",
      " |      The result is returned as a new string.\n",
      " |      \n",
      " |      Example: '.'.join(['ab', 'pq', 'rs']) -> 'ab.pq.rs'\n",
      " |  \n",
      " |  ljust(self, width, fillchar=' ', /)\n",
      " |      Return a left-justified string of length width.\n",
      " |      \n",
      " |      Padding is done using the specified fill character (default is a space).\n",
      " |  \n",
      " |  lower(self, /)\n",
      " |      Return a copy of the string converted to lowercase.\n",
      " |  \n",
      " |  lstrip(self, chars=None, /)\n",
      " |      Return a copy of the string with leading whitespace removed.\n",
      " |      \n",
      " |      If chars is given and not None, remove characters in chars instead.\n",
      " |  \n",
      " |  partition(self, sep, /)\n",
      " |      Partition the string into three parts using the given separator.\n",
      " |      \n",
      " |      This will search for the separator in the string.  If the separator is found,\n",
      " |      returns a 3-tuple containing the part before the separator, the separator\n",
      " |      itself, and the part after it.\n",
      " |      \n",
      " |      If the separator is not found, returns a 3-tuple containing the original string\n",
      " |      and two empty strings.\n",
      " |  \n",
      " |  removeprefix(self, prefix, /)\n",
      " |      Return a str with the given prefix string removed if present.\n",
      " |      \n",
      " |      If the string starts with the prefix string, return string[len(prefix):].\n",
      " |      Otherwise, return a copy of the original string.\n",
      " |  \n",
      " |  removesuffix(self, suffix, /)\n",
      " |      Return a str with the given suffix string removed if present.\n",
      " |      \n",
      " |      If the string ends with the suffix string and that suffix is not empty,\n",
      " |      return string[:-len(suffix)]. Otherwise, return a copy of the original\n",
      " |      string.\n",
      " |  \n",
      " |  replace(self, old, new, count=-1, /)\n",
      " |      Return a copy with all occurrences of substring old replaced by new.\n",
      " |      \n",
      " |        count\n",
      " |          Maximum number of occurrences to replace.\n",
      " |          -1 (the default value) means replace all occurrences.\n",
      " |      \n",
      " |      If the optional argument count is given, only the first count occurrences are\n",
      " |      replaced.\n",
      " |  \n",
      " |  rfind(...)\n",
      " |      S.rfind(sub[, start[, end]]) -> int\n",
      " |      \n",
      " |      Return the highest index in S where substring sub is found,\n",
      " |      such that sub is contained within S[start:end].  Optional\n",
      " |      arguments start and end are interpreted as in slice notation.\n",
      " |      \n",
      " |      Return -1 on failure.\n",
      " |  \n",
      " |  rindex(...)\n",
      " |      S.rindex(sub[, start[, end]]) -> int\n",
      " |      \n",
      " |      Return the highest index in S where substring sub is found,\n",
      " |      such that sub is contained within S[start:end].  Optional\n",
      " |      arguments start and end are interpreted as in slice notation.\n",
      " |      \n",
      " |      Raises ValueError when the substring is not found.\n",
      " |  \n",
      " |  rjust(self, width, fillchar=' ', /)\n",
      " |      Return a right-justified string of length width.\n",
      " |      \n",
      " |      Padding is done using the specified fill character (default is a space).\n",
      " |  \n",
      " |  rpartition(self, sep, /)\n",
      " |      Partition the string into three parts using the given separator.\n",
      " |      \n",
      " |      This will search for the separator in the string, starting at the end. If\n",
      " |      the separator is found, returns a 3-tuple containing the part before the\n",
      " |      separator, the separator itself, and the part after it.\n",
      " |      \n",
      " |      If the separator is not found, returns a 3-tuple containing two empty strings\n",
      " |      and the original string.\n",
      " |  \n",
      " |  rsplit(self, /, sep=None, maxsplit=-1)\n",
      " |      Return a list of the substrings in the string, using sep as the separator string.\n",
      " |      \n",
      " |        sep\n",
      " |          The separator used to split the string.\n",
      " |      \n",
      " |          When set to None (the default value), will split on any whitespace\n",
      " |          character (including \\\\n \\\\r \\\\t \\\\f and spaces) and will discard\n",
      " |          empty strings from the result.\n",
      " |        maxsplit\n",
      " |          Maximum number of splits (starting from the left).\n",
      " |          -1 (the default value) means no limit.\n",
      " |      \n",
      " |      Splitting starts at the end of the string and works to the front.\n",
      " |  \n",
      " |  rstrip(self, chars=None, /)\n",
      " |      Return a copy of the string with trailing whitespace removed.\n",
      " |      \n",
      " |      If chars is given and not None, remove characters in chars instead.\n",
      " |  \n",
      " |  split(self, /, sep=None, maxsplit=-1)\n",
      " |      Return a list of the substrings in the string, using sep as the separator string.\n",
      " |      \n",
      " |        sep\n",
      " |          The separator used to split the string.\n",
      " |      \n",
      " |          When set to None (the default value), will split on any whitespace\n",
      " |          character (including \\\\n \\\\r \\\\t \\\\f and spaces) and will discard\n",
      " |          empty strings from the result.\n",
      " |        maxsplit\n",
      " |          Maximum number of splits (starting from the left).\n",
      " |          -1 (the default value) means no limit.\n",
      " |      \n",
      " |      Note, str.split() is mainly useful for data that has been intentionally\n",
      " |      delimited.  With natural text that includes punctuation, consider using\n",
      " |      the regular expression module.\n",
      " |  \n",
      " |  splitlines(self, /, keepends=False)\n",
      " |      Return a list of the lines in the string, breaking at line boundaries.\n",
      " |      \n",
      " |      Line breaks are not included in the resulting list unless keepends is given and\n",
      " |      true.\n",
      " |  \n",
      " |  startswith(...)\n",
      " |      S.startswith(prefix[, start[, end]]) -> bool\n",
      " |      \n",
      " |      Return True if S starts with the specified prefix, False otherwise.\n",
      " |      With optional start, test S beginning at that position.\n",
      " |      With optional end, stop comparing S at that position.\n",
      " |      prefix can also be a tuple of strings to try.\n",
      " |  \n",
      " |  strip(self, chars=None, /)\n",
      " |      Return a copy of the string with leading and trailing whitespace removed.\n",
      " |      \n",
      " |      If chars is given and not None, remove characters in chars instead.\n",
      " |  \n",
      " |  swapcase(self, /)\n",
      " |      Convert uppercase characters to lowercase and lowercase characters to uppercase.\n",
      " |  \n",
      " |  title(self, /)\n",
      " |      Return a version of the string where each word is titlecased.\n",
      " |      \n",
      " |      More specifically, words start with uppercased characters and all remaining\n",
      " |      cased characters have lower case.\n",
      " |  \n",
      " |  translate(self, table, /)\n",
      " |      Replace each character in the string using the given translation table.\n",
      " |      \n",
      " |        table\n",
      " |          Translation table, which must be a mapping of Unicode ordinals to\n",
      " |          Unicode ordinals, strings, or None.\n",
      " |      \n",
      " |      The table must implement lookup/indexing via __getitem__, for instance a\n",
      " |      dictionary or list.  If this operation raises LookupError, the character is\n",
      " |      left untouched.  Characters mapped to None are deleted.\n",
      " |  \n",
      " |  upper(self, /)\n",
      " |      Return a copy of the string converted to uppercase.\n",
      " |  \n",
      " |  zfill(self, width, /)\n",
      " |      Pad a numeric string with zeros on the left, to fill a field of the given width.\n",
      " |      \n",
      " |      The string is never truncated.\n",
      " |  \n",
      " |  ----------------------------------------------------------------------\n",
      " |  Static methods defined here:\n",
      " |  \n",
      " |  __new__(*args, **kwargs) from builtins.type\n",
      " |      Create and return a new object.  See help(type) for accurate signature.\n",
      " |  \n",
      " |  maketrans(...)\n",
      " |      Return a translation table usable for str.translate().\n",
      " |      \n",
      " |      If there is only one argument, it must be a dictionary mapping Unicode\n",
      " |      ordinals (integers) or characters to Unicode ordinals, strings or None.\n",
      " |      Character keys will be then converted to ordinals.\n",
      " |      If there are two arguments, they must be strings of equal length, and\n",
      " |      in the resulting dictionary, each character in x will be mapped to the\n",
      " |      character at the same position in y. If there is a third argument, it\n",
      " |      must be a string, whose characters will be mapped to None in the result.\n",
      "\n"
     ]
    }
   ],
   "source": [
    "help(str)"
   ]
  },
  {
   "cell_type": "markdown",
   "metadata": {},
   "source": [
    "So how's this output produced? In Python, everything is an object, and you can explore the contents of an object using the `dir()` command. Doing so reveals a property called `__doc__`. "
   ]
  },
  {
   "cell_type": "code",
   "execution_count": 22,
   "metadata": {},
   "outputs": [
    {
     "name": "stdout",
     "output_type": "stream",
     "text": [
      "str(object='') -> str\n",
      "str(bytes_or_buffer[, encoding[, errors]]) -> str\n",
      "\n",
      "Create a new string object from the given object. If encoding or\n",
      "errors is specified, then the object must expose a data buffer\n",
      "that will be decoded using the given encoding and error handler.\n",
      "Otherwise, returns the result of object.__str__() (if defined)\n",
      "or repr(object).\n",
      "encoding defaults to sys.getdefaultencoding().\n",
      "errors defaults to 'strict'.\n"
     ]
    }
   ],
   "source": [
    "print(str.__doc__)"
   ]
  },
  {
   "cell_type": "markdown",
   "metadata": {},
   "source": [
    "This is where docstrings are stored within the object. You might think you can tweak it directly, but Python restricts this for built-ins."
   ]
  },
  {
   "cell_type": "code",
   "execution_count": 23,
   "metadata": {},
   "outputs": [
    {
     "ename": "TypeError",
     "evalue": "cannot set '__doc__' attribute of immutable type 'str'",
     "output_type": "error",
     "traceback": [
      "\u001b[0;31m---------------------------------------------------------------------------\u001b[0m",
      "\u001b[0;31mTypeError\u001b[0m                                 Traceback (most recent call last)",
      "\u001b[1;32m/Users/hejazizo/PERSONAL_DIR/pytopia/content/Project-Based-Python/Project Based Python/06 Level I/01 Rock Paper Scissors/01 Docstrings and Type Annotations.ipynb Cell 36\u001b[0m line \u001b[0;36m1\n\u001b[0;32m----> <a href='vscode-notebook-cell:/Users/hejazizo/PERSONAL_DIR/pytopia/content/Project-Based-Python/Project%20Based%20Python/06%20Level%20I/01%20Rock%20Paper%20Scissors/01%20Docstrings%20and%20Type%20Annotations.ipynb#Y156sZmlsZQ%3D%3D?line=0'>1</a>\u001b[0m \u001b[39mstr\u001b[39;49m\u001b[39m.\u001b[39;49m\u001b[39m__doc__\u001b[39;49m \u001b[39m=\u001b[39m \u001b[39m\"\u001b[39m\u001b[39mI\u001b[39m\u001b[39m'\u001b[39m\u001b[39mm a little string doc! Short and stout; here is my input and print me for my out\u001b[39m\u001b[39m\"\u001b[39m\n",
      "\u001b[0;31mTypeError\u001b[0m: cannot set '__doc__' attribute of immutable type 'str'"
     ]
    }
   ],
   "source": [
    "str.__doc__ = \"I'm a little string doc! Short and stout; here is my input and print me for my out\"\n"
   ]
  },
  {
   "cell_type": "markdown",
   "metadata": {},
   "source": [
    "This code throws a TypeError because you can't set attributes of a built-in type. Conversely, you can manipulate the `__doc__` attribute for any other custom object:"
   ]
  },
  {
   "cell_type": "code",
   "execution_count": 24,
   "metadata": {},
   "outputs": [],
   "source": [
    "def say_hello(name):\n",
    "    print(f\"Hello {name}, is it me you're looking for?\")\n",
    "\n",
    "say_hello.__doc__ = \"A simple function that says hello... Richie style\""
   ]
  },
  {
   "cell_type": "code",
   "execution_count": 25,
   "metadata": {},
   "outputs": [
    {
     "name": "stdout",
     "output_type": "stream",
     "text": [
      "Help on function say_hello in module __main__:\n",
      "\n",
      "say_hello(name)\n",
      "    A simple function that says hello... Richie style\n",
      "\n"
     ]
    }
   ],
   "source": [
    "help(say_hello)"
   ]
  },
  {
   "cell_type": "markdown",
   "metadata": {},
   "source": [
    "Python simplifies docstring creation even further. Instead of meddling with `__doc__`, adding a string literal right below the object's definition automatically sets the `__doc__` value:"
   ]
  },
  {
   "cell_type": "code",
   "execution_count": 26,
   "metadata": {},
   "outputs": [],
   "source": [
    "def say_hello(name):\n",
    "    \"\"\"A simple function that says hello... Richie style\"\"\"\n",
    "    print(f\"Hello {name}, is it me you're looking for?\")"
   ]
  },
  {
   "cell_type": "code",
   "execution_count": 27,
   "metadata": {},
   "outputs": [
    {
     "name": "stdout",
     "output_type": "stream",
     "text": [
      "Help on function say_hello in module __main__:\n",
      "\n",
      "say_hello(name)\n",
      "    A simple function that says hello... Richie style\n",
      "\n"
     ]
    }
   ],
   "source": [
    "help(say_hello)"
   ]
  },
  {
   "cell_type": "markdown",
   "metadata": {},
   "source": [
    "\n",
    "Now that you've grasped the background of docstrings, let's explore the different types of docstrings and what they should encompass."
   ]
  },
  {
   "cell_type": "markdown",
   "metadata": {},
   "source": [
    "### <a id='toc3_2_'></a>[Docstring Types](#toc0_)"
   ]
  },
  {
   "cell_type": "markdown",
   "metadata": {},
   "source": [
    "Docstring practices follow PEP 257. The goal of docstrings is to give your users a summary of the object. They need to be to-the-point for easy maintenance but detailed enough for novices to understand their purpose and usage.\n"
   ]
  },
  {
   "cell_type": "markdown",
   "metadata": {},
   "source": [
    "Triple-double quotes (`\"\"\"`) should wrap docstrings, whether multi-line or single-line. At its simplest, a docstring is a brief summary of the object under consideration and resides within a single line:\n",
    "\n",
    "```python\n",
    "\"\"\"This is a quick summary used as a descriptor of the object.\"\"\"\n",
    "```\n"
   ]
  },
  {
   "cell_type": "markdown",
   "metadata": {},
   "source": [
    "Multi-line docstrings provide more detail beyond the summary. They start with a one-line summary, followed by a blank line, and any additional description. Another blank line closes the docstring:\n",
    "\n",
    "```python\n",
    "\"\"\"This is the summary line\n",
    "\n",
    "This is the expanded portion of the docstring. Here, you can provide\n",
    "additional details, well suited for the situation. Note the blank line\n",
    "that separates the summary from the detailed description.\n",
    "\"\"\"\n",
    "```\n"
   ]
  },
  {
   "cell_type": "markdown",
   "metadata": {},
   "source": [
    "Docstrings follow the same max character length rule as comments (72 characters). They fall into three major categories:\n",
    "\n",
    "1. **Class Docstrings**: Used for classes and class methods.\n",
    "2. **Package and Module Docstrings**: Used for packages, modules, and functions.\n",
    "3. **Script Docstrings**: Used for scripts and functions.\n"
   ]
  },
  {
   "cell_type": "markdown",
   "metadata": {},
   "source": [
    "Now let’s dive into how these three types of docstrings should be written."
   ]
  },
  {
   "cell_type": "markdown",
   "metadata": {},
   "source": [
    "#### <a id='toc3_2_1_'></a>[Class Docstrings](#toc0_)"
   ]
  },
  {
   "cell_type": "markdown",
   "metadata": {},
   "source": [
    "Class docstrings serve to document the class and its methods. They're positioned right after the class or class method, indented by one level:\n",
    "\n",
    "```python\n",
    "class SimpleClass:\n",
    "    \"\"\"Class docstrings go here.\"\"\"\n",
    "\n",
    "    def say_hello(self, name: str):\n",
    "        \"\"\"Class method docstrings go here.\"\"\"\n",
    "        print(f'Hello {name}')\n",
    "```\n"
   ]
  },
  {
   "cell_type": "markdown",
   "metadata": {},
   "source": [
    "Class docstrings should include:\n",
    "\n",
    "- *Brief Summary*: Purpose and behavior of the class.\n",
    "- *Public Methods*: Short explanation of all public methods.\n",
    "- *Class Properties*: Descriptions of the class attributes.\n",
    "- *Subclassing*: Relevant information if the class is meant to be subclassed.\n"
   ]
  },
  {
   "cell_type": "markdown",
   "metadata": {},
   "source": [
    "The class constructor parameters should be documented within the `__init__` class method docstring. Document individual methods within their specific docstrings. \n"
   ]
  },
  {
   "cell_type": "markdown",
   "metadata": {},
   "source": [
    "Class method docstrings should detail:\n",
    "\n",
    "- *Description*: Explain purpose and usage of the method.\n",
    "- *Arguments*: Document all arguments, both required and optional, including keyword argument.\n",
    "- *Side Effects*: Describe what happens besides returning a value.\n",
    "- *Exceptions*: Mention any exceptions that users must handle.\n",
    "- *Restrictions*: State any restrictions on when the method can be called.\n"
   ]
  },
  {
   "cell_type": "markdown",
   "metadata": {},
   "source": [
    "Let's proceed to examine an example of a data class, 'Animal', which includes various class properties, instance properties, a constructor (`__init__`), and a single instance method."
   ]
  },
  {
   "cell_type": "code",
   "execution_count": 28,
   "metadata": {},
   "outputs": [],
   "source": [
    "class Animal:\n",
    "    \"\"\"\n",
    "    A class used to represent an Animal\n",
    "\n",
    "    :param name: The name of the animal\n",
    "    :type name: str\n",
    "    :param sound: The sound the animal makes\n",
    "    :type sound: str\n",
    "    :param num_legs: The number of legs the animal, defaults to 4\n",
    "    :type num_legs: int, optional\n",
    "    \"\"\"\n",
    "\n",
    "    says_str = \"A {name} says {sound}\"\n",
    "\n",
    "    def __init__(self, name, sound, num_legs=4):\n",
    "        self.name = name\n",
    "        self.sound = sound\n",
    "        self.num_legs = num_legs\n",
    "\n",
    "    def says(self, sound=None):\n",
    "        \"\"\"Prints what the animals name is and what sound it makes.\n",
    "\n",
    "        If the argument `sound` isn't passed in, the default Animal\n",
    "        sound is used.\n",
    "\n",
    "        :param sound: The sound the animal makes, defaults to None\n",
    "        :type sound: str, optional\n",
    "        :raises NotImplementedError: If no sound is set for the animal or passed in as a parameter.\n",
    "        \"\"\"\n",
    "\n",
    "        if self.sound is None and sound is None:\n",
    "            raise NotImplementedError(\"Silent Animals are not supported!\")\n",
    "\n",
    "        out_sound = self.sound if sound is None else sound\n",
    "        print(self.says_str.format(name=self.name, sound=out_sound))\n"
   ]
  },
  {
   "cell_type": "markdown",
   "metadata": {},
   "source": [
    "#### <a id='toc3_2_2_'></a>[Package and Module Docstrings](#toc0_)"
   ]
  },
  {
   "cell_type": "markdown",
   "metadata": {},
   "source": [
    "The package docstring belongs at the top of the package’s `__init__.py` file. It should include the modules and sub-packages that the package exports.\n"
   ]
  },
  {
   "cell_type": "markdown",
   "metadata": {},
   "source": [
    "Module docstrings, similar to class docstrings, document the module and its functions. Positioned at the file's top, even before imports, module docstrings should provide:\n",
    "\n",
    "- *Module Description*: A synopsis of the module and its purpose.\n",
    "- *Exports*: A list of classes, exceptions, functions, and any other objects that the module exports.\n"
   ]
  },
  {
   "cell_type": "markdown",
   "metadata": {},
   "source": [
    "Function docstrings within a module should cover similar elements as a class method:\n",
    "\n",
    "- *Description*: A summary of the function's purpose and function.\n",
    "- *Arguments*: Account for all arguments–required or optional, including keyword arguments.\n",
    "- *Optional Params*: Clearly label any arguments considered optional.\n",
    "- *Side Effects*: Mention any changes observed beyond the return value.\n",
    "- *Exceptions*: List any exceptions that are raised.\n",
    "- *Restrictions*: Note any restrictions on when the function can be called.\n"
   ]
  },
  {
   "cell_type": "markdown",
   "metadata": {},
   "source": [
    "These practices ensure a detailed, informative description of your packages and modules, making it easier for others to understand and use them effectively."
   ]
  },
  {
   "cell_type": "markdown",
   "metadata": {},
   "source": [
    "#### <a id='toc3_2_3_'></a>[Script Docstrings](#toc0_)"
   ]
  },
  {
   "cell_type": "markdown",
   "metadata": {},
   "source": [
    "Scripts are single-file executables run from the console. Their docstrings should be placed at the top of the file. These docstrings should be exhaustive enough to offer users a complete understanding of how to use the script. They should even serve as a \"usage\" message when the user incorrectly passes a parameter or uses the `-h` option.\n",
    "\n",
    "```python\n",
    "\"\"\"\n",
    "Usage: script.py [-h] csv_file\n",
    "\n",
    "This script prints out column headers from a CSV file.\n",
    "\n",
    "positional arguments:\n",
    "  csv_file    the CSV file to process\n",
    "\n",
    "optional arguments:\n",
    "  -h, --help  show this help message and exit\n",
    "\n",
    "Packages required: pandas\n",
    "\"\"\"\n",
    "```\n"
   ]
  },
  {
   "cell_type": "markdown",
   "metadata": {},
   "source": [
    "Make sure to mention any custom or third-party imports in the docstrings, so users know which packages to install for running the script."
   ]
  },
  {
   "cell_type": "code",
   "execution_count": 29,
   "metadata": {},
   "outputs": [],
   "source": [
    "\"\"\"\n",
    "Line Counter\n",
    "======================\n",
    "\n",
    "This script allows the user to count the number of lines in a \n",
    "given text file.\n",
    "\n",
    "This script requires that `os` be installed within the Python\n",
    "environment you are running this script in.\n",
    "\n",
    "This file can also be imported as a module and contains the following\n",
    "functions:\n",
    "    * get_num_lines - returns the number of lines in the file\n",
    "    * main - the main function of the script\n",
    "\"\"\"\n",
    "\n",
    "import os\n",
    "import argparse\n",
    "\n",
    "def get_num_lines(file_loc):\n",
    "    \"\"\"\n",
    "    Gets and prints the number of lines in a text file.\n",
    "\n",
    "    :param file_loc: The location of the text file\n",
    "    :type file_loc: str\n",
    "    :return: The total number of lines in the text file\n",
    "    :rtype: int\n",
    "    \"\"\"\n",
    "\n",
    "    with open(file_loc, 'r') as file:\n",
    "        lines = file.readlines()\n",
    "        num_lines = len(lines)\n",
    "        print(f\"Number of lines in the file: {num_lines}\")\n",
    "        return num_lines\n",
    "\n",
    "\n",
    "def main():\n",
    "    parser = argparse.ArgumentParser(description=__doc__)\n",
    "    parser.add_argument(\n",
    "        'input_file',\n",
    "        type=str,\n",
    "        help=\"The text file to count the lines of\"\n",
    "    )\n",
    "    args = parser.parse_args()\n",
    "    get_num_lines(args.input_file)\n",
    "\n",
    "\n",
    "if __name__ == \"__main__\":\n",
    "    pass"
   ]
  },
  {
   "cell_type": "markdown",
   "metadata": {},
   "source": [
    "### <a id='toc3_3_'></a>[Docstring Formats](#toc0_)"
   ]
  },
  {
   "cell_type": "markdown",
   "metadata": {},
   "source": [
    "There are specific docstring formats that you can use to make documentation familiar and easy to understand:\n",
    "\n",
    "- **Google Docstrings**: Google's preferred way of documenting. It's supported by Sphinx, but there's no formal specification.\n",
    "- **reStructuredText**: The official Python documentation standard. It's feature-rich but not very beginner-friendly. It's supported by Sphinx and has a formal specification.\n",
    "- **NumPy/SciPy Docstrings**: NumPy's mixture of reStructuredText and Google Docstrings, supported by Sphinx and has a formal specification.\n",
    "- **Epytext**: A Python adaptation of Epydoc, great for Java developers. Not officially supported by Sphinx but has a formal specification.\n"
   ]
  },
  {
   "cell_type": "markdown",
   "metadata": {},
   "source": [
    "The choice of docstring format is yours, but it's crucial to maintain consistency throughout your document or project. The following sections will provide examples of each type to give you an idea of how each documentation format looks and works."
   ]
  },
  {
   "cell_type": "code",
   "execution_count": 30,
   "metadata": {},
   "outputs": [],
   "source": [
    "# Google Style\n",
    "def calculate_sum(numbers: list, print_result: bool = False):\n",
    "    \"\"\"\n",
    "    Computes and optionally prints the sum of a list of numbers\n",
    "\n",
    "    Args:\n",
    "        numbers (list): List of numeric values to be summed\n",
    "        print_result (bool): A flag determining whether the sum is printed \n",
    "            (default is False)\n",
    "\n",
    "    Returns:\n",
    "        int or float: The sum of the numbers in the list\n",
    "    \"\"\"\n"
   ]
  },
  {
   "cell_type": "code",
   "execution_count": 31,
   "metadata": {},
   "outputs": [],
   "source": [
    "# reStructuredText Style\n",
    "def calculate_sum(numbers: list, print_result: bool = False):\n",
    "    \"\"\"\n",
    "    Computes and optionally prints the sum of a list of numbers.\n",
    "\n",
    "    :param numbers: List of numeric values to be summed\n",
    "    :type numbers: list\n",
    "    :param print_result: A flag determining whether the sum should be printed. Defaults to False\n",
    "    :type print_result: bool\n",
    "    :return: The sum of the numbers in the list\n",
    "    :rtype: int or float\n",
    "    \"\"\""
   ]
  },
  {
   "cell_type": "code",
   "execution_count": 32,
   "metadata": {},
   "outputs": [],
   "source": [
    "# NumPy/SciPy Style\n",
    "def calculate_sum(numbers: list, print_result: bool = False):\n",
    "    \"\"\"\n",
    "    Computes and optionally prints the sum of a list of numbers.\n",
    "\n",
    "    Parameters\n",
    "    ----------\n",
    "    numbers : list\n",
    "        List of numeric values to be summed.\n",
    "    print_result : bool, optional\n",
    "        A flag determining whether the sum should be printed. Defaults to False.\n",
    "\n",
    "    Returns\n",
    "    -------\n",
    "    int or float\n",
    "        The sum of the numbers in the list.\n",
    "    \"\"\""
   ]
  },
  {
   "cell_type": "code",
   "execution_count": 33,
   "metadata": {},
   "outputs": [],
   "source": [
    "# Epytext Style\n",
    "def calculate_sum(numbers: list, print_result: bool = False):\n",
    "    \"\"\"\n",
    "    Computes and optionally prints the sum of a list of numbers.\n",
    "\n",
    "    @param numbers: List of numeric values to be summed.\n",
    "    @type numbers: list\n",
    "    @param print_result: A flag determining whether the sum should be printed. Default is False.\n",
    "    @type print_result: bool\n",
    "    @return: The sum of the numbers in the list.\n",
    "    @rtype: int or float\n",
    "    \"\"\""
   ]
  },
  {
   "cell_type": "markdown",
   "metadata": {},
   "source": [
    "## <a id='toc4_'></a>[Where Do I Start?](#toc0_)"
   ]
  },
  {
   "cell_type": "markdown",
   "metadata": {},
   "source": [
    "Embarking on your documentation journey might seem daunting. But remember, every project progresses through these stages:\n",
    "\n",
    "1. No Documentation\n",
    "2. Some Documentation\n",
    "3. Complete Documentation\n",
    "4. Good Documentation\n",
    "5. Great Documentation\n"
   ]
  },
  {
   "cell_type": "markdown",
   "metadata": {},
   "source": [
    "To figure out your next steps, consider your project's current state. Is there any documentation? If not, start there. If some documentation exists but is missing critical parts, start by adding those.\n"
   ]
  },
  {
   "cell_type": "markdown",
   "metadata": {},
   "source": [
    "But most importantly, **don't be overwhelmed**. The prospect of documenting code might seem overwhelming initially, but once you begin, it becomes easier to maintain. If you have any questions or need guidance, don't hesitate to ask. We, the AI team, are here to help, making sure your journey in code documentation is smooth and successful."
   ]
  }
 ],
 "metadata": {
  "kernelspec": {
   "display_name": "py310",
   "language": "python",
   "name": "python3"
  },
  "language_info": {
   "codemirror_mode": {
    "name": "ipython",
    "version": 3
   },
   "file_extension": ".py",
   "mimetype": "text/x-python",
   "name": "python",
   "nbconvert_exporter": "python",
   "pygments_lexer": "ipython3",
   "version": "3.10.12"
  }
 },
 "nbformat": 4,
 "nbformat_minor": 2
}
