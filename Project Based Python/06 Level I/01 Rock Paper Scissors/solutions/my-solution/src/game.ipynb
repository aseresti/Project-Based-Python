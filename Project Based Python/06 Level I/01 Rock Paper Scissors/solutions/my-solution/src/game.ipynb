{
 "cells": [
  {
   "cell_type": "markdown",
   "metadata": {},
   "source": [
    "- get player choice\n",
    "- get computer choice\n",
    "- get winner\n",
    "- print winner\n",
    "- play again?"
   ]
  },
  {
   "cell_type": "code",
   "execution_count": 42,
   "metadata": {},
   "outputs": [],
   "source": [
    "import random\n",
    "\n",
    "\n",
    "class RockPaperScissors:\n",
    "    def __init__(self, name):\n",
    "        self.choices = ['rock', 'paper', 'scissors']\n",
    "        self.player_name = name\n",
    "\n",
    "    def get_player_choice(self):\n",
    "        user_choice = input(f'Enter your choice ({self.choices}): ')\n",
    "        if user_choice.lower() in self.choices:\n",
    "            return user_choice.lower()\n",
    "\n",
    "        print(f'Invalid choice, you must select from {self.choices}.')\n",
    "        return self.get_player_choice()\n",
    "\n",
    "    def get_computer_choice(self):\n",
    "        return random.choice(self.choices)\n",
    "\n",
    "    def decide_winner(self, user_choice, computer_choice):\n",
    "        if user_choice == computer_choice:\n",
    "            return \"It's a Tie!\"\n",
    "\n",
    "        win_combinations = [('rock', 'scissors'), ('paper', 'rock'), ('scissors', 'paper')]\n",
    "        for win_comb in win_combinations:\n",
    "            if (user_choice == win_comb[0]) & (computer_choice == win_comb[1]):\n",
    "                return \"Congratulations! You won!\"\n",
    "\n",
    "        return 'Oh no! The computer won!'\n",
    "\n",
    "    def play(self):\n",
    "        user_choice = self.get_player_choice()\n",
    "        computer_choice = self.get_computer_choice()\n",
    "        print(f'Computer choice: {computer_choice}')\n",
    "        print(self.decide_winner(user_choice, computer_choice))"
   ]
  },
  {
   "cell_type": "code",
   "execution_count": 46,
   "metadata": {},
   "outputs": [
    {
     "name": "stdout",
     "output_type": "stream",
     "text": [
      "Computer choice: scissors\n",
      "Congratulations! You won!\n",
      "Computer choice: rock\n",
      "It's a Tie!\n",
      "Computer choice: scissors\n",
      "Oh no! The computer won!\n"
     ]
    }
   ],
   "source": [
    "game = RockPaperScissors('Ali')\n",
    "\n",
    "while True:\n",
    "    game.play()\n",
    "\n",
    "    continue_game = input('Do you want to play again? (Enter any key to play again, enter q/Q to exit!)')\n",
    "    if continue_game.lower() == 'q':\n",
    "        break"
   ]
  },
  {
   "cell_type": "markdown",
   "metadata": {},
   "source": []
  }
 ],
 "metadata": {
  "kernelspec": {
   "display_name": "py310",
   "language": "python",
   "name": "python3"
  },
  "language_info": {
   "codemirror_mode": {
    "name": "ipython",
    "version": 3
   },
   "file_extension": ".py",
   "mimetype": "text/x-python",
   "name": "python",
   "nbconvert_exporter": "python",
   "pygments_lexer": "ipython3",
   "version": "3.10.12"
  }
 },
 "nbformat": 4,
 "nbformat_minor": 2
}
