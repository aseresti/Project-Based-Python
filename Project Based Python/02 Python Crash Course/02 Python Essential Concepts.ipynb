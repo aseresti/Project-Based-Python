{
 "cells": [
  {
   "cell_type": "markdown",
   "metadata": {},
   "source": [
    "<img src=\"./images/banner-python-crash-course.png\" width=\"800\">"
   ]
  },
  {
   "cell_type": "markdown",
   "metadata": {},
   "source": [
    "# Python Essential Concepts\n"
   ]
  },
  {
   "cell_type": "markdown",
   "metadata": {},
   "source": [
    "In this section, we will cover essential concepts of the Python programming language. These concepts serve as the foundation for understanding and writing Python code effectively. Let's dive in!\n"
   ]
  },
  {
   "cell_type": "markdown",
   "metadata": {},
   "source": [
    "**Table of contents**<a id='toc0_'></a>    \n",
    "- [Variables and Data Types](#toc1_)    \n",
    "- [Operators and Expressions](#toc2_)    \n",
    "- [Control Flow](#toc3_)    \n",
    "- [Functions](#toc4_)    \n",
    "- [Classes and Object-Oriented Programming (OOP)](#toc5_)    \n",
    "- [Data Structures](#toc6_)    \n",
    "- [Modules and Packages](#toc7_)    \n",
    "- [Exception Handling](#toc8_)    \n",
    "- [Conclusion](#toc9_)    \n",
    "\n",
    "<!-- vscode-jupyter-toc-config\n",
    "\tnumbering=false\n",
    "\tanchor=true\n",
    "\tflat=false\n",
    "\tminLevel=2\n",
    "\tmaxLevel=6\n",
    "\t/vscode-jupyter-toc-config -->\n",
    "<!-- THIS CELL WILL BE REPLACED ON TOC UPDATE. DO NOT WRITE YOUR TEXT IN THIS CELL -->"
   ]
  },
  {
   "cell_type": "markdown",
   "metadata": {},
   "source": [
    "## <a id='toc1_'></a>[Variables and Data Types](#toc0_)\n"
   ]
  },
  {
   "cell_type": "markdown",
   "metadata": {},
   "source": [
    "Variables are used to store and manipulate data in Python. Python is a dynamically-typed language, meaning you don't need to explicitly declare the data type of a variable. Python automatically infers the type based on the value assigned to it. Common data types in Python include:\n",
    "\n",
    "- **Integers**: Whole numbers, such as 1, 10, -5.\n",
    "- **Floats**: Decimal numbers, such as 3.14, -0.5, 2.0.\n",
    "- **Strings**: Sequence of characters enclosed in single or double quotes, such as \"Hello\", 'World'.\n",
    "- **Booleans**: Represents either `True` or `False`.\n"
   ]
  },
  {
   "cell_type": "markdown",
   "metadata": {},
   "source": [
    "Here are some examples of declaring variables with different data types:\n",
    "\n",
    "```python\n",
    "# Integer variable\n",
    "age = 25\n",
    "\n",
    "# Float variable\n",
    "price = 9.99\n",
    "\n",
    "# String variable\n",
    "name = \"John Doe\"\n",
    "\n",
    "# Boolean variable\n",
    "is_valid = True\n",
    "```\n"
   ]
  },
  {
   "cell_type": "markdown",
   "metadata": {},
   "source": [
    "In the code above, we have declared variables `age`, `price`, `name`, and `is_valid` with their respective data types. Python infers the data type based on the value assigned to the variable.\n"
   ]
  },
  {
   "cell_type": "markdown",
   "metadata": {},
   "source": [
    "You can perform operations and manipulate variables based on their data types. For example, you can perform arithmetic operations on integers and floats, concatenate strings, and use boolean values for logical operations.\n"
   ]
  },
  {
   "cell_type": "markdown",
   "metadata": {},
   "source": [
    "Understanding data types is crucial for writing Python code as it helps you work with different kinds of values and perform appropriate operations on them.\n"
   ]
  },
  {
   "cell_type": "markdown",
   "metadata": {},
   "source": [
    "\n",
    "## <a id='toc2_'></a>[Operators and Expressions](#toc0_)\n"
   ]
  },
  {
   "cell_type": "markdown",
   "metadata": {},
   "source": [
    "Python provides various operators to perform arithmetic, comparison, logical, and other operations. Here are some commonly used operators:\n"
   ]
  },
  {
   "cell_type": "markdown",
   "metadata": {},
   "source": [
    "- **Arithmetic Operators**: `+` (addition), `-` (subtraction), `*` (multiplication), `/` (division), `%` (modulo), `**` (exponentiation)."
   ]
  },
  {
   "cell_type": "markdown",
   "metadata": {},
   "source": [
    "```python\n",
    "# Arithmetic operators\n",
    "num1 = 10\n",
    "num2 = 3\n",
    "\n",
    "addition = num1 + num2  # 10 + 3 = 13\n",
    "subtraction = num1 - num2  # 10 - 3 = 7\n",
    "multiplication = num1 * num2  # 10 * 3 = 30\n",
    "division = num1 / num2  # 10 / 3 = 3.3333 (float division)\n",
    "modulo = num1 % num2  # 10 % 3 = 1 (remainder after division)\n",
    "exponentiation = num1 ** num2  # 10^3 = 1000\n",
    "```"
   ]
  },
  {
   "cell_type": "markdown",
   "metadata": {},
   "source": [
    "- **Comparison Operators**: == (equality), != (inequality), < (less than), > (greater than), <= (less than or equal to), >= (greater than or equal to).\n"
   ]
  },
  {
   "cell_type": "markdown",
   "metadata": {},
   "source": [
    "```python\n",
    "# Comparison operators\n",
    "age = 25\n",
    "\n",
    "is_adult = age >= 18  # True (25 is greater than or equal to 18)\n",
    "is_teenager = age < 20  # False (25 is not less than 20)\n",
    "is_equal = age == 25  # True (age is equal to 25)\n",
    "is_not_equal = age != 30  # True (age is not equal to 30)\n",
    "```\n"
   ]
  },
  {
   "cell_type": "markdown",
   "metadata": {},
   "source": [
    "- **Logical Operators: and, or, not.**\n",
    "\n",
    "```python\n",
    "# Logical operators\n",
    "is_valid = True\n",
    "is_member = False\n",
    "\n",
    "result1 = is_valid and is_member  # False (both conditions are not True)\n",
    "result2 = is_valid or is_member  # True (at least one condition is True)\n",
    "result3 = not is_valid  # False (negation of is_valid)\n",
    "```\n"
   ]
  },
  {
   "cell_type": "markdown",
   "metadata": {},
   "source": [
    "Understanding and using operators correctly is essential for performing various operations and comparisons in Python code.\n"
   ]
  },
  {
   "cell_type": "markdown",
   "metadata": {},
   "source": [
    "## <a id='toc3_'></a>[Control Flow](#toc0_)\n"
   ]
  },
  {
   "cell_type": "markdown",
   "metadata": {},
   "source": [
    "Control flow statements determine the order of execution of statements in a program. Python provides the following control flow statements:\n"
   ]
  },
  {
   "cell_type": "markdown",
   "metadata": {},
   "source": [
    "- **Conditional Statements**: `if`, `elif`, `else`, for executing different code blocks based on certain conditions.\n"
   ]
  },
  {
   "cell_type": "markdown",
   "metadata": {},
   "source": [
    "```python\n",
    "# Conditional statements\n",
    "age = 18\n",
    "\n",
    "if age >= 18:\n",
    "    print(\"You are an adult.\")\n",
    "elif age >= 13:\n",
    "    print(\"You are a teenager.\")\n",
    "else:\n",
    "    print(\"You are a child.\")\n",
    "```\n"
   ]
  },
  {
   "cell_type": "markdown",
   "metadata": {},
   "source": [
    "\n",
    "In the code above, the program checks the value of the `age` variable and executes the corresponding code block based on the condition. If the `age` is greater than or equal to 18, it prints \"You are an adult.\" If the `age` is between 13 and 18 (exclusive), it prints \"You are a teenager.\" Otherwise, it prints \"You are a child.\"\n"
   ]
  },
  {
   "cell_type": "markdown",
   "metadata": {},
   "source": [
    "- **Loops**: `for` loop for iterating over a sequence of elements, and `while` loop for executing a block of code as long as a condition is true.\n",
    "\n",
    "```python\n",
    "# For loop\n",
    "fruits = [\"apple\", \"banana\", \"cherry\"]\n",
    "\n",
    "for fruit in fruits:\n",
    "    print(fruit)\n",
    "\n",
    "# While loop\n",
    "count = 0\n",
    "\n",
    "while count < 5:\n",
    "    print(\"Count:\", count)\n",
    "    count += 1\n",
    "```\n"
   ]
  },
  {
   "cell_type": "markdown",
   "metadata": {},
   "source": [
    "In the code above, the `for` loop iterates over each element in the `fruits` list and prints it. The `while` loop executes the code block inside it as long as the `count` is less than 5. It prints the value of `count` and increments it by 1 in each iteration.\n"
   ]
  },
  {
   "cell_type": "markdown",
   "metadata": {},
   "source": [
    "Control flow statements allow you to create more dynamic and flexible programs by executing different code blocks based on conditions or repeatedly executing a block of code until a certain condition is met.\n"
   ]
  },
  {
   "cell_type": "markdown",
   "metadata": {},
   "source": [
    "## <a id='toc4_'></a>[Functions](#toc0_)\n"
   ]
  },
  {
   "cell_type": "markdown",
   "metadata": {},
   "source": [
    "Functions are reusable blocks of code that perform specific tasks. They help in organizing and modularizing code. In Python, you can define your own functions using the `def` keyword. Here's an example of a function:\n"
   ]
  },
  {
   "cell_type": "markdown",
   "metadata": {},
   "source": [
    "```python\n",
    "# Function definition\n",
    "def greet(name):\n",
    "    print(\"Hello, \" + name + \"!\")\n",
    "\n",
    "# Function call\n",
    "greet(\"John\")\n",
    "```\n"
   ]
  },
  {
   "cell_type": "markdown",
   "metadata": {},
   "source": [
    "In the code above, we define a function named `greet` that takes a parameter `name`. Inside the function, it prints a greeting message with the provided `name`. We then call the function by passing the argument \"John\" to it, which prints \"Hello, John!\".\n"
   ]
  },
  {
   "cell_type": "markdown",
   "metadata": {},
   "source": [
    "Functions can have multiple parameters, and they can also return values. Here's an example:\n",
    "\n",
    "```python\n",
    "# Function definition with return value\n",
    "def add_numbers(num1, num2):\n",
    "    sum = num1 + num2\n",
    "    return sum\n",
    "\n",
    "# Function call\n",
    "result = add_numbers(10, 5)\n",
    "print(\"Sum:\", result)\n",
    "```\n"
   ]
  },
  {
   "cell_type": "markdown",
   "metadata": {},
   "source": [
    "In the code above, we define a function named `add_numbers` that takes two parameters `num1` and `num2`. Inside the function, it calculates the sum of the two numbers and returns the result. We call the function by passing the arguments 10 and 5, and store the returned value in the `result` variable. Finally, we print the value of `result`, which is the sum of the two numbers.\n"
   ]
  },
  {
   "cell_type": "markdown",
   "metadata": {},
   "source": [
    "Functions help in writing reusable and modular code. They allow you to break down complex tasks into smaller, manageable units, making your code more organized and easier to maintain.\n"
   ]
  },
  {
   "cell_type": "markdown",
   "metadata": {},
   "source": [
    "## <a id='toc5_'></a>[Classes and Object-Oriented Programming (OOP)](#toc0_)\n"
   ]
  },
  {
   "cell_type": "markdown",
   "metadata": {},
   "source": [
    "Object-oriented programming (OOP) is a programming paradigm that allows you to define classes, which are blueprints for creating objects. An object is an instance of a class, and it encapsulates data (attributes) and behaviors (methods).\n"
   ]
  },
  {
   "cell_type": "markdown",
   "metadata": {},
   "source": [
    "Here's an example of a class definition in Python:\n",
    "\n",
    "```python\n",
    "# Class definition\n",
    "class Circle:\n",
    "    def __init__(self, radius):\n",
    "        self.radius = radius\n",
    "\n",
    "    def calculate_area(self):\n",
    "        area = 3.14 * self.radius**2\n",
    "        return area\n",
    "\n",
    "# Creating objects (instances)\n",
    "circle1 = Circle(5)\n",
    "circle2 = Circle(3)\n",
    "\n",
    "# Accessing attributes and methods\n",
    "print(\"Circle 1 radius:\", circle1.radius)\n",
    "print(\"Circle 2 radius:\", circle2.radius)\n",
    "\n",
    "area1 = circle1.calculate_area()\n",
    "area2 = circle2.calculate_area()\n",
    "\n",
    "print(\"Circle 1 area:\", area1)\n",
    "print(\"Circle 2 area:\", area2)\n",
    "```\n"
   ]
  },
  {
   "cell_type": "markdown",
   "metadata": {},
   "source": [
    "In the code above, we define a `Circle` class with an `__init__` method (constructor) that initializes the `radius` attribute of the object. The class also has a `calculate_area` method that calculates the area of the circle based on its radius.\n"
   ]
  },
  {
   "cell_type": "markdown",
   "metadata": {},
   "source": [
    "We then create two objects `circle1` and `circle2` using the `Circle` class, passing different radius values as arguments. We can access the attributes (`radius`) and call the methods (`calculate_area`) of the objects.\n"
   ]
  },
  {
   "cell_type": "markdown",
   "metadata": {},
   "source": [
    "Object-oriented programming allows you to create reusable and modular code by defining classes and creating objects. It promotes code organization, abstraction, and encapsulation, making it easier to manage and maintain complex programs.\n"
   ]
  },
  {
   "cell_type": "markdown",
   "metadata": {},
   "source": [
    "## <a id='toc6_'></a>[Data Structures](#toc0_)\n"
   ]
  },
  {
   "cell_type": "markdown",
   "metadata": {},
   "source": [
    "Python provides several built-in data structures that allow you to store and organize data efficiently. Here are some commonly used data structures in Python:\n"
   ]
  },
  {
   "cell_type": "markdown",
   "metadata": {},
   "source": [
    "- **Lists**: Lists are ordered collections of items that can be of different data types. They are mutable, meaning you can modify the elements after creation.\n"
   ]
  },
  {
   "cell_type": "markdown",
   "metadata": {},
   "source": [
    "```python\n",
    "# List example\n",
    "fruits = [\"apple\", \"banana\", \"cherry\"]\n",
    "print(fruits)  # Output: ['apple', 'banana', 'cherry']\n",
    "\n",
    "# Accessing elements\n",
    "first_fruit = fruits[0]\n",
    "print(first_fruit)  # Output: 'apple'\n",
    "\n",
    "# Modifying elements\n",
    "fruits[1] = \"pear\"\n",
    "print(fruits)  # Output: ['apple', 'pear', 'cherry']\n",
    "```\n"
   ]
  },
  {
   "cell_type": "markdown",
   "metadata": {},
   "source": [
    "- **Tuples**: Tuples are similar to lists, but they are immutable, meaning you cannot modify the elements once defined.\n"
   ]
  },
  {
   "cell_type": "markdown",
   "metadata": {},
   "source": [
    "```python\n",
    "# Tuple example\n",
    "person = (\"John\", 25, \"USA\")\n",
    "print(person)  # Output: ('John', 25, 'USA')\n",
    "\n",
    "# Accessing elements\n",
    "name = person[0]\n",
    "print(name)  # Output: 'John'\n",
    "```\n"
   ]
  },
  {
   "cell_type": "markdown",
   "metadata": {},
   "source": [
    "- **Dictionaries**: Dictionaries are key-value pairs that allow you to store and retrieve data based on unique keys. They are unordered and mutable.\n"
   ]
  },
  {
   "cell_type": "markdown",
   "metadata": {},
   "source": [
    "```python\n",
    "# Dictionary example\n",
    "student = {\n",
    "    \"name\": \"John\",\n",
    "    \"age\": 20,\n",
    "    \"grade\": \"A\"\n",
    "}\n",
    "print(student)  # Output: {'name': 'John', 'age': 20, 'grade': 'A'}\n",
    "\n",
    "# Accessing elements\n",
    "age = student[\"age\"]\n",
    "print(age)  # Output: 20\n",
    "\n",
    "# Modifying elements\n",
    "student[\"grade\"] = \"B\"\n",
    "print(student)  # Output: {'name': 'John', 'age': 20, 'grade': 'B'}\n",
    "```"
   ]
  },
  {
   "cell_type": "markdown",
   "metadata": {},
   "source": [
    "- **Sets**: Sets are unordered collections of unique elements. They are useful for removing duplicates and performing mathematical set operations.\n",
    "\n",
    "```python\n",
    "# Set example\n",
    "numbers = {1, 2, 3, 4, 5}\n",
    "print(numbers)  # Output: {1, 2, 3, 4, 5}\n",
    "\n",
    "# Adding elements\n",
    "numbers.add(6)\n",
    "print(numbers)  # Output: {1, 2, 3, 4, 5, 6}\n",
    "```\n",
    "\n",
    "These are just a few examples of data structures available in Python. Understanding and utilizing the appropriate data structures based on your requirements can greatly improve the efficiency and readability of your code.\n",
    "\n",
    "Please note that the code examples provided above are for illustration purposes only and may not represent the complete context of a Python program.\n"
   ]
  },
  {
   "cell_type": "markdown",
   "metadata": {},
   "source": [
    "\n",
    "## <a id='toc7_'></a>[Modules and Packages](#toc0_)\n"
   ]
  },
  {
   "cell_type": "markdown",
   "metadata": {},
   "source": [
    "Modules in Python are files containing Python definitions and statements. They allow you to organize related code into separate files for better code organization and reusability. Packages, on the other hand, are directories that contain multiple modules.\n"
   ]
  },
  {
   "cell_type": "markdown",
   "metadata": {},
   "source": [
    "Here's an example of how to use modules and packages in Python:\n"
   ]
  },
  {
   "cell_type": "markdown",
   "metadata": {},
   "source": [
    "1. Create a module file named `math_operations.py` with the following code:\n"
   ]
  },
  {
   "cell_type": "markdown",
   "metadata": {},
   "source": [
    "```python\n",
    "# math_operations.py\n",
    "def add(a, b):\n",
    "    return a + b\n",
    "\n",
    "def subtract(a, b):\n",
    "    return a - b\n",
    "```"
   ]
  },
  {
   "cell_type": "markdown",
   "metadata": {},
   "source": [
    "2. Create another Python file in the same directory named `main.py` and import the module:\n",
    "\n",
    "```python\n",
    "# main.py\n",
    "import math_operations\n",
    "\n",
    "result = math_operations.add(5, 3)\n",
    "print(\"Result:\", result)\n",
    "```\n"
   ]
  },
  {
   "cell_type": "markdown",
   "metadata": {},
   "source": [
    "In the code above, we define a module named `math_operations.py` that contains two functions `add` and `subtract`. In another file named `main.py`, we import the `math_operations` module and use the `add` function to perform an addition operation.\n"
   ]
  },
  {
   "cell_type": "markdown",
   "metadata": {},
   "source": [
    "Modules and packages allow you to organize your code into logical units, making it easier to manage and reuse code across multiple projects. You can also import specific functions or import the entire module using different import statements.\n"
   ]
  },
  {
   "cell_type": "markdown",
   "metadata": {},
   "source": [
    "Additionally, Python provides a wide range of built-in modules and packages that you can leverage to enhance your programs. These modules offer various functionalities, such as working with dates and times, file operations, networking, and more.\n"
   ]
  },
  {
   "cell_type": "markdown",
   "metadata": {},
   "source": [
    "Please note that the code examples provided above are for illustration purposes only and may not represent the complete context of a Python program.\n"
   ]
  },
  {
   "cell_type": "markdown",
   "metadata": {},
   "source": [
    "\n",
    "## <a id='toc8_'></a>[Exception Handling](#toc0_)\n"
   ]
  },
  {
   "cell_type": "markdown",
   "metadata": {},
   "source": [
    "Exception handling allows you to handle and recover from errors or exceptional situations that may occur during the execution of your program. By using try-except blocks, you can catch and handle specific types of exceptions gracefully.\n"
   ]
  },
  {
   "cell_type": "markdown",
   "metadata": {},
   "source": [
    "Here's an example of exception handling in Python:\n"
   ]
  },
  {
   "cell_type": "markdown",
   "metadata": {},
   "source": [
    "\n",
    "```python\n",
    "try:\n",
    "    # Code that may raise an exception\n",
    "    x = 10 / 0\n",
    "except ZeroDivisionError:\n",
    "    # Handling the specific exception\n",
    "    print(\"Error: Division by zero\")\n",
    "```\n"
   ]
  },
  {
   "cell_type": "markdown",
   "metadata": {},
   "source": [
    "In the code above, we have a try block that contains the code that may raise an exception. In this case, we attempt to perform a division by zero, which would raise a `ZeroDivisionError`. The except block specifies the exception type we want to catch, and within it, we define the code to handle that specific exception. In this example, we print an error message indicating division by zero.\n"
   ]
  },
  {
   "cell_type": "markdown",
   "metadata": {},
   "source": [
    "You can also use a general `except` block to catch any type of exception:\n"
   ]
  },
  {
   "cell_type": "markdown",
   "metadata": {},
   "source": [
    "\n",
    "```python\n",
    "try:\n",
    "    # Code that may raise an exception\n",
    "    x = 10 / 0\n",
    "except:\n",
    "    # Handling any type of exception\n",
    "    print(\"An error occurred\")\n",
    "```\n"
   ]
  },
  {
   "cell_type": "markdown",
   "metadata": {},
   "source": [
    "In addition to handling specific exceptions, you can include multiple except blocks to handle different types of exceptions separately. This allows you to provide specific error messages or perform different actions based on the type of exception.\n",
    "\n",
    "```python\n",
    "try:\n",
    "    # Code that may raise an exception\n",
    "    file = open(\"nonexistent.txt\", \"r\")\n",
    "except FileNotFoundError:\n",
    "    # Handling specific exception\n",
    "    print(\"Error: File not found\")\n",
    "except PermissionError:\n",
    "    # Handling specific exception\n",
    "    print(\"Error: Permission denied\")\n",
    "except:\n",
    "    # Handling any other exception\n",
    "    print(\"An error occurred\")\n",
    "```\n"
   ]
  },
  {
   "cell_type": "markdown",
   "metadata": {},
   "source": [
    "Exception handling is essential for writing robust and reliable code. It helps prevent program crashes and provides an opportunity to gracefully handle errors and continue the program execution.\n"
   ]
  },
  {
   "cell_type": "markdown",
   "metadata": {},
   "source": [
    "Please note that the code examples provided above are for illustration purposes only and may not represent the complete context of a Python program.\n"
   ]
  },
  {
   "cell_type": "markdown",
   "metadata": {},
   "source": [
    "## <a id='toc9_'></a>[Conclusion](#toc0_)\n"
   ]
  },
  {
   "cell_type": "markdown",
   "metadata": {},
   "source": [
    "In this section, we covered essential concepts of the Python programming language. We explored variables and data types, operators and expressions, control flow,\n"
   ]
  }
 ],
 "metadata": {
  "language_info": {
   "name": "python"
  },
  "orig_nbformat": 4
 },
 "nbformat": 4,
 "nbformat_minor": 2
}
