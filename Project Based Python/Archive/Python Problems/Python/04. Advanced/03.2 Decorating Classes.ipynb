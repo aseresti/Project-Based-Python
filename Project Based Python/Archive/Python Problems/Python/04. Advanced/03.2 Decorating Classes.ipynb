{
 "cells": [
  {
   "cell_type": "markdown",
   "id": "2812c446-02b5-433b-b5bc-06695472b10c",
   "metadata": {},
   "source": [
    "<img src=\"../../images/banners/python-advanced.png\" width=\"600\"/>"
   ]
  },
  {
   "cell_type": "markdown",
   "id": "2307183b-c478-4003-a874-b2c8aca0f049",
   "metadata": {},
   "source": [
    "# <img src=\"../../images/logos/python.png\" width=\"23\"/> Decorating Classes Problems\n"
   ]
  },
  {
   "cell_type": "markdown",
   "id": "ec623087-c472-466c-82a4-da3ad09512fd",
   "metadata": {},
   "source": [
    "## Problem 1"
   ]
  },
  {
   "cell_type": "markdown",
   "id": "11d8a1f8-f61d-465c-a51a-20cc3b1ae5ca",
   "metadata": {},
   "source": [
    "Create a decorator named **show_doc** for Python classes to show docstring of the class when it is instantiating.\n",
    "\n",
    "Example:\n",
    "```python\n",
    "@show_doc\n",
    "class MyClass:\n",
    "    '''\n",
    "    This is a test docstring.\n",
    "    '''\n",
    "    pass\n",
    "\n",
    "obj = MyClass()\n",
    "```\n",
    "Output:\n",
    "```bash\n",
    "Instantiating (MyClass) ...\n",
    "Docstring: \n",
    "\n",
    "    This is a test docstring.\n",
    "    \n",
    "******************************\n",
    "```"
   ]
  },
  {
   "cell_type": "markdown",
   "id": "b1a28538-aa38-4534-a7fb-b22322639487",
   "metadata": {},
   "source": [
    "## Solution"
   ]
  },
  {
   "cell_type": "code",
   "execution_count": null,
   "id": "abb4ae40-25fc-4097-b55e-3cc6f5d66f6c",
   "metadata": {},
   "outputs": [],
   "source": [
    "import functools\n",
    "def show_doc(cls):\n",
    "    \n",
    "    @functools.wraps(cls)\n",
    "    def wrapper(*args, **kwargs):\n",
    "        print(f'Instantiating ({cls.__name__}) ...')\n",
    "        print(f'Docstring: \\n{cls.__doc__}')\n",
    "        print('*' * 30)\n",
    "        output = cls(*args, **kwargs)\n",
    "        return output\n",
    "    return wrapper    \n",
    "#-------------------\n",
    "@show_doc\n",
    "class MyClass:\n",
    "    '''\n",
    "    This is a test docstring.\n",
    "    '''\n",
    "    pass\n",
    "\n",
    "obj = MyClass()"
   ]
  },
  {
   "cell_type": "markdown",
   "id": "9b8ad9e6-0dab-4949-ba91-0b029a704128",
   "metadata": {},
   "source": [
    "---"
   ]
  },
  {
   "cell_type": "markdown",
   "id": "69e8d3e6-7cb1-4eab-aac6-f49ecce84148",
   "metadata": {},
   "source": [
    "## Problem 2"
   ]
  },
  {
   "cell_type": "markdown",
   "id": "4d4003b9-7651-4488-b771-0f7a70707f9b",
   "metadata": {},
   "source": [
    "Create a decorator named **show_doc** for Python classes to show docstring of the class when it is instantiating.\n",
    "\n",
    "Example:\n",
    "```python\n",
    "@show_doc\n",
    "class MyClass:\n",
    "    '''\n",
    "    This is a test docstring.\n",
    "    '''\n",
    "    pass\n",
    "\n",
    "obj = MyClass()\n",
    "```\n",
    "Output:\n",
    "```bash\n",
    "Instantiating (MyClass) ...\n",
    "Docstring: \n",
    "\n",
    "    This is a test docstring.\n",
    "    \n",
    "******************************\n",
    "```"
   ]
  },
  {
   "cell_type": "markdown",
   "id": "b3cc762b-b107-4dd4-a534-e4881f7c3661",
   "metadata": {},
   "source": [
    "## Solution"
   ]
  },
  {
   "cell_type": "code",
   "execution_count": null,
   "id": "1bc23d03-bfa3-4e17-885f-f8a8cc9f9ac6",
   "metadata": {},
   "outputs": [],
   "source": [
    "import functools\n",
    "def show_doc(cls):\n",
    "    \n",
    "    @functools.wraps(cls)\n",
    "    def wrapper(*args, **kwargs):\n",
    "        print(f'Instantiating ({cls.__name__}) ...')\n",
    "        print(f'Docstring: \\n{cls.__doc__}')\n",
    "        print('*' * 30)\n",
    "        output = cls(*args, **kwargs)\n",
    "        return output\n",
    "    return wrapper    \n",
    "#-------------------\n",
    "@show_doc\n",
    "class MyClass:\n",
    "    '''\n",
    "    This is a test docstring.\n",
    "    '''\n",
    "    pass\n",
    "\n",
    "obj = MyClass()"
   ]
  },
  {
   "cell_type": "markdown",
   "id": "68947bf2-d7eb-403c-aed5-a05d632b3643",
   "metadata": {},
   "source": [
    "---"
   ]
  },
  {
   "cell_type": "markdown",
   "id": "4f1e2949-7dce-408a-a802-6fa7ad9c9794",
   "metadata": {},
   "source": [
    "## Problem 3"
   ]
  },
  {
   "cell_type": "markdown",
   "id": "0149ed30-8c0f-4068-b341-8a5645583217",
   "metadata": {},
   "source": [
    "Define a class named **American** which has a **static method** called `nationality`.  \n",
    "What's the differences between static mathods and instance methods? "
   ]
  },
  {
   "cell_type": "markdown",
   "id": "a5c5e7f2-8f51-4678-a1be-ca9ffcb8917a",
   "metadata": {},
   "source": [
    "Source link:  \n",
    "https://gist.github.com/KirosG/f265f136bd97bd669632fa0f2f2721b4"
   ]
  },
  {
   "cell_type": "markdown",
   "id": "e4d98ebd-3da3-4951-9d5f-a9466ab78a97",
   "metadata": {},
   "source": [
    "## Solution"
   ]
  },
  {
   "cell_type": "code",
   "execution_count": null,
   "id": "6c6affc7-dcfc-4b3d-8757-161f09be3291",
   "metadata": {},
   "outputs": [],
   "source": [
    "class American:\n",
    "    @staticmethod\n",
    "    def nationality():\n",
    "        print(\"America\")\n",
    "\n",
    "an_american = American()\n",
    "an_american.nationality()\n",
    "American.nationality()\n",
    "# Static methods don't need to instance of class for calling. \n",
    "# They can be called directly by Class itself."
   ]
  },
  {
   "cell_type": "markdown",
   "id": "c6928ca8-ecbb-4492-8cc8-a937c07fbdb3",
   "metadata": {},
   "source": [
    "---"
   ]
  }
 ],
 "metadata": {
  "kernelspec": {
   "display_name": "Python 3 (ipykernel)",
   "language": "python",
   "name": "python3"
  },
  "language_info": {
   "codemirror_mode": {
    "name": "ipython",
    "version": 3
   },
   "file_extension": ".py",
   "mimetype": "text/x-python",
   "name": "python",
   "nbconvert_exporter": "python",
   "pygments_lexer": "ipython3",
   "version": "3.9.7"
  }
 },
 "nbformat": 4,
 "nbformat_minor": 5
}
