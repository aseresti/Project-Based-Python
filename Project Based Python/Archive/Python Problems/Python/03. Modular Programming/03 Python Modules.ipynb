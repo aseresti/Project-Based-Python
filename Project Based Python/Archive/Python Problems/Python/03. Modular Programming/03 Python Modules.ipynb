{
 "cells": [
  {
   "cell_type": "markdown",
   "id": "8567a046-0867-4d44-8201-373811ccbc20",
   "metadata": {},
   "source": [
    "<img src=\"../../images/banners/python-modular.png\" width=\"600\"/>"
   ]
  },
  {
   "cell_type": "markdown",
   "id": "d42bad73-2a5e-4309-ac28-8e268d0f782d",
   "metadata": {},
   "source": [
    "# <img src=\"../../images/logos/python.png\" width=\"23\"/> Python Modules Problems"
   ]
  },
  {
   "cell_type": "markdown",
   "id": "a6d18f1c-b6cf-48ce-961a-b1415c037c52",
   "metadata": {},
   "source": [
    "## Problem 1"
   ]
  },
  {
   "cell_type": "markdown",
   "id": "0d8a920e-2256-4dfa-b5b8-5bc07262aaf5",
   "metadata": {},
   "source": [
    "Create **fixed.py** module with some constant variables:\n",
    "- COUNTRY = Iran'\n",
    "- LANGUAGE = 'Persian'\n",
    "- NATIONALITY = 'Iranian'\n",
    "\n",
    "Save the module in your current directory and import it in your code and use defined constants."
   ]
  },
  {
   "cell_type": "markdown",
   "id": "3c4e3652-1c6d-4448-bf35-fe6eb52cd021",
   "metadata": {},
   "source": [
    "Output:\n",
    "\n",
    "Iranian people speak Persian and their country is Iran."
   ]
  },
  {
   "cell_type": "markdown",
   "id": "a2e31e3a-0b29-4778-8b36-29369e611260",
   "metadata": {},
   "source": [
    "## Solution"
   ]
  },
  {
   "cell_type": "code",
   "execution_count": null,
   "id": "70970ada-db7c-46c8-8f51-5b4b9a5a45ae",
   "metadata": {},
   "outputs": [],
   "source": [
    "# solution #1\n",
    "import fixed\n",
    "print('{} people speak {} and their country is {}.'.format(\n",
    "    fixed.NATIONALITY, fixed.LANGUAGE, fixed.COUNTRY\n",
    "))\n",
    "#---------------------------------------------------\n",
    "# solution #2\n",
    "from fixed import *\n",
    "print('{} people speak {} and their country is {}.'.format(\n",
    "    NATIONALITY, LANGUAGE, COUNTRY\n",
    "))"
   ]
  },
  {
   "cell_type": "markdown",
   "id": "15d37eb7-08f8-4c25-87d3-c8b65433d6df",
   "metadata": {},
   "source": [
    "---"
   ]
  },
  {
   "cell_type": "markdown",
   "id": "629689e3-d7ee-41a4-b1cd-9a4d26fc9947",
   "metadata": {},
   "source": [
    "## Problem 2"
   ]
  },
  {
   "cell_type": "markdown",
   "id": "db7966c9-bdb8-4634-8e9c-ccc567fe12d9",
   "metadata": {},
   "source": [
    "Python has a built-in module named `math` that you can use for mathematical tasks. The math module has a set of methods and constants.  \n",
    "Use this module to calculate the following expression:"
   ]
  },
  {
   "cell_type": "markdown",
   "id": "ced60855-f3c2-4906-b688-4992de5ee440",
   "metadata": {},
   "source": [
    "$$\n",
    "2 * sin(\\frac{\\pi}{2}) + 5! + \\sqrt{49}\n",
    "$$"
   ]
  },
  {
   "cell_type": "markdown",
   "id": "81ccac43-a397-4533-887d-6ab9f8d7ef7e",
   "metadata": {},
   "source": [
    "Output must be equal to **129**"
   ]
  },
  {
   "cell_type": "markdown",
   "id": "3cbc46df-2db6-4ba3-91df-291df6531aa5",
   "metadata": {},
   "source": [
    "## Solution"
   ]
  },
  {
   "cell_type": "code",
   "execution_count": null,
   "id": "0bc5835f-0723-4595-a4a7-0e5dda828d97",
   "metadata": {},
   "outputs": [],
   "source": [
    "from math import sin, pi, sqrt, factorial\n",
    "result = 2 * sin(pi/2)  + factorial(5) + sqrt(49)\n",
    "print(result)"
   ]
  },
  {
   "cell_type": "markdown",
   "id": "498e7b13-3bab-42db-a5ff-d1dce9896420",
   "metadata": {},
   "source": [
    "---"
   ]
  }
 ],
 "metadata": {
  "kernelspec": {
   "display_name": "Python 3 (ipykernel)",
   "language": "python",
   "name": "python3"
  },
  "language_info": {
   "codemirror_mode": {
    "name": "ipython",
    "version": 3
   },
   "file_extension": ".py",
   "mimetype": "text/x-python",
   "name": "python",
   "nbconvert_exporter": "python",
   "pygments_lexer": "ipython3",
   "version": "3.9.7"
  }
 },
 "nbformat": 4,
 "nbformat_minor": 5
}
