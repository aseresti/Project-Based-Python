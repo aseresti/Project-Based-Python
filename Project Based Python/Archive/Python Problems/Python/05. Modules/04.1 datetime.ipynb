{
 "cells": [
  {
   "cell_type": "markdown",
   "id": "16570934-fc81-4469-bf0c-494e50e4150d",
   "metadata": {},
   "source": [
    "<img src=\"../../images/banners/python-modules.png\" width=\"600\"/>"
   ]
  },
  {
   "cell_type": "markdown",
   "id": "925adc44-cdb5-42b3-8ff4-4f700c14481e",
   "metadata": {},
   "source": [
    "# <img src=\"../../images/logos/python.png\" width=\"23\"/> `datetime`"
   ]
  },
  {
   "cell_type": "markdown",
   "id": "a37ed04f-e90b-4c52-8fe3-3d99ac1f41e8",
   "metadata": {},
   "source": [
    "## Problem 1"
   ]
  },
  {
   "cell_type": "markdown",
   "id": "ea4ded60-06cd-4dcd-a02b-810d2defe3e0",
   "metadata": {},
   "source": [
    "Subtract a **5 days** and **4 hours** from a given datetime in Python."
   ]
  },
  {
   "cell_type": "markdown",
   "id": "7e938c57-6509-4f17-93b5-e2054c433c14",
   "metadata": {},
   "source": [
    "Given:  \n",
    "given_date = datetime(2023, 2, 25, 20, 10)\n",
    "\n",
    "Output:   \n",
    "2023-02-20 16:10:00"
   ]
  },
  {
   "cell_type": "markdown",
   "id": "1c800b20-20ee-4a0f-bc6f-de749545ff41",
   "metadata": {},
   "source": [
    "## Solution"
   ]
  },
  {
   "cell_type": "code",
   "execution_count": null,
   "id": "0cd0ca3e-13a8-4b3a-87dc-500b7d0a3e20",
   "metadata": {},
   "outputs": [],
   "source": [
    "from datetime import datetime, timedelta\n",
    "\n",
    "given_date = datetime(2023, 2, 25, 20, 10)\n",
    "print(\"Given date:\")\n",
    "print(given_date)\n",
    "\n",
    "res_date = given_date - timedelta(days=5, hours=4)\n",
    "print(\"New Date:\")\n",
    "print(res_date)"
   ]
  },
  {
   "cell_type": "markdown",
   "id": "096bf05a-7ee7-4928-ab01-4a8274598d1b",
   "metadata": {},
   "source": [
    "---"
   ]
  },
  {
   "cell_type": "markdown",
   "id": "2952d9bf-b761-4cdc-b3ec-2a26da63b2c0",
   "metadata": {},
   "source": [
    "## Problem 2"
   ]
  },
  {
   "cell_type": "markdown",
   "id": "e53a53a6-8aad-49ea-bc16-e73fa79ab1f4",
   "metadata": {},
   "source": [
    "Print a date in a the following format:\n",
    "```python\n",
    "Day_name  Day_number  Month_name  Year\n",
    "```"
   ]
  },
  {
   "cell_type": "markdown",
   "id": "a89c5385-3243-4929-81cc-3f4b54ea1e7c",
   "metadata": {},
   "source": [
    "Given:  \n",
    "given_date = datetime(2023, 3, 12)\n",
    "\n",
    "Output:   \n",
    "Sunday 12 March 2023"
   ]
  },
  {
   "cell_type": "markdown",
   "id": "45fb23a5-dc93-42ef-ae14-d2e09e342bcd",
   "metadata": {},
   "source": [
    "## Solution"
   ]
  },
  {
   "cell_type": "code",
   "execution_count": null,
   "id": "e5a0a7e9-1e0d-4c1e-ac8b-6d9879dcb650",
   "metadata": {},
   "outputs": [],
   "source": [
    "from datetime import datetime\n",
    "\n",
    "given_date = datetime(2023, 3, 12)\n",
    "print(\"Given date is\")\n",
    "print(given_date.strftime('%A %d %B %Y'))"
   ]
  },
  {
   "cell_type": "markdown",
   "id": "f527aaf8-8841-463f-bf8f-899d685a0622",
   "metadata": {},
   "source": [
    "---"
   ]
  },
  {
   "cell_type": "markdown",
   "id": "c255ea0a-3f23-4eea-9f3d-58c0f489661e",
   "metadata": {},
   "source": [
    "## Problem 3"
   ]
  },
  {
   "cell_type": "markdown",
   "id": "17799213-28f6-4422-a55f-c83f52bcff89",
   "metadata": {},
   "source": [
    "Calculate number of days between two given dates. Determine which date is greater."
   ]
  },
  {
   "cell_type": "markdown",
   "id": "76458a0a-2992-4248-a2a4-e03ce1b9105b",
   "metadata": {},
   "source": [
    "Given:  \n",
    "date_1 = datetime(2023, 5, 20)  \n",
    "date_2 = datetime(2023, 2, 15)  \n",
    "\n",
    "Output:   \n",
    "date_1 is greater  \n",
    "Difference is 94 days"
   ]
  },
  {
   "cell_type": "markdown",
   "id": "ac2d36a1-02c9-4959-8131-3231d70cfa6b",
   "metadata": {},
   "source": [
    "## Solution"
   ]
  },
  {
   "cell_type": "code",
   "execution_count": null,
   "id": "9ff35143-c875-4317-8966-da1632ec9ce7",
   "metadata": {},
   "outputs": [],
   "source": [
    "from datetime import datetime\n",
    "\n",
    "date_1 = datetime(2023, 5, 20)\n",
    "\n",
    "date_2 = datetime(2023, 2, 15)\n",
    "\n",
    "if date_1 > date_2:\n",
    "    print(\"date_1 is greater\")\n",
    "    delta = date_1 - date_2\n",
    "else:\n",
    "    print(\"date_2 is greater\")\n",
    "    delta = date_2 - date_1\n",
    "print(\"Difference is\", delta.days, \"days\")"
   ]
  },
  {
   "cell_type": "markdown",
   "id": "04431021-bccc-4a63-bf47-602e780e13e9",
   "metadata": {},
   "source": [
    "---"
   ]
  }
 ],
 "metadata": {
  "kernelspec": {
   "display_name": "Python 3 (ipykernel)",
   "language": "python",
   "name": "python3"
  },
  "language_info": {
   "codemirror_mode": {
    "name": "ipython",
    "version": 3
   },
   "file_extension": ".py",
   "mimetype": "text/x-python",
   "name": "python",
   "nbconvert_exporter": "python",
   "pygments_lexer": "ipython3",
   "version": "3.9.7"
  }
 },
 "nbformat": 4,
 "nbformat_minor": 5
}
