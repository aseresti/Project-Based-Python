{
 "cells": [
  {
   "cell_type": "markdown",
   "id": "1bd82e5c-8ed9-45a9-b6b0-4ca7c747d055",
   "metadata": {},
   "source": [
    "<img src=\"../../images/banners/python-modules.png\" width=\"600\"/>"
   ]
  },
  {
   "cell_type": "markdown",
   "id": "4ee42def-338f-43f2-af4e-3c497160e594",
   "metadata": {},
   "source": [
    "# <img src=\"../../images/logos/python.png\" width=\"23\"/> `YAML` Problems\n"
   ]
  },
  {
   "cell_type": "markdown",
   "id": "71435224-b5b8-4a08-ba1f-08944b1bf5b6",
   "metadata": {},
   "source": [
    "## Problem 1"
   ]
  },
  {
   "cell_type": "markdown",
   "id": "e3afa459-6379-49cd-a82c-9cd651e2181c",
   "metadata": {},
   "source": [
    "Given the `yaml-p1.yaml` example file with database dictionary configuration details.\n",
    "Read this yaml file into an object and print the result."
   ]
  },
  {
   "cell_type": "markdown",
   "id": "b631dc2a-0ebf-4c85-ab5b-e0e9828e3886",
   "metadata": {},
   "source": [
    "## Solution"
   ]
  },
  {
   "cell_type": "code",
   "execution_count": null,
   "id": "14d02499-8d66-47ed-9ad6-1afee9a34d7b",
   "metadata": {},
   "outputs": [],
   "source": [
    "import yaml\n",
    "\n",
    "with open('data/yaml-p1.yaml') as file:\n",
    "    databaseConfig = yaml.safe_load(file)   \n",
    "    print(databaseConfig)"
   ]
  },
  {
   "cell_type": "markdown",
   "id": "53529cfb-9f05-4cce-87ff-b7cee64031d2",
   "metadata": {},
   "source": [
    "---"
   ]
  },
  {
   "cell_type": "markdown",
   "id": "11858844-99f8-4b83-8595-a5f2c46b861d",
   "metadata": {},
   "source": [
    "## Problem 2"
   ]
  },
  {
   "cell_type": "markdown",
   "id": "9a7c838a-0ac7-46ba-b8a5-2db9d0349308",
   "metadata": {},
   "source": [
    "We have sample yaml file, `yaml-p2.yaml` which contains an array of strings.\n"
   ]
  },
  {
   "cell_type": "markdown",
   "id": "28c79f5c-abb7-47c6-bc8b-3c303b8d1cdf",
   "metadata": {},
   "source": [
    "Read the file and store data in the data variable. print the result in following form:\n",
    "```python\n",
    "weekday : ['monday', 'tuesday', 'wednesday', 'thursday', 'friday', 'saturday', 'sunday']\n",
    "months : ['jan', 'feb', 'mar', 'apr', 'may', 'june', 'july']\n",
    "```\n",
    "Use `try/except` for loading file."
   ]
  },
  {
   "cell_type": "markdown",
   "id": "bd1b9396-afd8-4799-8e55-f03c757a956c",
   "metadata": {},
   "source": [
    "## Solution"
   ]
  },
  {
   "cell_type": "code",
   "execution_count": null,
   "id": "d8bca845-c704-417b-923b-ec62b18a0f78",
   "metadata": {},
   "outputs": [],
   "source": [
    "import yaml\n",
    "\n",
    "with open('data/yaml-p2.yaml') as file:\n",
    "    try:\n",
    "        data = yaml.safe_load(file)\n",
    "        for key, value in data.items():\n",
    "            print(key, \":\", value)\n",
    "    except yaml.YAMLError as exception:\n",
    "        print(exception)"
   ]
  },
  {
   "cell_type": "markdown",
   "id": "564c00c4-c24a-4115-a8b1-0e7e7c6c91b8",
   "metadata": {},
   "source": [
    "---"
   ]
  },
  {
   "cell_type": "markdown",
   "id": "70b67ce5-c5c3-4347-98f8-847122b61ee0",
   "metadata": {},
   "source": [
    "## Problem 3"
   ]
  },
  {
   "cell_type": "markdown",
   "id": "e2db1ef5-b67c-40da-9e01-5f624fe944b5",
   "metadata": {},
   "source": [
    "Consider a list of dictionaries with data in following form:\n",
    "```python\n",
    "members = [\n",
    "    {'User': 'Zoey', 'Password': 'Xavier@123', 'Phone': 345464,\n",
    "     'Skills': ['Python', 'SQL', 'Django', 'Rest Framework', 'JavaScript']\n",
    "    },\n",
    "    {'name': 'Zaara', 'occupation': 'Dentist'}\n",
    "] \n",
    "```\n",
    "Dump it into a `YAML` file and also print the result."
   ]
  },
  {
   "cell_type": "code",
   "execution_count": null,
   "id": "814b1212-50e1-43ca-a5f4-6dd3191f8d71",
   "metadata": {},
   "outputs": [],
   "source": [
    "members = [\n",
    "    {'User': 'Zoey', 'Password': 'Xavier@123', 'Phone': 345464,\n",
    "     'Skills': ['Python', 'SQL', 'Django', 'Rest Framework', 'JavaScript']\n",
    "    },\n",
    "    {'name': 'Zaara', 'occupation': 'Dentist'}\n",
    "]\n",
    "data = yaml.dump(members)\n",
    "with open('data/yaml-p3.yaml', 'w') as f:\n",
    "    f.write(data)\n",
    "print(data)  "
   ]
  },
  {
   "cell_type": "markdown",
   "id": "c160ed3f-5653-4358-89ac-b819a413883b",
   "metadata": {},
   "source": [
    "---"
   ]
  },
  {
   "cell_type": "markdown",
   "id": "f77661eb-2007-4074-9db4-51ae6986693a",
   "metadata": {},
   "source": [
    "## Problem 4"
   ]
  },
  {
   "cell_type": "markdown",
   "id": "74ccf86b-876c-4fb9-bf9d-c1a9a9d2f3a6",
   "metadata": {},
   "source": [
    "Create the custom Python class named **Person** with *user* and *password* attributes to convert the YAML into a custom Python object instead of list, or built in types.  \n",
    "Create an object from that class and serialize it into YAML object. \n",
    "Then deserialize the yaml object and use it as a Person class object."
   ]
  },
  {
   "cell_type": "markdown",
   "id": "3d458f68-fda9-4e2e-bf1d-593e67d0b357",
   "metadata": {},
   "source": [
    "**Hint:** You can use `UnsafeLoader` as loader when loading the YAML object."
   ]
  },
  {
   "cell_type": "markdown",
   "id": "315ac339-abb5-4f7f-a4ca-07df2ab01f42",
   "metadata": {},
   "source": [
    "The output should be as follows:  \n",
    "object type:  <class '\\__main__.Person'>  \n",
    "object name: Jessa  \n",
    "object password: queue@123\n"
   ]
  },
  {
   "cell_type": "markdown",
   "id": "2d46982c-4f30-430f-8898-a8ad927a4551",
   "metadata": {},
   "source": [
    "## Solution"
   ]
  },
  {
   "cell_type": "code",
   "execution_count": null,
   "id": "a89a4f48-b6b1-4add-bcf7-8b06dc4c034c",
   "metadata": {},
   "outputs": [],
   "source": [
    "import yaml  \n",
    "from yaml.loader import UnsafeLoader\n",
    "  \n",
    "class Person:  \n",
    "    def __init__(self, user, password):  \n",
    "        self.user = user  \n",
    "        self.password = password  \n",
    "\n",
    "# Make Python Class YAML Serializable  \n",
    "person = Person('Jessa', 'queue@123')  \n",
    "yaml_obj = yaml.dump(person)\n",
    "  \n",
    "# Deserialize YAML into a Custom Python Class  \n",
    "new_person = yaml.load(yaml_obj, Loader=UnsafeLoader)\n",
    "print('object type: ',type(new_person))\n",
    "print('object name:', new_person.user)\n",
    "print('object password:',new_person.password)"
   ]
  },
  {
   "cell_type": "markdown",
   "id": "1766dae6-7ee2-4006-95ba-ef7c3050c472",
   "metadata": {},
   "source": [
    "---"
   ]
  }
 ],
 "metadata": {
  "kernelspec": {
   "display_name": "Python 3 (ipykernel)",
   "language": "python",
   "name": "python3"
  },
  "language_info": {
   "codemirror_mode": {
    "name": "ipython",
    "version": 3
   },
   "file_extension": ".py",
   "mimetype": "text/x-python",
   "name": "python",
   "nbconvert_exporter": "python",
   "pygments_lexer": "ipython3",
   "version": "3.9.7"
  }
 },
 "nbformat": 4,
 "nbformat_minor": 5
}
