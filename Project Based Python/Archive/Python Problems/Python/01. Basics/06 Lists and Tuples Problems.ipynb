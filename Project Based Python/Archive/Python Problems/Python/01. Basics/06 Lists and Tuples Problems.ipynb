{
 "cells": [
  {
   "cell_type": "markdown",
   "id": "e08fd4e2-958b-4c63-ade3-f29e097a6e91",
   "metadata": {},
   "source": [
    "<img src=\"../../images/banners/python-basics.png\" width=\"600\"/>\n"
   ]
  },
  {
   "cell_type": "markdown",
   "id": "36423b0f-d1f3-4e88-ac28-64f2fb255d8d",
   "metadata": {},
   "source": [
    "# <img src=\"../../images/logos/python.png\" width=\"23\"/> List and Tuple Problems"
   ]
  },
  {
   "cell_type": "markdown",
   "id": "5f57e666-1218-4388-b575-540956719a75",
   "metadata": {},
   "source": [
    "## Problem 1"
   ]
  },
  {
   "cell_type": "markdown",
   "id": "3c98d988-5e59-4a12-bef7-e4e730a6b953",
   "metadata": {},
   "source": [
    "Write a Python program takes a list of integer numbers to do the following in sequence:\n",
    "1. find the k largest numbers. Length of the list has to be greater than k.\n",
    "2. sort the numbers by the sum of their digits."
   ]
  },
  {
   "cell_type": "markdown",
   "id": "5e3ab487-ee99-464e-87b0-7041c242389a",
   "metadata": {},
   "source": [
    "For example:\n",
    "\n",
    "k = 4 <br>\n",
    "input: num_list = [170, 18, 115, 15, 256, 12, 1, 19] <br>\n",
    "output: [115, 170, 19, 256]"
   ]
  },
  {
   "cell_type": "markdown",
   "id": "fa780072-bc0b-4802-b1b4-515e34f0451c",
   "metadata": {},
   "source": [
    "## Solution:"
   ]
  },
  {
   "cell_type": "code",
   "execution_count": null,
   "id": "a8ac085b-0bed-4e32-ad16-749ebc5f98b3",
   "metadata": {},
   "outputs": [],
   "source": [
    "k = 4\n",
    "num_list = [170, 18, 115, 15, 256, 12, 1, 19]\n",
    "num_list = sorted(num_list, reverse=True)[:k]\n",
    "sorted(num_list, key=lambda num: sum(int(digit) for digit in str(num)))"
   ]
  },
  {
   "cell_type": "markdown",
   "id": "86418082-06ac-490f-88dc-ec287f03a51a",
   "metadata": {},
   "source": [
    "***"
   ]
  },
  {
   "cell_type": "markdown",
   "id": "6d46d422-73c7-4c5f-a32f-a3711ec83648",
   "metadata": {},
   "source": [
    "## Problem 2"
   ]
  },
  {
   "cell_type": "markdown",
   "id": "f64cbc0f-2875-47fb-be08-c42f946b68cd",
   "metadata": {},
   "source": [
    "You know that tuples are immutable, so you can not add new elements. By using merge of tuples with the + operator you can add an element and create a new tuple or you can override the original tuple."
   ]
  },
  {
   "cell_type": "markdown",
   "id": "4ef9c271-be00-4538-ad18-425cecbe51a7",
   "metadata": {},
   "source": [
    "We have a tuple nums = (1, 2, 3, 4, 5, 6, 7, 8, 9) <br>\n",
    "Write a Python program to:\n",
    "1. add an item 2500 to end of the tuple.\n",
    "2. add (100, 200, 300) at index 3 of tuple.\n",
    "3. remove item 5 from the tuple."
   ]
  },
  {
   "cell_type": "markdown",
   "id": "246073a0-523a-4943-9db6-f07a735c8adb",
   "metadata": {},
   "source": [
    "output:\n",
    "1. add an item 2500 to end of tuple:<br> \n",
    "(1, 2, 3, 4, 5, 6, 7, 8, 9, 2500)\n",
    "\n",
    "2. add (100, 200, 300) at index 3 of tuple: <br>\n",
    "(1, 2, 3, 100, 200, 300, 4, 5, 6, 7, 8, 9)\n",
    "\n",
    "3. remove item 5 from the tuple: <br>\n",
    "(1, 2, 3, 4, 6, 7, 8, 9)"
   ]
  },
  {
   "cell_type": "markdown",
   "id": "1c0db3d5-07de-4a8a-8f19-a5af5069e798",
   "metadata": {},
   "source": [
    "## Solution:"
   ]
  },
  {
   "cell_type": "code",
   "execution_count": null,
   "id": "3ce5cb16-df79-49ae-a744-06fa35c276e7",
   "metadata": {},
   "outputs": [],
   "source": [
    "nums = (1, 2, 3, 4, 5, 6, 7, 8, 9)\n",
    "print('original tuple: ')\n",
    "print(nums)\n",
    "\n",
    "#----------------------------------\n",
    "new_nums1 = nums + (2500, )\n",
    "print('\\n1. add 2500 to end of tuple: ')\n",
    "print(new_nums1)\n",
    "\n",
    "#-------------------------------------------\n",
    "new_nums2 = nums[:3] + (100, 200, 300) + nums[3:]\n",
    "print('\\n2. add (100, 200, 300) at index 3 of tuple: ')\n",
    "print(new_nums2)\n",
    "\n",
    "#----------------------------------------------\n",
    "new_nums3 = nums[:4] + nums[5:]\n",
    "print('\\n3. remove item 5 from the tuple: ')\n",
    "print(new_nums3)"
   ]
  },
  {
   "cell_type": "markdown",
   "id": "12d5b3cd-7166-42f9-a1ff-b2435fb0a2ae",
   "metadata": {},
   "source": [
    "***"
   ]
  },
  {
   "cell_type": "markdown",
   "id": "74067920-f93e-4c90-9b55-bf033f990adb",
   "metadata": {},
   "source": [
    "## Problem 3"
   ]
  },
  {
   "cell_type": "markdown",
   "id": "9235a848-d361-475b-8e6b-9de48768fe42",
   "metadata": {},
   "source": [
    "We have a list of tuples:\n",
    "```python\n",
    "price = [('item1', '12.20'), ('item2', '15.10'), ('item3', '24.5')]\n",
    "```\n",
    "Write a Python program to:\n",
    "1. sort the list in descending order by float element of its tuples.\n",
    "2. convert the sorted list to a dictionary so that its keys are the first tuple element and its values are the float of second element."
   ]
  },
  {
   "cell_type": "markdown",
   "id": "f5c50815-4546-4a45-973a-2a8623ac361d",
   "metadata": {},
   "source": [
    "output:\n",
    "1. sorted price: <br>\n",
    "[('item3', '24.5'), ('item2', '15.10'), ('item1', '12.20')]\n",
    "\n",
    "2. dictionary of sorted price: <br>\n",
    "{'item3': 24.5, 'item2': 15.1, 'item1': 12.2}"
   ]
  },
  {
   "cell_type": "markdown",
   "id": "300dd51c-fd90-44fc-8a25-f6984503a2d5",
   "metadata": {},
   "source": [
    "## Solution"
   ]
  },
  {
   "cell_type": "code",
   "execution_count": null,
   "id": "d7e5f8c2-8ff2-4cca-82d6-ff58a2daf0b0",
   "metadata": {},
   "outputs": [],
   "source": [
    "price = [('item1', '12.20'), ('item2', '15.10'), ('item3', '24.5')]\n",
    "\n",
    "#---------------------------------------------------------\n",
    "sorted_price = sorted(price, key=lambda x: float(x[1]), reverse=True)\n",
    "print('\\n1. sorted price: ')\n",
    "print(sorted_price)\n",
    "\n",
    "#---------------------------------------------------------\n",
    "dict_price = {key: float(value) for key, value in sorted_price}\n",
    "print('\\n2. dictionary of sorted price:')\n",
    "print(dict_price)"
   ]
  },
  {
   "cell_type": "markdown",
   "id": "873f595f-1515-4dc5-8d30-a7c92e2a3b07",
   "metadata": {},
   "source": [
    "***"
   ]
  },
  {
   "cell_type": "markdown",
   "id": "7e98bd06-645b-4f7a-99b6-6adbf73cf154",
   "metadata": {},
   "source": [
    "## Problem 4"
   ]
  },
  {
   "cell_type": "markdown",
   "id": "47944384-7c01-4654-ab23-c284f61c2570",
   "metadata": {},
   "source": [
    "Write a Python program to compute the element-wise sum of given tuples."
   ]
  },
  {
   "cell_type": "markdown",
   "id": "879f965d-f810-4997-ae90-3aa6faef84fd",
   "metadata": {},
   "source": [
    "Example input:\n",
    "```python\n",
    "x = (1,2,3,4)\n",
    "y = (3,5,2,1)\n",
    "z = (2,2,3,1)\n",
    "```"
   ]
  },
  {
   "cell_type": "markdown",
   "id": "0bd9b277-1845-484d-b7a5-2ea15fd15e8a",
   "metadata": {},
   "source": [
    "output:\n",
    "```python\n",
    "(6, 9, 8, 6)\n",
    "```"
   ]
  },
  {
   "cell_type": "markdown",
   "id": "fc98e7ba-e577-46e4-aac4-1603632e99d1",
   "metadata": {},
   "source": [
    "## Solution:"
   ]
  },
  {
   "cell_type": "code",
   "execution_count": null,
   "id": "17ab3b08-c68d-4264-89cb-d4e0eec393f6",
   "metadata": {},
   "outputs": [],
   "source": [
    "x = (1,2,3,4)\n",
    "y = (3,5,2,1)\n",
    "z = (2,2,3,1)\n",
    "print(\"input:\")\n",
    "print(x)\n",
    "print(y)\n",
    "print(z)\n",
    "print(\"\\nelement-wise sum:\")\n",
    "result = tuple(map(sum, zip(x, y, z)))\n",
    "print(result)"
   ]
  },
  {
   "cell_type": "markdown",
   "id": "3728a3a3-565f-468e-911e-7f12a253388a",
   "metadata": {},
   "source": [
    "***"
   ]
  },
  {
   "cell_type": "markdown",
   "id": "c72a1c05-5740-42a8-9f58-c4f84de42740",
   "metadata": {},
   "source": [
    "## Problem 5"
   ]
  },
  {
   "cell_type": "markdown",
   "id": "03030cac-0826-492a-913c-07069ccce803",
   "metadata": {},
   "source": [
    "Print \"Z\" from the nested data.\n",
    "```python\n",
    "nested_lst = [[\"Hat\", \"Glove\", \"Goggle\"], [\"Button\", \"Zipper\", \"Hook\"]]\n",
    "```"
   ]
  },
  {
   "cell_type": "markdown",
   "id": "2686aaea-af54-48e0-afb6-c4ee27d86cd7",
   "metadata": {},
   "source": [
    "## Solution"
   ]
  },
  {
   "cell_type": "code",
   "execution_count": null,
   "id": "9cbedfca-025a-4f93-a535-dbee2fedb56e",
   "metadata": {},
   "outputs": [],
   "source": [
    "nested_lst = [[\"Hat\", \"Glove\", \"Goggle\"], [\"Button\", \"Zipper\", \"Hook\"]]\n",
    "print(nested_lst[1][1][0])"
   ]
  },
  {
   "cell_type": "markdown",
   "id": "ae5137eb-09d5-4b84-b40d-af7fed4e7be1",
   "metadata": {},
   "source": [
    "---"
   ]
  },
  {
   "cell_type": "markdown",
   "id": "d5d8e1ef-0b48-43c9-bdbe-bff47cdd9a36",
   "metadata": {},
   "source": [
    "## Problem 6"
   ]
  },
  {
   "cell_type": "markdown",
   "id": "67023230-bad1-4543-b4c3-b52dfb2393b9",
   "metadata": {},
   "source": [
    "Create a sorted list of tuples from lst1 and lst2 base on lst2 values.\n",
    "```python\n",
    "lst1 = [\"Mike\", \"Danny\", \"Jim\", \"Annie\"]\n",
    "lst2 = [4, 12, 7, 19]\n",
    "```\n",
    "Output:\n",
    "```python\n",
    "[('Mike', 4), ('Jim', 7), ('Danny', 12), ('Annie', 19)]\n",
    "```"
   ]
  },
  {
   "cell_type": "markdown",
   "id": "b06de070-c215-46e2-9e57-aa4387d80bb1",
   "metadata": {},
   "source": [
    "Source link:  \n",
    "https://holypython.com/intermediate-python-exercises/exercise-12-python-zip-function/"
   ]
  },
  {
   "cell_type": "code",
   "execution_count": null,
   "id": "4df4561a-614c-49c9-8a9c-b81fedc93f43",
   "metadata": {},
   "outputs": [],
   "source": [
    "lst1 = [\"Mike\", \"Danny\", \"Jim\", \"Annie\"]\n",
    "lst2 = [4, 12, 7, 19]\n",
    "sorted(list(zip(lst1,lst2)), key=lambda x:x[1])"
   ]
  },
  {
   "cell_type": "markdown",
   "id": "1bf623e7-5a1e-4f46-85a0-652fed24e93f",
   "metadata": {},
   "source": [
    "---"
   ]
  },
  {
   "cell_type": "markdown",
   "id": "e56bdca4-71ee-49ef-bf1c-cf75994b929c",
   "metadata": {},
   "source": [
    "## Problem 7"
   ]
  },
  {
   "cell_type": "markdown",
   "id": "3c350792-4d68-410b-9178-1479315a30c1",
   "metadata": {},
   "source": [
    "Using `map()` function to find the total sum of the absolute value of the given list elements.\n",
    "```python\n",
    "lst = [99.3890,-3.5, 5, -0.7123, -9, -0.003]\n",
    "``` \n",
    "Output:  \n",
    "117.6043"
   ]
  },
  {
   "cell_type": "markdown",
   "id": "ffdd5898-675b-4c5e-8b4b-b0f8b563632c",
   "metadata": {},
   "source": [
    "Source link:  \n",
    "https://holypython.com/intermediate-python-exercises/exercise-13-python-map-function/"
   ]
  },
  {
   "cell_type": "markdown",
   "id": "3c3099eb-d6a2-418d-92cb-1f39e527b7ae",
   "metadata": {},
   "source": [
    "## Solution"
   ]
  },
  {
   "cell_type": "code",
   "execution_count": null,
   "id": "cf715954-8475-4fc7-b0bd-15c66e5f7a87",
   "metadata": {},
   "outputs": [],
   "source": [
    "lst = [99.3890,-3.5, 5, -0.7123, -9, -0.003]\n",
    "sum(map(abs,lst))"
   ]
  },
  {
   "cell_type": "markdown",
   "id": "90a9d2e7-486b-4239-93d6-0b60e3a473e1",
   "metadata": {},
   "source": [
    "---"
   ]
  },
  {
   "cell_type": "markdown",
   "id": "217e9e1e-b0ac-47b0-a29e-26815ff3606f",
   "metadata": {},
   "source": [
    "## Problem 8"
   ]
  },
  {
   "cell_type": "markdown",
   "id": "9f5ab57a-7d67-4e60-8505-e47109a00270",
   "metadata": {},
   "source": [
    "Using `map()` and `lambda` function create a list consisted of the number of occurence of both letters: A and a in the given list:\n",
    "```python\n",
    "lst = [\"Alaska\", \"Alabama\", \"Arizona\", \"Arkansas\", \"Colorado\", \"Montana\", \"Nevada\"]\n",
    "```\n",
    "Output:  \n",
    "```python\n",
    "[3, 4, 2, 3, 1, 2, 2]\n",
    "```"
   ]
  },
  {
   "cell_type": "markdown",
   "id": "b3887c2e-4b81-4a64-9b15-f68aa42de6fe",
   "metadata": {},
   "source": [
    "Source link:  \n",
    "https://holypython.com/intermediate-python-exercises/exercise-13-python-map-function/"
   ]
  },
  {
   "cell_type": "markdown",
   "id": "2e53002f-343c-4917-95ed-406dee5c659f",
   "metadata": {},
   "source": [
    "## Solution"
   ]
  },
  {
   "cell_type": "code",
   "execution_count": null,
   "id": "f32236a3-8461-4f3f-816b-013764d78c9e",
   "metadata": {},
   "outputs": [],
   "source": [
    "lst = [\"Alaska\", \"Alabama\", \"Arizona\", \"Arkansas\", \"Colorado\", \"Montana\", \"Nevada\"]\n",
    "list(map(lambda x: x.lower().count(\"a\"), lst))"
   ]
  },
  {
   "cell_type": "markdown",
   "id": "e797dfc2-eb16-48af-8be7-4eab923faa3e",
   "metadata": {},
   "source": [
    "---"
   ]
  },
  {
   "cell_type": "markdown",
   "id": "c02f39a7-d1ec-48c7-b184-8e21e3e73670",
   "metadata": {},
   "source": [
    "## Problem 9"
   ]
  },
  {
   "cell_type": "markdown",
   "id": "42d932ef-b9d7-460b-9f9b-a4e0c386938b",
   "metadata": {},
   "source": [
    "Using `map()` and `lambda` function to add each elements of two given lists together.\n",
    "```python\n",
    "lst1 = [100, 200, 300, 400, 500]\n",
    "lst2 = [1,10,100,1000,10000]\n",
    "```\n",
    "Output: \n",
    "```python\n",
    "[101, 210, 400, 1400, 10500]\n",
    "```"
   ]
  },
  {
   "cell_type": "markdown",
   "id": "3b5d5b71-46b0-4680-9c3a-d2f26310d430",
   "metadata": {},
   "source": [
    "Source link:  \n",
    "https://holypython.com/intermediate-python-exercises/exercise-13-python-map-function/"
   ]
  },
  {
   "cell_type": "markdown",
   "id": "1fcca9cd-fb42-410f-8aed-b8002d594ec7",
   "metadata": {},
   "source": [
    "## Solution"
   ]
  },
  {
   "cell_type": "code",
   "execution_count": null,
   "id": "c5c64bc5-e22d-4734-916f-e00149bb81c2",
   "metadata": {},
   "outputs": [],
   "source": [
    "lst1 = [100, 200, 300, 400, 500]\n",
    "lst2 = [1,10,100,1000,10000]\n",
    "lst3 = list(map(lambda x,y: x+y, lst1, lst2))\n",
    "print(lst3)"
   ]
  },
  {
   "cell_type": "markdown",
   "id": "9f435b6b-17bc-405b-9cba-21a7f0a34297",
   "metadata": {},
   "source": [
    "---"
   ]
  },
  {
   "cell_type": "markdown",
   "id": "541c8187-23d6-4c5d-b79a-33000551b83f",
   "metadata": {},
   "source": [
    "## Problem 10"
   ]
  },
  {
   "cell_type": "markdown",
   "id": "3fd94b47-84e7-4fda-84b5-5ac72e2362b9",
   "metadata": {},
   "source": [
    "Write a `map` function that adds **\"Hello \"** in front of each item in the given list.\n",
    "```python\n",
    "lst1 = [\"Jane\", \"Lee\", \"Will\", \"Brie\"]\n",
    "```\n",
    "Output:\n",
    "```python\n",
    "['Hello Jane', 'Hello Lee', 'Hello Will', 'Hello Brie']\n",
    "```\n",
    "\n"
   ]
  },
  {
   "cell_type": "markdown",
   "id": "76c6eb08-9c4a-41cc-9951-39fea07522e7",
   "metadata": {},
   "source": [
    "Source link:  \n",
    "https://holypython.com/intermediate-python-exercises/exercise-13-python-map-function/"
   ]
  },
  {
   "cell_type": "markdown",
   "id": "9a0a0b54-40e5-48de-aa92-d5aba01c2a7d",
   "metadata": {},
   "source": [
    "## Solution"
   ]
  },
  {
   "cell_type": "code",
   "execution_count": null,
   "id": "c0e54dee-053d-44f1-9496-8d205d0dbab7",
   "metadata": {},
   "outputs": [],
   "source": [
    "lst1 = [\"Jane\", \"Lee\", \"Will\", \"Brie\"]\n",
    "list(map(lambda x: 'Hello ' + x , lst1))"
   ]
  },
  {
   "cell_type": "markdown",
   "id": "8aca90a4-77f8-434b-afb0-4ebdad46d1c1",
   "metadata": {},
   "source": [
    "---"
   ]
  },
  {
   "cell_type": "markdown",
   "id": "626adbd7-f9f5-416e-ace9-569b5618c209",
   "metadata": {},
   "source": [
    "## Problem 11"
   ]
  },
  {
   "cell_type": "markdown",
   "id": "553f7d4b-58d2-4095-8bc1-f653572c2def",
   "metadata": {},
   "source": [
    "Use `filter()` function to filter the list so that only negative numbers are left.\n",
    "```python\n",
    "lst1 = [12, -1, 9, 8, -0.5, -0.2, -100]\n",
    "```\n",
    "Output:\n",
    "```python\n",
    "[-1, -0.5, -0.2, -100]\n",
    "```"
   ]
  },
  {
   "cell_type": "markdown",
   "id": "c9e45853-9375-403e-a5fb-663db23316bc",
   "metadata": {},
   "source": [
    "Source link:  \n",
    "https://holypython.com/intermediate-python-exercises/exercise-14-python-filter-function/"
   ]
  },
  {
   "cell_type": "markdown",
   "id": "aff625a6-70a9-443c-864f-038d727a7864",
   "metadata": {},
   "source": [
    "## Solution"
   ]
  },
  {
   "cell_type": "code",
   "execution_count": null,
   "id": "61bc3f84-5b4a-4299-a22a-bcb4537400c4",
   "metadata": {},
   "outputs": [],
   "source": [
    "lst1 = [12, -1, 9, 8, -0.5, -0.2, -100]\n",
    "new_list = list(filter(lambda x: x < 0, lst1))\n",
    "print(new_list)"
   ]
  },
  {
   "cell_type": "markdown",
   "id": "e58fb1d9-8f9d-4610-8316-99321c2f00c2",
   "metadata": {},
   "source": [
    "---"
   ]
  },
  {
   "cell_type": "markdown",
   "id": "56a63ab9-1f76-4a8b-8c92-8025123c9e33",
   "metadata": {},
   "source": [
    "## Problem 12"
   ]
  },
  {
   "cell_type": "markdown",
   "id": "df32e5ce-4b1b-47f9-981c-8a10cfa4fbbe",
   "metadata": {},
   "source": [
    "Use `filter` function to filter the even numbers so that only odd numbers are passed to the new list.\n",
    "```python\n",
    "lst1 = [22, 100, 19, 13, 11, 1, 4, 66]\n",
    "```\n",
    "Output:\n",
    "```python\n",
    "[19, 13, 11, 1]\n",
    "```"
   ]
  },
  {
   "cell_type": "markdown",
   "id": "1a74d022-8a96-477a-82d0-9d7e7052329c",
   "metadata": {},
   "source": [
    "Source link:  \n",
    "https://holypython.com/intermediate-python-exercises/exercise-14-python-filter-function/"
   ]
  },
  {
   "cell_type": "markdown",
   "id": "8d9b4339-2862-4a1a-8ffd-8d398072cf87",
   "metadata": {},
   "source": [
    "## Solution"
   ]
  },
  {
   "cell_type": "code",
   "execution_count": null,
   "id": "252b3893-e357-422a-83d5-3cd176972faa",
   "metadata": {},
   "outputs": [],
   "source": [
    "lst1 = [22, 100, 19, 13, 11, 1, 4, 66]\n",
    "new_list = list(filter(lambda x: x % 2 != 0, lst1))\n",
    "print(new_list)"
   ]
  },
  {
   "cell_type": "markdown",
   "id": "8dffbc54-f0fa-4083-93c7-53bb45d0e01c",
   "metadata": {},
   "source": [
    "---"
   ]
  },
  {
   "cell_type": "markdown",
   "id": "7abe3075-e264-49de-a3cd-fe9ef3814eec",
   "metadata": {},
   "source": [
    "## Problem 13"
   ]
  },
  {
   "cell_type": "markdown",
   "id": "fceced90-4825-4192-a784-acaed21628a4",
   "metadata": {},
   "source": [
    "Use `filter` function to filter all the vowels in a given string. (delete them)\n",
    "```python\n",
    "text = \"Winter Olympics in 2022 will take place in Beijing China\"\n",
    "```\n",
    "Output:\n",
    "```python\n",
    "[19, 13, 11, 1]\n",
    "```"
   ]
  },
  {
   "cell_type": "markdown",
   "id": "2fa8bf86-f898-4eef-bbdd-e8a87b67143d",
   "metadata": {},
   "source": [
    "Source link:  \n",
    "https://holypython.com/intermediate-python-exercises/exercise-14-python-filter-function/"
   ]
  },
  {
   "cell_type": "markdown",
   "id": "9e8f6a85-a09c-4ab2-be2e-cafbfcdc663b",
   "metadata": {},
   "source": [
    "## Solution"
   ]
  },
  {
   "cell_type": "code",
   "execution_count": null,
   "id": "55dd4ade-d1ae-4b97-bcc3-2422dd445276",
   "metadata": {},
   "outputs": [],
   "source": [
    "text = \"Winter Olympics in 2022 will take place in Beijing China\"\n",
    "new_list = list(filter(lambda x: x.lower() not in 'aeoui', text))\n",
    "print(''.join(new_list))"
   ]
  },
  {
   "cell_type": "markdown",
   "id": "4b85b92f-e98f-484b-8669-b0ab5eb25c15",
   "metadata": {},
   "source": [
    "---"
   ]
  },
  {
   "cell_type": "markdown",
   "id": "8ccec887-0edb-41ab-8f9a-ccd136f92332",
   "metadata": {},
   "source": [
    "## Problem 14"
   ]
  },
  {
   "cell_type": "markdown",
   "id": "6f07a948-f54b-4fb9-afa1-e9b2a16967b0",
   "metadata": {},
   "source": [
    "Use `map()` , `filter()` and `lambda` functions to select the values are below 8000 and add 2000 to them.\n",
    "```python\n",
    "lst1 = [1000, 500, 600, 700, 5000, 90000, 17500]\n",
    "```\n",
    "Output:\n",
    "```python\n",
    "[3000, 2500, 2600, 2700, 7000]\n",
    "```"
   ]
  },
  {
   "cell_type": "markdown",
   "id": "2885f5e4-de00-4209-b1cd-3933d922bf3f",
   "metadata": {},
   "source": [
    "Source link:  \n",
    "https://holypython.com/intermediate-python-exercises/exercise-14-python-filter-function/"
   ]
  },
  {
   "cell_type": "markdown",
   "id": "5d87a6bd-0efc-4cf0-9815-fd7aef7d9cf6",
   "metadata": {},
   "source": [
    "## Solution"
   ]
  },
  {
   "cell_type": "code",
   "execution_count": null,
   "id": "e489b384-d0d7-4ff2-984d-8f8a71712ef0",
   "metadata": {},
   "outputs": [],
   "source": [
    "lst1 = [1000, 500, 600, 700, 5000, 90000, 17500]\n",
    "under_8000 = filter(lambda x: x < 8000, lst1)\n",
    "lst2 = list(map(lambda x: x + 2000, under_8000))\n",
    "print(lst2)"
   ]
  },
  {
   "cell_type": "markdown",
   "id": "9f9ada02-e51a-4160-a4e4-eae6280e476b",
   "metadata": {
    "tags": []
   },
   "source": [
    "---"
   ]
  },
  {
   "cell_type": "markdown",
   "id": "38672be5-9f2c-4c23-80ee-a7373820c1c3",
   "metadata": {},
   "source": [
    "## Problem 15"
   ]
  },
  {
   "cell_type": "markdown",
   "id": "d78cd558-0d08-4bfe-900a-296767354aea",
   "metadata": {},
   "source": [
    "Using `lambda` and `sorted()` function, sort the list based on the remainder from dividing each element to 5 (From greater to smaller).\n",
    "```python\n",
    "lst1 = [1000, 50, 66, 101, 333, 9999, 19, 300, 200, 250]\n",
    "```\n",
    "Output:\n",
    "```python\n",
    "[9999, 19, 333, 66, 101, 1000, 50, 300, 200, 250]\n",
    "```"
   ]
  },
  {
   "cell_type": "markdown",
   "id": "68820f1d-c60b-4462-a0bc-9603c06699ce",
   "metadata": {},
   "source": [
    "Source link:  \n",
    "https://holypython.com/intermediate-python-exercises/exercise-15-python-sorted-function/"
   ]
  },
  {
   "cell_type": "markdown",
   "id": "35dae9e4-e141-4c8d-a76d-af0de9f1c831",
   "metadata": {},
   "source": [
    "## Solution"
   ]
  },
  {
   "cell_type": "code",
   "execution_count": null,
   "id": "e628240d-6e63-43ef-a25c-ab38243a5dc5",
   "metadata": {},
   "outputs": [],
   "source": [
    "lst1 = [1000, 50, 66, 101, 333, 9999, 19, 300, 200, 250]\n",
    "lst2 = sorted(lst1, key = lambda x: x%5, reverse = True)\n",
    "print(lst2)"
   ]
  },
  {
   "cell_type": "markdown",
   "id": "cfbc0155-39b4-473e-977c-2765ff98bdc8",
   "metadata": {
    "tags": []
   },
   "source": [
    "---"
   ]
  },
  {
   "cell_type": "markdown",
   "id": "1ae9c47d-e5a4-4cde-b28a-48cd5dd8ea4b",
   "metadata": {},
   "source": [
    "## Problem 16"
   ]
  },
  {
   "cell_type": "markdown",
   "id": "36dd90cc-61eb-493a-bffc-7147dd780641",
   "metadata": {},
   "source": [
    "We have a list of numbers:\n",
    "```python\n",
    "num_list = [105, 110, 115, 120, 125, 130, 135, 140, 145, 150]\n",
    "```\n",
    "Perform the following tasks:\n",
    "- print the first 5 elements.\n",
    "- print the last element.\n",
    "- print the last 5 elements."
   ]
  },
  {
   "cell_type": "markdown",
   "id": "8fadce55-a273-4960-84d1-9ee4f5c5a0fe",
   "metadata": {},
   "source": [
    "Output:\n",
    "```python\n",
    "First 5 Elements:  [105, 110, 115, 120, 125]\n",
    "Last Element:  150\n",
    "Last 5 Elements:  [130, 135, 140, 145, 150]\n",
    "```"
   ]
  },
  {
   "cell_type": "markdown",
   "id": "5b8e9443-bc22-4a10-9b75-2dfb636697e7",
   "metadata": {},
   "source": [
    "## Solution"
   ]
  },
  {
   "cell_type": "code",
   "execution_count": null,
   "id": "7af4003d-2b24-4ac9-b562-fd799af64800",
   "metadata": {},
   "outputs": [],
   "source": [
    "num_list = [105, 110, 115, 120, 125, 130, 135, 140, 145, 150]\n",
    "print('First 5 Elements: ', num_list[:5])\n",
    "print('Last Element: ', num_list[-1])\n",
    "print('Last 5 Elements: ', num_list[-5:])"
   ]
  },
  {
   "cell_type": "markdown",
   "id": "ba00ae84-095c-4ded-9511-f1cc0072f429",
   "metadata": {
    "tags": []
   },
   "source": [
    "---"
   ]
  }
 ],
 "metadata": {
  "kernelspec": {
   "display_name": "Python 3 (ipykernel)",
   "language": "python",
   "name": "python3"
  },
  "language_info": {
   "codemirror_mode": {
    "name": "ipython",
    "version": 3
   },
   "file_extension": ".py",
   "mimetype": "text/x-python",
   "name": "python",
   "nbconvert_exporter": "python",
   "pygments_lexer": "ipython3",
   "version": "3.9.7"
  }
 },
 "nbformat": 4,
 "nbformat_minor": 5
}
