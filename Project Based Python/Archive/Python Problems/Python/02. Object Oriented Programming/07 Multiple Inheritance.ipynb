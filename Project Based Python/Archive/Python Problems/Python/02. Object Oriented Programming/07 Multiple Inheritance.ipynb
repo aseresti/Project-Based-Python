{
 "cells": [
  {
   "cell_type": "markdown",
   "id": "8992c046-ef17-4e11-b00f-03e90b0e0f14",
   "metadata": {},
   "source": [
    "<img src=\"../../images/banners/python-oop.png\" width=\"600\"/>"
   ]
  },
  {
   "cell_type": "markdown",
   "id": "29b30ceb-a165-4d79-a8b4-9a6c7daac581",
   "metadata": {},
   "source": [
    "# <img src=\"../../images/logos/python.png\" width=\"23\"/> Multiple Inheritance Problems"
   ]
  },
  {
   "cell_type": "markdown",
   "id": "0da0b2a8-85aa-434e-a2ad-0d289a835209",
   "metadata": {},
   "source": [
    "## Problem 1"
   ]
  },
  {
   "cell_type": "markdown",
   "id": "6c4fb13c-c678-4db9-9701-95f9ce739517",
   "metadata": {},
   "source": [
    "We have to classes as follows:\n",
    "```python\n",
    "class Program:\n",
    "    def __init__(self, name):\n",
    "        self.name = name\n",
    "    \n",
    "    def display(self):\n",
    "        print(f'My name is: {self.name}')\n",
    "\n",
    "class Script:\n",
    "    def __init__(self, text):\n",
    "        self.text = text\n",
    "        \n",
    "    def display(self):\n",
    "        print(f'My text is: {self.text}')\n",
    "\n",
    "```\n",
    "Write third class named **Python** that inherites from both of these classes and use the implementation of them without code duplicating."
   ]
  },
  {
   "cell_type": "markdown",
   "id": "26349ed9-8064-4cc7-844d-f53254af0fce",
   "metadata": {},
   "source": [
    "Input:\n",
    "```python\n",
    "x = Python(\"Inheritance\",\"I allow code reusability.\")\n",
    "x.display()\n",
    "```\n",
    "Output:  \n",
    "Hi everyone!  \n",
    "My name is: Inheritance  \n",
    "My text is: I allow code reusability.  "
   ]
  },
  {
   "cell_type": "code",
   "execution_count": null,
   "id": "edd2ef4c-c863-47fd-82bc-122b639fc973",
   "metadata": {},
   "outputs": [],
   "source": [
    "class Program:\n",
    "    def __init__(self, name):\n",
    "        self.name = name\n",
    "    \n",
    "    def display(self):\n",
    "        print(f'My name is: {self.name}')\n",
    "\n",
    "class Script:\n",
    "    def __init__(self, text):\n",
    "        self.text = text\n",
    "        \n",
    "    def display(self):\n",
    "        print(f'My text is: {self.text}')\n",
    "        \n",
    "# Child class\n",
    "class Python(Program, Script):\n",
    "    def __init__(self, name, text):\n",
    "        Program.__init__(self, name)\n",
    "        Script.__init__(self, text)\n",
    "        \n",
    "    def display(self):\n",
    "        print('Hi everyone!')\n",
    "        Program.display(self)\n",
    "        Script.display(self)\n",
    "\n",
    "# Create object of derived class\n",
    "x = Python(\"Inheritance\",\"I allow code reusability.\")\n",
    "x.display()"
   ]
  },
  {
   "cell_type": "markdown",
   "id": "c7c0bd30-fe40-40cc-98a5-bc170d1485e2",
   "metadata": {},
   "source": [
    "---"
   ]
  },
  {
   "cell_type": "markdown",
   "id": "125ebfad-0011-406e-af25-e45363f20136",
   "metadata": {},
   "source": [
    "## Problem 2"
   ]
  },
  {
   "cell_type": "markdown",
   "id": "a2974ab2-b25b-4991-88fb-746c84026ce7",
   "metadata": {},
   "source": [
    "Create three classes as follows:\n",
    "- SumClass with `add()` method that calculates summation of two numbers\n",
    "- SubClass with `sub()` method that calculates subtraction of two numbers. \n",
    "- MulClass with `mul()` method that calculates multiplication of two numbers\n",
    "\n",
    "Write a **Calculator** class that inherites from all above classes and use their functionalities."
   ]
  },
  {
   "cell_type": "markdown",
   "id": "883916e7-e1aa-40f5-867b-321f66428e1f",
   "metadata": {},
   "source": [
    "Input:\n",
    "```python\n",
    "cal = Calculator()  \n",
    "print(cal.add(20,10))  \n",
    "print(cal.sub(20,10))  \n",
    "print(cal.mul(20,10))  \n",
    "```\n",
    "Output:  \n",
    "summation = 30  \n",
    "subtraction = 10  \n",
    "multiplication = 200  "
   ]
  },
  {
   "cell_type": "markdown",
   "id": "3de1e5d4-c64f-4e9b-b26a-f2f84e65f85f",
   "metadata": {},
   "source": [
    "## Solution"
   ]
  },
  {
   "cell_type": "code",
   "execution_count": null,
   "id": "4c15c5d4-1bd8-4683-ba08-cc4abc56dc35",
   "metadata": {},
   "outputs": [],
   "source": [
    "class SumClass:  \n",
    "    def add(self, a, b): \n",
    "        print('summation = ', end='')\n",
    "        return a + b\n",
    "    \n",
    "class SubClass:\n",
    "    def sub(self, a, b):\n",
    "        print('subtraction = ', end='')\n",
    "        return a - b\n",
    "    \n",
    "class MulClass:  \n",
    "    def mul(self, a, b):\n",
    "        print('multiplication = ', end='')\n",
    "        return a * b\n",
    "    \n",
    "class Calculator(SumClass, SubClass, MulClass):\n",
    "    pass\n",
    "#------------------------------------\n",
    "cal = Calculator()  \n",
    "print(cal.add(20,10))  \n",
    "print(cal.sub(20,10))  \n",
    "print(cal.mul(20,10))  "
   ]
  },
  {
   "cell_type": "markdown",
   "id": "7eeda769-3764-400e-a7d1-e96353f90b54",
   "metadata": {},
   "source": [
    "---"
   ]
  }
 ],
 "metadata": {
  "kernelspec": {
   "display_name": "Python 3 (ipykernel)",
   "language": "python",
   "name": "python3"
  },
  "language_info": {
   "codemirror_mode": {
    "name": "ipython",
    "version": 3
   },
   "file_extension": ".py",
   "mimetype": "text/x-python",
   "name": "python",
   "nbconvert_exporter": "python",
   "pygments_lexer": "ipython3",
   "version": "3.9.7"
  }
 },
 "nbformat": 4,
 "nbformat_minor": 5
}
