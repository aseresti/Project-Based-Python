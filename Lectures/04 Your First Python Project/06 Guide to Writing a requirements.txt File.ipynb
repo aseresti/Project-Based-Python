{
 "cells": [
  {
   "cell_type": "markdown",
   "metadata": {},
   "source": [
    "<img src=\"./images/banner.png\" width=\"800\">"
   ]
  },
  {
   "cell_type": "markdown",
   "metadata": {},
   "source": [
    "# Guide to Writing a `requirements.txt` File"
   ]
  },
  {
   "cell_type": "markdown",
   "metadata": {},
   "source": [
    "**Table of contents**<a id='toc0_'></a>    \n",
    "- [Introduction](#toc1_)    \n",
    "  - [What is a `requirements.txt` File?](#toc1_1_)    \n",
    "  - [Why is it Important?](#toc1_2_)    \n",
    "  - [Where is it Used?](#toc1_3_)    \n",
    "- [Creating a `requirements.txt` File](#toc2_)    \n",
    "  - [Manual Creation](#toc2_1_)    \n",
    "  - [Automatic Generation](#toc2_2_)    \n",
    "- [Specifying Versions](#toc3_)    \n",
    "- [Handling Different Environments](#toc4_)    \n",
    "  - [Development and Production](#toc4_1_)    \n",
    "- [Conclusion and Further Resources](#toc5_)    \n",
    "  - [Summary](#toc5_1_)    \n",
    "  - [Additional Tools](#toc5_2_)    \n",
    "  - [Further Reading](#toc5_3_)    \n",
    "\n",
    "<!-- vscode-jupyter-toc-config\n",
    "\tnumbering=false\n",
    "\tanchor=true\n",
    "\tflat=false\n",
    "\tminLevel=2\n",
    "\tmaxLevel=6\n",
    "\t/vscode-jupyter-toc-config -->\n",
    "<!-- THIS CELL WILL BE REPLACED ON TOC UPDATE. DO NOT WRITE YOUR TEXT IN THIS CELL -->"
   ]
  },
  {
   "cell_type": "markdown",
   "metadata": {},
   "source": [
    "\n",
    "## <a id='toc1_'></a>[Introduction](#toc0_)\n"
   ]
  },
  {
   "cell_type": "markdown",
   "metadata": {},
   "source": [
    "\n",
    "### <a id='toc1_1_'></a>[What is a `requirements.txt` File?](#toc0_)\n",
    "A `requirements.txt` file is a plain text file that lists all the Python packages required for a specific project. It serves as a manifest to manage and install dependencies in a consistent manner.\n"
   ]
  },
  {
   "cell_type": "markdown",
   "metadata": {},
   "source": [
    "\n",
    "### <a id='toc1_2_'></a>[Why is it Important?](#toc0_)\n",
    "- **Dependency Management**: It helps in managing project dependencies, ensuring that you and others can recreate the same environment.\n",
    "- **Collaboration**: Makes it easier for other developers to contribute to the project by installing all required packages at once.\n",
    "- **Deployment**: Simplifies the deployment process by automating the installation of dependencies.\n"
   ]
  },
  {
   "cell_type": "markdown",
   "metadata": {},
   "source": [
    "\n",
    "### <a id='toc1_3_'></a>[Where is it Used?](#toc0_)\n",
    "- **Local Development**: Used by developers to set up their local development environment.\n",
    "- **Continuous Integration**: Used in CI/CD pipelines to install dependencies before running tests.\n",
    "- **Production Deployment**: Used in production to ensure the correct packages are installed.\n",
    "\n"
   ]
  },
  {
   "cell_type": "markdown",
   "metadata": {},
   "source": [
    "## <a id='toc2_'></a>[Creating a `requirements.txt` File](#toc0_)\n"
   ]
  },
  {
   "cell_type": "markdown",
   "metadata": {},
   "source": [
    "### <a id='toc2_1_'></a>[Manual Creation](#toc0_)"
   ]
  },
  {
   "cell_type": "markdown",
   "metadata": {},
   "source": [
    "You can manually create a `requirements.txt` file by listing each package and its version. The format is as follows:\n",
    "\n",
    "```\n",
    "package-name==version-number\n",
    "```\n"
   ]
  },
  {
   "cell_type": "markdown",
   "metadata": {},
   "source": [
    "- **Example**:\n",
    "\n",
    "```\n",
    "numpy==1.21.0\n",
    "pandas==1.3.0\n",
    "```"
   ]
  },
  {
   "cell_type": "markdown",
   "metadata": {},
   "source": [
    "To install the packages from the file, run the following command:\n",
    "\n",
    "```\n",
    "pip install -r requirements.txt\n",
    "```"
   ]
  },
  {
   "cell_type": "markdown",
   "metadata": {},
   "source": [
    "### <a id='toc2_2_'></a>[Automatic Generation](#toc0_)"
   ]
  },
  {
   "cell_type": "markdown",
   "metadata": {},
   "source": [
    "Alternatively, you can automatically generate a `requirements.txt` file using the following command:\n",
    "\n",
    "```\n",
    "pip freeze > requirements.txt\n",
    "```"
   ]
  },
  {
   "cell_type": "markdown",
   "metadata": {},
   "source": [
    "This command captures all installed packages and their versions in your current Python environment, saving them into a `requirements.txt` file."
   ]
  },
  {
   "cell_type": "markdown",
   "metadata": {},
   "source": [
    "#### Drawbacks of Using `pip freeze`"
   ]
  },
  {
   "cell_type": "markdown",
   "metadata": {},
   "source": [
    "While using `pip freeze` might seem convenient, it's not the best practice, especially in a local development environment. Here's why:\n",
    "\n",
    "1. **Environment Pollution**: If you're not using a virtual environment (`virtualenv`), `pip freeze` will include packages that aren't related to your project. This can lead to unnecessary dependencies and potential conflicts.\n",
    "2. **Scope of Packages**: `pip freeze` lists all packages installed via `pip install` in your environment, regardless of their relevance to your current project."
   ]
  },
  {
   "cell_type": "markdown",
   "metadata": {},
   "source": [
    "#### A Better Alternative: `pipreqs`"
   ]
  },
  {
   "cell_type": "markdown",
   "metadata": {},
   "source": [
    "Instead of `pip freeze`, consider using `pipreqs`. It automatically generates a `requirements.txt` file based on the imports in your project, ensuring only the necessary packages are included. This approach is cleaner and more aligned with the actual needs of your project."
   ]
  },
  {
   "cell_type": "markdown",
   "metadata": {},
   "source": [
    "##### Installation"
   ]
  },
  {
   "cell_type": "markdown",
   "metadata": {},
   "source": [
    "\n",
    "Before using `pipreqs`, you need to install it. You can do so using `pip`:\n",
    "\n",
    "```bash\n",
    "pip install pipreqs\n",
    "```"
   ]
  },
  {
   "cell_type": "markdown",
   "metadata": {},
   "source": [
    "##### Generating the `requirements.txt` File"
   ]
  },
  {
   "cell_type": "markdown",
   "metadata": {},
   "source": [
    "To generate a `requirements.txt` file for your project, navigate to the root directory of your project and run:\n",
    "```bash\n",
    "pipreqs .\n",
    "```\n",
    "\n",
    "This command will scan the current directory (denoted by the `.`) and create a `requirements.txt` file in it.\n",
    "\n",
    "#### Other Useful Commands:\n",
    "\n",
    "- **Specify a different location**: If you want to generate the `requirements.txt` in a different directory, you can specify the path:\n",
    "```bash\n",
    "pipreqs /path/to/project\n",
    "```\n",
    "- **Print dependencies to stdout**: Instead of writing to a file, you can print the dependencies to the terminal:\n",
    "```bash\n",
    "pipreqs . --print\n",
    "```\n",
    "- **Force overwrite**: If a `requirements.txt` file already exists and you want to overwrite it, use the `--force` flag:\n",
    "```bash\n",
    "pipreqs . --force\n",
    "```"
   ]
  },
  {
   "cell_type": "markdown",
   "metadata": {},
   "source": [
    "##### Benefits of Using `pipreqs`"
   ]
  },
  {
   "cell_type": "markdown",
   "metadata": {},
   "source": [
    "\n",
    "1. **Project-specific Dependencies**: Only includes libraries that your project is actually using.\n",
    "\n",
    "2. **No Virtual Environment Needed**: Unlike `pip freeze`, you don't need a virtual environment to get an accurate list of dependencies.\n",
    "\n",
    "3. **Efficiency**: Helps in creating lightweight projects by avoiding unnecessary packages.\n",
    "\n",
    "By incorporating `pipreqs` into your workflow, you ensure a more streamlined and accurate dependency management for your Python projects.\n"
   ]
  },
  {
   "cell_type": "markdown",
   "metadata": {},
   "source": [
    "## <a id='toc3_'></a>[Specifying Versions](#toc0_)"
   ]
  },
  {
   "cell_type": "markdown",
   "metadata": {},
   "source": [
    "When specifying package versions in `requirements.txt`, it's essential to understand the different ways you can define version numbers to ensure compatibility and stability:\n",
    "\n",
    "- **Exact Version**: \n",
    "  - `Flask==1.1.2`: This will install Flask version 1.1.2 specifically.\n",
    "\n",
    "- **Minimum Version**:\n",
    "  - `Flask>=1.1.2`: This will install Flask version 1.1.2 or any newer version.\n",
    "\n",
    "- **Not Beyond a Version**:\n",
    "  - `Flask<=1.1.2`: This will install Flask version 1.1.2 or any older version.\n",
    "\n",
    "- **Combining Operators**:\n",
    "  - `Flask>=1.1,<2.0`: This will install Flask versions that are at least 1.1 but less than 2.0.\n",
    "\n",
    "- **Compatible Release (~=)**:\n",
    "  - `Flask~=1.1.2`: This is equivalent to `Flask>=1.1.2,==1.1.*`. It will install the latest version that is compatible with version 1.1, but not 1.2 or higher. The tilde (`~`) indicates compatibility with versions \"approximately\" matching the specified version.\n",
    "- **Exclude Specific Versions**:\n",
    "  - `Flask!=1.1.2`: This will install any version of Flask except 1.1.2.\n"
   ]
  },
  {
   "cell_type": "markdown",
   "metadata": {},
   "source": [
    "\n",
    "Understanding these version specifiers can help maintain the stability of your project while ensuring you benefit from the latest compatible features and security updates of your dependencies.\n"
   ]
  },
  {
   "cell_type": "markdown",
   "metadata": {},
   "source": [
    "## <a id='toc4_'></a>[Handling Different Environments](#toc0_)"
   ]
  },
  {
   "cell_type": "markdown",
   "metadata": {},
   "source": [
    "\n",
    "### <a id='toc4_1_'></a>[Development and Production](#toc0_)\n",
    "It's common to have different sets of requirements for development and production environments. You can create separate `requirements.txt` files for each:\n",
    "- `requirements-dev.txt` for development dependencies.\n",
    "- `requirements.txt` for production dependencies.\n",
    "\n",
    "To install from these files, you can use:\n",
    "\n",
    "```\n",
    "pip install -r requirements-dev.txt # For development\n",
    "pip install -r requirements.txt # For production\n",
    "```"
   ]
  },
  {
   "cell_type": "markdown",
   "metadata": {},
   "source": [
    "## <a id='toc5_'></a>[Conclusion and Further Resources](#toc0_)"
   ]
  },
  {
   "cell_type": "markdown",
   "metadata": {},
   "source": [
    "\n",
    "### <a id='toc5_1_'></a>[Summary](#toc0_)\n",
    "In this guide, we've covered the essentials of creating and managing a `requirements.txt` file for Python projects. Understanding how to properly specify and manage dependencies is crucial for project success and collaboration.\n"
   ]
  },
  {
   "cell_type": "markdown",
   "metadata": {},
   "source": [
    "\n",
    "### <a id='toc5_2_'></a>[Additional Tools](#toc0_)\n",
    "- **Pipenv**: A packaging tool for Python that aims to bring the best of all packaging worlds to the Python ecosystem.\n",
    "- **Poetry**: Another dependency management tool that simplifies package management and distribution.\n",
    "- **Conda**: An open-source package management system that can also handle environment management.\n"
   ]
  },
  {
   "cell_type": "markdown",
   "metadata": {},
   "source": [
    "\n",
    "### <a id='toc5_3_'></a>[Further Reading](#toc0_)\n",
    "- [Pip User Guide](https://pip.pypa.io/en/stable/user_guide/)\n",
    "- [Pipenv Documentation](https://pipenv.pypa.io/en/latest/)\n",
    "- [Poetry Documentation](https://python-poetry.org/docs/)\n",
    "- [Conda Documentation](https://docs.conda.io/en/latest/)\n",
    "\n"
   ]
  }
 ],
 "metadata": {
  "language_info": {
   "name": "python"
  },
  "orig_nbformat": 4
 },
 "nbformat": 4,
 "nbformat_minor": 2
}
