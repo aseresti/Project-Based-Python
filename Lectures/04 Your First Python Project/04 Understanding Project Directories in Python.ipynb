{
 "cells": [
  {
   "cell_type": "markdown",
   "metadata": {},
   "source": [
    "<img src=\"./images/banner.png\" width=\"800\">"
   ]
  },
  {
   "cell_type": "markdown",
   "metadata": {},
   "source": [
    "# Understanding Project Directories in Python"
   ]
  },
  {
   "cell_type": "markdown",
   "metadata": {},
   "source": [
    "**Table of contents**<a id='toc0_'></a>    \n",
    "- [Directories](#toc1_)    \n",
    "  - [`src` or `app` Directory](#toc1_1_)    \n",
    "  - [`assets` Directory](#toc1_2_)    \n",
    "  - [`utils` Directory](#toc1_3_)    \n",
    "  - [`tests` Directory](#toc1_4_)    \n",
    "  - [`docs` Directory](#toc1_5_)    \n",
    "  - [`config` Directory](#toc1_6_)    \n",
    "  - [`scripts` Directory](#toc1_7_)    \n",
    "  - [`data` Directory](#toc1_8_)    \n",
    "  - [`migrations` Directory (for web apps)](#toc1_9_)    \n",
    "  - [`public` or `static` Directory (for web apps)](#toc1_10_)    \n",
    "  - [`templates` Directory (for web apps)](#toc1_11_)    \n",
    "- [Best Practices](#toc2_)    \n",
    "- [Conclusion and Further Resources](#toc3_)    \n",
    "\n",
    "<!-- vscode-jupyter-toc-config\n",
    "\tnumbering=false\n",
    "\tanchor=true\n",
    "\tflat=false\n",
    "\tminLevel=2\n",
    "\tmaxLevel=6\n",
    "\t/vscode-jupyter-toc-config -->\n",
    "<!-- THIS CELL WILL BE REPLACED ON TOC UPDATE. DO NOT WRITE YOUR TEXT IN THIS CELL -->"
   ]
  },
  {
   "cell_type": "markdown",
   "metadata": {},
   "source": [
    "Organizing your Python project effectively is crucial for its success and maintainability. A well-structured directory layout not only enables efficient collaboration among team members but also simplifies the build and deployment processes. This lecture aims to provide a comprehensive understanding of how to organize various directories in a Python project. We will delve into the purpose and contents of commonly used directories such as `src`, `assets`, `utils`, `tests`, and `docs`. By the end of this lecture, you will have a solid grasp of how to structure your Python projects in a way that is both functional and scalable.\n"
   ]
  },
  {
   "cell_type": "markdown",
   "metadata": {},
   "source": [
    "## <a id='toc1_'></a>[Directories](#toc0_)"
   ]
  },
  {
   "cell_type": "markdown",
   "metadata": {},
   "source": [
    "### <a id='toc1_1_'></a>[`src` or `app` Directory](#toc0_)\n",
    "\n",
    "- **Purpose**: Houses the main application code.\n",
    "- **What Goes Inside**: Core logic, models, and application-specific modules.\n"
   ]
  },
  {
   "cell_type": "markdown",
   "metadata": {},
   "source": [
    "### <a id='toc1_2_'></a>[`assets` Directory](#toc0_)\n",
    "\n",
    "- **Purpose**: Contains static files like images, CSS, and JavaScript.\n",
    "- **Types of Assets**: Media files, stylesheets, and client-side scripts.\n"
   ]
  },
  {
   "cell_type": "markdown",
   "metadata": {},
   "source": [
    "### <a id='toc1_3_'></a>[`utils` Directory](#toc0_)\n",
    "\n",
    "- **Purpose**: Contains utility functions and classes that are used across the project.\n",
    "- **Common Utilities**: Date formatting, file handling, and custom exceptions.\n"
   ]
  },
  {
   "cell_type": "markdown",
   "metadata": {},
   "source": [
    "### <a id='toc1_4_'></a>[`tests` Directory](#toc0_)\n",
    "\n",
    "- **Purpose**: Contains unit tests, integration tests, and end-to-end tests.\n",
    "- **Types of Tests**: Unit tests, integration tests, and UI tests.\n"
   ]
  },
  {
   "cell_type": "markdown",
   "metadata": {},
   "source": [
    "### <a id='toc1_5_'></a>[`docs` Directory](#toc0_)\n",
    "\n",
    "- **Purpose**: Contains project documentation.\n",
    "- **Documentation Tools**: Sphinx, Doxygen, or simple Markdown files.\n"
   ]
  },
  {
   "cell_type": "markdown",
   "metadata": {},
   "source": [
    "### <a id='toc1_6_'></a>[`config` Directory](#toc0_)\n",
    "\n",
    "- **Purpose**: Houses configuration files like `.env` or `settings.py`.\n",
    "- **Configuration Files**: Database settings, API keys, and environment-specific settings.\n"
   ]
  },
  {
   "cell_type": "markdown",
   "metadata": {},
   "source": [
    "### <a id='toc1_7_'></a>[`scripts` Directory](#toc0_)\n",
    "\n",
    "- **Purpose**: Contains build scripts, data migration scripts, and other automation scripts.\n",
    "- **Types of Scripts**: Database migration, build automation, and data seeding.\n"
   ]
  },
  {
   "cell_type": "markdown",
   "metadata": {},
   "source": [
    "### <a id='toc1_8_'></a>[`data` Directory](#toc0_)\n",
    "\n",
    "- **Purpose**: Contains data files like CSV, JSON, or XML.\n",
    "- **Data Files**: Sample data, test data, and configuration data.\n"
   ]
  },
  {
   "cell_type": "markdown",
   "metadata": {},
   "source": [
    "### <a id='toc1_9_'></a>[`migrations` Directory (for web apps)](#toc0_)\n",
    "\n",
    "- **Purpose**: Contains database migration files.\n",
    "- **Database Migrations**: Schema changes and data migrations.\n"
   ]
  },
  {
   "cell_type": "markdown",
   "metadata": {},
   "source": [
    "### <a id='toc1_10_'></a>[`public` or `static` Directory (for web apps)](#toc0_)\n",
    "\n",
    "- **Purpose**: Houses publicly accessible files.\n",
    "- **Static Files**: Public images, CSS, and JavaScript files.\n"
   ]
  },
  {
   "cell_type": "markdown",
   "metadata": {},
   "source": [
    "### <a id='toc1_11_'></a>[`templates` Directory (for web apps)](#toc0_)\n",
    "\n",
    "- **Purpose**: Contains HTML templates.\n",
    "- **HTML Templates**: Jinja2 templates, Django templates, or other templating files.\n"
   ]
  },
  {
   "cell_type": "markdown",
   "metadata": {},
   "source": [
    "\n",
    "## <a id='toc2_'></a>[Best Practices](#toc0_)\n",
    "\n",
    "- **Naming Conventions**: Stick to lowercase and use underscores for directory names.\n",
    "- **Directory Depth**: Avoid deeply nested directories; keep it simple.\n"
   ]
  }
 ],
 "metadata": {
  "language_info": {
   "name": "python"
  },
  "orig_nbformat": 4
 },
 "nbformat": 4,
 "nbformat_minor": 2
}
