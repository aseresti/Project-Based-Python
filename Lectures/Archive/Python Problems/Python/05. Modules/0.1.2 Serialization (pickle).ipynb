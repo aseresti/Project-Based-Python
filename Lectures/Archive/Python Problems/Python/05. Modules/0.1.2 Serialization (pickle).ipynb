{
 "cells": [
  {
   "cell_type": "markdown",
   "id": "ac7ca524-a85d-4861-83e2-d3d6abff2f80",
   "metadata": {},
   "source": [
    "<img src=\"../../images/banners/python-modules.png\" width=\"600\"/>"
   ]
  },
  {
   "cell_type": "markdown",
   "id": "e8450b37-0caf-4b92-8f50-b83f82755a13",
   "metadata": {},
   "source": [
    "# <img src=\"../../images/logos/python.png\" width=\"23\"/> `Pickle` Problems\n"
   ]
  },
  {
   "cell_type": "markdown",
   "id": "0ce7537f-a06f-47f4-b98f-4660052127ad",
   "metadata": {},
   "source": [
    "## Problem 1"
   ]
  },
  {
   "cell_type": "markdown",
   "id": "2e960196-35ff-4db8-b157-f0333592dddb",
   "metadata": {},
   "source": [
    "Consider a Python dictionary as below:\n",
    "```python\n",
    "students = {\n",
    "  'Student 1': {\n",
    "        'Name': \"Alice\", 'Age' :10, 'Grade':4,\n",
    "    },\n",
    "   \n",
    "    'Student 2': {\n",
    "        'Name':'Bob', 'Age':11, 'Grade':5\n",
    "    },\n",
    "   \n",
    "    'Student 3': {\n",
    "        'Name':'Elena', 'Age':14, 'Grade':8\n",
    "    }\n",
    "}\n",
    "```"
   ]
  },
  {
   "cell_type": "markdown",
   "id": "2ca2c3be-b732-4f25-b9e0-da1afa6bd78c",
   "metadata": {},
   "source": [
    "Dump it to a `pickle` file and then load it to show serialization is done correctly."
   ]
  },
  {
   "cell_type": "markdown",
   "id": "155e7c01-4ced-4335-abc2-3f725cf633ea",
   "metadata": {},
   "source": [
    "## Solution"
   ]
  },
  {
   "cell_type": "code",
   "execution_count": null,
   "id": "fbc8cc63-7c18-4533-bed7-8d8349ad5808",
   "metadata": {},
   "outputs": [],
   "source": [
    "import pickle\n",
    "\n",
    "students = {\n",
    "  'Student 1': {\n",
    "        'Name': \"Alice\", 'Age' :10, 'Grade':4,\n",
    "    },\n",
    "   \n",
    "    'Student 2': {\n",
    "        'Name':'Bob', 'Age':11, 'Grade':5\n",
    "    },\n",
    "   \n",
    "    'Student 3': {\n",
    "        'Name':'Elena', 'Age':14, 'Grade':8\n",
    "    }\n",
    "}\n",
    "\n",
    "with open(\"data/pickle-p1.pkl\", \"wb\") as f:\n",
    "    pickle.dump(students, f)\n",
    "\n",
    "# deserialize the dictionary and print it out\n",
    "with open(\"data/pickle-p1.pkl\", \"rb\") as f:\n",
    "    deserialized_dict = pickle.load(f)\n",
    "    print(deserialized_dict)"
   ]
  },
  {
   "cell_type": "markdown",
   "id": "0a70417d-ae6e-4646-8a70-6973dc94e14e",
   "metadata": {},
   "source": [
    "## Problem 2"
   ]
  },
  {
   "cell_type": "markdown",
   "id": "22067a55-cc13-404d-baaf-8cd683141628",
   "metadata": {},
   "source": [
    "Write a `Mixed` class that contains several python objects such as: **int**, **str**, **list**, **tuple** and **dictioary**.  \n",
    "Instansiate this class and dump the object to a string. Then load it to show serialization is done correctly."
   ]
  },
  {
   "cell_type": "markdown",
   "id": "2561b5dd-9d92-4207-9251-4789be4b4da1",
   "metadata": {},
   "source": [
    "## Solution"
   ]
  },
  {
   "cell_type": "code",
   "execution_count": null,
   "id": "22834ac4-503f-46bc-b39a-fa16ac858ca1",
   "metadata": {},
   "outputs": [],
   "source": [
    "import pickle  \n",
    "  \n",
    "class Mixed:  \n",
    "    the_number = 25  \n",
    "    the_string = \"hello\"  \n",
    "    the_list = [1, 2, 3]  \n",
    "    the_dict = {\"first\": \"a\", \"second\": 2, \"third\": [1, 2, 3]}  \n",
    "    the_tuple = (22, 23)  \n",
    "\n",
    "#---------------------------------------\n",
    "mixed_object = Mixed()  \n",
    "# Dump to string \n",
    "pickled_object = pickle.dumps(mixed_object)  \n",
    "print(f\"This is the pickled object: \\n {pickled_object} \\n \" )  \n",
    "\n",
    "# load from string\n",
    "unpickled_object = pickle.loads(pickled_object)\n",
    "print(\"This is the_dict of the unpickled object:\") \n",
    "print(unpickled_object.the_dict) "
   ]
  },
  {
   "cell_type": "markdown",
   "id": "6725b193-d3bb-4506-a31b-9b61dc1d9ce6",
   "metadata": {},
   "source": [
    "---"
   ]
  }
 ],
 "metadata": {
  "kernelspec": {
   "display_name": "Python 3 (ipykernel)",
   "language": "python",
   "name": "python3"
  },
  "language_info": {
   "codemirror_mode": {
    "name": "ipython",
    "version": 3
   },
   "file_extension": ".py",
   "mimetype": "text/x-python",
   "name": "python",
   "nbconvert_exporter": "python",
   "pygments_lexer": "ipython3",
   "version": "3.9.7"
  }
 },
 "nbformat": 4,
 "nbformat_minor": 5
}
