{
 "cells": [
  {
   "cell_type": "markdown",
   "id": "48db4932-e863-4ad4-9114-5a2d1cb97685",
   "metadata": {},
   "source": [
    "<img src=\"../../images/banners/python-modules.png\" width=\"600\"/>"
   ]
  },
  {
   "cell_type": "markdown",
   "id": "1776c560-e655-409d-a9b7-edfb9b1bb869",
   "metadata": {},
   "source": [
    "# <img src=\"../../images/logos/python.png\" width=\"23\"/> `JSON` Problems\n"
   ]
  },
  {
   "cell_type": "markdown",
   "id": "adb6283c-e3e5-4239-bf3c-a539fffe7551",
   "metadata": {},
   "source": [
    "## Problem 1"
   ]
  },
  {
   "cell_type": "markdown",
   "id": "0dde976c-f696-412c-8b5b-9dd3f00c8938",
   "metadata": {},
   "source": [
    "Create a `JSON` file that have several dictionaries, each representing a record (row) from the `CSV` file, with the Key as the column specified.  \n",
    "For example the csv file could be like image below:\n",
    "\n",
    "<img src='data/json-p1.png' width=500>"
   ]
  },
  {
   "cell_type": "markdown",
   "id": "2d5da055-c8e0-4bcf-a91d-cd273b5cf632",
   "metadata": {},
   "source": [
    "The result should look like below:\n",
    "```python\n",
    "{\n",
    "    \"1\": {\n",
    "        \"Company\": \"Ferrari\",\n",
    "        \"Car Model\": \"488 GTB\"\n",
    "    },\n",
    "    \"2\": {\n",
    "        \"Company\": \"Porsche\",\n",
    "        \"Car Model\": \"918 Spyder\"\n",
    "    },\n",
    "    \"3\": {\n",
    "        \"Company\": \"Bugatti\",\n",
    "        \"Car Model\": \"La Voiture Noire\"\n",
    "    },\n",
    "    \"4\": {\n",
    "        \"Company\": \"Rolls Royce\",\n",
    "        \"Car Model\": \"Phantom\"\n",
    "    },\n",
    "    \"5\": {\n",
    "        \"Company\": \"NMW\",\n",
    "        \"Car Model\": \"NMW X7\"\n",
    "    }\n",
    "}\n",
    "```"
   ]
  },
  {
   "cell_type": "markdown",
   "id": "d921060f-4eb2-4ebd-9052-ffa6920e3094",
   "metadata": {},
   "source": [
    "## Solution"
   ]
  },
  {
   "cell_type": "code",
   "execution_count": null,
   "id": "4b1c37fc-1980-4fdc-b653-ea26cf87426f",
   "metadata": {},
   "outputs": [],
   "source": [
    "import csv\n",
    "import json\n",
    "\n",
    "# Function to convert a CSV to JSON\n",
    "# Takes the file paths as arguments\n",
    "def make_json(csv_file_path, json_file_path):\n",
    "\n",
    "    # create a dictionary\n",
    "    data = {}\n",
    "\n",
    "    # Open a csv reader called DictReader\n",
    "    with open(csv_file_path, encoding='utf-8') as csvf:\n",
    "        csv_reader = csv.DictReader(csvf)\n",
    "        \n",
    "        # Convert each row into a dictionary and add it to data\n",
    "        for row in csv_reader:\n",
    "\n",
    "            # Assuming a column named 'No' to be the primary key      \n",
    "            key = row['No']\n",
    "            data[key] = {k:v for k,v in row.items() if k != 'No'}\n",
    "\n",
    "    # Open a json writer, and use the json.dumps()\n",
    "    with open(json_file_path, 'w', encoding='utf-8') as jsonf:\n",
    "        json.dump(data, jsonf, indent=4)\n",
    "        \n",
    "#--------------------------------------------------------------\n",
    "# Decide the two file paths according to your computer system\n",
    "csv_file_path = 'data/json-p1.csv'\n",
    "json_file_path = 'data/json-p1-result.json'\n",
    "make_json(csv_file_path, json_file_path)"
   ]
  },
  {
   "cell_type": "markdown",
   "id": "d28913eb-81bd-4252-8d9f-d9f40a105125",
   "metadata": {},
   "source": [
    "---"
   ]
  },
  {
   "cell_type": "markdown",
   "id": "47babd15-4426-4cde-a715-742a988f66f4",
   "metadata": {},
   "source": [
    "## Problem 2"
   ]
  },
  {
   "cell_type": "markdown",
   "id": "e7aac035-45d2-4983-a284-54a50f89c31f",
   "metadata": {},
   "source": [
    "Convert JSON data into a **custom object** in Python. Use `object_hook` parameter in json.loads() method.\n",
    "\n",
    "The object_hook parameter is used so that, when we execute json.loads(), the return value of object_hook will be used instead of the default dict value.\n",
    "\n",
    "For encoding, use `namedtuple` from **collections** module."
   ]
  },
  {
   "cell_type": "markdown",
   "id": "99a9ec7f-babe-4b9f-bbf8-eed6283c27d1",
   "metadata": {},
   "source": [
    "Convert the json data below to a python object that we can access the elements using keys."
   ]
  },
  {
   "cell_type": "markdown",
   "id": "23418024-1901-4a8f-ade9-54c0177d33cc",
   "metadata": {},
   "source": [
    "input:\n",
    "```python\n",
    "json_data = '{\"name\" : \"Ali\", \"id\" : \"001\", \"location\" : \"Tehran\"}'\n",
    "```\n",
    "output:\n",
    "```python\n",
    ">>> print(decoded_data.name, decoded_data.id, decoded_data.location)\n",
    "Ali '001' Tehran\n",
    "```"
   ]
  },
  {
   "cell_type": "markdown",
   "id": "91388d49-2413-413c-bddc-f3a2234625c7",
   "metadata": {},
   "source": [
    "## Solution"
   ]
  },
  {
   "cell_type": "code",
   "execution_count": null,
   "id": "3f771bb8-2607-408a-838d-d9f63e497776",
   "metadata": {},
   "outputs": [],
   "source": [
    "import json\n",
    "from collections import namedtuple\n",
    "\n",
    "json_data = '{\"name\" : \"Ali\", \"id\" : \"001\", \"location\" : \"Tehran\"}'\n",
    "\n",
    "# customDecoder function\n",
    "def custom_decoder(json_data):\n",
    "    return namedtuple('converted', json_data.keys())(*json_data.values())\n",
    "\n",
    "decoded_data = json.loads(json_data, object_hook = custom_decoder)\n",
    " \n",
    "# accessing the JSON data as an object\n",
    "print(decoded_data)\n",
    "print(decoded_data.name, decoded_data.id, decoded_data.location)"
   ]
  },
  {
   "cell_type": "markdown",
   "id": "08c4b345-3abc-4a48-aab6-e060e198bcbd",
   "metadata": {},
   "source": [
    "---"
   ]
  },
  {
   "cell_type": "markdown",
   "id": "ecd0c816-2ff6-4a9f-9b4b-0ae0a5e20c84",
   "metadata": {},
   "source": [
    "## Problem 3"
   ]
  },
  {
   "cell_type": "markdown",
   "id": "9d1303dd-ea5c-4c88-957d-dfe2133e8cef",
   "metadata": {},
   "source": [
    "Write a custom class for example a **Car** class with *brand*, *name* and *batch* attributes.  \n",
    "Create objects from this class and convert them to JSON in Python."
   ]
  },
  {
   "cell_type": "markdown",
   "id": "ddd4f1ba-272d-493b-8ac4-03dffd039ed7",
   "metadata": {},
   "source": [
    "`Hint` : Every custom user defined Python object has an attribute which is denoted by `__dict__` and this stores the object’s attributes."
   ]
  },
  {
   "cell_type": "markdown",
   "id": "3b30f828-089f-4787-8760-a3f904b60a9b",
   "metadata": {},
   "source": [
    "example output:\n",
    "```python\n",
    "{\"brand\": \"Honda\", \"name\": \"city\", \"batch\": \"2005\"}\n",
    "{\"brand\": \"Honda\", \"name\": \"Amaze\", \"batch\": \"2011\"}\n",
    "```"
   ]
  },
  {
   "cell_type": "markdown",
   "id": "aa87a31a-488b-4f8b-9bd3-1421620da1a8",
   "metadata": {},
   "source": [
    "## Solution"
   ]
  },
  {
   "cell_type": "code",
   "execution_count": null,
   "id": "03975956-9361-4c4f-b457-aa7f7ddc7edc",
   "metadata": {},
   "outputs": [],
   "source": [
    "import json\n",
    "\n",
    "# custom class\n",
    "class Car:\n",
    "    def __init__(self, brand, name, batch):\n",
    "        self.brand = brand\n",
    "        self.name = name\n",
    "        self.batch = batch\n",
    "\n",
    "#------------------------------------------\n",
    "# create two new car objects\n",
    "car1 = Car(\"Honda\", \"city\", \"2005\")\n",
    "car2 = Car(\"Honda\", \"Amaze\", \"2011\")\n",
    "\n",
    "# convert to JSON format\n",
    "jsonstr1 = json.dumps(car1.__dict__)\n",
    "jsonstr2 = json.dumps(car2.__dict__)\n",
    "\n",
    "# print created JSON objects\n",
    "print(jsonstr1)\n",
    "print(jsonstr2)"
   ]
  },
  {
   "cell_type": "markdown",
   "id": "4e7c65c4-0834-4610-a316-2205b29b8585",
   "metadata": {},
   "source": [
    "---"
   ]
  },
  {
   "cell_type": "markdown",
   "id": "68032c3f-604c-4b07-b4b8-2e4b7fe90145",
   "metadata": {},
   "source": [
    "## Problem 4"
   ]
  },
  {
   "cell_type": "markdown",
   "id": "7d6a28ac-6e21-49fb-875c-4c89a987c51c",
   "metadata": {},
   "source": [
    "Consider the following text file which is an employee record containing 4 rows.  \n",
    "The columns are 'name', 'designation', 'age' and 'salary'"
   ]
  },
  {
   "cell_type": "markdown",
   "id": "9cf3eb8c-3922-4510-8547-c41e9210324b",
   "metadata": {},
   "source": [
    "<img src='data/json-p4.png' width=400>"
   ]
  },
  {
   "cell_type": "markdown",
   "id": "6e68bae6-af3f-4b1a-858f-4fee03249a2f",
   "metadata": {},
   "source": [
    "Convert this text file to a `json` file. Result should looks like below:\n",
    "\n",
    "<img src='data/json-p4-result.png' width=400>"
   ]
  },
  {
   "cell_type": "markdown",
   "id": "b75ed54f-9bba-430c-a8e0-a5f40b0cc1b3",
   "metadata": {},
   "source": [
    "## Solution"
   ]
  },
  {
   "cell_type": "code",
   "execution_count": null,
   "id": "0be41e6d-7a8a-46c9-9822-5d979b5d6d6f",
   "metadata": {},
   "outputs": [],
   "source": [
    "# Python program to convert text\n",
    "# file to JSON\n",
    "import json\n",
    "filename = 'data/json-p4.txt'\n",
    " \n",
    "# resultant dictionary\n",
    "dict1 = {}\n",
    " \n",
    "# fields in the sample file\n",
    "fields =['name', 'designation', 'age', 'salary']\n",
    "\n",
    "with open(filename) as fh:    \n",
    "    # count variable for employee id creation\n",
    "    l = 1\n",
    "     \n",
    "    for line in fh:\n",
    "         \n",
    "        # reading line by line from the text file\n",
    "        description = list(line.strip().split(None, 4))\n",
    "         \n",
    "        # for automatic creation of id for each employee\n",
    "        sno ='emp'+str(l)\n",
    "     \n",
    "        # loop variable\n",
    "        i = 0\n",
    "        # intermediate dictionary\n",
    "        dict2 = {}\n",
    "        while i<len(fields):\n",
    "             \n",
    "                # creating dictionary for each employee\n",
    "                dict2[fields[i]]= description[i]\n",
    "                i = i + 1\n",
    "                 \n",
    "        # appending the record of each employee to\n",
    "        # the main dictionary\n",
    "        dict1[sno]= dict2\n",
    "        l = l + 1\n",
    "\n",
    "# creating json file   \n",
    "with open('data/json-p4-result.json', 'w') as f:\n",
    "    json.dump(dict1, f, indent = 4)"
   ]
  },
  {
   "cell_type": "markdown",
   "id": "d10961bb-f2b0-4445-baf1-1789b1e4986c",
   "metadata": {},
   "source": [
    "---"
   ]
  }
 ],
 "metadata": {
  "kernelspec": {
   "display_name": "Python 3 (ipykernel)",
   "language": "python",
   "name": "python3"
  },
  "language_info": {
   "codemirror_mode": {
    "name": "ipython",
    "version": 3
   },
   "file_extension": ".py",
   "mimetype": "text/x-python",
   "name": "python",
   "nbconvert_exporter": "python",
   "pygments_lexer": "ipython3",
   "version": "3.9.7"
  }
 },
 "nbformat": 4,
 "nbformat_minor": 5
}
