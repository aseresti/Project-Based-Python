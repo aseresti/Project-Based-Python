{
 "cells": [
  {
   "cell_type": "markdown",
   "id": "fbf7008b-33ae-4653-b6d9-a634e96c21a3",
   "metadata": {
    "tags": []
   },
   "source": [
    "<img src=\"../../images/banners/python-modules.png\" width=\"600\"/>"
   ]
  },
  {
   "cell_type": "markdown",
   "id": "7d57000b-2af9-4b71-93d3-e2149397a757",
   "metadata": {
    "tags": []
   },
   "source": [
    "# <img src=\"../../images/logos/python.png\" width=\"23\"/> `re`"
   ]
  },
  {
   "cell_type": "markdown",
   "id": "91cc23db-2941-4173-83a2-9525f1269f72",
   "metadata": {
    "tags": []
   },
   "source": [
    "## Problem 1"
   ]
  },
  {
   "cell_type": "markdown",
   "id": "3a3f68cf-e512-469d-a385-a816bec15a41",
   "metadata": {},
   "source": [
    "A website requires the users to input username and password to register. Write a program to check the validity of password input by users.\n",
    "Following are the criteria for checking the password:\n",
    "1. At least 1 letter between [a-z]  \n",
    "2. At least 1 number between [0-9]  \n",
    "1. At least 1 letter between [A-Z]  \n",
    "3. At least 1 character from [$#@]  \n",
    "4. Minimum length of transaction password: 6\n",
    "5. Maximum length of transaction password: 12"
   ]
  },
  {
   "cell_type": "markdown",
   "id": "5d735b47-934a-4cfb-bd5d-c70e4275d657",
   "metadata": {},
   "source": [
    "Example:  \n",
    "ABd1234@1   \n",
    "is acceptable  \n",
    "\n",
    "Example:  \n",
    "2We3345  \n",
    "At least 1 character from [$#@] required.   \n",
    "2We3345 is not acceptable"
   ]
  },
  {
   "cell_type": "markdown",
   "id": "e7347449-5beb-4b4e-bccc-750c734d6102",
   "metadata": {},
   "source": [
    "Source link:  \n",
    "https://gist.github.com/KirosG/f265f136bd97bd669632fa0f2f2721b4"
   ]
  },
  {
   "cell_type": "markdown",
   "id": "71fa8ef7-79e0-4a6b-af17-242cd50f18f4",
   "metadata": {},
   "source": [
    "## Solution"
   ]
  },
  {
   "cell_type": "code",
   "execution_count": null,
   "id": "7dc41e42-664d-422d-9045-59105de49298",
   "metadata": {},
   "outputs": [],
   "source": [
    "import re\n",
    "is_accept = True\n",
    "p = input('Enter your password:')\n",
    "\n",
    "if len(p)<6 or len(p)>12:\n",
    "    is_accept = False\n",
    "    print('password length error.')\n",
    "    \n",
    "if not re.search(\"[a-z]\",p):\n",
    "    is_accept = False\n",
    "    print('At least 1 letter between [a-z] required.')\n",
    "    \n",
    "if not re.search(\"[0-9]\",p):\n",
    "    is_accept = False\n",
    "    print('At least 1 number between [0-9] required.')\n",
    "    \n",
    "if not re.search(\"[A-Z]\",p):\n",
    "    is_accept = False\n",
    "    print('At least 1 letter between [A-Z] required.')\n",
    "    \n",
    "if not re.search(\"[$#@]\",p):\n",
    "    is_accept = False\n",
    "    print('At least 1 character from [$#@] required.')\n",
    "    \n",
    "if is_accept:\n",
    "    print(p, 'is acceptable')\n",
    "else:\n",
    "    print(p, 'is not acceptable')"
   ]
  },
  {
   "cell_type": "markdown",
   "id": "a83c463c-bd4a-4ac2-9e7c-e07048fa073f",
   "metadata": {},
   "source": [
    "---"
   ]
  }
 ],
 "metadata": {
  "kernelspec": {
   "display_name": "Python 3 (ipykernel)",
   "language": "python",
   "name": "python3"
  },
  "language_info": {
   "codemirror_mode": {
    "name": "ipython",
    "version": 3
   },
   "file_extension": ".py",
   "mimetype": "text/x-python",
   "name": "python",
   "nbconvert_exporter": "python",
   "pygments_lexer": "ipython3",
   "version": "3.9.7"
  }
 },
 "nbformat": 4,
 "nbformat_minor": 5
}
