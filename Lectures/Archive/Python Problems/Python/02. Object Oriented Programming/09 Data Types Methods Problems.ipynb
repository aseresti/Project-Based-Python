{
 "cells": [
  {
   "cell_type": "markdown",
   "id": "467ead9f-9c7d-4914-8183-b8f70aee26cd",
   "metadata": {},
   "source": [
    "<img src=\"../../images/banners/python-oop.png\" width=\"600\"/>"
   ]
  },
  {
   "cell_type": "markdown",
   "id": "88326c9e-67f5-459b-a604-51c89f789ac2",
   "metadata": {},
   "source": [
    "# <img src=\"../../images/logos/python.png\" width=\"23\"/> Data Types Methods Problems\n"
   ]
  },
  {
   "cell_type": "markdown",
   "id": "6149cfb6-51bf-4fda-bee5-d04c34e055c1",
   "metadata": {},
   "source": [
    "## Problem 1"
   ]
  },
  {
   "cell_type": "markdown",
   "id": "f7692906-29a6-4d24-a13b-f6f8ac89ed36",
   "metadata": {},
   "source": [
    "Write a Python program that accepts a sequence of comma-separated numbers from the user and generates a list and a tuple of those numbers."
   ]
  },
  {
   "cell_type": "markdown",
   "id": "688f9c68-c434-428f-9186-719e7f1b7520",
   "metadata": {},
   "source": [
    "Sample data : 3, 5, 7, 23"
   ]
  },
  {
   "cell_type": "markdown",
   "id": "7fcd2ed2-3c35-49ff-a5c3-e7868c336edb",
   "metadata": {},
   "source": [
    "Output : <br>\n",
    "List : ['3', ' 5', ' 7', ' 23'] <br>\n",
    "Tuple : ('3', ' 5', ' 7', ' 23')"
   ]
  },
  {
   "cell_type": "markdown",
   "id": "8aaf808c-bb88-41b0-8d9f-8b6d4dffc993",
   "metadata": {},
   "source": [
    "## Solution:"
   ]
  },
  {
   "cell_type": "code",
   "execution_count": null,
   "id": "ebfabb1f-0a14-4c9b-a339-c4f952bf5c1a",
   "metadata": {},
   "outputs": [],
   "source": [
    "values = input(\"Input some comma seprated numbers : \")\n",
    "list = values.split(\",\")\n",
    "tuple = tuple(list)\n",
    "print('List : ',list)\n",
    "print('Tuple : ',tuple)"
   ]
  },
  {
   "cell_type": "markdown",
   "id": "145281e8-109c-453f-a378-577833e6f23e",
   "metadata": {},
   "source": [
    "***"
   ]
  },
  {
   "cell_type": "markdown",
   "id": "5599b2be-d252-4db5-9357-7a3f375c236a",
   "metadata": {},
   "source": [
    "## Problem 2"
   ]
  },
  {
   "cell_type": "markdown",
   "id": "3474b352-a711-4fcd-a162-10d8d17e1120",
   "metadata": {},
   "source": [
    "Write a Python program that accepts a filename from the user and prints the extension of the file"
   ]
  },
  {
   "cell_type": "markdown",
   "id": "a8a33f2d-7975-46a8-a346-42c2fe3cdeaa",
   "metadata": {},
   "source": [
    "Sample filename : main.py"
   ]
  },
  {
   "cell_type": "markdown",
   "id": "c6374c23-176d-4583-b650-7052e49cc9d6",
   "metadata": {},
   "source": [
    "Output : py"
   ]
  },
  {
   "cell_type": "markdown",
   "id": "fe04296b-c53f-4c2a-a379-a2df08844e9c",
   "metadata": {},
   "source": [
    "## Solution: "
   ]
  },
  {
   "cell_type": "code",
   "execution_count": null,
   "id": "685fb032-f3b3-4ae3-80c5-7071e9632323",
   "metadata": {},
   "outputs": [],
   "source": [
    "filename = input(\"Input the Filename: \")\n",
    "f_extns = filename.split(\".\")\n",
    "print (\"The extension of the file is : \" + f_extns[-1])"
   ]
  },
  {
   "cell_type": "markdown",
   "id": "3cf8940d-eed5-4e5b-9ff4-f8e7ac9a46df",
   "metadata": {},
   "source": [
    "***"
   ]
  },
  {
   "cell_type": "markdown",
   "id": "0ede3a18-6275-4820-8e69-d3036d22a831",
   "metadata": {},
   "source": [
    "## Problem 3"
   ]
  },
  {
   "cell_type": "markdown",
   "id": "b364ec53-74a9-4b13-8514-03136a2753c3",
   "metadata": {},
   "source": [
    "Write a Python program that prints out all colors from color_list_1 that are not present in color_list_2."
   ]
  },
  {
   "cell_type": "markdown",
   "id": "7bcc05f2-5348-4bd9-b76e-5ba95674ac28",
   "metadata": {},
   "source": [
    "Test Data :<br>\n",
    "```python\n",
    "color_list_1 = { \"White\", \"Black\", \"Red\" } <br>\n",
    "color_list_2 = { \"Red\", \"Green\" }\n",
    "```"
   ]
  },
  {
   "cell_type": "markdown",
   "id": "adf0649d-55cf-43a2-a2f5-65c8eccdc561",
   "metadata": {},
   "source": [
    "Output:\n",
    "```python\n",
    "{'Black', 'White'}\n",
    "```"
   ]
  },
  {
   "cell_type": "markdown",
   "id": "2c6d5158-a509-4137-862c-e4da97185b26",
   "metadata": {},
   "source": [
    "## Solution: "
   ]
  },
  {
   "cell_type": "code",
   "execution_count": null,
   "id": "bf3dde62-e98c-422d-9bb7-01f2f4351028",
   "metadata": {},
   "outputs": [],
   "source": [
    "color_list_1 = {\"White\", \"Black\", \"Red\"}\n",
    "color_list_2 = {\"Red\", \"Green\"}\n",
    "print(\"Original set elements:\")\n",
    "print(color_list_1)\n",
    "print(color_list_2)\n",
    "print(\"\\nDifferenct of color_list_1 and color_list_2:\")\n",
    "print(color_list_1.difference(color_list_2))\n",
    "print(\"\\nDifferenct of color_list_2 and color_list_1:\")\n",
    "print(color_list_2.difference(color_list_1))"
   ]
  },
  {
   "cell_type": "markdown",
   "id": "8db87885-1c6a-4d15-a202-2887dfab1fc9",
   "metadata": {},
   "source": [
    "***"
   ]
  },
  {
   "cell_type": "markdown",
   "id": "27b05edc-fbd7-48ba-9402-411a6b55e5ae",
   "metadata": {},
   "source": [
    "## Problem 4"
   ]
  },
  {
   "cell_type": "markdown",
   "id": "14bfbb67-b50d-4ecb-9cfb-e39c8846f0b4",
   "metadata": {},
   "source": [
    "Write a Python program that takes a string and do the following preprocesses on it.\n",
    "1. Check if the string contains only lowercase or uppercase characters.\n",
    "2. Convert the letters of the string (same case-upper/lower) into alphabetical order.\n",
    "3. Remove all vowels from a given string.\n",
    "4. Alternates the case of each letter in the string."
   ]
  },
  {
   "cell_type": "markdown",
   "id": "1953751f-8480-4f1d-a7ee-8fa89d2daf47",
   "metadata": {},
   "source": [
    "<b>Hint:</b> in alphabetical order lowercase letters follows uppercase ones."
   ]
  },
  {
   "cell_type": "markdown",
   "id": "773ee0aa-1e22-4bf2-913a-51e455eeb15e",
   "metadata": {},
   "source": [
    "For exmaple the text can be <b>Python</b>\n",
    "1. output: string contains both lowercase and uppercase characters\n",
    "2. output: Phnoty\n",
    "3. output: Pythn\n",
    "4. output: pYTHON"
   ]
  },
  {
   "cell_type": "markdown",
   "id": "43926f14-8337-4dbd-a340-575a41fd1201",
   "metadata": {},
   "source": [
    "## Solution (part 1):"
   ]
  },
  {
   "cell_type": "code",
   "execution_count": null,
   "id": "9778c54d-d5fb-4d6e-88cf-83301ebdb942",
   "metadata": {},
   "outputs": [],
   "source": [
    "def check_lower_upper(text):\n",
    "    if text.islower():\n",
    "        return 'string contains only lowercase letters'\n",
    "    elif text.isupper():\n",
    "        return 'string contains only uppercase letters'\n",
    "    \n",
    "    return 'string contains both lowercase and uppercase characters'\n",
    "    \n",
    "check_lower_upper('Python')"
   ]
  },
  {
   "cell_type": "markdown",
   "id": "52d96576-bcba-49fe-bef5-033cba9ee46e",
   "metadata": {},
   "source": [
    "## Solution (part 2):"
   ]
  },
  {
   "cell_type": "code",
   "execution_count": null,
   "id": "8221da9f-c5fa-431c-b5e0-454002a46bea",
   "metadata": {},
   "outputs": [],
   "source": [
    "def order(text):\n",
    "    return ''.join(sorted(text))\n",
    "\n",
    "order('Python')"
   ]
  },
  {
   "cell_type": "markdown",
   "id": "9c34b27e-c41c-43e2-b64f-de49a6f6b00d",
   "metadata": {},
   "source": [
    "## Solution (part 3):"
   ]
  },
  {
   "cell_type": "code",
   "execution_count": null,
   "id": "42623213-4552-46bc-bf41-faf143b70c3f",
   "metadata": {},
   "outputs": [],
   "source": [
    "def remove_vowels(text):\n",
    "    text = ''.join(filter(lambda char: char not in 'aeiouAEIOU', text))\n",
    "    return text\n",
    "\n",
    "remove_vowels('Python')"
   ]
  },
  {
   "cell_type": "markdown",
   "id": "e4d3ce94-ad98-4bde-9e12-f125b2e08b93",
   "metadata": {},
   "source": [
    "## Solution (part 4):"
   ]
  },
  {
   "cell_type": "code",
   "execution_count": null,
   "id": "009313f5-a19e-40d2-a40b-ba94e2a376fa",
   "metadata": {},
   "outputs": [],
   "source": [
    "def alternate_case(text):\n",
    "    result = ''\n",
    "    for char in text:\n",
    "        if char.islower():\n",
    "            result += char.upper()\n",
    "        else:\n",
    "            result += char.lower()\n",
    "    return result"
   ]
  },
  {
   "cell_type": "code",
   "execution_count": null,
   "id": "d7eca5e5-98f5-45da-946d-df7855d21333",
   "metadata": {},
   "outputs": [],
   "source": [
    "alternate_case('Python')"
   ]
  },
  {
   "cell_type": "markdown",
   "id": "ff935c0a-8608-4b83-b1e3-f79b557537f5",
   "metadata": {},
   "source": [
    "***"
   ]
  },
  {
   "cell_type": "markdown",
   "id": "e077cbe5-a02f-456f-a49c-c53d765f26a3",
   "metadata": {},
   "source": [
    "## Problem 5"
   ]
  },
  {
   "cell_type": "markdown",
   "id": "61ea5bbb-c20b-4112-b92e-f189b3250bc4",
   "metadata": {},
   "source": [
    "Write a Python program to replace a string \"Python\" with \"Java\" and \"Java\" with \"Python\" in a given text. "
   ]
  },
  {
   "cell_type": "markdown",
   "id": "05f87b24-adb8-401f-a69f-41f05ac3bcf7",
   "metadata": {},
   "source": [
    "text = 'Java is very user friendly programming language. Java is more popular than Python.'<br>\n",
    "output : Python is very user friendly programming language Python is more popular than Java'\n"
   ]
  },
  {
   "cell_type": "markdown",
   "id": "44906533-211b-4317-98d0-2a7eb8b6140a",
   "metadata": {},
   "source": [
    "<b> Hint: </b> if you have problem with the '.' at the end of each sensense, you can remove them."
   ]
  },
  {
   "cell_type": "markdown",
   "id": "555e00ea-34a5-46af-be68-e645cdac4dc4",
   "metadata": {},
   "source": [
    "## Solution:"
   ]
  },
  {
   "cell_type": "code",
   "execution_count": null,
   "id": "0ef9f06e-e6d6-492c-a1bc-57d04cdf88bb",
   "metadata": {},
   "outputs": [],
   "source": [
    "text = 'Java is very user friendly programming language. Java is more popular than Python.'\n",
    "text = text.replace('.','')\n",
    "\n",
    "text = text.split()\n",
    "\n",
    "for index in range(len(text)):\n",
    "    if text[index] == \"Python\":\n",
    "        text[index] = 'Java'\n",
    "        \n",
    "    elif text[index] == 'Java':\n",
    "        text[index] = 'Python'\n",
    "        \n",
    "print(*text)"
   ]
  },
  {
   "cell_type": "markdown",
   "id": "3d1a45fb-87b5-4002-902a-d3a7034e6136",
   "metadata": {},
   "source": [
    "***"
   ]
  },
  {
   "cell_type": "markdown",
   "id": "eb221625-e289-478d-bfb5-34cf84c4ae60",
   "metadata": {},
   "source": [
    "## Problem 6 "
   ]
  },
  {
   "cell_type": "markdown",
   "id": "04f01e14-9a1b-4dd6-aa72-ba35d40ecca1",
   "metadata": {},
   "source": [
    "Write a Python program to find the following strange sort of list of numbers: \n",
    "- The first element is the **smallest**, the second is the **greatest** of the remaining\n",
    "- The third is the **smallest** of the remaining, the fourth is the **greatest** of the remaining,\n",
    "- etc..."
   ]
  },
  {
   "cell_type": "markdown",
   "id": "46c00bd8-e263-47ea-9a20-e367724e7767",
   "metadata": {},
   "source": [
    "Example:\n",
    "\n",
    "input: [27, 3, 8, 5, 31] <br>\n",
    "output: [3, 31, 5, 27, 8]"
   ]
  },
  {
   "cell_type": "markdown",
   "id": "84f85162-1b5b-488f-ba9a-7140df884194",
   "metadata": {},
   "source": [
    "## Solution:"
   ]
  },
  {
   "cell_type": "code",
   "execution_count": null,
   "id": "b3d9629b-03b6-4988-9048-15a673dc8bbc",
   "metadata": {},
   "outputs": [],
   "source": [
    "def test(nums):\n",
    "    \n",
    "    if len(nums) < 2:\n",
    "        return nums\n",
    "    \n",
    "    result = []\n",
    "    for _ in range(len(nums) // 2):\n",
    "        \n",
    "        result.append(min(nums))\n",
    "        nums.remove(min(nums))\n",
    "        \n",
    "        result.append(max(nums))\n",
    "        nums.remove(max(nums))\n",
    "        \n",
    "    # This condition occurs when the length of the input list is odd\n",
    "    if len(nums) > 0:\n",
    "        result.append(nums[0])\n",
    "\n",
    "    return result\n",
    "#-----------------------------------------------------\n",
    "nums = [27, 3, 8, 5, 31]\n",
    "print(\"Original list of numbers:\")\n",
    "print(nums)\n",
    "print('\\nStrange sorted list:')\n",
    "print(test(nums))"
   ]
  },
  {
   "cell_type": "markdown",
   "id": "c0db9d7e-d9ea-497e-bcfa-1bc22b313f2a",
   "metadata": {},
   "source": [
    "***"
   ]
  },
  {
   "cell_type": "markdown",
   "id": "a99d0837-c58d-4380-975d-a9e0787d5188",
   "metadata": {},
   "source": [
    "## Problem 7"
   ]
  },
  {
   "cell_type": "markdown",
   "id": "630c380f-26b7-4094-8302-e35aa0f6902a",
   "metadata": {},
   "source": [
    "Write a Python program to find the first repeated word in a given string."
   ]
  },
  {
   "cell_type": "markdown",
   "id": "d08a271e-7b78-4cf1-87ef-3b87fe537081",
   "metadata": {},
   "source": [
    "Example:\n",
    "    \n",
    "input : 'He raced to the grocery store and raced back home to grab his wallet and go back to grocery store.' <br>\n",
    "output: raced"
   ]
  },
  {
   "cell_type": "markdown",
   "id": "b6001cf0-32b1-45cd-affa-ee12680d2eb5",
   "metadata": {},
   "source": [
    "## Solution:"
   ]
  },
  {
   "cell_type": "code",
   "execution_count": null,
   "id": "be49992e-f96a-459a-b941-d477b4b36c23",
   "metadata": {},
   "outputs": [],
   "source": [
    "def first_repeated_word(text):\n",
    "    temp = set()\n",
    "    for word in text.split():\n",
    "        if word in temp:\n",
    "            return word;\n",
    "        else:\n",
    "            temp.add(word)\n",
    "    return 'None'\n",
    "#-----------------------------\n",
    "text = 'He raced to the grocery store and raced back home to grab his wallet and go back to grocery store.'\n",
    "first_repeated_word(text)"
   ]
  },
  {
   "cell_type": "markdown",
   "id": "e7862dac-f581-4390-917f-c243a28ca389",
   "metadata": {},
   "source": [
    "---"
   ]
  },
  {
   "cell_type": "markdown",
   "id": "689d5db7-f527-4435-9191-73fb4104decb",
   "metadata": {},
   "source": [
    "## Problem 8"
   ]
  },
  {
   "cell_type": "markdown",
   "id": "8de4e1a6-19b3-48ca-a4a4-db5c2c884775",
   "metadata": {},
   "source": [
    "Join the list's elements with: \"+++\".\n",
    "```python\n",
    "lst=[\"Hawaii\", \"Phuket\", \"Aruba\", \"Keys\"]\n",
    "joined = # Type your answer here.\n",
    "print(joined)\n",
    "```"
   ]
  },
  {
   "cell_type": "markdown",
   "id": "528c6b3f-94fc-443d-b852-a8bd6fb284f0",
   "metadata": {},
   "source": [
    "## Solution"
   ]
  },
  {
   "cell_type": "code",
   "execution_count": null,
   "id": "a14bfec9-880d-48cd-ba9a-97a061ca8156",
   "metadata": {},
   "outputs": [],
   "source": [
    "lst=[\"Hawaii\", \"Phuket\", \"Aruba\", \"Keys\"]\n",
    "joined = '+++'.join(lst)\n",
    "print(joined)"
   ]
  },
  {
   "cell_type": "markdown",
   "id": "c189fc14-d6b3-4040-81fb-78fe5710c70b",
   "metadata": {},
   "source": [
    "---"
   ]
  },
  {
   "cell_type": "markdown",
   "id": "16b4a767-e619-4574-aa91-6e203d5b2119",
   "metadata": {},
   "source": [
    "## Problem 9"
   ]
  },
  {
   "cell_type": "markdown",
   "id": "913b498f-261f-4f5e-a392-12ce3ad7a2fb",
   "metadata": {},
   "source": [
    "Join the tuple's elements so that you get a proper email address.\n",
    "```python\n",
    "addresses = (\"Mr.Hathaway\", \"amymail.com\")\n",
    "email = # Type your code here.\n",
    "print(email)\n",
    "```"
   ]
  },
  {
   "cell_type": "markdown",
   "id": "c10bab86-5236-4c6c-9bb7-9bce7e3d6ad3",
   "metadata": {},
   "source": [
    "## Solution"
   ]
  },
  {
   "cell_type": "code",
   "execution_count": null,
   "id": "11d25304-096a-44d1-b085-a9958ea62733",
   "metadata": {},
   "outputs": [],
   "source": [
    "addresses = (\"Mr.Hathaway\", \"amymail.com\")\n",
    "email = '@'.join(addresses)\n",
    "print(email)"
   ]
  },
  {
   "cell_type": "markdown",
   "id": "06bbf6a2-f0b1-4795-9ea3-16eeb0e7829b",
   "metadata": {},
   "source": [
    "---"
   ]
  },
  {
   "cell_type": "markdown",
   "id": "b1d572cc-b194-4cf7-a654-fff05ef4b4d2",
   "metadata": {},
   "source": [
    "## Problem 10"
   ]
  },
  {
   "cell_type": "markdown",
   "id": "1db2dc5a-4297-4886-854a-34fc78f0bb30",
   "metadata": {},
   "source": [
    "Using `.join()` method join the keys in the dictionary with a comma: \",\".\n",
    "```python\n",
    "economic_growth = {\"India\": 7.0, \"Cambodia\": 7, \"Tanzania\": 6.9, \"Bangladesh\": 6.6, \"Senegal\": 6.6}\n",
    "text = # Type your code here.\n",
    "print(text)\n",
    "```"
   ]
  },
  {
   "cell_type": "markdown",
   "id": "226f0241-cdd6-4d13-8230-d740159f72ef",
   "metadata": {},
   "source": [
    "## Solution"
   ]
  },
  {
   "cell_type": "code",
   "execution_count": null,
   "id": "2bfb066d-76bd-4e91-b0e2-1263853169f7",
   "metadata": {},
   "outputs": [],
   "source": [
    "economic_growth = {\"India\": 7.0, \"Cambodia\": 7, \"Tanzania\": 6.9, \"Bangladesh\": 6.6, \"Senegal\": 6.6}\n",
    "text = ','.join(economic_growth)\n",
    "print(text)"
   ]
  },
  {
   "cell_type": "markdown",
   "id": "447d0197-6c9d-4199-a897-ce14620de77c",
   "metadata": {},
   "source": [
    "---"
   ]
  },
  {
   "cell_type": "markdown",
   "id": "5830f4b7-1db7-41c7-822b-def8409837e4",
   "metadata": {},
   "source": [
    "## Problem 11"
   ]
  },
  {
   "cell_type": "markdown",
   "id": "fe08c1ab-c291-4d40-a359-16a8c86a4e84",
   "metadata": {},
   "source": [
    "Using `\"\\n\"` character and `.join()` method, join the sentences in the list so that it looks like a proper poem.\n",
    "```python\n",
    "poem_lst=[\"Not enjoyment, and not sorrow,\", \"Is our destined end or way;\", \"But to act, that each tomorrow\", \"Find us farther than today.\"]\n",
    "poem_str = # Type your code here.\n",
    "print(poem_str)\n",
    "```"
   ]
  },
  {
   "cell_type": "markdown",
   "id": "ab551e44-a517-43c2-abf6-601201aecc7a",
   "metadata": {},
   "source": [
    "## Solution"
   ]
  },
  {
   "cell_type": "code",
   "execution_count": null,
   "id": "56dfb0b0-4843-48ca-89e0-cb2400761c1c",
   "metadata": {},
   "outputs": [],
   "source": [
    "poem_lst=[\"Not enjoyment, and not sorrow,\", \"Is our destined end or way;\", \"But to act, that each tomorrow\", \"Find us farther than today.\"]\n",
    "poem_str = '\\n'.join(poem_lst)\n",
    "print(poem_str)"
   ]
  },
  {
   "cell_type": "markdown",
   "id": "d75fbfbb-9e91-4e33-845e-24ed572e25ac",
   "metadata": {},
   "source": [
    "---"
   ]
  },
  {
   "cell_type": "markdown",
   "id": "fdf7bc21-f034-4154-bc3a-e95cad1631f7",
   "metadata": {},
   "source": [
    "## Problem 12"
   ]
  },
  {
   "cell_type": "markdown",
   "id": "cf7161bf-3ee3-4bf0-aa75-94da8a01ea2f",
   "metadata": {},
   "source": [
    "Using the `split` method, split the string with semi colon (;) first. Then, print only the last element.\n",
    "```python\n",
    "text = \"Arsenal:0-Chelsea:1;Barcelona:2-Bayern Munich:2\"\n",
    "```"
   ]
  },
  {
   "cell_type": "markdown",
   "id": "060bfdb1-82b1-4cb9-aa33-15c3c63561d6",
   "metadata": {},
   "source": [
    "## Solution"
   ]
  },
  {
   "cell_type": "code",
   "execution_count": null,
   "id": "895efb85-2730-4d08-b6a1-9e44a1d7c2e8",
   "metadata": {},
   "outputs": [],
   "source": [
    "text = \"Arsenal:0-Chelsea:1;Barcelona:2-Bayern Munich:2\"\n",
    "lst = text.split(';')\n",
    "print(lst[1])"
   ]
  },
  {
   "cell_type": "markdown",
   "id": "40f82c0b-9a32-4fe2-a909-d467961bcb1f",
   "metadata": {},
   "source": [
    "---"
   ]
  },
  {
   "cell_type": "markdown",
   "id": "9241460d-2b6d-4302-ac15-31d5465978b4",
   "metadata": {},
   "source": [
    "## Problem 13"
   ]
  },
  {
   "cell_type": "markdown",
   "id": "295ee145-27d2-4b2b-9a35-856e7303277c",
   "metadata": {},
   "source": [
    "Using `.strip()` method, strip the string so that, only **Babylon** remains.\n",
    "```python\n",
    "text = \"#$^&#@%$& Babylon #@$&@#\"\n",
    "```"
   ]
  },
  {
   "cell_type": "markdown",
   "id": "c201d4b1-c7f1-41d7-92ba-10bf7d528b45",
   "metadata": {},
   "source": [
    "## Solution"
   ]
  },
  {
   "cell_type": "code",
   "execution_count": null,
   "id": "50d2806e-28b5-4d88-a6ae-ac5611b69e71",
   "metadata": {},
   "outputs": [],
   "source": [
    "text = \"#$^&#@%$& Babylon #@$&@#\"\n",
    "text = text.strip('#$^&@%& ')\n",
    "print(text)"
   ]
  },
  {
   "cell_type": "markdown",
   "id": "d70bfb75-5f5e-475c-808a-00b73a24e87f",
   "metadata": {},
   "source": [
    "---"
   ]
  },
  {
   "cell_type": "markdown",
   "id": "d2597c6f-bb0a-484d-9cba-79b6b3358e8c",
   "metadata": {},
   "source": [
    "## Problem 14"
   ]
  },
  {
   "cell_type": "markdown",
   "id": "415b14a2-c8f7-4198-b3b7-1b672e75cd67",
   "metadata": {},
   "source": [
    "Using a combination of `.split()` and `.lstrip()` methods, get the word \"Derivatives...\".\n",
    "```python\n",
    "text = \"......Macroeconomics..,...........Derivatives...\"\n",
    "```"
   ]
  },
  {
   "cell_type": "markdown",
   "id": "a41ab0a6-acf1-4187-95bf-ff30c9699c1a",
   "metadata": {},
   "source": [
    "## Solution"
   ]
  },
  {
   "cell_type": "code",
   "execution_count": null,
   "id": "3fc7c3fb-3f94-4cce-8183-6a2d9fbd34ee",
   "metadata": {},
   "outputs": [],
   "source": [
    "text = \"......Macroeconomics...,...........Derivatives...\"\n",
    "lst = text.split(',')\n",
    "result = lst[1].lstrip('.')\n",
    "print(result)"
   ]
  },
  {
   "cell_type": "markdown",
   "id": "c340abb4-ae9a-43f2-b8ad-704f776fedf3",
   "metadata": {},
   "source": [
    "---"
   ]
  },
  {
   "cell_type": "markdown",
   "id": "944af866-2a57-4352-9f17-9a30d77003ff",
   "metadata": {},
   "source": [
    "## Problem 15"
   ]
  },
  {
   "cell_type": "markdown",
   "id": "62b0ff08-9e7d-4046-8ebd-a8fb11b40683",
   "metadata": {},
   "source": [
    "A secret message is hidden in the text below. Can you find it?\n",
    "```python\n",
    "text = 'wAeBlCcDoEmFeG#tHo#PIyJtKhLoMnN#pOrPoQgRrSaTmUmViWnXgY#cZoAuBrBsDe'\n",
    "```"
   ]
  },
  {
   "cell_type": "markdown",
   "id": "ac92fcd6-445e-494f-966e-6c47234b0c0c",
   "metadata": {},
   "source": [
    "## Solution"
   ]
  },
  {
   "cell_type": "code",
   "execution_count": null,
   "id": "9b4344b4-c753-4e27-8fd7-eda99d1aede5",
   "metadata": {},
   "outputs": [],
   "source": [
    "text = 'wAeBlCcDoEmFeG#tHo#PIyJtKhLoMnN#pOrPoQgRrSaTmUmViWnXgY#cZoAuBrBsDe'\n",
    "message = []\n",
    "for word in text.split('#'):\n",
    "    message.append(word[::2])\n",
    "print(' '.join(message))"
   ]
  },
  {
   "cell_type": "markdown",
   "id": "525cd21e-cb66-4fb3-a98e-b98237f1ce0a",
   "metadata": {},
   "source": [
    "---"
   ]
  },
  {
   "cell_type": "markdown",
   "id": "b192a934-9a25-4c45-9fda-88bf4574b03f",
   "metadata": {},
   "source": [
    "## Problem 16"
   ]
  },
  {
   "cell_type": "markdown",
   "id": "77598f02-0174-4482-9d21-d24452d757a4",
   "metadata": {},
   "source": [
    "How many ways there are to remove an item from a given list?\n",
    "For example we want to remove first element from the following list:\n",
    "```python\n",
    "movie = [\"The Room\", \"Tommy Wiseau\", \"2003\", \"$6,000,000\"]\n",
    "```"
   ]
  },
  {
   "cell_type": "markdown",
   "id": "d7132358-a5a5-4964-a228-ad2b8e3b0f83",
   "metadata": {},
   "source": [
    "## Solution"
   ]
  },
  {
   "cell_type": "code",
   "execution_count": null,
   "id": "386439c8-ae40-4df2-bf6e-9547370af1fb",
   "metadata": {},
   "outputs": [],
   "source": [
    "# use del \n",
    "movie = [\"The Room\", \"Tommy Wiseau\", \"2003\", \"$6,000,000\"]\n",
    "del movie[0]\n",
    "print(movie)\n",
    "\n",
    "# use .pop()\n",
    "movie = [\"The Room\", \"Tommy Wiseau\", \"2003\", \"$6,000,000\"]\n",
    "movie.pop(0)\n",
    "print(movie)\n",
    "\n",
    "# use .remove()\n",
    "movie = [\"The Room\", \"Tommy Wiseau\", \"2003\", \"$6,000,000\"]\n",
    "# movie.remove('The Room')\n",
    "movie.remove(movie[0])\n",
    "print(movie)"
   ]
  },
  {
   "cell_type": "markdown",
   "id": "c67b5591-8f65-4caf-a369-9502c8903eea",
   "metadata": {},
   "source": [
    "---"
   ]
  },
  {
   "cell_type": "markdown",
   "id": "95d90f6e-9da4-4b30-8e3b-9fb6637882a0",
   "metadata": {},
   "source": [
    "## Problem 17"
   ]
  },
  {
   "cell_type": "markdown",
   "id": "f06e234d-bdb0-41f6-909e-9d4107de4b3e",
   "metadata": {},
   "source": [
    "Identify the index of character: `f` in mystring.\n",
    "```python\n",
    "mystring = 'Friday, my second favorite F word.'\n",
    "```\n",
    "Output:  \n",
    "18"
   ]
  },
  {
   "cell_type": "markdown",
   "id": "397d2b10-e07c-49aa-a42f-1ebb070d5c0a",
   "metadata": {},
   "source": [
    "Source link:  \n",
    "https://github.com/pytopia/PyExercises/tree/main"
   ]
  },
  {
   "cell_type": "markdown",
   "id": "30d6067e-9cfe-4716-9e2a-63549f8e998c",
   "metadata": {},
   "source": [
    "## Solution"
   ]
  },
  {
   "cell_type": "code",
   "execution_count": null,
   "id": "40608c27-81a0-4a60-9c9a-3a90dead664f",
   "metadata": {},
   "outputs": [],
   "source": [
    "mystring = 'Friday, my second favorite F word.'\n",
    "print('using index method :', mystring.index('f'))\n",
    "print('using find method:', mystring.find('f'))"
   ]
  },
  {
   "cell_type": "markdown",
   "id": "89629956-ea14-4757-a531-c14bdddc59e7",
   "metadata": {},
   "source": [
    "---"
   ]
  },
  {
   "cell_type": "markdown",
   "id": "39bbdcec-1d58-4c33-8037-dcf1a5044ee5",
   "metadata": {},
   "source": [
    "## Problem 18"
   ]
  },
  {
   "cell_type": "markdown",
   "id": "959498cf-93bb-4f7d-ae6c-010a88dc1531",
   "metadata": {},
   "source": [
    "Take a look at the following string and then make the string so that everything is properly and first letter is capital with one function.\n",
    "```python\n",
    "mystring = \"i DiDn’T fAll dOwN, i DId aTtACk thE fLOor, tHough.\"\n",
    "```"
   ]
  },
  {
   "cell_type": "markdown",
   "id": "b89a159f-d2d7-40de-8f45-25047f2f048b",
   "metadata": {},
   "source": [
    "Source link:  \n",
    "https://github.com/pytopia/PyExercises/tree/main"
   ]
  },
  {
   "cell_type": "markdown",
   "id": "889680dc-40a5-4e15-a619-9c9b83348dbd",
   "metadata": {},
   "source": [
    "## Solution"
   ]
  },
  {
   "cell_type": "code",
   "execution_count": null,
   "id": "b102bf75-2ce2-4284-ba20-47609b90293e",
   "metadata": {},
   "outputs": [],
   "source": [
    "mystring = \"i DiDn’T fAll dOwN, i DId aTtACk thE fLOor, tHough.\"\n",
    "mystring.lower().capitalize()"
   ]
  },
  {
   "cell_type": "markdown",
   "id": "618ca45d-cbf4-4d86-a097-d4845e2c9331",
   "metadata": {},
   "source": [
    "---"
   ]
  },
  {
   "cell_type": "markdown",
   "id": "33363c6b-036a-4121-a300-41ecf0b15375",
   "metadata": {},
   "source": [
    "## Problem 19"
   ]
  },
  {
   "cell_type": "markdown",
   "id": "2691dca4-9f3f-45a6-bb8b-1838e6653d31",
   "metadata": {},
   "source": [
    "Which character occurs more often in the mystring? `\"e\"` or `\"o\"` ? . Print both counts.\n",
    "```python\n",
    "mystring = \"A jellyfish has existed as a species for 500 million years, surviving just fine without a brain. That gives hope to quite a few people.\"\n",
    "```"
   ]
  },
  {
   "cell_type": "markdown",
   "id": "f1ea5f00-65cb-4e98-9a0f-526c62323e9c",
   "metadata": {},
   "source": [
    "Source link:  \n",
    "https://github.com/pytopia/PyExercises/tree/main"
   ]
  },
  {
   "cell_type": "markdown",
   "id": "5758aee6-d3bb-4b77-bc32-d547e6c19813",
   "metadata": {},
   "source": [
    "## Solution"
   ]
  },
  {
   "cell_type": "code",
   "execution_count": null,
   "id": "0946cce6-3e7a-420c-9e96-f85b30a45b60",
   "metadata": {},
   "outputs": [],
   "source": [
    "mystring = \"\"\"\n",
    "A jellyfish has existed as a species \n",
    "for 500 million years, \n",
    "surviving just fine without a brain. \n",
    "That gives hope to quite a few people.\n",
    "\"\"\"\n",
    "count_e = mystring.count('e')\n",
    "count_o = mystring.count('o')\n",
    "print('count of e is:', count_e)\n",
    "print('count of o is:', count_o)"
   ]
  },
  {
   "cell_type": "markdown",
   "id": "b637eab0-5126-4143-9b25-ce8379d47247",
   "metadata": {},
   "source": [
    "---"
   ]
  },
  {
   "cell_type": "markdown",
   "id": "0ddd0e2b-2b55-411b-a505-2a7d36a4a421",
   "metadata": {},
   "source": [
    "## Problem 20"
   ]
  },
  {
   "cell_type": "markdown",
   "id": "4e80909d-a466-4399-8584-969997f48b49",
   "metadata": {},
   "source": [
    "How many digits is the number below?\n",
    "```python\n",
    "number = 9875412365\n",
    "```"
   ]
  },
  {
   "cell_type": "markdown",
   "id": "6d1e2c4f-b7df-427d-a34c-b8919492388d",
   "metadata": {},
   "source": [
    "## Solution"
   ]
  },
  {
   "cell_type": "code",
   "execution_count": null,
   "id": "87e6e9dc-b5aa-4fc9-9448-244becb5b4ba",
   "metadata": {},
   "outputs": [],
   "source": [
    "number = 9875412365\n",
    "num_digits = len(str(number))\n",
    "print(number,'has',num_digits,'digits.')"
   ]
  },
  {
   "cell_type": "markdown",
   "id": "9e6fe0ea-3b3c-454a-8779-efcf8465e818",
   "metadata": {},
   "source": [
    "---"
   ]
  },
  {
   "cell_type": "markdown",
   "id": "91ded551-a449-4e2e-8878-8fb12cf6ba24",
   "metadata": {},
   "source": [
    "## Problem 21"
   ]
  },
  {
   "cell_type": "markdown",
   "id": "d37b1620-d603-4358-8e9d-f4c54d2d12a1",
   "metadata": {},
   "source": [
    "We have two list objects:\n",
    "```python\n",
    "list1 = [80, 70, 60, 50]\n",
    "list2 = [40, 30, 20]\n",
    "```\n",
    "What is the differences between the following codes.\n",
    "\n",
    "code 1:\n",
    "```python\n",
    "list1.append(list2)\n",
    "```\n",
    "code 2:\n",
    "```python\n",
    "list1.extend(list2)\n",
    "```"
   ]
  },
  {
   "cell_type": "markdown",
   "id": "9039fd0d-88c7-4ac7-b02a-a28ef3655abe",
   "metadata": {},
   "source": [
    "## Solution"
   ]
  },
  {
   "cell_type": "code",
   "execution_count": null,
   "id": "5400a4fa-2b92-4718-a91b-b9846e2d73fb",
   "metadata": {},
   "outputs": [],
   "source": [
    "list1 = [80, 70, 60, 50]\n",
    "list2 = [40, 30, 20]\n",
    "# code 1 : add list2 to the list1 as the last element.\n",
    "# output : [80, 70, 60, 50, [40, 30, 20]]\n",
    "list1.append(list2)\n",
    "print(list1)"
   ]
  },
  {
   "cell_type": "code",
   "execution_count": null,
   "id": "8e975a8b-98c0-4edd-b40c-5a708707b8ab",
   "metadata": {},
   "outputs": [],
   "source": [
    "list1 = [80, 70, 60, 50]\n",
    "list2 = [40, 30, 20]\n",
    "# code 2 : add list2 to the list1 as 3 element one by one.\n",
    "# output : [80, 70, 60, 50, 40, 30, 20]\n",
    "list1.extend(list2)\n",
    "print(list1)"
   ]
  },
  {
   "cell_type": "markdown",
   "id": "5c1481c7-4e96-4e0d-be10-9a65f2ce5523",
   "metadata": {
    "tags": []
   },
   "source": [
    "---"
   ]
  },
  {
   "cell_type": "markdown",
   "id": "0a9e99f2-07b4-438e-820d-b016b756107d",
   "metadata": {},
   "source": [
    "## Problem 22"
   ]
  },
  {
   "cell_type": "markdown",
   "id": "03e993a4-38ba-4afb-8f42-40356786199a",
   "metadata": {},
   "source": [
    "Can you reverse the following list?\n",
    "```python\n",
    "mylist = [45, 28, 15, 6, 1, 0]\n",
    "```"
   ]
  },
  {
   "cell_type": "markdown",
   "id": "f3044cdb-08d0-4708-adce-47161856f50f",
   "metadata": {},
   "source": [
    "## Solution"
   ]
  },
  {
   "cell_type": "code",
   "execution_count": null,
   "id": "d765a4be-216a-4c64-b6b6-d892b5e84573",
   "metadata": {},
   "outputs": [],
   "source": [
    "mylist = [45, 28, 15, 6, 1, 0]\n",
    "mylist.reverse()\n",
    "print(mylist)"
   ]
  },
  {
   "cell_type": "markdown",
   "id": "d05614a9-ded7-44f2-b9e2-08fdc0b6e935",
   "metadata": {
    "tags": []
   },
   "source": [
    "---"
   ]
  },
  {
   "cell_type": "markdown",
   "id": "0be07813-74db-49fe-a33c-8cc539868a6c",
   "metadata": {},
   "source": [
    "## Problem 23"
   ]
  },
  {
   "cell_type": "markdown",
   "id": "e1ae4c35-c36e-4e86-a547-8ab65601430a",
   "metadata": {},
   "source": [
    "Explain why the output of following code is `None`?\n",
    "```python\n",
    ">>> names = ['Neda', 'Yalda', 'Asal']\n",
    ">>> new_names = names.append('Niloufar')\n",
    ">>> print(new_names)\n",
    "None\n",
    "```"
   ]
  },
  {
   "cell_type": "markdown",
   "id": "abf02ef2-b55d-4325-83c6-01f9b4a7aa3a",
   "metadata": {},
   "source": [
    "## Solution"
   ]
  },
  {
   "cell_type": "code",
   "execution_count": null,
   "id": "38ad8958-9318-40e5-abf8-32b43e64bba5",
   "metadata": {},
   "outputs": [],
   "source": [
    "# append method modifies the target list in place.\n",
    "# and returns None.\n",
    "names = ['Neda', 'Yalda', 'Asal']\n",
    "names.append('Niloufar')\n",
    "print(names)"
   ]
  },
  {
   "cell_type": "markdown",
   "id": "8a500d17-baf0-431f-8565-0295171f5400",
   "metadata": {
    "tags": []
   },
   "source": [
    "---"
   ]
  },
  {
   "cell_type": "markdown",
   "id": "c3b62b8a-49e7-46d7-a3c7-5347b8dc35f6",
   "metadata": {},
   "source": [
    "## Problem 24"
   ]
  },
  {
   "cell_type": "markdown",
   "id": "32367eff-bef2-4b35-ab74-de2317d83d69",
   "metadata": {},
   "source": [
    "We have a given list as follows:\n",
    "```python\n",
    "list1 = [80, 60, -20, 10, -30, 20, 60, 60, 40, 80]\n",
    "```\n",
    "Perform the following tasks:\n",
    "- calculate `sum` of the numbers.\n",
    "- count how many times number 60 appears.\n",
    "- calculate `mininum` and `maximum` of the numbers.\n",
    "- add number 100 in the third index."
   ]
  },
  {
   "cell_type": "markdown",
   "id": "0e8d7cd5-bdfb-4817-bdc3-6aa36f619b7c",
   "metadata": {},
   "source": [
    "## Solution"
   ]
  },
  {
   "cell_type": "code",
   "execution_count": null,
   "id": "bc22238e-c077-40ce-99f4-bffe10c7e74d",
   "metadata": {},
   "outputs": [],
   "source": [
    "list1 = [80, 60, -20, 10, -30, 20, 60, 60, 40, 80]\n",
    "print('sum =', sum(list1))\n",
    "print('count of 60 =', list1.count(60))\n",
    "print('min =',min(list1), '  max =', max(list1))\n",
    "list1.insert(3, 100)\n",
    "print('inser 100 =', list1)"
   ]
  },
  {
   "cell_type": "markdown",
   "id": "d286b9f4-fa7a-4212-bd38-a957eecb98bb",
   "metadata": {
    "tags": []
   },
   "source": [
    "---"
   ]
  },
  {
   "cell_type": "markdown",
   "id": "e4e1dd67-3d9e-47e9-9a76-75cb6798be74",
   "metadata": {},
   "source": [
    "## Problem 25"
   ]
  },
  {
   "cell_type": "markdown",
   "id": "acd2401e-7d7d-4d7b-a47c-2ffbfb2e22bd",
   "metadata": {},
   "source": [
    "What is the difference between `pop()` method and `remove()` method?"
   ]
  },
  {
   "cell_type": "markdown",
   "id": "bd550e9d-25a8-4d97-81ed-e0d5c8a86e18",
   "metadata": {},
   "source": [
    "## Solution"
   ]
  },
  {
   "cell_type": "code",
   "execution_count": null,
   "id": "1a203224-8192-4eee-806f-f97d9da2978e",
   "metadata": {},
   "outputs": [],
   "source": [
    "# pop() method takes the index of the element that\n",
    "# you want to delete, then deletes and returns the element.\n",
    "# by default index=-1 that means delete the last element.\n",
    "list1 = [10, 20, 30]\n",
    "print('pop method returns:', list1.pop(1))\n",
    "print('modified list:', list1)\n",
    "# remove() method take the element that you want to \n",
    "# delete (not index) then deletes it and returns None.\n",
    "list2 = [10, 20, 30]\n",
    "print('remove method returns:', list2.remove(20))\n",
    "print('modified list:', list2)"
   ]
  },
  {
   "cell_type": "markdown",
   "id": "3a664a6d-a340-4cde-8197-2cd1f87f2ac3",
   "metadata": {
    "tags": []
   },
   "source": [
    "---"
   ]
  },
  {
   "cell_type": "markdown",
   "id": "e24a8590-db21-41e9-8c6e-bcdb9e85ab51",
   "metadata": {},
   "source": [
    "## Problem 26"
   ]
  },
  {
   "cell_type": "markdown",
   "id": "9aa4ec82-77d8-4655-bb62-8561a0da61a6",
   "metadata": {},
   "source": [
    "Make a set of multiples of 3 and name it `x`.  \n",
    "Make a set of multiples of 5 and name it `y`.  \n",
    "(20 multiples are enough for each `x` and `y`)  \n",
    "\n",
    "Perform the following tasks by using `x` and `y` variables:\n",
    "- find the multiples of 15\n",
    "- find multiples of 5 that are not divisible by 3.\n",
    "- find multiples that are either divisible by 5 or divisible by 3, or divisible by both."
   ]
  },
  {
   "cell_type": "markdown",
   "id": "2898a817-489b-4aa1-87a4-0c52192f3092",
   "metadata": {},
   "source": [
    "Source link:  \n",
    "https://github.com/pytopia/PyExercises/tree/main"
   ]
  },
  {
   "cell_type": "markdown",
   "id": "11bec7e3-2ff5-4f86-bc42-eb8474f9e60b",
   "metadata": {},
   "source": [
    "## Solution:"
   ]
  },
  {
   "cell_type": "code",
   "execution_count": null,
   "id": "74b1570c-f659-4fb0-8a40-e3f3c2aedd08",
   "metadata": {},
   "outputs": [],
   "source": [
    "x = set()\n",
    "y = set()\n",
    "for i in range(1, 21):\n",
    "    x.add(3*i)\n",
    "    y.add(5*i)\n",
    "#----------------------\n",
    "print('Q1 :\\n',x.intersection(y)) # or print(x & y)\n",
    "print()\n",
    "print('Q2 :\\n',y.difference(x))   # or print(y - x)\n",
    "print()\n",
    "print('Q3 :\\n',x.union(y))        # or print(x | y)"
   ]
  },
  {
   "cell_type": "markdown",
   "id": "f6e28c3e-0f55-4a83-8b0b-4e9bc39c4232",
   "metadata": {},
   "source": [
    "***"
   ]
  },
  {
   "cell_type": "markdown",
   "id": "c74f349d-23ce-43e5-b47e-e2f988804085",
   "metadata": {},
   "source": [
    "## Problem 27"
   ]
  },
  {
   "cell_type": "markdown",
   "id": "bdbab240-959f-476c-90cb-b5f6afd08059",
   "metadata": {},
   "source": [
    "According to the dictionary below \n",
    "```python\n",
    "rostam = {\n",
    "    \"name\": \"Rostam\", \"nationality\": \"Turanian\",\n",
    "    \"father\": \"Zal\" ,\"mother\": \"Rudaabeh\",\n",
    "    \"wife\": \"Tahmineh\",\"grandfather\": \"Sam\", \n",
    "    \"POB\": \"Zabol\", \"POD\" : \"Kabul\",\n",
    "}\n",
    "```\n",
    "perform the following task:\n",
    "1. print the name of Rostam's mother and wife using a single print() function.\n",
    "2. change Rostam nationality to `Iranian`.\n",
    "3. Add a list of Rostam's children `Sohrab`, `Faramarz`, `Jahangir`, `Siyavash`, and `Banu-Goshasp` to dictionary.\n",
    "4. remove the place of Rustam's death `(POD)` and print the deleted value."
   ]
  },
  {
   "cell_type": "markdown",
   "id": "4632143f-691c-4af7-ad29-348080f0a773",
   "metadata": {},
   "source": [
    "Source link:  \n",
    "https://github.com/pytopia/PyExercises/tree/main"
   ]
  },
  {
   "cell_type": "markdown",
   "id": "5bccd8ba-cdfe-4563-809a-a341397a3b7e",
   "metadata": {},
   "source": [
    "## Solution:"
   ]
  },
  {
   "cell_type": "code",
   "execution_count": null,
   "id": "ec51bd46-0db7-4b95-85ff-8822a830a382",
   "metadata": {},
   "outputs": [],
   "source": [
    "rostam = {\n",
    "    \"name\": \"Rostam\", \"nationality\": \"Turanian\",\n",
    "    \"father\": \"Zal\" ,\"mother\": \"Rudaabeh\",\n",
    "    \"wife\": \"Tahmineh\",\"grandfather\": \"Sam\", \n",
    "    \"POB\": \"Zabol\", \"POD\" : \"Kabul\",\n",
    "}\n",
    "\n",
    "# Q1    \n",
    "print('\\nMother:',rostam['mother'], ', Wife:', rostam['wife'])\n",
    "\n",
    "# Q2\n",
    "rostam['nationality'] = 'Iranian'\n",
    "print('\\nchanged nationality:', rostam['nationality'])\n",
    "\n",
    "# Q3\n",
    "rostam['children'] = [\n",
    "    'Sohrab', 'Faramarz', 'Jahangir', 'Siyavash', 'Banu-Goshasp'\n",
    "]\n",
    "print('\\nchildren:', rostam['children'])\n",
    "\n",
    "# Q4\n",
    "print('\\nPOD:', rostam.pop('POD'))"
   ]
  },
  {
   "cell_type": "markdown",
   "id": "a893489e-495c-431d-a85d-569cb474cdac",
   "metadata": {},
   "source": [
    "***"
   ]
  },
  {
   "cell_type": "markdown",
   "id": "1e054e17-f478-40c1-ba2e-3653033344a2",
   "metadata": {},
   "source": [
    "## Problem 28"
   ]
  },
  {
   "cell_type": "markdown",
   "id": "01029329-0ed1-432c-aa7a-902539f2759c",
   "metadata": {},
   "source": [
    "We have a list:\n",
    "```python\n",
    "numbers = [0, 34, 1, 13, 8, 21, 55, 3, 1, 5, 89, 144, 2]\n",
    "```\n",
    "Sort the given list in two ways, `sorted` function and `.sort()` method. What's the difference between them?"
   ]
  },
  {
   "cell_type": "markdown",
   "id": "6f425ec9-6280-4947-905e-79785ae4d630",
   "metadata": {},
   "source": [
    "Source link:  \n",
    "https://github.com/pytopia/PyExercises/tree/main"
   ]
  },
  {
   "cell_type": "markdown",
   "id": "ad6a7290-c4cf-42db-82c7-933f36518305",
   "metadata": {},
   "source": [
    "## Solution:"
   ]
  },
  {
   "cell_type": "code",
   "execution_count": null,
   "id": "f01fe91c-f056-420f-a5eb-feec44e6a7b0",
   "metadata": {},
   "outputs": [],
   "source": [
    "# sorted : a built-in function return a new list \n",
    "# containing all items from the iterable in ascending order.(by default)\n",
    "numbers = [0, 34, 1, 13, 8, 21, 55, 3, 1, 5, 89, 144, 2]\n",
    "output = sorted(numbers)\n",
    "print('sorted function:', output)\n",
    "\n",
    "# .sort() method : sort the list in-place in ascending order and return None.\n",
    "numbers = [0, 34, 1, 13, 8, 21, 55, 3, 1, 5, 89, 144, 2]\n",
    "numbers.sort()\n",
    "print('.sort method   :', output)"
   ]
  },
  {
   "cell_type": "markdown",
   "id": "52e4644f-cf9c-433d-adf5-851e9732cd20",
   "metadata": {},
   "source": [
    "***"
   ]
  },
  {
   "cell_type": "markdown",
   "id": "7c418e6b-77ac-43d0-aa54-ea6fc790dcf0",
   "metadata": {},
   "source": [
    "## Problem 29"
   ]
  },
  {
   "cell_type": "markdown",
   "id": "cc1347cc-923d-4969-98cd-44c4f8018ac9",
   "metadata": {},
   "source": [
    "Using comma `\",\"` join the keys in the dictionary and print it.Using hyphen `\"-\"`, join the values in the dictionary.\n",
    "```python\n",
    "mydict = {\"Tehran\" : 9135000, \"Mashhad\" : 3208000, \"Isfahan\" : 2132000 ,\n",
    "          \"Karaj\" : 1592492, \"Shiraz\" : 1565572, \"Tabriz\" : 1558693 ,\n",
    "          \"Qom\" : 1288000 , \"Ahwaz\" : 1244000, \"Kermanshah\" : 1026000 }\n",
    "```"
   ]
  },
  {
   "cell_type": "markdown",
   "id": "8c9260d8-433a-414f-959a-28a52b82ea98",
   "metadata": {},
   "source": [
    "Source link:  \n",
    "https://github.com/pytopia/PyExercises/tree/main"
   ]
  },
  {
   "cell_type": "markdown",
   "id": "f0596787-f1f1-46bc-b1cb-5e4fb4248c5a",
   "metadata": {},
   "source": [
    "## Solution:"
   ]
  },
  {
   "cell_type": "code",
   "execution_count": null,
   "id": "23376d93-507a-4bed-8535-9e9851d58d56",
   "metadata": {},
   "outputs": [],
   "source": [
    "mydict = {\"Tehran\" : 9135000, \"Mashhad\" : 3208000, \"Isfahan\" : 2132000 ,\n",
    "          \"Karaj\" : 1592492, \"Shiraz\" : 1565572, \"Tabriz\" : 1558693 ,\n",
    "          \"Qom\" : 1288000 , \"Ahwaz\" : 1244000, \"Kermanshah\" : 1026000 }\n",
    "print('keys:')\n",
    "print(','.join(mydict))\n",
    "print('values:')\n",
    "print('-'.join(map(str,mydict.values())))"
   ]
  },
  {
   "cell_type": "markdown",
   "id": "f55c280f-af00-419b-a7cd-90abcfa803ff",
   "metadata": {},
   "source": [
    "***"
   ]
  },
  {
   "cell_type": "markdown",
   "id": "ee53b8f0-3f67-4206-8ff5-0c556914995e",
   "metadata": {},
   "source": [
    "## Problem 30"
   ]
  },
  {
   "cell_type": "markdown",
   "id": "fa28d34c-ceef-49cd-ab15-137acf6cd399",
   "metadata": {},
   "source": [
    "Kambiz extracted the `HTML` code from a table of bitcoin prices over the last 15 days. The extracted code is saved in my string variable as a string. Make a price `list` using your Python knowledge.\n",
    "```python\n",
    "mystring = \"<table><tr><th>63,164.45</th></tr><tr><th>63,226.40</th></tr><tr>\\\n",
    "<th>61,004.41</th></tr><tr><th>61,318.96</th></tr><tr><th>61,888.83</th></tr>\\\n",
    "<tr><th>62,227.96</th></tr><tr><th>60,622.14</th></tr><tr><th>58,482.39</th>\\\n",
    "</tr><tr><th>60,363.79</th></tr><tr><th>63,039.82</th></tr><tr><th>60,930.84\\\n",
    "</th></tr><tr><th>61,393.62</th></tr><tr><th>60,692.27</th></tr><tr><th>\\\n",
    "62,210.17</th></tr><tr><th>65,992.84</th></tr></table>\"\n",
    "```"
   ]
  },
  {
   "cell_type": "markdown",
   "id": "039e5e68-f9da-47f6-80b9-9d8a2fd4ebae",
   "metadata": {},
   "source": [
    "Output:  \n",
    "63,164.45  \n",
    "63,226.40  \n",
    "61,004.41  \n",
    "61,318.96  \n",
    "61,888.83  \n",
    "62,227.96  \n",
    "60,622.14  \n",
    "58,482.39  \n",
    "60,363.79  \n",
    "63,039.82  \n",
    "60,930.84  \n",
    "61,393.62  \n",
    "60,692.27  \n",
    "62,210.17  \n",
    "65,992.84  "
   ]
  },
  {
   "cell_type": "markdown",
   "id": "62e66a01-a995-4809-b8de-bc3eb9c00f7a",
   "metadata": {},
   "source": [
    "Source link:  \n",
    "https://github.com/pytopia/PyExercises/tree/main"
   ]
  },
  {
   "cell_type": "markdown",
   "id": "2b7e626e-5430-40f9-9610-5764d8b492d6",
   "metadata": {},
   "source": [
    "## Solution:"
   ]
  },
  {
   "cell_type": "code",
   "execution_count": null,
   "id": "84812c4f-96d8-4415-89d6-674875b0837b",
   "metadata": {},
   "outputs": [],
   "source": [
    "mystring = \"<table><tr><th>63,164.45</th></tr><tr><th>63,226.40</th></tr><tr>\\\n",
    "<th>61,004.41</th></tr><tr><th>61,318.96</th></tr><tr><th>61,888.83</th></tr>\\\n",
    "<tr><th>62,227.96</th></tr><tr><th>60,622.14</th></tr><tr><th>58,482.39</th>\\\n",
    "</tr><tr><th>60,363.79</th></tr><tr><th>63,039.82</th></tr><tr><th>60,930.84\\\n",
    "</th></tr><tr><th>61,393.62</th></tr><tr><th>60,692.27</th></tr><tr><th>\\\n",
    "62,210.17</th></tr><tr><th>65,992.84</th></tr></table>\"\n",
    "new = mystring.split('><')[2::3]\n",
    "prices = [item.lstrip('th>').rstrip('</th') for item in new]\n",
    "for price in prices:\n",
    "    print(price)"
   ]
  },
  {
   "cell_type": "markdown",
   "id": "a92c72b9-e999-4f04-8d53-c913b78b1917",
   "metadata": {},
   "source": [
    "***"
   ]
  },
  {
   "cell_type": "markdown",
   "id": "e070e6b0-259d-494b-b21b-cd3a373d8230",
   "metadata": {},
   "source": [
    "## Problem 31"
   ]
  },
  {
   "cell_type": "markdown",
   "id": "ce5c1305-087c-43c9-8d00-620480bb7143",
   "metadata": {},
   "source": [
    "Remove `@` and `#` from the right side of the following string.\n",
    "```python\n",
    "mystring = \"@angelinajolie@@@@@##\"\n",
    "```"
   ]
  },
  {
   "cell_type": "markdown",
   "id": "b62e3204-ba63-475f-8e1f-0bd664775d88",
   "metadata": {},
   "source": [
    "Source link:  \n",
    "https://github.com/pytopia/PyExercises/tree/main"
   ]
  },
  {
   "cell_type": "markdown",
   "id": "ec5b45ac-bc76-47b4-b5af-04b5634a64b7",
   "metadata": {},
   "source": [
    "## Solution:"
   ]
  },
  {
   "cell_type": "code",
   "execution_count": null,
   "id": "0df435ad-d583-4adc-b937-7fdf610e64f5",
   "metadata": {},
   "outputs": [],
   "source": [
    "mystring = \"@angelinajolie@@@@@##\".rstrip('#').rstrip('@')\n",
    "print(mystring)"
   ]
  },
  {
   "cell_type": "markdown",
   "id": "490ea6cb-6339-4543-af04-391656b217e7",
   "metadata": {},
   "source": [
    "***"
   ]
  }
 ],
 "metadata": {
  "kernelspec": {
   "display_name": "Python 3 (ipykernel)",
   "language": "python",
   "name": "python3"
  },
  "language_info": {
   "codemirror_mode": {
    "name": "ipython",
    "version": 3
   },
   "file_extension": ".py",
   "mimetype": "text/x-python",
   "name": "python",
   "nbconvert_exporter": "python",
   "pygments_lexer": "ipython3",
   "version": "3.9.7"
  }
 },
 "nbformat": 4,
 "nbformat_minor": 5
}
