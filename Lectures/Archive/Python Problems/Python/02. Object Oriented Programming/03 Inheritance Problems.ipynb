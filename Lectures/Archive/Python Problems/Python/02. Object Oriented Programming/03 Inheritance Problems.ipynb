{
 "cells": [
  {
   "cell_type": "markdown",
   "id": "258a182d-351d-4481-ac0b-0ee5164f670a",
   "metadata": {},
   "source": [
    "<img src=\"../../images/banners/python-oop.png\" width=\"600\"/>"
   ]
  },
  {
   "cell_type": "markdown",
   "id": "e27dfd49-4c34-4901-90e9-d294efb1478c",
   "metadata": {},
   "source": [
    "# <img src=\"../../images/logos/python.png\" width=\"23\"/> Inheritance Problems"
   ]
  },
  {
   "cell_type": "markdown",
   "id": "1111e49e-96cf-40e8-86d3-2cc74816ebeb",
   "metadata": {},
   "source": [
    "## Problem 1"
   ]
  },
  {
   "cell_type": "markdown",
   "id": "3737384b-963d-414c-868b-64ab3d9bbc67",
   "metadata": {},
   "source": [
    "Create a simple inheritance hierarchy of three classes that write to text files. \n",
    "- WriteFile\n",
    "- LogFile\n",
    "- DelimFile"
   ]
  },
  {
   "cell_type": "markdown",
   "id": "e555633a-dfd7-44b9-8d29-51cf3750e060",
   "metadata": {},
   "source": [
    "**WriteFile:**  the parent class to both LogFile and DelimFile, does work that is common between them.   Not intended to be instantiated."
   ]
  },
  {
   "cell_type": "markdown",
   "id": "6b9952d9-9607-4f89-9722-8dddd5cca4f1",
   "metadata": {},
   "source": [
    "**LogFile(WriteFile):** its instance writes a date and message to a log file:  \n",
    "2023-01-21 18:35   this is a log message"
   ]
  },
  {
   "cell_type": "markdown",
   "id": "51214248-dba9-4257-93e6-691aaa517d1b",
   "metadata": {},
   "source": [
    "**DelimFile(WriteFile):** its instance writes values separated by a delimeter:   \n",
    "a,b,c,d"
   ]
  },
  {
   "cell_type": "markdown",
   "id": "5dace617-4cd3-4164-b321-a0338d02ca46",
   "metadata": {},
   "source": [
    "**Hint:** you need to `import datetime` "
   ]
  },
  {
   "cell_type": "markdown",
   "id": "84c8cd9e-0a29-4f1d-9750-a244dfd3b250",
   "metadata": {},
   "source": [
    "Example:"
   ]
  },
  {
   "cell_type": "markdown",
   "id": "51e3fc85-7cf4-4dba-a46c-6e897c73faae",
   "metadata": {},
   "source": [
    "```python\n",
    "log = LogFile( 'log.txt' )\n",
    "delim = DelimFile( 'data.csv', ',' )\n",
    "log.write('this is a log message')\n",
    "mydelim.write(['a', 'b', 'c', 'd'])\n",
    "```"
   ]
  },
  {
   "cell_type": "markdown",
   "id": "27f20fef-a30a-4df5-a82f-ffd730196159",
   "metadata": {},
   "source": [
    "# Solution:"
   ]
  },
  {
   "cell_type": "code",
   "execution_count": null,
   "id": "656cf8e3-bebb-48d6-8538-bd8ccf97bd82",
   "metadata": {},
   "outputs": [],
   "source": [
    "from datetime import datetime\n",
    "from abc import ABC, abstractmethod\n",
    "#----------------------------------\n",
    "class WriteFile(ABC):\n",
    "    def __init__(self, filename):\n",
    "        self.filename = filename\n",
    "    \n",
    "    def write_line(self, text):\n",
    "        f = open(self.filename, 'a')\n",
    "        f.write(text + '\\n')\n",
    "        f.close()\n",
    "    \n",
    "    @abstractmethod\n",
    "    def write(self, text):\n",
    "        pass\n",
    "#------------------------------------   \n",
    "class LogFile(WriteFile):\n",
    "        \n",
    "    def write(self, text):\n",
    "        dt = datetime.now().strftime('%Y-%m-%d %H:%M:%S')\n",
    "        text = dt + '\\t' + text\n",
    "        self.write_line(text)\n",
    "#-------------------------------------        \n",
    "class DelimFile(WriteFile):\n",
    "    \n",
    "    def __init__(self, filename, sep):\n",
    "        super().__init__(filename)\n",
    "        self.sep = sep\n",
    "        \n",
    "    def write(self, one_list):\n",
    "        text = self.sep.join(one_list)\n",
    "        self.write_line(text)\n",
    "#------------------------------------\n",
    "log = LogFile('log.txt')\n",
    "log.write('this is a log message')\n",
    "log.write('this is another log message')\n",
    "\n",
    "mydelim = DelimFile('data.csv', ',')                        \n",
    "mydelim.write(['a', 'b', 'c', 'd'])      \n",
    "mydelim.write(['1', '2', '3', '4'])"
   ]
  },
  {
   "cell_type": "markdown",
   "id": "9e33f93a-07c5-4311-9550-baaed4ea6e05",
   "metadata": {},
   "source": [
    "***"
   ]
  },
  {
   "cell_type": "markdown",
   "id": "f9abd8af-bf2d-4391-9662-4b6a3bc27bb7",
   "metadata": {},
   "source": [
    "## Problem 2"
   ]
  },
  {
   "cell_type": "markdown",
   "id": "e0d8117f-697c-4a22-8426-8bbbea1ccc24",
   "metadata": {},
   "source": [
    "Use inheritance to complete the code below until the output looks like this.\n",
    "\n",
    "Output:  \n",
    "ID number of Amir is 886012  \n",
    "salary: $200000 and post: Manager"
   ]
  },
  {
   "cell_type": "markdown",
   "id": "0deace88-b4a9-49e1-8db4-44b843eb015d",
   "metadata": {},
   "source": [
    "```python\n",
    "class Person:\n",
    " \n",
    "    def __init__(self, name, id_number):\n",
    "        self.name = name\n",
    "        self.id_number = id_number\n",
    " \n",
    "    def display(self):\n",
    "        print(f'ID number of {self.name} is {self.id_number}')\n",
    "\n",
    "class # Complete here:\n",
    "    def __init__(self, name, id_number, salary, post):\n",
    "        # Complete here...\n",
    "        \n",
    "    def display(self):\n",
    "        # Complete here...\n",
    "        \n",
    "#-------------------------------------------------------------\n",
    "a = Employee('Amir', 886012, 200000, \"Manager\")\n",
    "a.display()\n",
    "```"
   ]
  },
  {
   "cell_type": "markdown",
   "id": "6d882442-1565-44fd-ab2d-34a1d8e15821",
   "metadata": {},
   "source": [
    "## Solution"
   ]
  },
  {
   "cell_type": "code",
   "execution_count": null,
   "id": "f2218f13-aeba-4585-b7eb-caa8a5c6f6f0",
   "metadata": {},
   "outputs": [],
   "source": [
    "class Person:\n",
    " \n",
    "    def __init__(self, name, id_number):\n",
    "        self.name = name\n",
    "        self.id_number = id_number\n",
    " \n",
    "    def display(self):\n",
    "        print(f'ID number of {self.name} is {self.id_number}')\n",
    "\n",
    "#child class\n",
    "class Employee(Person):\n",
    "    def __init__(self, name, id_number, salary, post):\n",
    "        super().__init__(name, id_number)\n",
    "        self.salary = salary\n",
    "        self.post = post\n",
    "        \n",
    "    def display(self):\n",
    "        super().display()\n",
    "        print(f'salary: ${self.salary} and post: {self.post}')\n",
    "#-------------------------------------------------------------\n",
    "a = Employee('Amir', 886012, 200000, \"Manager\")\n",
    "a.display()"
   ]
  },
  {
   "cell_type": "markdown",
   "id": "f0bff58a-b4f7-40b5-a482-0215afad0ee9",
   "metadata": {},
   "source": [
    "---"
   ]
  },
  {
   "cell_type": "markdown",
   "id": "7d1f0a1e-c8a8-4ae6-9b35-b475be023ab8",
   "metadata": {},
   "source": [
    "## problem 3"
   ]
  },
  {
   "cell_type": "markdown",
   "id": "64d394b1-f1f7-4c4b-8a68-325716f24168",
   "metadata": {},
   "source": [
    "Create a class named **Human** with `firstname` and `lastname` properties, and a `create_id` method. This method create id look like: **#A-B**  \n",
    "A and B are the first character of the first name and last name."
   ]
  },
  {
   "cell_type": "markdown",
   "id": "e53b3d21-945a-460c-97a2-2976229906e6",
   "metadata": {},
   "source": [
    "Create a class named **Worker**, which inherits the properties and methods from the Human class. This class has another property named `job` and also `welcome` method."
   ]
  },
  {
   "cell_type": "markdown",
   "id": "8b129862-cd36-4f74-b757-9ecc1ff79390",
   "metadata": {},
   "source": [
    "Use the Worker class to create an object, and then:\n",
    "- Show all its properties.\n",
    "- Execute the `create_id` method.\n",
    "- Execute the `welcome` method."
   ]
  },
  {
   "cell_type": "markdown",
   "id": "aae893b5-8107-40be-b342-301249560c9d",
   "metadata": {},
   "source": [
    "Example:\n",
    "```python\n",
    ">>> worker1 = Worker(\"John\", \"Doe\", 'Programmer')\n",
    ">>> print(worker1.firstname)\n",
    "John\n",
    ">>> print(worker1.lastname)\n",
    "Doe\n",
    ">>> print(worker1.job)\n",
    "Programmer\n",
    ">>> print(worker1.create_id())\n",
    "#J-B\n",
    ">>> worker1.welcome()\n",
    "Hello, my name is John Doe\n",
    "I am Programmer\n",
    "```"
   ]
  },
  {
   "cell_type": "markdown",
   "id": "7f245903-e735-47d3-bffa-c0be806ff429",
   "metadata": {},
   "source": [
    "## Solution"
   ]
  },
  {
   "cell_type": "code",
   "execution_count": null,
   "id": "cb14b5a6-212a-4e59-8bbe-db1a7a6572c9",
   "metadata": {},
   "outputs": [],
   "source": [
    "class Human:\n",
    "    def __init__(self, fname, lname):\n",
    "        self.firstname = fname\n",
    "        self.lastname = lname\n",
    "\n",
    "    def create_id(self):\n",
    "        self.id = '#' + '-'.join(\n",
    "            (self.firstname[0], self.lastname[0])\n",
    "        ).upper()\n",
    "        \n",
    "        return self.id\n",
    "#-------------------------------------------\n",
    "class Worker(Human):\n",
    "    def __init__(self, fname, lname, job):\n",
    "        super().__init__(fname, lname)\n",
    "        self.job = job\n",
    "\n",
    "    def welcome(self):\n",
    "        print(\"Hello, my name is\", self.firstname, self.lastname)\n",
    "        print('I am', self.job)\n",
    "#-------------------------------------------------\n",
    "\n",
    "worker1 = Worker(\"John\", \"Doe\", 'Programmer')\n",
    "print(worker1.firstname)\n",
    "print(worker1.lastname)\n",
    "print(worker1.job)\n",
    "print(worker1.create_id())\n",
    "worker1.welcome()"
   ]
  },
  {
   "cell_type": "markdown",
   "id": "8e5d5256-b732-4177-8e04-4f4da668097f",
   "metadata": {},
   "source": [
    "---"
   ]
  },
  {
   "cell_type": "markdown",
   "id": "8ad6c104-7a03-4022-a856-54fcc2664e81",
   "metadata": {},
   "source": [
    "## problem 4"
   ]
  },
  {
   "cell_type": "markdown",
   "id": "f2011446-17e8-42d8-8dd3-aa0eaceae639",
   "metadata": {},
   "source": [
    "Define a `Abstract Class` named **Person** and its two child classes: **Male** and **Female**.  \n",
    "All classes must have a method `getGender` which can print \"Male\" for Male class and \"Female\" for Female class."
   ]
  },
  {
   "cell_type": "markdown",
   "id": "852e11a9-be8a-4d1c-951d-ed45950244b4",
   "metadata": {},
   "source": [
    "Example:\n",
    "```python\n",
    ">>> aMale = Male()\n",
    ">>> aFemale= Female()\n",
    ">>> print(aMale.getGender())\n",
    ">>> print(aFemale.getGender())\n",
    "Male\n",
    "Female\n",
    "```"
   ]
  },
  {
   "cell_type": "markdown",
   "id": "de204dc0-e31c-490b-9460-43dc529e7666",
   "metadata": {},
   "source": [
    "## Solution"
   ]
  },
  {
   "cell_type": "code",
   "execution_count": null,
   "id": "8c9378fd-c0b0-4b75-a567-da6d725c9d49",
   "metadata": {},
   "outputs": [],
   "source": [
    "from abc import ABC, abstractmethod\n",
    "\n",
    "class Person(ABC):\n",
    "    @abstractmethod\n",
    "    def getGender(self):\n",
    "        pass\n",
    "\n",
    "class Male(Person):\n",
    "    def getGender(self):\n",
    "        return \"Male\"\n",
    "\n",
    "class Female(Person):\n",
    "    pass\n",
    "    def getGender(self):\n",
    "        return \"Female\"\n",
    "#--------------------------\n",
    "aMale = Male()\n",
    "aFemale= Female()\n",
    "print(aMale.getGender())\n",
    "print(aFemale.getGender())"
   ]
  },
  {
   "cell_type": "markdown",
   "id": "1fe65124-084c-4e5f-aa32-ed126564c85d",
   "metadata": {},
   "source": [
    "---"
   ]
  },
  {
   "cell_type": "markdown",
   "id": "02247a9c-3fe3-4da7-bcc7-574f58fe75bd",
   "metadata": {},
   "source": [
    "## problem 5"
   ]
  },
  {
   "cell_type": "markdown",
   "id": "64646955-67f9-47a1-95b0-e0fbdabe4169",
   "metadata": {},
   "source": [
    "Define a class named **Shape** and its subclass **Square**. The Square class has an init function which takes a length as argument. Both classes have a `area` method which can print the area of the shape where Shape's area is 0 by default."
   ]
  },
  {
   "cell_type": "markdown",
   "id": "8f2a21bd-3f0d-4544-9100-9d7ba51240ee",
   "metadata": {},
   "source": [
    "Example:\n",
    "```python\n",
    ">>> square1 = Square(3)\n",
    ">>> print(square1.area())\n",
    "9\n",
    "```"
   ]
  },
  {
   "cell_type": "markdown",
   "id": "c747b2c7-3dbd-43b8-a4ef-5a6f913831ab",
   "metadata": {},
   "source": [
    "Source link:  \n",
    "https://gist.github.com/KirosG/f265f136bd97bd669632fa0f2f2721b4"
   ]
  },
  {
   "cell_type": "markdown",
   "id": "5cbdb3ed-6130-4af6-a326-2b137afff111",
   "metadata": {},
   "source": [
    "## Solution"
   ]
  },
  {
   "cell_type": "code",
   "execution_count": null,
   "id": "7f177fac-d965-4ebd-9ace-91fa2da08e4f",
   "metadata": {},
   "outputs": [],
   "source": [
    "class Shape:\n",
    "    def __init__(self):\n",
    "        pass\n",
    "\n",
    "    def area(self):\n",
    "        return 0\n",
    "\n",
    "class Square(Shape):\n",
    "    def __init__(self, l):\n",
    "        # Shape.__init__(self)\n",
    "        self.length = l\n",
    "\n",
    "    def area(self):\n",
    "        return self.length* self.length\n",
    "#------------------------------------\n",
    "square1 = Square(3)\n",
    "print(square1.area())"
   ]
  },
  {
   "cell_type": "markdown",
   "id": "3027016b-10a8-499f-a9d0-fdafb7512c91",
   "metadata": {},
   "source": [
    "---"
   ]
  }
 ],
 "metadata": {
  "kernelspec": {
   "display_name": "Python 3 (ipykernel)",
   "language": "python",
   "name": "python3"
  },
  "language_info": {
   "codemirror_mode": {
    "name": "ipython",
    "version": 3
   },
   "file_extension": ".py",
   "mimetype": "text/x-python",
   "name": "python",
   "nbconvert_exporter": "python",
   "pygments_lexer": "ipython3",
   "version": "3.9.7"
  }
 },
 "nbformat": 4,
 "nbformat_minor": 5
}
