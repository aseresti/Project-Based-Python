{
 "cells": [
  {
   "cell_type": "markdown",
   "id": "7c7bd1e1-0531-4b09-b67b-3780ea9cf2d0",
   "metadata": {},
   "source": [
    "<img src=\"../../images/banners/python-basics.png\" width=\"600\"/>"
   ]
  },
  {
   "cell_type": "markdown",
   "id": "08bf500d-e3c3-4915-ab53-37e6fc0deafb",
   "metadata": {},
   "source": [
    "# <img src=\"../../images/logos/python.png\" width=\"23\"/> Defining Your Own Python Function, Part #2 Problems"
   ]
  },
  {
   "cell_type": "markdown",
   "id": "35b700c7-4467-4260-a142-9f7d3f68ee73",
   "metadata": {},
   "source": [
    "## Problem 1"
   ]
  },
  {
   "cell_type": "markdown",
   "id": "980e0311-dd27-4b29-ab09-90eb6ea57a98",
   "metadata": {},
   "source": [
    "Write a Python program to find strings in a given list that:\n",
    "- starting with a given prefix\n",
    "- containing a given substring\n",
    "- ending with a given suffix\n",
    "\n",
    "<br>\n",
    "<b> Hint: </b> use function with keyword arguments"
   ]
  },
  {
   "cell_type": "markdown",
   "id": "7a9517ae-6346-4d3b-95ba-944f8dc3175b",
   "metadata": {},
   "source": [
    "<b> Examples: </b>"
   ]
  },
  {
   "cell_type": "markdown",
   "id": "0dd72f79-6502-4190-b921-15b30eed571b",
   "metadata": {},
   "source": [
    "prefix = 'ca' <br>\n",
    "word_list = ['cat', 'car', 'fear', 'center'] <br>\n",
    "output = ['cat', 'car']"
   ]
  },
  {
   "cell_type": "markdown",
   "id": "938643b9-beb6-466c-aa5b-640afa9abe6c",
   "metadata": {},
   "source": [
    "substring = 'do' <br>\n",
    "word_list = ['pen', 'google docs', 'shatter', 'donut', 'at', 'todo'] <br>\n",
    "output = ['google docs', 'donut', 'todo']"
   ]
  },
  {
   "cell_type": "markdown",
   "id": "95b92f49-1846-424f-83fc-e33968f30c1f",
   "metadata": {},
   "source": [
    "sufix = 'ing' <br>\n",
    "word_list = ['played', 'reading', 'help', 'drawing', 'spoken'] <br>\n",
    "output = ['reading', 'drawing' ]"
   ]
  },
  {
   "cell_type": "markdown",
   "id": "ebeb5418-567c-4120-a388-33128136a197",
   "metadata": {},
   "source": [
    "## Solution"
   ]
  },
  {
   "cell_type": "code",
   "execution_count": null,
   "id": "452a9695-8ec9-481e-9ea4-df8f110ae2e3",
   "metadata": {},
   "outputs": [],
   "source": [
    "def process(word_list,*, prefix='', substring='', sufix=''):\n",
    "    if prefix:\n",
    "        return [s for s in word_list if s.startswith(prefix)]\n",
    "    \n",
    "    elif substring:\n",
    "        return [s for s in word_list if substring in s]\n",
    "    \n",
    "    elif sufix:\n",
    "        return [s for s in word_list if s.endswith(sufix)]"
   ]
  },
  {
   "cell_type": "code",
   "execution_count": null,
   "id": "82c1f98f-746e-4669-9cfc-195476ffd0c4",
   "metadata": {},
   "outputs": [],
   "source": [
    "process(['cat', 'car', 'fear', 'center'], prefix='ca')\n",
    "process(['pen', 'google docs', 'shatter', 'donut', 'at', 'todo'], substring='do')\n",
    "process(['played', 'reading', 'help', 'drawing', 'spoken'], sufix='ing')"
   ]
  },
  {
   "cell_type": "markdown",
   "id": "4f9035f5-1266-4ae8-8259-5cb4044dec42",
   "metadata": {},
   "source": [
    "***"
   ]
  },
  {
   "cell_type": "markdown",
   "id": "ec622dac-d2c0-4a86-99de-56885ef986a2",
   "metadata": {},
   "source": [
    "## Problem 2"
   ]
  },
  {
   "cell_type": "markdown",
   "id": "cfde5cd7-8207-47b9-9236-b8784ec577d1",
   "metadata": {},
   "source": [
    "Write factorial function by using recursion. Recursion means using function itself in the function."
   ]
  },
  {
   "cell_type": "markdown",
   "id": "f4614105-fabb-466d-ba05-09ea455941bd",
   "metadata": {},
   "source": [
    "Example:  \n",
    "```python\n",
    ">>> fact(5)\n",
    "120\n",
    "```"
   ]
  },
  {
   "cell_type": "markdown",
   "id": "059ae5fc-6050-40ba-90c4-44c98c181eeb",
   "metadata": {},
   "source": [
    "Source link:  \n",
    "https://www.youtube.com/watch?v=qXg6xwAhtKo&list=PLzgPDYo_3xulOYHoVsg7uASoF-OE3GE-S&index=6"
   ]
  },
  {
   "cell_type": "markdown",
   "id": "dd9ca377-4802-4f58-88df-38e56fedca84",
   "metadata": {},
   "source": [
    "## Solution"
   ]
  },
  {
   "cell_type": "code",
   "execution_count": null,
   "id": "58f1fdb0-dd4c-4e83-921d-00263c4a0551",
   "metadata": {},
   "outputs": [],
   "source": [
    "def fact(n):\n",
    "    if n == 0:\n",
    "        return 1\n",
    "    else:\n",
    "        return n * fact(n-1)\n",
    "    \n",
    "#--------------------------\n",
    "fact(5)"
   ]
  },
  {
   "cell_type": "markdown",
   "id": "4367f69f-3244-4fac-999c-c5ef073bb88c",
   "metadata": {},
   "source": [
    "---"
   ]
  },
  {
   "cell_type": "markdown",
   "id": "f54c487e-58ab-426a-83a6-7b3a6fc91ce8",
   "metadata": {},
   "source": [
    "## Problem 3"
   ]
  },
  {
   "cell_type": "markdown",
   "id": "a01d830f-8ab8-416d-933b-1b761e69745a",
   "metadata": {},
   "source": [
    "Using sorted() function, reverse parameter and lambda to sort the tuples in the list based on the last character of the second items in reverse order.\n",
    "```python\n",
    "lst = [(19542209, \"New York\") ,(4887871, \"Alabama\"), (1420491, \"Hawaii\"), (626299, \"Vermont\"), (1805832, \"West Virginia\"), (39865590, \"California\")]\n",
    "```"
   ]
  },
  {
   "cell_type": "markdown",
   "id": "b16c544b-b9e0-44ae-add4-60c5315252fa",
   "metadata": {},
   "source": [
    "Source link:  \n",
    "https://holypython.com/intermediate-python-exercises/exercise-11-python-lambda/"
   ]
  },
  {
   "cell_type": "markdown",
   "id": "9e538a0b-d290-4a50-893a-a8d713045892",
   "metadata": {},
   "source": [
    "## Solution"
   ]
  },
  {
   "cell_type": "code",
   "execution_count": null,
   "id": "1ad9ac7d-c29c-4463-899c-daeac6442cbb",
   "metadata": {},
   "outputs": [],
   "source": [
    "lst = [(19542209, \"New York\") ,(4887871, \"Alabama\"), (1420491, \"Hawaii\"), (626299, \"Vermont\"), (1805832, \"West Virginia\"), (39865590, \"California\")]\n",
    "lst = sorted(lst, key=lambda x: x[1][-1], reverse = True)\n",
    "print(lst)"
   ]
  },
  {
   "cell_type": "markdown",
   "id": "1475d465-090c-4a54-9d01-fb5e4ccf1746",
   "metadata": {},
   "source": [
    "---"
   ]
  },
  {
   "cell_type": "markdown",
   "id": "3b0c4592-d0b3-42bd-b342-3e427c007607",
   "metadata": {},
   "source": [
    "## Problem 4"
   ]
  },
  {
   "cell_type": "markdown",
   "id": "67e1f30f-1a22-4af2-8469-40831fc8d4b3",
   "metadata": {},
   "source": [
    "Write a function named **make_dict** can takes several inputs from the user and return a dictionary which the keys are integer numbers starting from 1 and the values are the user inputs."
   ]
  },
  {
   "cell_type": "markdown",
   "id": "98581029-c453-427e-ac55-11ae547cfa85",
   "metadata": {},
   "source": [
    "Example:  \n",
    "```python\n",
    ">>> r1 = make_dict(150, 45)  \n",
    ">>> r2 = make_dict('hello', 123, 'Python')  \n",
    ">>> print(r1)  \n",
    ">>> print(r2) \n",
    "{1: 150, 2: 45}\n",
    "{1: 'hello', 2: 123, 3: 'Python'}\n",
    "```"
   ]
  },
  {
   "cell_type": "markdown",
   "id": "af390bb3-f382-457b-8b8f-5e9bb79d29c6",
   "metadata": {},
   "source": [
    "## Solution"
   ]
  },
  {
   "cell_type": "code",
   "execution_count": null,
   "id": "dbc4d7f5-26d4-49db-95b9-db63aad35f0c",
   "metadata": {},
   "outputs": [],
   "source": [
    "def make_dict(*args):\n",
    "    result = {}\n",
    "    n = len(args) + 1\n",
    "    i = 0\n",
    "    for item in args:\n",
    "        i += 1\n",
    "        result[i] = item \n",
    "        \n",
    "    return result\n",
    "#--------------------\n",
    "r1 = make_dict(150, 45)\n",
    "r2 = make_dict('hello', 123, 'Python')\n",
    "print(r1)\n",
    "print(r2)"
   ]
  },
  {
   "cell_type": "markdown",
   "id": "1b792535-6a6f-4ca6-b19b-fda7c66ef928",
   "metadata": {},
   "source": [
    "---"
   ]
  },
  {
   "cell_type": "markdown",
   "id": "5e8fd48b-2ca8-42b0-adb8-eff7c536080e",
   "metadata": {},
   "source": [
    "## Problem 5"
   ]
  },
  {
   "cell_type": "markdown",
   "id": "a6e89012-4816-42de-8767-d754e30f137f",
   "metadata": {},
   "source": [
    "Write a program to compute:\n",
    "\n",
    "f(n)=f(n-1)+100 when n>0 and f(0)=0\n",
    "\n",
    "n is user input."
   ]
  },
  {
   "cell_type": "markdown",
   "id": "5c1b085b-8112-4b8f-8d55-d50e16ccde3b",
   "metadata": {},
   "source": [
    "Example:  \n",
    "\n",
    "Input:   \n",
    "5\n",
    "\n",
    "Output:  \n",
    "500"
   ]
  },
  {
   "cell_type": "markdown",
   "id": "8ff95b75-3aa2-460d-b5a7-299008d33943",
   "metadata": {},
   "source": [
    "Source link:  \n",
    "https://gist.github.com/KirosG/f265f136bd97bd669632fa0f2f2721b4"
   ]
  },
  {
   "cell_type": "markdown",
   "id": "7756fe60-e5e2-4a72-8793-a62dd047da21",
   "metadata": {},
   "source": [
    "## Solution"
   ]
  },
  {
   "cell_type": "code",
   "execution_count": null,
   "id": "f00b8387-10d2-4f28-bf5e-26ceb396c906",
   "metadata": {},
   "outputs": [],
   "source": [
    "def f(n):\n",
    "    if n == 0:\n",
    "        return 0\n",
    "    else:\n",
    "        return f(n-1) + 100\n",
    "#---------------------------\n",
    "n=int(input('Enter n :'))\n",
    "print(f(n))"
   ]
  },
  {
   "cell_type": "markdown",
   "id": "0b07638c-9077-47f9-8c69-3107a4b87ec4",
   "metadata": {},
   "source": [
    "---"
   ]
  },
  {
   "cell_type": "markdown",
   "id": "2ce1a487-1ec0-4393-a6ea-39dce0c6a934",
   "metadata": {},
   "source": [
    "## Problem 6"
   ]
  },
  {
   "cell_type": "markdown",
   "id": "d616d12d-24d5-462e-8179-eef448cacf9e",
   "metadata": {},
   "source": [
    "Write a **binary search** function which searches an item in a sorted list. The function should return the index of element to be searched in the list."
   ]
  },
  {
   "cell_type": "markdown",
   "id": "c51f6c6b-f1f6-409f-8cd0-138bb4df6e45",
   "metadata": {},
   "source": [
    "Example:  \n",
    "```python\n",
    ">>> li = [2,5,7,9,11,17,222]\n",
    ">>> print(binary_search(li,11))\n",
    "4\n",
    ">>> print(binary_search(li,12))\n",
    "Not Found\n",
    "```"
   ]
  },
  {
   "cell_type": "markdown",
   "id": "725c4d16-4b75-40c7-87fc-98735a97c9b8",
   "metadata": {},
   "source": [
    "Source link:  \n",
    "https://gist.github.com/KirosG/f265f136bd97bd669632fa0f2f2721b4"
   ]
  },
  {
   "cell_type": "markdown",
   "id": "9a3a2feb-4a1f-42eb-b41e-846de1444ede",
   "metadata": {},
   "source": [
    "## Solution"
   ]
  },
  {
   "cell_type": "code",
   "execution_count": null,
   "id": "81f41057-68d6-400c-9d01-021a8ef24329",
   "metadata": {},
   "outputs": [],
   "source": [
    "import math\n",
    "def binary_search(li, element):\n",
    "    \n",
    "    bottom = 0\n",
    "    top = len(li)-1\n",
    "    index = 'Not Found'\n",
    "    \n",
    "    while (top >= bottom) and (index == 'Not Found'):\n",
    "        \n",
    "        mid = int(math.floor((top+bottom)/2.0))\n",
    "        \n",
    "        if li[mid] == element:\n",
    "            index = mid\n",
    "            \n",
    "        elif li[mid] > element:\n",
    "            top = mid-1\n",
    "            \n",
    "        else:\n",
    "            bottom = mid+1\n",
    "\n",
    "    return index\n",
    "#-------------------------------\n",
    "li = [2,5,7,9,11,17,222]\n",
    "print(binary_search(li,11))\n",
    "print(binary_search(li,12))"
   ]
  },
  {
   "cell_type": "markdown",
   "id": "f49bc6b5-723d-4ca7-8054-f0be65eb7842",
   "metadata": {},
   "source": [
    "---"
   ]
  },
  {
   "cell_type": "markdown",
   "id": "e0d3d84f-0a02-473a-b271-9b8b2e04da0a",
   "metadata": {},
   "source": [
    "## Problem 7"
   ]
  },
  {
   "cell_type": "markdown",
   "id": "b3a95c57-0b31-4085-9224-7b923ae81322",
   "metadata": {},
   "source": [
    "Write a **sum_all** function that accepts an arbitrary number of positional arguments and calculate sum of them."
   ]
  },
  {
   "cell_type": "markdown",
   "id": "11a49368-1d5e-4d1a-a755-90281e8670b2",
   "metadata": {},
   "source": [
    "Example:  \n",
    "```python\n",
    ">>> print(sum_all(2, 10, 28))\n",
    "40\n",
    ">>> print(sum_all(-25, 30, 45, 90, 80))\n",
    "225\n",
    "```"
   ]
  },
  {
   "cell_type": "markdown",
   "id": "26de8b48-1811-4629-b838-b69e749c4983",
   "metadata": {},
   "source": [
    "## Solution"
   ]
  },
  {
   "cell_type": "code",
   "execution_count": null,
   "id": "add9309f-977b-4eeb-8727-949c27b240df",
   "metadata": {},
   "outputs": [],
   "source": [
    "def sum_all(*args):\n",
    "    \n",
    "    result = 0\n",
    "    for number in args:\n",
    "        result += number\n",
    "    return result\n",
    "#---------------------\n",
    "print(sum_all(2, 10, 28))\n",
    "print(sum_all(-25, 30, 45, 90, 80))"
   ]
  },
  {
   "cell_type": "markdown",
   "id": "f953a5ae-3e02-441c-9c63-63e958556d71",
   "metadata": {},
   "source": [
    "---"
   ]
  },
  {
   "cell_type": "markdown",
   "id": "32c01be1-9904-410a-880c-a0ab99d1aba9",
   "metadata": {},
   "source": [
    "## Problem 8"
   ]
  },
  {
   "cell_type": "markdown",
   "id": "42a3349e-fa4d-452e-80b9-56756248e4cf",
   "metadata": {},
   "source": [
    "Write a **multigreet** function that accepts any number of friend names and greets them all."
   ]
  },
  {
   "cell_type": "markdown",
   "id": "0eff50cb-316f-417c-85c1-9ef0c8960595",
   "metadata": {},
   "source": [
    "Example:  \n",
    "```python\n",
    ">>> multigreet(\"Rolf\")\n",
    "Hello, Rolf!\n",
    ">>> multigreet(\"Rolf\", \"Bob\", \"Anne\")\n",
    "Hello, Rolf!\n",
    "Hello, Bob!\n",
    "Hello, Anne!\n",
    "```"
   ]
  },
  {
   "cell_type": "markdown",
   "id": "6f5427ad-937c-4823-85e7-2f7a7dda813c",
   "metadata": {},
   "source": [
    "Source link:  \n",
    "https://teclado.com/30-days-of-python/python-30-day-17-args-kwargs/"
   ]
  },
  {
   "cell_type": "markdown",
   "id": "f17634ec-2943-491e-974a-5f19c2cafe06",
   "metadata": {},
   "source": [
    "## Solution"
   ]
  },
  {
   "cell_type": "code",
   "execution_count": null,
   "id": "c1d148d6-342e-4311-86ff-b16766266267",
   "metadata": {},
   "outputs": [],
   "source": [
    "def multigreet(*args):\n",
    "    \n",
    "    for name in args:\n",
    "        print(f\"Hello, {name}!\")\n",
    "#---------------------------------\n",
    "multigreet(\"Rolf\", \"Bob\", \"Anne\")"
   ]
  },
  {
   "cell_type": "markdown",
   "id": "531b06cd-6de2-443f-8da2-0df6e02af9bf",
   "metadata": {},
   "source": [
    "---"
   ]
  },
  {
   "cell_type": "markdown",
   "id": "bb32df8f-12a8-4051-982b-b897cf5158dc",
   "metadata": {},
   "source": [
    "## Problem 9"
   ]
  },
  {
   "cell_type": "markdown",
   "id": "0b1af5ca-c4dc-4a12-8144-9bf9100f8fec",
   "metadata": {},
   "source": [
    "Why the following code raise error? How can you fix it?"
   ]
  },
  {
   "cell_type": "markdown",
   "id": "34020c34-b082-4e02-abc3-06c68ae45bed",
   "metadata": {},
   "source": [
    "Example:  \n",
    "```python\n",
    "def multigreet(*names, other):\n",
    "    for name in names:\n",
    "        print(f\"Hello, {name}!\")\n",
    "\n",
    "multigreet(\"Jose\", \"Phil\")\n",
    "```"
   ]
  },
  {
   "cell_type": "markdown",
   "id": "a3ea1b8a-93f6-43bc-be8f-ea055a24b222",
   "metadata": {},
   "source": [
    "Source link:  \n",
    "https://teclado.com/30-days-of-python/python-30-day-17-args-kwargs/"
   ]
  },
  {
   "cell_type": "markdown",
   "id": "8fc83252-148c-4c9b-84bf-bf6e14f14440",
   "metadata": {},
   "source": [
    "## Solution"
   ]
  },
  {
   "cell_type": "code",
   "execution_count": null,
   "id": "e571189e-455f-4e27-b577-7e5208e5c7cc",
   "metadata": {},
   "outputs": [],
   "source": [
    "# other is keyword argument.\n",
    "# You can set a default for it\n",
    "# or You have to use it as keyword argument.\n",
    "def multigreet(*names, other=''):\n",
    "    for name in names:\n",
    "        print(f\"Hello, {name}!\")\n",
    "\n",
    "multigreet(\"Jose\", \"Phil\")"
   ]
  },
  {
   "cell_type": "markdown",
   "id": "17997013-d10b-4959-9c89-f1ec5010bbed",
   "metadata": {},
   "source": [
    "---"
   ]
  },
  {
   "cell_type": "markdown",
   "id": "f1676ae5-242d-4a43-85eb-3592fb39c25d",
   "metadata": {},
   "source": [
    "## Problem 10"
   ]
  },
  {
   "cell_type": "markdown",
   "id": "52f3a3e8-d5a0-444b-8a28-61f676301874",
   "metadata": {},
   "source": [
    "Change the following code to force the user to use this function just with keyword arguments. (not allowd to use positional arguments)"
   ]
  },
  {
   "cell_type": "markdown",
   "id": "989b627c-ea77-4a34-a822-923e4a19d58a",
   "metadata": {},
   "source": [
    "```python\n",
    "def introduce(name, age, city):\n",
    "    text = f'NAME  : {name} \\n' + \\\n",
    "    f'AGE   : {age} \\n' + \\\n",
    "    f'CITY  : {city} \\n'\n",
    "    print(text)\n",
    "introduce('Phil', 29, 'Budapest')\n",
    "```"
   ]
  },
  {
   "cell_type": "markdown",
   "id": "34e0ba10-d6c3-46c7-8773-1a22edb755d4",
   "metadata": {},
   "source": [
    "## Solution"
   ]
  },
  {
   "cell_type": "code",
   "execution_count": null,
   "id": "138c99e2-96f4-4cbe-bda3-b4171a5e30c8",
   "metadata": {},
   "outputs": [],
   "source": [
    "# Add * before the arguments\n",
    "# makes them keyword only arguments\n",
    "def introduce(*, name, age, city):\n",
    "    text = f'NAME  : {name} \\n' + \\\n",
    "    f'AGE   : {age} \\n' + \\\n",
    "    f'CITY  : {city} \\n'\n",
    "    print(text)\n",
    "introduce(name='Phil', age=29, city='Budapest')"
   ]
  },
  {
   "cell_type": "markdown",
   "id": "9377527d-3b42-49c7-be97-2c7285d075eb",
   "metadata": {},
   "source": [
    "---"
   ]
  },
  {
   "cell_type": "markdown",
   "id": "81a30b99-1346-42e3-8fd3-0a62c6d5c0a4",
   "metadata": {},
   "source": [
    "## Problem 11"
   ]
  },
  {
   "cell_type": "markdown",
   "id": "9dc03742-e75e-43c2-bc5a-af78361e1415",
   "metadata": {},
   "source": [
    "The following code runs correctly without any error."
   ]
  },
  {
   "cell_type": "markdown",
   "id": "31cec13a-7a2a-4036-892c-1b36f8a8645f",
   "metadata": {},
   "source": [
    "```python\n",
    "the_movie = {\n",
    "    \"title\": \"The Matrix\",\n",
    "    \"director\": \"Wachowski\",\n",
    "    \"year\": 1999\n",
    "}\n",
    "\n",
    "def print_details(movies):\n",
    "    for key, value in movies.items():\n",
    "        print(f\"{key}: {value}\")\n",
    "\n",
    "print_details(the_movie)\n",
    "```"
   ]
  },
  {
   "cell_type": "markdown",
   "id": "06e48fde-a6d2-4633-ae7b-90bbfaadefbc",
   "metadata": {},
   "source": [
    "What minimum changes need if we want to call fuction look like below:\n",
    "```python\n",
    "print_details(studio=\"Warner Bros\", movie)\n",
    "```"
   ]
  },
  {
   "cell_type": "markdown",
   "id": "f952bff3-97b4-4027-be98-6610cd4361ad",
   "metadata": {},
   "source": [
    "Source link:  \n",
    "https://teclado.com/30-days-of-python/python-30-day-17-args-kwargs/"
   ]
  },
  {
   "cell_type": "markdown",
   "id": "67d76a32-e3e1-4c25-bbfa-6099edaa8e16",
   "metadata": {},
   "source": [
    "## Solution"
   ]
  },
  {
   "cell_type": "code",
   "execution_count": null,
   "id": "b302d314-d889-45bb-866e-48340e458b1a",
   "metadata": {},
   "outputs": [],
   "source": [
    "# Minimum changes is to use ** befor\n",
    "# function argument in definition and\n",
    "# also when calling it.\n",
    "the_movie = {\n",
    "    \"title\": \"The Matrix\",\n",
    "    \"director\": \"Wachowski\",\n",
    "    \"year\": 1999\n",
    "}\n",
    "\n",
    "def print_details(**movies):\n",
    "    for key, value in movies.items():\n",
    "        print(f\"{key}: {value}\")\n",
    "\n",
    "print_details(studio=\"Warner Bros\", **the_movie)"
   ]
  },
  {
   "cell_type": "markdown",
   "id": "2267439f-443a-47d5-b6c0-7ac4012f5631",
   "metadata": {},
   "source": [
    "---"
   ]
  },
  {
   "cell_type": "markdown",
   "id": "85bf7acb-2edd-4142-b9dc-a84419bd8675",
   "metadata": {},
   "source": [
    "## Problem 12"
   ]
  },
  {
   "cell_type": "markdown",
   "id": "3db4927f-f74a-4992-abc2-f72767a850cd",
   "metadata": {},
   "source": [
    "Create a function named **arg_printer** that accepts any number of positional and keyword arguments, and that prints them back to the user. Your output should indicate which values were provided as positional arguments, and which were provided as keyword arguments."
   ]
  },
  {
   "cell_type": "markdown",
   "id": "f598c70d-3fb1-42f8-bd8a-2002be9767d8",
   "metadata": {},
   "source": [
    "Example:\n",
    "```python\n",
    ">>> arg_printer(1, \"blue\", [1,  23,  3], height = 184, key = lambda x: x ** 2)\n",
    "Positional arguments are: 1, 'blue', [1, 23, 3]\n",
    "Keyword arguments are: height=184, key=<function <lambda> at 0x7f9c34674160>\n",
    "```"
   ]
  },
  {
   "cell_type": "markdown",
   "id": "999a460f-eda3-4b0f-8153-db285870c3b0",
   "metadata": {},
   "source": [
    "Source link:  \n",
    "https://teclado.com/30-days-of-python/python-30-day-17-exercise-solutions/"
   ]
  },
  {
   "cell_type": "markdown",
   "id": "d62e3960-4dbc-43b1-afa8-51060c0cd40b",
   "metadata": {},
   "source": [
    "## Solution"
   ]
  },
  {
   "cell_type": "code",
   "execution_count": null,
   "id": "0ce5ddd3-2fba-46fa-b93b-6e200c7ff2fc",
   "metadata": {},
   "outputs": [],
   "source": [
    "def arg_printer(*args, **kwargs):\n",
    "    args = [repr(arg) for arg in args]\n",
    "    print(f\"Positional arguments are: {', '.join(args)}\")\n",
    "\n",
    "    kwargs = [f\"{key}={value}\" for key, value in kwargs.items()]\n",
    "    print(f\"Keyword arguments are: {', '.join(kwargs)}\")\n",
    "#--------------------------------------------\n",
    "arg_printer(1, \"blue\", [1,  23,  3], height = 184, key = lambda x: x ** 2)"
   ]
  },
  {
   "cell_type": "markdown",
   "id": "88501028-16f7-4965-933b-9afadc4eb9cf",
   "metadata": {},
   "source": [
    "---"
   ]
  },
  {
   "cell_type": "markdown",
   "id": "2ff14ecf-b5fb-4362-989d-1ad7bc6513a1",
   "metadata": {},
   "source": [
    "## Problem 13"
   ]
  },
  {
   "cell_type": "markdown",
   "id": "86952de1-cd57-408d-ad3f-266bfcf9fc30",
   "metadata": {},
   "source": [
    "We have a list of famous singers of each country. Use `lambda` to write a function that, if called for each item of the persons, will return a tuple containing the `name` and `country` of each singer and do not return their age.\n",
    "```python\n",
    "persons = [(\"Paul David Hewson\", 61, \"Ireland\"),\n",
    "           (\"Saeed Mohammadi\", 63, \"Iran\"),\n",
    "           (\"Alla Borisovna Pugacheva\", 77, \"Russia\"),\n",
    "           (\"David Jon Gilmour\", 75, \"United Kingdom\"),\n",
    "           (\"Aryana Sayeed\", 36, \"Afghanistan\"),\n",
    "           (\"Céline Marie Claudette Dion\", 53, \"Canad\"),\n",
    "           (\"Caetano Emanuel Viana Telles Veloso\", 79, \"Brazil\"),]\n",
    "```"
   ]
  },
  {
   "cell_type": "markdown",
   "id": "b04d91fe-cbc3-43e7-9f6a-de840196355a",
   "metadata": {},
   "source": [
    "Output:\n",
    "\n",
    "('Paul David Hewson', 'Ireland')  \n",
    "('Saeed Mohammadi', 'Iran')  \n",
    "('Alla Borisovna Pugacheva', 'Russia')  \n",
    "('David Jon Gilmour', 'United Kingdom')  \n",
    "('Aryana Sayeed', 'Afghanistan')  \n",
    "('Céline Marie Claudette Dion', 'Canad')  \n",
    "('Caetano Emanuel Viana Telles Veloso', 'Brazil')  "
   ]
  },
  {
   "cell_type": "markdown",
   "id": "f9dc6a8e-cbe9-4e6d-a29a-c4f328eda145",
   "metadata": {},
   "source": [
    "Source link:  \n",
    "https://github.com/pytopia/PyExercises/tree/main"
   ]
  },
  {
   "cell_type": "markdown",
   "id": "d24be972-6021-4b24-8c76-4966b5ba0b4e",
   "metadata": {},
   "source": [
    "## Solution"
   ]
  },
  {
   "cell_type": "code",
   "execution_count": null,
   "id": "97de8e31-e713-458c-bf92-19e35dc90647",
   "metadata": {},
   "outputs": [],
   "source": [
    "persons = [(\"Paul David Hewson\", 61, \"Ireland\"),\n",
    "           (\"Saeed Mohammadi\", 63, \"Iran\"),\n",
    "           (\"Alla Borisovna Pugacheva\", 77, \"Russia\"),\n",
    "           (\"David Jon Gilmour\", 75, \"United Kingdom\"),\n",
    "           (\"Aryana Sayeed\", 36, \"Afghanistan\"),\n",
    "           (\"Céline Marie Claudette Dion\", 53, \"Canad\"),\n",
    "           (\"Caetano Emanuel Viana Telles Veloso\", 79, \"Brazil\"),]\n",
    "\n",
    "func = lambda x: (x[0],x[2])\n",
    "for person in persons:\n",
    "    print(func(person))"
   ]
  },
  {
   "cell_type": "markdown",
   "id": "41ac5d89-4fad-4bf3-918f-61d2336685e6",
   "metadata": {},
   "source": [
    "---"
   ]
  }
 ],
 "metadata": {
  "kernelspec": {
   "display_name": "Python 3 (ipykernel)",
   "language": "python",
   "name": "python3"
  },
  "language_info": {
   "codemirror_mode": {
    "name": "ipython",
    "version": 3
   },
   "file_extension": ".py",
   "mimetype": "text/x-python",
   "name": "python",
   "nbconvert_exporter": "python",
   "pygments_lexer": "ipython3",
   "version": "3.9.7"
  }
 },
 "nbformat": 4,
 "nbformat_minor": 5
}
