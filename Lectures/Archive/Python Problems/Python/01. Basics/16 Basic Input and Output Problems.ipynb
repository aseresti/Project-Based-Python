{
 "cells": [
  {
   "cell_type": "markdown",
   "id": "355f2308-13d8-450c-9b42-13f67c47a4b6",
   "metadata": {},
   "source": [
    "<img src=\"../../images/banners/python-basics.png\" width=\"600\"/>"
   ]
  },
  {
   "cell_type": "markdown",
   "id": "71ec6d65-0e84-4eda-997a-852bb35c0db1",
   "metadata": {},
   "source": [
    "# <img src=\"../../images/logos/python.png\" width=\"23\"/> Basic Input and Output Problems "
   ]
  },
  {
   "cell_type": "markdown",
   "id": "ba31c7bc-bda2-49ea-ad46-515c567d29c7",
   "metadata": {},
   "source": [
    "## Problem 1"
   ]
  },
  {
   "cell_type": "markdown",
   "id": "b3b3e6b3-7193-4814-86a8-b85acf5d015d",
   "metadata": {},
   "source": [
    "Calculate sum of the first N positive integers.  \n",
    "Integer numbers start from 1 and end with the number that user enters."
   ]
  },
  {
   "cell_type": "markdown",
   "id": "f89158b7-4f74-4a8c-ac3a-576222a34d65",
   "metadata": {},
   "source": [
    "Example:  \n",
    "Input = 5  \n",
    "Output = 15"
   ]
  },
  {
   "cell_type": "markdown",
   "id": "fd6b9acc-2629-4290-a6d1-127cde92aa24",
   "metadata": {},
   "source": [
    "Source link:  \n",
    "https://www.youtube.com/watch?v=Oo72LgwD2II&list=PLH1n1sJO7tbxmE36txTPhgidmW5Z9Bn7m&index=2"
   ]
  },
  {
   "cell_type": "markdown",
   "id": "c9616d22-529f-47b9-b28f-e39521bebeee",
   "metadata": {},
   "source": [
    "## Solution"
   ]
  },
  {
   "cell_type": "code",
   "execution_count": null,
   "id": "12acfb99-2dda-495f-ae71-a7543294f9cc",
   "metadata": {},
   "outputs": [],
   "source": [
    "n = int(input('Enter the number: '))\n",
    "\n",
    "sum = (n * (n + 1)) / 2\n",
    "print('sum = ', sum)"
   ]
  },
  {
   "cell_type": "markdown",
   "id": "c3a9778a-b2ce-43b1-9c93-e9f7ba15d32f",
   "metadata": {},
   "source": [
    "---"
   ]
  },
  {
   "cell_type": "markdown",
   "id": "b08cc298-6716-4e51-b9e2-e572c3ee3741",
   "metadata": {},
   "source": [
    "## Problem 2"
   ]
  },
  {
   "cell_type": "markdown",
   "id": "57f863c4-5d6d-46b9-a472-4112d9770dad",
   "metadata": {},
   "source": [
    "Ask the user for their name and age, assign theses values to two variables, and then print them."
   ]
  },
  {
   "cell_type": "markdown",
   "id": "7aea1eb9-01d6-4121-b5bb-57595c4d4b1f",
   "metadata": {},
   "source": [
    "## Solution"
   ]
  },
  {
   "cell_type": "code",
   "execution_count": null,
   "id": "060983ec-c716-457b-a2eb-e5036ac703ee",
   "metadata": {},
   "outputs": [],
   "source": [
    "name = input(\"Please enter your name: \")\n",
    "age = input(\"Please enter your age: \")\n",
    "\n",
    "print(name)\n",
    "print(age)"
   ]
  },
  {
   "cell_type": "markdown",
   "id": "a5e95d4e-ba49-47a9-a224-a9a8ec444ecd",
   "metadata": {},
   "source": [
    "---"
   ]
  },
  {
   "cell_type": "markdown",
   "id": "78e2a97a-ffc8-4a01-983f-9d8e73b7f958",
   "metadata": {},
   "source": [
    "## Problem 3"
   ]
  },
  {
   "cell_type": "markdown",
   "id": "94f41c23-0367-4dc7-ae57-94bf15dc50c4",
   "metadata": {},
   "source": [
    "Investigate what happens when you try to assign a value to a variable that you've already defined. Try printing the variable before and after you reuse the name."
   ]
  },
  {
   "cell_type": "markdown",
   "id": "89bfd61c-e86b-4be7-a108-9eba90eee965",
   "metadata": {},
   "source": [
    "## Solution"
   ]
  },
  {
   "cell_type": "code",
   "execution_count": null,
   "id": "ea018c8f-a6c0-42eb-b5f4-9adee752a6fa",
   "metadata": {},
   "outputs": [],
   "source": [
    "# variable's value gets replaced\n",
    "x = 5\n",
    "print(x)\n",
    "\n",
    "x = 7\n",
    "print(x)"
   ]
  },
  {
   "cell_type": "markdown",
   "id": "fb5807e5-c2a7-4890-abac-e956cdbda90b",
   "metadata": {},
   "source": [
    "---"
   ]
  },
  {
   "cell_type": "markdown",
   "id": "fcbd913c-43ed-4aa4-bd5c-cd950c503703",
   "metadata": {},
   "source": [
    "## Problem 4"
   ]
  },
  {
   "cell_type": "markdown",
   "id": "f025b833-c7b9-40d7-8fc0-6c795ac08182",
   "metadata": {},
   "source": [
    "Below you’ll find some code with a number of errors. Try to go through the program line by line and fix the issues in the code.\n",
    "```python\n",
    "hourly_wage = input(\"Please enter your hourly wage: ')\n",
    "\n",
    "prnt(\"Hourly wage: \")\n",
    "print(hourlywage)\n",
    "print(\"Hours worked: \")\n",
    "print(hours_worked)\n",
    "\n",
    "hours_worked = input(\"How many hours did you work this week? \")\n",
    "```"
   ]
  },
  {
   "cell_type": "markdown",
   "id": "4fbbed2f-d24f-424f-ad02-c68dd3340c20",
   "metadata": {},
   "source": [
    "## Solution"
   ]
  },
  {
   "cell_type": "code",
   "execution_count": null,
   "id": "f95e0809-e470-48cf-ac19-1266bb0321c6",
   "metadata": {},
   "outputs": [],
   "source": [
    "hourly_wage = input(\"Please enter your hourly wage: \")\n",
    "\n",
    "print(\"Hourly wage: \")\n",
    "print(hourly_wage)\n",
    "\n",
    "hours_worked = input(\"How many hours did you work this week? \")\n",
    "print(\"Hours worked: \")\n",
    "print(hours_worked)"
   ]
  },
  {
   "cell_type": "markdown",
   "id": "bf3408c5-9e50-49a4-8c64-5bde99108e56",
   "metadata": {},
   "source": [
    "---"
   ]
  },
  {
   "cell_type": "markdown",
   "id": "085ae1fc-a3c5-492c-9bcb-faf73b0945ca",
   "metadata": {},
   "source": [
    "## Problem 5"
   ]
  },
  {
   "cell_type": "markdown",
   "id": "6afa84cd-a434-467b-8ef0-73a90ea7bcfd",
   "metadata": {},
   "source": [
    "Using a single `print()` function, print the three values `\"Ali\"`, `\"Math\"` and `19.5`. "
   ]
  },
  {
   "cell_type": "markdown",
   "id": "10d380a0-1068-4b3c-9d8a-d4699948fedf",
   "metadata": {},
   "source": [
    "## Solution"
   ]
  },
  {
   "cell_type": "code",
   "execution_count": null,
   "id": "ad0ca2b6-fc1f-4a51-b3f8-3ea32ea6a180",
   "metadata": {},
   "outputs": [],
   "source": [
    "print(\"ALi\", \"Math\", 19.5)"
   ]
  },
  {
   "cell_type": "markdown",
   "id": "9d5c013e-c725-48a9-ad45-d4aa47b2bb67",
   "metadata": {},
   "source": [
    "---"
   ]
  }
 ],
 "metadata": {
  "kernelspec": {
   "display_name": "Python 3 (ipykernel)",
   "language": "python",
   "name": "python3"
  },
  "language_info": {
   "codemirror_mode": {
    "name": "ipython",
    "version": 3
   },
   "file_extension": ".py",
   "mimetype": "text/x-python",
   "name": "python",
   "nbconvert_exporter": "python",
   "pygments_lexer": "ipython3",
   "version": "3.9.7"
  }
 },
 "nbformat": 4,
 "nbformat_minor": 5
}
