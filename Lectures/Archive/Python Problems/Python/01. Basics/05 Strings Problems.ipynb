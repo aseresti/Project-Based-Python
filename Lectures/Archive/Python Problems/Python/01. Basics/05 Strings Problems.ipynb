{
 "cells": [
  {
   "cell_type": "markdown",
   "id": "e73f17de-9bdb-48d9-9272-3d566f1d15e9",
   "metadata": {},
   "source": [
    "<img src=\"../../images/banners/python-basics.png\" width=\"600\"/>\n"
   ]
  },
  {
   "cell_type": "markdown",
   "id": "ff9c54e1-52a6-4a41-861f-9ee365027c17",
   "metadata": {},
   "source": [
    "# <img src=\"../../images/logos/python.png\" width=\"23\"/> Strings Problems"
   ]
  },
  {
   "cell_type": "markdown",
   "id": "f8125327-f0d6-426e-8b77-4f5e6fe7bae4",
   "metadata": {},
   "source": [
    "## Problem 1"
   ]
  },
  {
   "cell_type": "markdown",
   "id": "8e6c4d22-2584-4c7d-8a63-5eeb90b9d52f",
   "metadata": {},
   "source": [
    "Write a Python program that replaces last four digits of a telephone number with **\"*\"**"
   ]
  },
  {
   "cell_type": "markdown",
   "id": "56e65846-ac73-43d5-8e86-2f645fc7fdcc",
   "metadata": {},
   "source": [
    "## Solution:"
   ]
  },
  {
   "cell_type": "code",
   "execution_count": null,
   "id": "4fd7788e-65c1-4a41-a8ff-340d596a1d76",
   "metadata": {},
   "outputs": [],
   "source": [
    "phone_number = '09357891456'\n",
    "phone_number[:-4] + '*'*(4) "
   ]
  },
  {
   "cell_type": "markdown",
   "id": "cdfe31f5-8e84-4951-a760-ca4960fd2332",
   "metadata": {},
   "source": [
    "***"
   ]
  },
  {
   "cell_type": "markdown",
   "id": "a875dd9e-f3f8-4995-a622-617aebe02755",
   "metadata": {},
   "source": [
    "## Problem 2"
   ]
  },
  {
   "cell_type": "markdown",
   "id": "d87f3940-a9f6-4074-b056-43f5d44083c0",
   "metadata": {},
   "source": [
    "Write a Python program that accepts one digit (n) and computes the value of n+nn+nnn."
   ]
  },
  {
   "cell_type": "markdown",
   "id": "f1286299-95df-4faf-a672-8541dc9a07be",
   "metadata": {},
   "source": [
    "Sample input for n:<b> 5"
   ]
  },
  {
   "cell_type": "markdown",
   "id": "fed80f43-08ed-4886-9f2a-536dd363b64a",
   "metadata": {},
   "source": [
    "Output:<b> 615\n"
   ]
  },
  {
   "cell_type": "markdown",
   "id": "928045c7-448c-491d-bbed-c4e1153a5fea",
   "metadata": {},
   "source": [
    "# Solution"
   ]
  },
  {
   "cell_type": "code",
   "execution_count": null,
   "id": "b3ee08a7-783d-49c6-8fe5-a256beb92697",
   "metadata": {},
   "outputs": [],
   "source": [
    "a = input(\"Input a digit : \")\n",
    "n1 = int(a)\n",
    "n2 = int(a + a)\n",
    "n3 = int(a + a + a)\n",
    "print(n1+n2+n3)"
   ]
  },
  {
   "cell_type": "markdown",
   "id": "628ababa-d465-45fa-9ec3-5dcc156386b0",
   "metadata": {
    "tags": []
   },
   "source": [
    "***"
   ]
  },
  {
   "cell_type": "markdown",
   "id": "596f6217-b6d2-4379-b274-b4dfa04b64a8",
   "metadata": {},
   "source": [
    "## Problem 3"
   ]
  },
  {
   "cell_type": "markdown",
   "id": "f1e327b8-fd26-441e-8ad1-85b9f751d7bc",
   "metadata": {},
   "source": [
    "Use slice operation to reverse a number that the user has entered."
   ]
  },
  {
   "cell_type": "markdown",
   "id": "1a7180f8-cc68-4e9a-8fb0-298c618953e3",
   "metadata": {},
   "source": [
    "Example  \n",
    "Input: 123456789  \n",
    "Output: 987654321"
   ]
  },
  {
   "cell_type": "markdown",
   "id": "838f7560-9ca0-4a71-ac79-ceac199cd9d1",
   "metadata": {},
   "source": [
    "Source link:  \n",
    "https://www.youtube.com/watch?v=SQvNJXW4YGw&list=PLH1n1sJO7tbxmE36txTPhgidmW5Z9Bn7m&index=26    "
   ]
  },
  {
   "cell_type": "markdown",
   "id": "c6a35e8d-3ef5-4bcd-b198-55d5d38cfd4a",
   "metadata": {},
   "source": [
    "## Solution"
   ]
  },
  {
   "cell_type": "code",
   "execution_count": null,
   "id": "c32bc652-a656-4950-b956-8cfe096fd7e4",
   "metadata": {},
   "outputs": [],
   "source": [
    "num = input(\"Enter a number: \")\n",
    "print('Reverse of the number is', num[::-1])"
   ]
  },
  {
   "cell_type": "markdown",
   "id": "b3d88d0d-f76d-45e7-a45e-4f7c21320dec",
   "metadata": {},
   "source": [
    "---"
   ]
  },
  {
   "cell_type": "markdown",
   "id": "ea33ec33-c2cb-4139-8d47-0fc4e40a7707",
   "metadata": {},
   "source": [
    "## Problem 4"
   ]
  },
  {
   "cell_type": "markdown",
   "id": "961e1e1b-dc2e-46d6-82ac-3b9327b7c620",
   "metadata": {},
   "source": [
    "A secret message is hidden in the text below. Can you find it?"
   ]
  },
  {
   "cell_type": "markdown",
   "id": "475b38ef-e08e-4c8a-8f9a-fd0a85684b5f",
   "metadata": {},
   "source": [
    "```python\n",
    "text = 'PGGGGYQQQQTDDDDHKKKKOLLLLNXXXX'\n",
    "```"
   ]
  },
  {
   "cell_type": "markdown",
   "id": "5b98d600-bc83-4c95-b0d1-d69bbda076df",
   "metadata": {},
   "source": [
    "## Solution"
   ]
  },
  {
   "cell_type": "code",
   "execution_count": null,
   "id": "b6e175f2-36ec-42b8-a4d5-207a91d7502b",
   "metadata": {},
   "outputs": [],
   "source": [
    "text = 'PGGGGYQQQQTDDDDHKKKKOLLLLNXXXX'\n",
    "print('secret message: ', text[::5])"
   ]
  },
  {
   "cell_type": "markdown",
   "id": "7a925abe-e843-4ae4-942c-5784a3d3eb49",
   "metadata": {},
   "source": [
    "---"
   ]
  },
  {
   "cell_type": "markdown",
   "id": "f1303b3c-1e9a-4ee2-af3e-7b5a4df63407",
   "metadata": {},
   "source": [
    "## Problem 5"
   ]
  },
  {
   "cell_type": "markdown",
   "id": "1e050f46-fb26-4f68-a9c3-d5f8a0f0d05b",
   "metadata": {},
   "source": [
    "Concatenate the string \"I am \" and the integer 29 to produce a string which reads \"I am 29\"."
   ]
  },
  {
   "cell_type": "markdown",
   "id": "d61514d9-c614-4e1d-a02a-cf306015324c",
   "metadata": {},
   "source": [
    "## Solution"
   ]
  },
  {
   "cell_type": "code",
   "execution_count": null,
   "id": "8d86978e-6819-4b2f-8c33-602b4f566b91",
   "metadata": {},
   "outputs": [],
   "source": [
    "age = 29\n",
    "print(\"I am \" + str(age))"
   ]
  },
  {
   "cell_type": "markdown",
   "id": "94c23b9b-53a9-45d2-a1f6-1c9db1632ec9",
   "metadata": {},
   "source": [
    "---"
   ]
  },
  {
   "cell_type": "markdown",
   "id": "f3592b6c-b04b-4130-a5a9-94b5ac253906",
   "metadata": {},
   "source": [
    "## Problem 6"
   ]
  },
  {
   "cell_type": "markdown",
   "id": "e6bb1f5a-d9ae-41c0-9a21-a86e1db00c0d",
   "metadata": {},
   "source": [
    "Assign the string below to the variable and then print it.\n",
    "\"**I’m just highly motivated to do nothing**\""
   ]
  },
  {
   "cell_type": "markdown",
   "id": "28e9b254-9ca3-48ba-b042-10ca47ea670e",
   "metadata": {},
   "source": [
    "Source link:  \n",
    "https://github.com/pytopia/PyExercises/tree/main"
   ]
  },
  {
   "cell_type": "markdown",
   "id": "e614ecf1-16f2-44de-8155-d565e64e701c",
   "metadata": {},
   "source": [
    "## Solution"
   ]
  },
  {
   "cell_type": "code",
   "execution_count": null,
   "id": "31385a9f-ee45-43e1-adc7-aa0fa102f22b",
   "metadata": {},
   "outputs": [],
   "source": [
    "text = \"I’m just highly motivated to do nothing\"\n",
    "print(text)"
   ]
  },
  {
   "cell_type": "markdown",
   "id": "159942bf-63d8-4288-9c4b-7aa33d5d7205",
   "metadata": {},
   "source": [
    "---"
   ]
  },
  {
   "cell_type": "markdown",
   "id": "d98dc50e-a84b-4d9f-87b5-5848d7553485",
   "metadata": {},
   "source": [
    "## Problem 7"
   ]
  },
  {
   "cell_type": "markdown",
   "id": "482850ba-3e18-4645-9a43-3026ba08d494",
   "metadata": {},
   "source": [
    "The following string of characters appears to be reversed; please fix it and print the result.  \n",
    "\n",
    "**\".enod er’uoy nehw wonk reven uoy ,drah si gnihton gnioD\"**"
   ]
  },
  {
   "cell_type": "markdown",
   "id": "a715e61d-279d-4042-b394-1d3dcafd0d47",
   "metadata": {},
   "source": [
    "Source link:  \n",
    "https://github.com/pytopia/PyExercises/tree/main"
   ]
  },
  {
   "cell_type": "markdown",
   "id": "ef1d8ae4-4084-4fb8-83b4-c0b98dc1312a",
   "metadata": {},
   "source": [
    "## Solution"
   ]
  },
  {
   "cell_type": "code",
   "execution_count": null,
   "id": "5e2b853b-31c7-4f83-a1c6-1e47abf04c34",
   "metadata": {},
   "outputs": [],
   "source": [
    "text = \".enod er’uoy nehw wonk reven uoy ,drah si gnihton gnioD\"\n",
    "print(text[::-1])"
   ]
  },
  {
   "cell_type": "markdown",
   "id": "fccb51f9-37c4-4fd5-8d0e-7f6ef18fbb20",
   "metadata": {},
   "source": [
    "---"
   ]
  }
 ],
 "metadata": {
  "kernelspec": {
   "display_name": "Python 3 (ipykernel)",
   "language": "python",
   "name": "python3"
  },
  "language_info": {
   "codemirror_mode": {
    "name": "ipython",
    "version": 3
   },
   "file_extension": ".py",
   "mimetype": "text/x-python",
   "name": "python",
   "nbconvert_exporter": "python",
   "pygments_lexer": "ipython3",
   "version": "3.9.7"
  }
 },
 "nbformat": 4,
 "nbformat_minor": 5
}
