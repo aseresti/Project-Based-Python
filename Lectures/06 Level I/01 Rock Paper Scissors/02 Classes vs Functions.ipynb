{
 "cells": [
  {
   "cell_type": "markdown",
   "metadata": {},
   "source": [
    "<img src=\"./images/classes-vs-functions.png\" width=\"800\">"
   ]
  },
  {
   "cell_type": "markdown",
   "metadata": {},
   "source": [
    "Welcome to this lecture where we will be exploring two different, but equally important, coding paradigms in Python. Our focus will be primarily on the differences between class-based (object-oriented) and function-based (procedural) programming approaches. These approaches are crucial as both of them have their own set of advantages and are used in different problem contexts in Python coding.\n"
   ]
  },
  {
   "cell_type": "markdown",
   "metadata": {},
   "source": [
    "Python, being a multi-paradigm language, allows coding to be done using different styles including but not limited to procedural, object-oriented, and functional styles. When we code in Python, we often mix and match these styles to suit our particular problem scope.\n"
   ]
  },
  {
   "cell_type": "markdown",
   "metadata": {},
   "source": [
    "Each approach - class-based and function-based - has its unique way of solving problems, structuring code, and managing data. Having a clear understanding of these paradigms helps us to choose the right approach based on the programming problem we are tackling, the design requirements, and the need for future maintainability and scalability of the project.\n"
   ]
  },
  {
   "cell_type": "markdown",
   "metadata": {},
   "source": [
    "<img src=\"./images/oop-vs-functional-banner.png\" width=\"400\">"
   ]
  },
  {
   "cell_type": "markdown",
   "metadata": {},
   "source": [
    "For instance, in a larger software project where you need to keep track of vast amounts of related, interacting data, an object-oriented (class-based) approach may be more suitable. However, when you are writing a smaller script or a standalone, independent function, a function-based approach might be more comfortable and snappy.\n"
   ]
  },
  {
   "cell_type": "markdown",
   "metadata": {},
   "source": [
    "In this lecture, we'll explore both these approaches in detail. We will learn how these approaches work, their pros and cons, and how to decide which approach is suitable for different types of problems. The lessons will be explained using a simple Rock, Paper, Scissors game as the main example.\n"
   ]
  },
  {
   "cell_type": "markdown",
   "metadata": {},
   "source": [
    "Stay tuned, and let's dive in!"
   ]
  },
  {
   "cell_type": "markdown",
   "metadata": {},
   "source": [
    "## Python Basics – Classes and Functions"
   ]
  },
  {
   "cell_type": "markdown",
   "metadata": {},
   "source": [
    "Before we delve into the discussion of class-based and function-based approaches, let's set a common ground by understanding the basics of Python classes and functions.\n"
   ]
  },
  {
   "cell_type": "markdown",
   "metadata": {},
   "source": [
    "### Functions"
   ]
  },
  {
   "cell_type": "markdown",
   "metadata": {},
   "source": [
    "In Python, a function is a grouped set of statements that perform a specific task. Functions help to organize code, make it more readable, and allow code reusability. Here's a basic example of a function:"
   ]
  },
  {
   "cell_type": "code",
   "execution_count": 1,
   "metadata": {},
   "outputs": [],
   "source": [
    "def greet(name):\n",
    "    \"\"\"This function greets the person passed as a parameter\"\"\"\n",
    "    print(f\"Hello, {name}. Good day!\")\n"
   ]
  },
  {
   "cell_type": "markdown",
   "metadata": {},
   "source": [
    "In this example, `greet` is a function that takes a parameter `name` and prints a greeting message. The task of greeting is encapsulated inside this function, and we can reuse it to greet different names.\n"
   ]
  },
  {
   "cell_type": "markdown",
   "metadata": {},
   "source": [
    "### Classes"
   ]
  },
  {
   "cell_type": "markdown",
   "metadata": {},
   "source": [
    "Classes are the foundation of object-oriented programming (OOP) in Python. A class is a blueprint for creating objects. Objects have member variables and behavior associated with them, defined by methods in the class. Here's a basic example of a class:"
   ]
  },
  {
   "cell_type": "code",
   "execution_count": 2,
   "metadata": {},
   "outputs": [],
   "source": [
    "class Dog:\n",
    "\n",
    "    def __init__(self, name):\n",
    "        self.name = name\n",
    "\n",
    "    def respond_to_command(self, command):\n",
    "        if command == self.name:\n",
    "            return 'Wags Tail'"
   ]
  },
  {
   "cell_type": "markdown",
   "metadata": {},
   "source": [
    "In this example, `Dog` is a class with one attribute, `name`, and one method, `respond_to_command`. The `Dog` class serves as a blueprint to create a new Dog object.\n"
   ]
  },
  {
   "cell_type": "markdown",
   "metadata": {},
   "source": [
    "These are rudimentary examples. Classes can have multiple methods, and functions can get very complex. We will explore them more in the subsequent sections with our Rock Paper Scissors game example.\n"
   ]
  },
  {
   "cell_type": "markdown",
   "metadata": {},
   "source": [
    "In the next sections, we'll dissect the functional programming approach and the object-oriented one, discussing the strengths and weaknesses of each, and the best contexts in which they should be used."
   ]
  },
  {
   "cell_type": "markdown",
   "metadata": {},
   "source": [
    "## Functional Programming Approach"
   ]
  },
  {
   "cell_type": "markdown",
   "metadata": {},
   "source": [
    "Functional programming (FP) is a programming style that avoids changes in the program's state and mutable data. It's a declarative type of programming style that expresses the logic without describing the control flow where programs are constructed by applying and composing functions. \n"
   ]
  },
  {
   "cell_type": "markdown",
   "metadata": {},
   "source": [
    "In Python, we can implement the functional programming approach by using functions as the fundamental building blocks for the program logic. \n"
   ]
  },
  {
   "cell_type": "markdown",
   "metadata": {},
   "source": [
    "Below is the basic example of functional programming by implementing a simple function to calculate the factorial of a number:"
   ]
  },
  {
   "cell_type": "code",
   "execution_count": 1,
   "metadata": {},
   "outputs": [],
   "source": [
    "def factorial(num):\n",
    "    \"\"\"Function to calculate the factorial of a number\"\"\"\n",
    "    if num == 1:\n",
    "        return num\n",
    "    else:\n",
    "        return num * factorial(num - 1)"
   ]
  },
  {
   "cell_type": "markdown",
   "metadata": {},
   "source": [
    "In this example, `factorial` is a function that takes a number and returns the factorial of that number recursively. \n"
   ]
  },
  {
   "cell_type": "markdown",
   "metadata": {},
   "source": [
    "Here are a few pros and cons of using a functional programming approach:\n",
    "\n",
    "**Pros**:\n",
    "1. **Simplicity**: Functions only have access to their input arguments without any hidden context, making them easy to understand.\n",
    "2. **Predictability**: Functions will always produce the same output for the same input, known as pure functions. This leads to consistency and predictability in the code. \n",
    "3. **Easy to debug and test**: The absence of side effects means functional code is easier to debug and test, as functions will not alter the state of the program.\n"
   ]
  },
  {
   "cell_type": "markdown",
   "metadata": {},
   "source": [
    "**Cons**:\n",
    "1. **State management**: Functional programming avoids states, meaning for some scenarios, it becomes difficult to model the problem that requires varying states.\n",
    "2. **Learning curve**: Despite Python's ease of writing code in functional style, the concepts can be a little tough for newcomers. \n",
    "3. **Verbosity**: Functional programs can be more verbose as everything has to be done inside functions.\n"
   ]
  },
  {
   "cell_type": "markdown",
   "metadata": {},
   "source": [
    "## Object Oriented Programming Approach\n"
   ]
  },
  {
   "cell_type": "markdown",
   "metadata": {},
   "source": [
    "Object-Oriented Programming (OOP) is a programming paradigm based on the concept of \"objects\", which are data structures that contain data, in the form of fields (often known as attributes), and code, in the form of procedures (often known as methods). \n"
   ]
  },
  {
   "cell_type": "markdown",
   "metadata": {},
   "source": [
    "In OOP, Python programs are structured around objects and classes, where classes provide a way of bundling data and methods acting on that data within one cohesive unit.\n"
   ]
  },
  {
   "cell_type": "markdown",
   "metadata": {},
   "source": [
    "Below is a basic example of OOP by implementing a class \"Dog\" that has an attribute (name) and a method (bark):\n"
   ]
  },
  {
   "cell_type": "code",
   "execution_count": 2,
   "metadata": {},
   "outputs": [],
   "source": [
    "class Dog:\n",
    "    def __init__(self, name):\n",
    "        self.name = name\n",
    "\n",
    "    def bark(self):\n",
    "        return \"Woof!\"\n"
   ]
  },
  {
   "cell_type": "markdown",
   "metadata": {},
   "source": [
    "\n",
    "In this example, `Dog` is a class that requires a `name` parameter during initialization and has a method `bark` that prints \"Woof!\" when called.\n"
   ]
  },
  {
   "cell_type": "markdown",
   "metadata": {},
   "source": [
    "Here are a few pros and cons of using an object-oriented programming approach:\n",
    "\n",
    "**Pros**:\n",
    "\n",
    "1. **Modularity**: The code is organized around objects, making it more manageable and reducing system complexity.\n",
    "2. **Reusability**: Objects created for object-oriented programs can be reusable, which helps to reduce redundancy and errors.\n",
    "3. **Maintainability**: Due to encapsulation, the code is easier to maintain.\n",
    "4. **Versatility**: OOP can model complex systems by structuring and organizing code and data in a manageable way.\n"
   ]
  },
  {
   "cell_type": "markdown",
   "metadata": {},
   "source": [
    "**Cons**:\n",
    "\n",
    "1. **Complexity**: OOP requires a deep understanding of encapsulation, inheritance, and polymorphism, which can be complex for beginners.\n",
    "2. **Large-Scale Structure**: It's often not clear how to design and structure an object-oriented program at a high level.\n",
    "3. **Overhead**: The encapsulating behavior and bundling of data can sometimes add a level of indirection and lead to inefficiency.\n"
   ]
  },
  {
   "cell_type": "markdown",
   "metadata": {},
   "source": [
    "In the next session when we implement our Rock Paper Scissors game in a class-based approach, these concepts will become clearer, and you will learn how effective OOP can be in structuring your code."
   ]
  },
  {
   "cell_type": "markdown",
   "metadata": {},
   "source": [
    "## Comparison of both approaches\n"
   ]
  },
  {
   "cell_type": "markdown",
   "metadata": {},
   "source": [
    "Having looked at both class-based (object-oriented) and function-based (procedural) programming, we can see that each approach has its own strengths and weaknesses, and its use may depend significantly on the situation at hand. Let's now directly compare the two.\n"
   ]
  },
  {
   "cell_type": "markdown",
   "metadata": {},
   "source": [
    "- **Structure and Organization**: Object-oriented programming is known for its ability to manage and organize large code bases, making it suitable for large scale applications. Functional programming, on the other hand, works well when the tasks can be broken down into independent and reusable pieces, making it great for scripting, data analysis, and prototyping.\n",
    "\n",
    "- **State Management**: In object-oriented programming, state is managed by objects. Objects own their state and expose behavior through methods. This can be useful when you want to model complex systems with interacting entities. Functional programming avoids state, making it simpler and more predictable but harder to model situations where different entities need to interact.\n",
    "\n",
    "- **Testing and Debugging**: The stateless nature of functional programming can make it easier to test and debug as functions are deterministic. In OOP, testing can be more complex due to the possibility of mutable objects and side effects.\n",
    "\n",
    "- **Learning curve**: Object-oriented programming may seem more intuitive for those with less programming experience, as it models real-world things using classes and objects. On the other hand, functional programming requires a shift in mindset, and can come with a slightly steeper learning curve.\n"
   ]
  },
  {
   "cell_type": "markdown",
   "metadata": {},
   "source": [
    "<img src=\"./images/oop-vs-functional.png\" width=\"400\">"
   ]
  },
  {
   "cell_type": "markdown",
   "metadata": {},
   "source": [
    "In designing a Python project, one does not have to strictly choose between class-based or function-based approach. In fact, Python supports multiple paradigms and they can coexist. For example, Python allows us to create classes and also facilitates higher-order functions. Developers can choose the most convenient paradigm according to the problem context, often using a mix of both.\n"
   ]
  },
  {
   "cell_type": "markdown",
   "metadata": {},
   "source": [
    "In the end, the choice between object-oriented and functional programming depends on the specific requirements of your project, your team's expertise, and the ultimate goals of your software design."
   ]
  },
  {
   "cell_type": "markdown",
   "metadata": {},
   "source": [
    "## Considerations for Selection"
   ]
  },
  {
   "cell_type": "markdown",
   "metadata": {},
   "source": [
    "Selecting between the functional and object-oriented approaches in Python, or any other programming language, mostly depends on the requirements of the project, the expertise of the team, and the structure of the data you're working with. No one approach is universally better than the other. \n"
   ]
  },
  {
   "cell_type": "markdown",
   "metadata": {},
   "source": [
    "Here's what you need to consider when selecting a programming approach:\n",
    "\n",
    "- **Problem Structure**: Consider the nature of the problem you're trying to solve. Function-based programming may be a better choice if your problem involves lots of independent operations on data, while class-based programming might be a great fit if your problem involves a lot of related operations on data that can naturally be grouped together in objects.\n",
    "\n",
    "- **Project Size**: If you're dealing with a large-scale project involving a codebase that will be maintained over a long period and likely by many programmers, the structure provided by OOP may be beneficial.\n",
    "\n",
    "- **Team Knowledge and Expertise**: Evaluate your team's familiarity and comfort with both paradigms. What's your team's skill set like? Have they used functional programming before, and do they understand how to write pure functions and avoid mutable state?\n",
    "\n",
    "- **Data**: Think about the shape of the data you'll be working with. Will your data naturally fit into neatly encapsulated objects that contain their own actions (methods)?\n",
    "\n",
    "- **Reusability Requirement**: When you want to reuse certain parts of your code in different parts of your program, you might want to use object-oriented programming.\n"
   ]
  },
  {
   "cell_type": "markdown",
   "metadata": {},
   "source": [
    "Appreciating these nuances and understanding the implications of these strategies will empower you and your team to make informed, practical decisions about implementing the most effective and efficient solutions to your business needs."
   ]
  },
  {
   "cell_type": "markdown",
   "metadata": {},
   "source": [
    "## Exercises and Practice\n",
    "\n",
    "Now that we have covered the main principles of both functional and object-oriented programming, it's time to get hands-on with some practice. Using the Rock Paper Scissors game code from earlier in the lecture, try converting the class-based code into a functional design, and vice versa. By doing this exercise, you can see firsthand how the same problem can be approached in different ways.\n",
    "\n",
    "By undertaking this exercise, you will gain a deeper understanding of when to use the functional or object-oriented approach. These hands-on exercises are a step towards mastering these programming paradigms and becoming a better Python programmer. Don't worry if your first solution isn't perfect, just remember to keep practicing and applying your knowledge!"
   ]
  }
 ],
 "metadata": {
  "kernelspec": {
   "display_name": "py310",
   "language": "python",
   "name": "python3"
  },
  "language_info": {
   "codemirror_mode": {
    "name": "ipython",
    "version": 3
   },
   "file_extension": ".py",
   "mimetype": "text/x-python",
   "name": "python",
   "nbconvert_exporter": "python",
   "pygments_lexer": "ipython3",
   "version": "3.10.12"
  }
 },
 "nbformat": 4,
 "nbformat_minor": 2
}
