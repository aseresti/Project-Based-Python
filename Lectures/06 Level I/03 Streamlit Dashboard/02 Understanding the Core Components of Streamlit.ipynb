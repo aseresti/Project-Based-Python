{
 "cells": [
  {
   "cell_type": "markdown",
   "metadata": {},
   "source": [
    "<img src=\"./images/banner.png\" width=\"800\">"
   ]
  },
  {
   "cell_type": "markdown",
   "metadata": {},
   "source": [
    "# Understanding the Core Components of Streamlit"
   ]
  },
  {
   "cell_type": "markdown",
   "metadata": {},
   "source": [
    "Streamlit projects use several fundamental components to create interactive, user-friendly applications. Let's familiarize ourselves with these core components and explore how they all come together in creating dynamic data applications.\n"
   ]
  },
  {
   "cell_type": "markdown",
   "metadata": {},
   "source": [
    "**Table of contents**<a id='toc0_'></a>    \n",
    "- [Running Streamlit Apps](#toc1_)    \n",
    "- [Development Workflow](#toc2_)    \n",
    "- [Dataflow in Streamlit](#toc3_)    \n",
    "- [Display and Style Data](#toc4_)    \n",
    "- [Using Widgets](#toc5_)    \n",
    "- [Layout Handling](#toc6_)    \n",
    "- [Progress Bar](#toc7_)    \n",
    "\n",
    "<!-- vscode-jupyter-toc-config\n",
    "\tnumbering=false\n",
    "\tanchor=true\n",
    "\tflat=false\n",
    "\tminLevel=2\n",
    "\tmaxLevel=6\n",
    "\t/vscode-jupyter-toc-config -->\n",
    "<!-- THIS CELL WILL BE REPLACED ON TOC UPDATE. DO NOT WRITE YOUR TEXT IN THIS CELL -->"
   ]
  },
  {
   "cell_type": "markdown",
   "metadata": {},
   "source": [
    "## <a id='toc1_'></a>[Running Streamlit Apps](#toc0_)\n"
   ]
  },
  {
   "cell_type": "markdown",
   "metadata": {},
   "source": [
    "To run a Streamlit app, you'll use the command `streamlit run your_script.py`. This command spins up a local server, and your app will open in a new tab in your web browser. \n"
   ]
  },
  {
   "cell_type": "markdown",
   "metadata": {},
   "source": [
    "This browser tab becomes your digital canvas, where you can draw, design, and organize a myriad of elements like charts, text, widgets, tables, images, and more. In essence, it's your playground for turning raw data into a dynamic, interactive experience."
   ]
  },
  {
   "cell_type": "markdown",
   "metadata": {},
   "source": [
    "## <a id='toc2_'></a>[Development Workflow](#toc0_)\n"
   ]
  },
  {
   "cell_type": "markdown",
   "metadata": {},
   "source": [
    "Streamlit re-runs your entire script each time you save your source file. This feature allows for real-time app updates as you modify your script. For an efficient development flow, place your app and code editor side by side to see changes in real-time.\n"
   ]
  },
  {
   "cell_type": "markdown",
   "metadata": {},
   "source": [
    "Every time you make a change to your source code and save the file, Streamlit detects the changes. It then prompts you whether you want to rerun your app to reflect the latest modifications. If you select \"Always rerun\" at the top right of your screen, Streamlit will automatically rerun your app every time you save your script."
   ]
  },
  {
   "cell_type": "markdown",
   "metadata": {},
   "source": [
    "This approach results in what we refer to as a fast, interactive loop:\n",
    "\n",
    "- **Code**: Begin by writing some code of your Streamlit app.\n",
    "- **Save**: Save your source file with the updates.\n",
    "- **Inspect**: Streamlit automatically reruns your app and you can see your changes live.\n",
    "- **Repeat**: Go back to coding, make further changes, save again, and view your updates."
   ]
  },
  {
   "cell_type": "markdown",
   "metadata": {},
   "source": [
    "## <a id='toc3_'></a>[Dataflow in Streamlit](#toc0_)\n"
   ]
  },
  {
   "cell_type": "markdown",
   "metadata": {},
   "source": [
    "The unique architecture of Streamlit lets you write apps the same way you write plain Python scripts. The entire script runs from top to bottom in two cases:\n",
    "\n",
    "1. If you modify your app's source code.\n",
    "2. If a user interacts with widgets in the app.\n"
   ]
  },
  {
   "cell_type": "markdown",
   "metadata": {},
   "source": [
    "## <a id='toc4_'></a>[Display and Style Data](#toc0_)\n"
   ]
  },
  {
   "cell_type": "markdown",
   "metadata": {},
   "source": [
    "Streamlit provides various ways to display data. The `st.write()` function is the \"Swiss Army knife\" of Streamlit, allowing you to write nearly anything from text to tables, figures, and charts.\n"
   ]
  },
  {
   "cell_type": "markdown",
   "metadata": {},
   "source": [
    "Additionally, you can use magic commands, which let you write to your app without calling any Streamlit functions. Magic commands automatically render variables or literal values on its own line.\n",
    "\n",
    "```python\n",
    "\"\"\"\n",
    "# My first app\n",
    "Here's our first attempt at using data to create a table:\n",
    "\"\"\"\n",
    "\n",
    "import streamlit as st\n",
    "import pandas as pd\n",
    "df = pd.DataFrame({\n",
    "  'first column': [1, 2, 3, 4],\n",
    "  'second column': [10, 20, 30, 40]\n",
    "})\n",
    "\n",
    "df\n",
    "```"
   ]
  },
  {
   "cell_type": "markdown",
   "metadata": {},
   "source": [
    "## <a id='toc5_'></a>[Using Widgets](#toc0_)\n"
   ]
  },
  {
   "cell_type": "markdown",
   "metadata": {},
   "source": [
    "Widgets in Streamlit, like `st.slider()`, `st.button()`, and `st.selectbox()`, are straightforward to use. Simply treat widgets like variables. User input from these widgets can be used directly in your scripts.\n",
    "\n",
    "\n",
    "```python\n",
    "import streamlit as st\n",
    "x = st.slider('x')  # this is a widget\n",
    "st.write(x, 'squared is', x * x)\n",
    "```\n"
   ]
  },
  {
   "cell_type": "markdown",
   "metadata": {},
   "source": [
    "```python\n",
    "contact_type = st.selectbox(\n",
    "    'How would you like to be contacted?',\n",
    "    ('Email', 'Home phone', 'Mobile phone')\n",
    ")\n",
    "st.write('You selected:', contact_type)\n",
    "```"
   ]
  },
  {
   "cell_type": "markdown",
   "metadata": {},
   "source": [
    "Streamlit also supports widget interaction. It reruns the script and updates the widget state according to user input.\n"
   ]
  },
  {
   "cell_type": "markdown",
   "metadata": {},
   "source": [
    "**Utilizing Checkboxes to Control Data Display**\n",
    "\n",
    "The `st.checkbox()` function is used to add a checkbox to your Streamlit app. The function takes a single argument, which is the label of the checkbox. This label is what the user sees next to the checkbox.\n",
    "\n",
    "When a checkbox is selected in your app, the st.checkbox() function returns True, and when it's not selected, it returns False. You can use this returned value in a conditional statement to control what gets displayed.\n",
    "\n",
    "Here is an example:\n",
    "```python\n",
    "import streamlit as st\n",
    "import pandas as pd\n",
    "import numpy as np\n",
    "\n",
    "\n",
    "# Add checkbox to the app\n",
    "if st.checkbox('Show chart'):\n",
    "    # This code runs when checkbox is checked\n",
    "    chart_data = pd.DataFrame(np.random.randn(20, 3), columns=['a', 'b', 'c'])\n",
    "    st.line_chart(chart_data)\n",
    "```"
   ]
  },
  {
   "cell_type": "markdown",
   "metadata": {},
   "source": [
    "## <a id='toc6_'></a>[Layout Handling](#toc0_)\n"
   ]
  },
  {
   "cell_type": "markdown",
   "metadata": {},
   "source": [
    "Streamlit provides a sidebar functionality using `st.sidebar`, allowing you to place widgets in the sidebar. This feature is useful for creating filters and other controls that you want to be visible at all times.\n",
    "\n",
    "```python\n",
    "import streamlit as st\n",
    "\n",
    "# Add a selectbox to the sidebar:\n",
    "add_selectbox = st.sidebar.selectbox(\n",
    "    'How would you like to be contacted?',\n",
    "    ('Email', 'Home phone', 'Mobile phone')\n",
    ")\n",
    "\n",
    "# Add a slider to the sidebar:\n",
    "add_slider = st.sidebar.slider(\n",
    "    'Select a range of values',\n",
    "    0.0, 100.0, (25.0, 75.0)\n",
    ")\n",
    "```"
   ]
  },
  {
   "cell_type": "markdown",
   "metadata": {},
   "source": [
    "The `st.columns` allow widgets to be placed side-by-side and `st.expander` helps to conserve space by hiding away large content. Columns are useful for laying out widgets horizontally, while expanders are useful for conserving vertical space.\n",
    "\n",
    "```python\n",
    "import streamlit as st\n",
    "\n",
    "left_column, right_column = st.columns(2)\n",
    "# You can use a column just like st.sidebar:\n",
    "left_column.button('Press me!')\n",
    "\n",
    "# Or even better, call Streamlit functions inside a \"with\" block:\n",
    "with right_column:\n",
    "    chosen = st.radio(\n",
    "        'Sorting hat',\n",
    "        (\"Gryffindor\", \"Ravenclaw\", \"Hufflepuff\", \"Slytherin\"))\n",
    "    st.write(f\"You are in {chosen} house!\")\n",
    "```"
   ]
  },
  {
   "cell_type": "markdown",
   "metadata": {},
   "source": [
    "These core elements of Streamlit offer you incredible capability to build, streamline, and enhance your Python data deployments, turning elaborate data into easily understandable, visual, interactive experiences.\n"
   ]
  },
  {
   "cell_type": "markdown",
   "metadata": {},
   "source": [
    "In the next section, we will explore setting up our first Streamlit Dashboard and how we can manage layouts effectively.m"
   ]
  }
 ],
 "metadata": {
  "language_info": {
   "name": "python"
  }
 },
 "nbformat": 4,
 "nbformat_minor": 2
}
