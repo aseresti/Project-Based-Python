{
 "cells": [
  {
   "cell_type": "markdown",
   "metadata": {},
   "source": [
    "<img src=\"./images/banner.png\" width=\"800\">"
   ]
  },
  {
   "cell_type": "markdown",
   "metadata": {},
   "source": [
    "# Importance of Good Software Design"
   ]
  },
  {
   "cell_type": "markdown",
   "metadata": {},
   "source": [
    "When you're making a Python program using objects and classes, it's like planning how the pieces of a puzzle fit together. This planning is called object-oriented design (OOD). Sometimes, this can be tricky. If you're unsure how to plan your Python classes, the SOLID principles can guide you.\n"
   ]
  },
  {
   "cell_type": "markdown",
   "metadata": {},
   "source": [
    "\n",
    "SOLID is like a set of five rules for making good class designs in programming. Following these rules can help you make code that's easy to fix, change, and grow.\n"
   ]
  },
  {
   "cell_type": "markdown",
   "metadata": {},
   "source": [
    "\n",
    "In this section, we'll:\n",
    "\n",
    "- Learn what each SOLID rule means.\n",
    "- Spot mistakes in Python code that don't follow these rules.\n",
    "- Use SOLID to make our Python code better.\n",
    "\n",
    "We'll also try out some coding examples to see how SOLID makes our code better.\n"
   ]
  },
  {
   "cell_type": "markdown",
   "metadata": {},
   "source": [
    "\n",
    "Before we start, it'll be helpful if you know some basic things about Python, like classes and how they work together."
   ]
  },
  {
   "cell_type": "markdown",
   "metadata": {},
   "source": [
    "## Using SOLID Principles for Better Python Code"
   ]
  },
  {
   "cell_type": "markdown",
   "metadata": {},
   "source": [
    "<img src=\"./images/solid/1.png\" width=\"600\">"
   ]
  },
  {
   "cell_type": "markdown",
   "metadata": {},
   "source": [
    "\n",
    "When you're creating classes in Python, there are some rules you can follow to make your code better. These rules are called the SOLID principles.\n"
   ]
  },
  {
   "cell_type": "markdown",
   "metadata": {},
   "source": [
    "\n",
    "If you've used languages like C++ or Java before, you might have heard of SOLID. And yes, these rules work great for Python too! Whenever you're working with classes and objects, it's a good idea to think about these SOLID rules.\n"
   ]
  },
  {
   "cell_type": "markdown",
   "metadata": {},
   "source": [
    "So, what's SOLID? It's a short way to remember five important rules for designing classes. Here they are:\n",
    "\n",
    "- Single-responsibility principle (SRP): A class should have only one job.\n",
    "- Open–closed principle (OCP): You should be able to add new features without changing existing code.\n",
    "- Liskov substitution principle (LSP): If a class is a subtype of another, you should be able to use them interchangeably without issues.\n",
    "- Interface segregation principle (ISP): Don't force a class to use methods it doesn't need.\n",
    "Dependency inversion principle (DIP): Depend on abstractions, not specifics.\n"
   ]
  },
  {
   "cell_type": "markdown",
   "metadata": {},
   "source": [
    "We'll dive deep into each rule, see how they work, and try them out with Python examples. By the end, you'll know how to make your code clearer, more organized, and easier to use with SOLID. Let's start with the first rule!\n",
    "\n"
   ]
  }
 ],
 "metadata": {
  "language_info": {
   "name": "python"
  },
  "orig_nbformat": 4
 },
 "nbformat": 4,
 "nbformat_minor": 2
}
