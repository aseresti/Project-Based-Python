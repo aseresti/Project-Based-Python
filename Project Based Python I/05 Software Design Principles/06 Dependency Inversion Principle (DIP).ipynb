{
 "cells": [
  {
   "cell_type": "markdown",
   "metadata": {},
   "source": [
    "<img src=\"./images/banner.png\" width=\"800\">"
   ]
  },
  {
   "cell_type": "markdown",
   "metadata": {},
   "source": [
    "# Dependency Inversion Principle (DIP)"
   ]
  },
  {
   "cell_type": "markdown",
   "metadata": {},
   "source": [
    "<img src=\"./images/solid/6.png\" width=\"800\">"
   ]
  },
  {
   "cell_type": "markdown",
   "metadata": {
    "vscode": {
     "languageId": "plaintext"
    }
   },
   "source": [
    "The Dependency Inversion Principle (DIP) is the last of the SOLID rules. It's about making your code flexible and easy to change. The main idea is:\n",
    "\n",
    "> Don't let the main parts of your code depend on the small details. Instead, make the details depend on the main parts."
   ]
  },
  {
   "cell_type": "markdown",
   "metadata": {},
   "source": [
    "Sounds confusing? Let's break it down with an example:\n",
    "\n",
    "**Imagine You're Building an App:**\n",
    "\n",
    "You have a `FrontEnd` class that shows data to users. Right now, the data comes from a database, so you have:"
   ]
  },
  {
   "cell_type": "code",
   "execution_count": 1,
   "metadata": {},
   "outputs": [],
   "source": [
    "class FrontEnd:\n",
    "    def __init__(self, back_end):\n",
    "        self.back_end = back_end\n",
    "\n",
    "    def display_data(self):\n",
    "        data = self.back_end.get_data_from_database()\n",
    "        print(\"Display data:\", data)\n",
    "\n",
    "class BackEnd:\n",
    "    def get_data_from_database(self):\n",
    "        return \"Data from the database\"\n",
    "\n",
    "    def get_data_from_api(self):\n",
    "        return \"Data from the API\""
   ]
  },
  {
   "cell_type": "markdown",
   "metadata": {},
   "source": [
    "But what if later you want to get data from somewhere else, like an online API? If you change the `BackEnd`, you'll also have to change the `FrontEnd`. This isn't good because it makes your code hard to change and update."
   ]
  },
  {
   "cell_type": "markdown",
   "metadata": {},
   "source": [
    "**A Better Approach:**\n",
    "\n",
    "Instead of making `FrontEnd` depend on `BackEnd`, let's create a middleman: a `DataSource` class. This class will just have the rules for getting data. Then, we can have separate classes for the database and the API that follow these rules."
   ]
  },
  {
   "cell_type": "code",
   "execution_count": 3,
   "metadata": {},
   "outputs": [],
   "source": [
    "from abc import ABC, abstractmethod\n",
    "\n",
    "class FrontEnd:\n",
    "    def __init__(self, data_source):\n",
    "        self.data_source = data_source\n",
    "\n",
    "    def display_data(self):\n",
    "        data = self.data_source.get_data()\n",
    "        print(\"Display data:\", data)\n",
    "\n",
    "class DataSource(ABC):\n",
    "    @abstractmethod\n",
    "    def get_data(self):\n",
    "        pass\n",
    "\n",
    "class Database(DataSource):\n",
    "    def get_data(self):\n",
    "        return \"Data from the database\"\n",
    "\n",
    "class API(DataSource):\n",
    "    def get_data(self):\n",
    "        return \"Data from the API\""
   ]
  },
  {
   "cell_type": "markdown",
   "metadata": {},
   "source": [
    "Now, the `FrontEnd` only cares about the `DataSource`. Whether the data comes from a `Database` or an `API` doesn't matter. This makes it easy to add new data sources in the future without changing the `FrontEnd`."
   ]
  },
  {
   "cell_type": "markdown",
   "metadata": {},
   "source": [
    "In short, the DIP helps you organize your code so that the main parts don't have to change every time a small detail does. This makes your code more flexible and easier to maintain."
   ]
  }
 ],
 "metadata": {
  "kernelspec": {
   "display_name": "py310",
   "language": "python",
   "name": "python3"
  },
  "language_info": {
   "codemirror_mode": {
    "name": "ipython",
    "version": 3
   },
   "file_extension": ".py",
   "mimetype": "text/x-python",
   "name": "python",
   "nbconvert_exporter": "python",
   "pygments_lexer": "ipython3",
   "version": "3.10.12"
  },
  "orig_nbformat": 4
 },
 "nbformat": 4,
 "nbformat_minor": 2
}
