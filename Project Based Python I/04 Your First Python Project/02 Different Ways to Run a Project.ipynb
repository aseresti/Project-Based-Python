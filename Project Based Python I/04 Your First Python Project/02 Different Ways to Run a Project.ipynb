{
 "cells": [
  {
   "cell_type": "markdown",
   "metadata": {},
   "source": [
    "<img src=\"./images/banner.png\" width=\"800\">"
   ]
  },
  {
   "cell_type": "markdown",
   "metadata": {},
   "source": [
    "# Different Ways to Organize and Run a Project\n"
   ]
  },
  {
   "cell_type": "markdown",
   "metadata": {},
   "source": [
    "**Table of contents**<a id='toc0_'></a>    \n",
    "- [**Single Script**](#toc1_)    \n",
    "- [**Directory with Multiple Modules**](#toc2_)    \n",
    "- [**Package Structure with `src`**](#toc3_)    \n",
    "- [**Web Application**](#toc4_)    \n",
    "- [**Executable Application**](#toc5_)    \n",
    "- [**GUI Application**](#toc6_)    \n",
    "\n",
    "<!-- vscode-jupyter-toc-config\n",
    "\tnumbering=false\n",
    "\tanchor=true\n",
    "\tflat=false\n",
    "\tminLevel=2\n",
    "\tmaxLevel=6\n",
    "\t/vscode-jupyter-toc-config -->\n",
    "<!-- THIS CELL WILL BE REPLACED ON TOC UPDATE. DO NOT WRITE YOUR TEXT IN THIS CELL -->"
   ]
  },
  {
   "cell_type": "markdown",
   "metadata": {},
   "source": [
    "When embarking on a software development project, one of the foundational decisions to make is how to organize and structure your codebase. The way you organize your project can influence its maintainability, scalability, and ease of collaboration. Moreover, the method you choose to run your project can affect its portability and deployment ease. Below, we explore various approaches to organizing and running a project like the number guesser, each with its own set of advantages and drawbacks.\n"
   ]
  },
  {
   "cell_type": "markdown",
   "metadata": {},
   "source": [
    "## <a id='toc1_'></a>[**Single Script**](#toc0_)\n"
   ]
  },
  {
   "cell_type": "markdown",
   "metadata": {},
   "source": [
    "**Organization**:\n",
    "\n",
    "```\n",
    "number_guesser/\n",
    "|-- number_guesser.py\n",
    "```"
   ]
  },
  {
   "cell_type": "markdown",
   "metadata": {},
   "source": [
    "**Running**:\n",
    "- `python number_guesser.py`\n",
    "\n",
    "**Pros**:\n",
    "- Simplicity: Easy to share, read, and understand for small projects.\n",
    "- No complications with imports or directory structures.\n",
    "\n",
    "**Cons**:\n",
    "- Not scalable: As the project grows, the code can become cluttered and hard to maintain.\n",
    "- Difficult to separate concerns or reuse components in other projects."
   ]
  },
  {
   "cell_type": "markdown",
   "metadata": {},
   "source": [
    "## <a id='toc2_'></a>[**Directory with Multiple Modules**](#toc0_)\n"
   ]
  },
  {
   "cell_type": "markdown",
   "metadata": {},
   "source": [
    "\n",
    "**Organization**:\n",
    "```\n",
    "number_guesser/\n",
    "|-- main.py\n",
    "|-- number_generator.py\n",
    "|-- hint_generator.py\n",
    "|-- scorer.py\n",
    "|-- input_validator.py\n",
    "```"
   ]
  },
  {
   "cell_type": "markdown",
   "metadata": {},
   "source": [
    "**Running**:\n",
    "- Navigate to the directory and run `python main.py`.\n",
    "\n",
    "**Pros**:\n",
    "- Modularity: Code is organized by functionality, making it easier to understand and maintain.\n",
    "- Reusability: Components can be reused in other parts of the project or in different projects.\n",
    "\n",
    "**Cons**:\n",
    "- Slightly more complex directory structure.\n",
    "- Potential for import issues if not organized correctly."
   ]
  },
  {
   "cell_type": "markdown",
   "metadata": {},
   "source": [
    "## <a id='toc3_'></a>[**Package Structure with `src`**](#toc0_)\n"
   ]
  },
  {
   "cell_type": "markdown",
   "metadata": {},
   "source": [
    "\n",
    "**Organization**:\n",
    "\n",
    "```\n",
    "number_guesser/\n",
    "|-- src/\n",
    "| |-- main.py\n",
    "| |-- game_logic/\n",
    "| | |-- init.py\n",
    "| | |-- number_generator.py\n",
    "| | |-- hint_generator.py\n",
    "| | |-- scorer.py\n",
    "| |-- utils/\n",
    "| | |-- init.py\n",
    "| | |-- input_validator.py\n",
    "|-- tests/\n",
    "|-- README.md\n",
    "|-- LICENSE\n",
    "|-- requirements.txt\n",
    "```"
   ]
  },
  {
   "cell_type": "markdown",
   "metadata": {},
   "source": [
    "**Running**:\n",
    "- Modify the `PYTHONPATH` and run the main script from the root directory.\n",
    "```bash\n",
    "cd number_guesser\n",
    "export PYTHONPATH=$PYTHONPATH:$(pwd)\n",
    "python src/main.py\n",
    "```\n",
    "\n",
    "**Pros**:\n",
    "- Clean separation between source code and other project files.\n",
    "- Scalability: Suitable for larger projects.\n",
    "- Portability: Easier to package for distribution.\n",
    "\n",
    "**Cons**:\n",
    "- Requires understanding of `PYTHONPATH` and Python packaging.\n",
    "- Might be overkill for very small projects."
   ]
  },
  {
   "cell_type": "markdown",
   "metadata": {},
   "source": [
    "## <a id='toc4_'></a>[**Web Application**](#toc0_)"
   ]
  },
  {
   "cell_type": "markdown",
   "metadata": {},
   "source": [
    "**Organization**:\n",
    "```\n",
    "number_guesser_web/\n",
    "|-- app.py (or manage.py for Django)\n",
    "|-- templates/\n",
    "| |-- index.html\n",
    "|-- static/\n",
    "| |-- css/\n",
    "| |-- js/\n",
    "|-- game_logic/\n",
    "| |-- init.py\n",
    "| |-- number_generator.py\n",
    "| |-- hint_generator.py\n",
    "| |-- scorer.py\n",
    "```"
   ]
  },
  {
   "cell_type": "markdown",
   "metadata": {},
   "source": [
    "**Running**:\n",
    "- Start the development server provided by the framework.\n",
    "\n",
    "**Pros**:\n",
    "- Accessibility: The game can be accessed from a web browser.\n",
    "- Scalability: Can be expanded with more features, like user accounts, leaderboards, etc.\n",
    "\n",
    "**Cons**:\n",
    "- Complexity: Requires knowledge of web development and the chosen framework.\n",
    "- Deployment: Need to consider hosting if you want to make it publicly accessible.\n"
   ]
  },
  {
   "cell_type": "markdown",
   "metadata": {},
   "source": [
    "## <a id='toc5_'></a>[**Executable Application**](#toc0_)"
   ]
  },
  {
   "cell_type": "markdown",
   "metadata": {},
   "source": [
    "**Organization**:\n",
    "- After packaging, you'll have a standalone executable. Before packaging, the structure might resemble the \"Directory with Multiple Modules\" or \"Package Structure with `src`\".\n",
    "\n",
    "**Running**:\n",
    "- Simply double-click the generated executable.\n",
    "\n",
    "**Pros**:\n",
    "- Portability: Can be run on machines without Python installed.\n",
    "- User-friendly: Suitable for non-technical users.\n",
    "\n",
    "**Cons**:\n",
    "- Larger file size: The executable contains the Python interpreter and all necessary libraries.\n",
    "- Platform-specific: Need to generate separate executables for different OSs.\n"
   ]
  },
  {
   "cell_type": "markdown",
   "metadata": {},
   "source": [
    "## <a id='toc6_'></a>[**GUI Application**](#toc0_)"
   ]
  },
  {
   "cell_type": "markdown",
   "metadata": {},
   "source": [
    "**Organization**:\n",
    "\n",
    "```\n",
    "number_guesser_gui/\n",
    "|-- main.py\n",
    "|-- gui/\n",
    "| |-- init.py\n",
    "| |-- window.py\n",
    "|-- game_logic/\n",
    "| |-- init.py\n",
    "| |-- number_generator.py\n",
    "| |-- hint_generator.py\n",
    "| |-- scorer.py\n",
    "```"
   ]
  },
  {
   "cell_type": "markdown",
   "metadata": {},
   "source": [
    "**Running**:\n",
    "- Run the main script, which launches the GUI.\n",
    "\n",
    "**Pros**:\n",
    "- User-friendly: Provides a graphical interface which can be more intuitive than a command-line interface.\n",
    "- Aesthetically pleasing: Can be designed with custom visuals and interactions.\n",
    "\n",
    "**Cons**:\n",
    "- Complexity: Requires knowledge of the chosen GUI library.\n",
    "- Performance: GUI applications can be heavier than simple command-line tools.\n"
   ]
  }
 ],
 "metadata": {
  "language_info": {
   "name": "python"
  },
  "orig_nbformat": 4
 },
 "nbformat": 4,
 "nbformat_minor": 2
}
