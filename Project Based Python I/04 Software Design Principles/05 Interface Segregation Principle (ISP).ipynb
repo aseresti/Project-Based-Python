{
 "cells": [
  {
   "cell_type": "markdown",
   "metadata": {},
   "source": [
    "<img src=\"./images/banner.png\" width=\"800\">"
   ]
  },
  {
   "cell_type": "markdown",
   "metadata": {},
   "source": [
    "# Interface Segregation Principle (ISP)"
   ]
  },
  {
   "cell_type": "markdown",
   "metadata": {},
   "source": [
    "<img src=\"./images/solid/5.png\" width=\"800\">"
   ]
  },
  {
   "cell_type": "markdown",
   "metadata": {},
   "source": [
    "The Interface Segregation Principle (ISP) is another smart rule from Uncle Bob. It's a bit like going to a buffet: you should only take what you're going to eat. In coding terms:\n"
   ]
  },
  {
   "cell_type": "markdown",
   "metadata": {},
   "source": [
    "\n",
    "Classes shouldn't have to deal with methods they don't use. Think of it as giving each class its own custom menu of methods."
   ]
  },
  {
   "cell_type": "markdown",
   "metadata": {},
   "source": [
    "**Let's Dive into an Example:**\n",
    "\n",
    "Imagine you're making a program for printers. You have a main Printer class that can print, fax, and scan."
   ]
  },
  {
   "cell_type": "code",
   "execution_count": 1,
   "metadata": {},
   "outputs": [],
   "source": [
    "from abc import ABC, abstractmethod\n",
    "\n",
    "class Printer(ABC):\n",
    "    @abstractmethod\n",
    "    def print(self, document):\n",
    "        pass\n",
    "\n",
    "    @abstractmethod\n",
    "    def fax(self, document):\n",
    "        pass\n",
    "\n",
    "    @abstractmethod\n",
    "    def scan(self, document):\n",
    "        pass\n",
    "\n",
    "class OldPrinter(Printer):\n",
    "    def print(self, document):\n",
    "        print(f\"Printing {document} in black and white...\")\n",
    "\n",
    "    def fax(self, document):\n",
    "        raise NotImplementedError(\"Fax functionality not supported\")\n",
    "\n",
    "    def scan(self, document):\n",
    "        raise NotImplementedError(\"Scan functionality not supported\")\n",
    "\n",
    "class ModernPrinter(Printer):\n",
    "    def print(self, document):\n",
    "        print(f\"Printing {document} in color...\")\n",
    "\n",
    "    def fax(self, document):\n",
    "        print(f\"Faxing {document}...\")\n",
    "\n",
    "    def scan(self, document):\n",
    "        print(f\"Scanning {document}...\")"
   ]
  },
  {
   "cell_type": "markdown",
   "metadata": {},
   "source": [
    "Now, not all printers can do everything. An old printer might only print, while a new one can print, fax, and scan. If you force the old printer to have fax and scan methods, it doesn't make sense. This breaks the ISP rule."
   ]
  },
  {
   "cell_type": "markdown",
   "metadata": {},
   "source": [
    "**A Better Approach:**\n",
    "\n",
    "Instead of one big `Printer` class, let's have separate mini-classes for each function: one for printing, one for faxing, and one for scanning.\n"
   ]
  },
  {
   "cell_type": "code",
   "execution_count": 3,
   "metadata": {},
   "outputs": [],
   "source": [
    "from abc import ABC, abstractmethod\n",
    "\n",
    "class Printer(ABC):\n",
    "    @abstractmethod\n",
    "    def print(self, document):\n",
    "        pass\n",
    "\n",
    "class Fax(ABC):\n",
    "    @abstractmethod\n",
    "    def fax(self, document):\n",
    "        pass\n",
    "\n",
    "class Scanner(ABC):\n",
    "    @abstractmethod\n",
    "    def scan(self, document):\n",
    "        pass"
   ]
  },
  {
   "cell_type": "markdown",
   "metadata": {},
   "source": [
    "Now, for an old printer that only prints, you can use just the Printer class. For a modern printer, you can use all three: Printer, Fax, and Scanner."
   ]
  },
  {
   "cell_type": "code",
   "execution_count": null,
   "metadata": {},
   "outputs": [],
   "source": [
    "\n",
    "class OldPrinter(Printer):\n",
    "    def print(self, document):\n",
    "        print(f\"Printing {document} in black and white...\")\n",
    "\n",
    "class NewPrinter(Printer, Fax, Scanner):\n",
    "    def print(self, document):\n",
    "        print(f\"Printing {document} in color...\")\n",
    "\n",
    "    def fax(self, document):\n",
    "        print(f\"Faxing {document}...\")\n",
    "\n",
    "    def scan(self, document):\n",
    "        print(f\"Scanning {document}...\")"
   ]
  },
  {
   "cell_type": "markdown",
   "metadata": {},
   "source": [
    "This way, each printer class only has the methods it needs. It's like giving each printer its own custom menu."
   ]
  },
  {
   "cell_type": "markdown",
   "metadata": {},
   "source": [
    "\n",
    "In short, the ISP helps you organize your code so that classes only have the methods they really need, making everything cleaner and more logical."
   ]
  }
 ],
 "metadata": {
  "kernelspec": {
   "display_name": "py310",
   "language": "python",
   "name": "python3"
  },
  "language_info": {
   "codemirror_mode": {
    "name": "ipython",
    "version": 3
   },
   "file_extension": ".py",
   "mimetype": "text/x-python",
   "name": "python",
   "nbconvert_exporter": "python",
   "pygments_lexer": "ipython3",
   "version": "3.10.12"
  },
  "orig_nbformat": 4
 },
 "nbformat": 4,
 "nbformat_minor": 2
}
