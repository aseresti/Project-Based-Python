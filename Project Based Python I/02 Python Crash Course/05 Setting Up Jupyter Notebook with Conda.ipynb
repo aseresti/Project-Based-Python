{
 "cells": [
  {
   "cell_type": "markdown",
   "metadata": {},
   "source": [
    "<img src=\"./images/banner.png\" width=\"600\">"
   ]
  },
  {
   "cell_type": "markdown",
   "metadata": {},
   "source": [
    "# Section 4: Setting up Jupyter Notebook with Conda in VS Code\n"
   ]
  },
  {
   "cell_type": "markdown",
   "metadata": {},
   "source": [
    "\n",
    "In this section, we will walk you through the process of setting up Jupyter Notebook within VS Code using Conda as the package manager. By following these steps, you will be able to create and run Jupyter notebooks seamlessly within the VS Code environment.\n"
   ]
  },
  {
   "cell_type": "markdown",
   "metadata": {},
   "source": [
    "**Table of contents**<a id='toc0_'></a>    \n",
    "- [Configuring Conda Environment](#toc1_)    \n",
    "- [Installing Jupyter Lab](#toc2_)    \n",
    "- [Using Jupyter Lab in VS Code](#toc3_)    \n",
    "- [Jupyter Lab vs. Jupyter Notebook](#toc4_)    \n",
    "- [Conclusion](#toc5_)    \n",
    "\n",
    "<!-- vscode-jupyter-toc-config\n",
    "\tnumbering=false\n",
    "\tanchor=true\n",
    "\tflat=false\n",
    "\tminLevel=2\n",
    "\tmaxLevel=6\n",
    "\t/vscode-jupyter-toc-config -->\n",
    "<!-- THIS CELL WILL BE REPLACED ON TOC UPDATE. DO NOT WRITE YOUR TEXT IN THIS CELL -->"
   ]
  },
  {
   "cell_type": "markdown",
   "metadata": {},
   "source": [
    "\n",
    "## <a id='toc1_'></a>[Configuring Conda Environment](#toc0_)\n"
   ]
  },
  {
   "attachments": {},
   "cell_type": "markdown",
   "metadata": {},
   "source": [
    "\n",
    "1. Open VS Code.\n",
    "\n",
    "2. Click on the Extensions icon in the sidebar (represented by a square icon) or use the shortcut `Ctrl+Shift+X` (Windows/Linux) or `Cmd+Shift+X` (macOS) to open the Extensions pane.\n",
    "\n",
    "3. In the Extensions pane, search for \"Python\" and click on the \"Python\" extension by Microsoft. Click the \"Install\" button to install the extension.\n",
    "\n",
    "4. After the installation is complete, click the \"Reload\" button to activate the extension.\n",
    "\n",
    "5. Now, let's create a Conda environment for our Jupyter Notebook. Open a new terminal in VS Code by selecting \"Terminal\" from the top menu and choosing \"New Terminal.\"\n",
    "\n",
    "6. In the terminal, run the following command to create a new Conda environment named \"myenv\" with Python 3.10:\n",
    "```bash\n",
    "conda create -n myenv python=3.10\n",
    "```\n",
    "\n",
    "7. After the environment is created, activate it by running the following command:\n",
    "```\n",
    "conda activate myenv\n",
    "```\n",
    "\n",
    "Once activated, you will notice that the terminal prompt shows the name of the environment.\n"
   ]
  },
  {
   "cell_type": "markdown",
   "metadata": {},
   "source": [
    "\n",
    "## <a id='toc2_'></a>[Installing Jupyter Lab](#toc0_)\n",
    "\n",
    "1. With the Conda environment activated, run the following command to install Jupyter Lab:\n",
    "\n",
    "```\n",
    "conda install jupyterlab\n",
    "```\n",
    "\n",
    "2. Conda will resolve the dependencies and prompt you to proceed with the installation. Type `y` and press Enter to confirm.\n",
    "\n",
    "3. After the installation is complete, you can launch Jupyter Notebook by running the following command in the terminal:\n",
    "```bash\n",
    "jupyter lab\n",
    "```\n",
    "\n",
    "This will start the Jupyter Lab server and open a new tab in your web browser with the Jupyter Lab interface.\n",
    "\n",
    "4. To close the Jupyter Lab server, go back to the terminal and press `Ctrl+C` to stop the server.\n"
   ]
  },
  {
   "attachments": {},
   "cell_type": "markdown",
   "metadata": {},
   "source": [
    "<img src=\"./images/jupyterlab.png\" width=\"600\">"
   ]
  },
  {
   "cell_type": "markdown",
   "metadata": {},
   "source": [
    "\n",
    "## <a id='toc3_'></a>[Using Jupyter Lab in VS Code](#toc0_)\n"
   ]
  },
  {
   "cell_type": "markdown",
   "metadata": {},
   "source": [
    "\n",
    "1. Open VS Code.\n",
    "\n",
    "2. From the top menu, select \"View\" and then \"Command Palette\" or use the shortcut `Ctrl+Shift+P` (Windows/Linux) or `Cmd+Shift+P` (macOS) to open the Command Palette.\n",
    "\n",
    "3. In the Command Palette, type \"Python: Create Blank Jupyter Notebook\" and select the option when it appears.\n",
    "\n",
    "Alternatively, you can create a new file with the `.ipynb` extension to create a Jupyter Notebook file directly.\n",
    "\n",
    "4. A new Jupyter Notebook or Jupyter Lab file will open in the VS Code editor. You can now start writing Python code, adding Markdown cells, and executing the cells using the Jupyter Lab interface within VS Code.\n",
    "\n",
    "5. After running a cell with code for the first time, Jupyter Lab may ask you to \"Type to choose a kernel source.\" Select the Conda environment (`myenv`) that you created earlier to run the code. This selection is necessary to ensure that the code runs within the desired environment.\n"
   ]
  },
  {
   "cell_type": "markdown",
   "metadata": {},
   "source": [
    "## <a id='toc4_'></a>[Jupyter Lab vs. Jupyter Notebook](#toc0_)\n"
   ]
  },
  {
   "cell_type": "markdown",
   "metadata": {},
   "source": [
    "\n",
    "Jupyter Lab offers several advantages over Jupyter Notebook:\n"
   ]
  },
  {
   "cell_type": "markdown",
   "metadata": {},
   "source": [
    "\n",
    "1. **Enhanced User Interface:** Jupyter Lab provides a more comprehensive and flexible user interface compared to Jupyter Notebook. It offers a multi-tabbed environment where you can arrange notebooks, code files, terminal sessions, and other interactive components side by side.\n",
    "\n",
    "2. **Improved Workflow:** Jupyter Lab allows you to work with multiple notebooks simultaneously, making it easier to organize and manage your code projects. You can drag and drop cells between notebooks, create new notebooks from templates, and leverage additional features such as code highlighting, improved cell editing, and integrated debugging.\n",
    "\n",
    "3. **File Browsing and Management:** Jupyter Lab provides a built-in file browser that allows you to navigate through your project directories, create new files, and manage existing files without leaving the interface. This makes it convenient to access and organize your code, data, and supporting files.\n",
    "\n",
    "4. **Extensions and Customization:** Jupyter Lab supports a wide range of extensions that enhance its functionality. You can customize the appearance, add new features, and integrate additional tools seamlessly within the interface. This flexibility enables you to tailor Jupyter Lab according to your specific needs and preferences.\n"
   ]
  },
  {
   "attachments": {},
   "cell_type": "markdown",
   "metadata": {},
   "source": [
    "<img src=\"./images/jupyter-notebook.png\" width=\"600\">"
   ]
  },
  {
   "cell_type": "markdown",
   "metadata": {},
   "source": [
    "\n",
    "While Jupyter Lab offers a more advanced and versatile environment, Jupyter Notebook still has its merits. It is simpler, lightweight, and provides a straightforward interface for running and documenting code. However, if you require more advanced features and a more comprehensive development environment, Jupyter Lab is the recommended choice.\n"
   ]
  },
  {
   "cell_type": "markdown",
   "metadata": {},
   "source": [
    "\n",
    "In our course, we will be primarily using Jupyter Lab due to its enhanced capabilities and improved workflow. This will allow you to take full advantage of the powerful features offered by Jupyter Lab while learning and practicing Python programming.\n",
    "\n"
   ]
  },
  {
   "cell_type": "markdown",
   "metadata": {},
   "source": [
    "## <a id='toc5_'></a>[Conclusion](#toc0_)"
   ]
  },
  {
   "attachments": {},
   "cell_type": "markdown",
   "metadata": {},
   "source": [
    "Congratulations! You have successfully set up Python, VS Code with Jupyter Lab, and Conda as the package manager. In this section, we covered the following:\n"
   ]
  },
  {
   "attachments": {},
   "cell_type": "markdown",
   "metadata": {},
   "source": [
    "- Installing Python using Conda and setting up a Conda environment.\n",
    "- Configuring VS Code with the Python extension and Jupyter Lab.\n",
    "- Exploring the advantages of Jupyter Lab over Jupyter Notebook.\n"
   ]
  },
  {
   "attachments": {},
   "cell_type": "markdown",
   "metadata": {},
   "source": [
    "By completing these steps, you now have a powerful development environment that allows you to write, execute, and document your Python code efficiently. You are ready to dive into the exciting world of Python programming!\n"
   ]
  },
  {
   "attachments": {},
   "cell_type": "markdown",
   "metadata": {},
   "source": [
    "In the next section of our course, we will provide a crash course on essential Python concepts. This crash course will cover the fundamental concepts and syntax of Python, ensuring that you have a solid foundation before we delve into more advanced topics."
   ]
  },
  {
   "attachments": {},
   "cell_type": "markdown",
   "metadata": {},
   "source": [
    "Once again, congratulations on completing the setup! Let's continue the journey and explore the wonders of Python programming together.\n"
   ]
  }
 ],
 "metadata": {
  "language_info": {
   "name": "python"
  },
  "orig_nbformat": 4
 },
 "nbformat": 4,
 "nbformat_minor": 2
}
