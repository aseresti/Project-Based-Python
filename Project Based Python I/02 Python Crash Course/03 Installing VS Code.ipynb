{
 "cells": [
  {
   "cell_type": "markdown",
   "metadata": {},
   "source": [
    "<img src=\"./images/banner.png\" width=\"600\">"
   ]
  },
  {
   "cell_type": "markdown",
   "metadata": {},
   "source": [
    "# Installing Visual Studio Code (VS Code)\n"
   ]
  },
  {
   "cell_type": "markdown",
   "metadata": {},
   "source": [
    "\n",
    "In this section, we will guide you through the process of installing Visual Studio Code (VS Code), a popular and versatile code editor that provides excellent support for Python development. Follow the steps below to install VS Code on your system.\n"
   ]
  },
  {
   "cell_type": "markdown",
   "metadata": {},
   "source": [
    "**Table of contents**<a id='toc0_'></a>    \n",
    "- [Installing Visual Studio Code](#toc1_)    \n",
    "\n",
    "<!-- vscode-jupyter-toc-config\n",
    "\tnumbering=false\n",
    "\tanchor=true\n",
    "\tflat=false\n",
    "\tminLevel=2\n",
    "\tmaxLevel=6\n",
    "\t/vscode-jupyter-toc-config -->\n",
    "<!-- THIS CELL WILL BE REPLACED ON TOC UPDATE. DO NOT WRITE YOUR TEXT IN THIS CELL -->"
   ]
  },
  {
   "cell_type": "markdown",
   "metadata": {},
   "source": [
    "\n",
    "## <a id='toc1_'></a>[Installing Visual Studio Code](#toc0_)\n"
   ]
  },
  {
   "cell_type": "markdown",
   "metadata": {},
   "source": [
    "\n",
    "1. Visit the [VS Code website](https://code.visualstudio.com/) and download the installer for your operating system.\n",
    "\n",
    "2. Run the installer executable and follow the on-screen instructions to install VS Code.\n",
    "\n",
    "3. If prompted to select additional components or options during the installation, you can choose the default options or customize them according to your preferences. It is recommended to select options such as \"Add to PATH\" or \"Open with Code\" to simplify the integration with your system.\n",
    "\n",
    "4. Once the installation is complete, you can launch VS Code by searching for it in your application menu or by double-clicking the VS Code icon on your desktop.\n",
    "\n",
    "5. Upon launching VS Code for the first time, you will be greeted with a welcome screen. Take a moment to explore the interface and familiarize yourself with the different components, such as the editor, sidebar, and extensions pane.\n",
    "\n",
    "6. To enhance VS Code for Python development, we will be installing the Jupyter Notebook extension. Click on the Extensions icon in the sidebar (represented by a square icon) or use the shortcut `Ctrl+Shift+X` (Windows/Linux) or `Cmd+Shift+X` (macOS) to open the Extensions pane.\n",
    "\n",
    "7. In the Extensions pane, search for \"Jupyter\" and click on the \"Jupyter\" extension by Microsoft. Click the \"Install\" button to install the extension.\n",
    "\n",
    "8. After the installation is complete, click the \"Reload\" button to activate the extension.\n"
   ]
  },
  {
   "attachments": {},
   "cell_type": "markdown",
   "metadata": {},
   "source": [
    "<img src=\"./images/vscode-jupyter-ext.png\" width=\"600\">"
   ]
  },
  {
   "cell_type": "markdown",
   "metadata": {},
   "source": [
    "\n",
    "Congratulations! You have successfully installed Visual Studio Code along with the Jupyter Notebook extension. In the next section, we will learn how to set up Jupyter Notebook within VS Code using the installed extension.\n"
   ]
  }
 ],
 "metadata": {
  "language_info": {
   "name": "python"
  },
  "orig_nbformat": 4
 },
 "nbformat": 4,
 "nbformat_minor": 2
}
