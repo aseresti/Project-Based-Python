{
 "cells": [
  {
   "cell_type": "markdown",
   "metadata": {},
   "source": [
    "<img src=\"./images/banner.png\" width=\"600\">"
   ]
  },
  {
   "attachments": {},
   "cell_type": "markdown",
   "metadata": {},
   "source": [
    "In this section, we will explore different operating systems and their compatibility with Python and data science. Understanding the basics of operating systems is essential for setting up your Python development environment and utilizing the terminal effectively. We will cover the three major operating systems: macOS, Linux, and Windows, including the Windows Subsystem for Linux (WSL). Let's dive in!\n"
   ]
  },
  {
   "cell_type": "markdown",
   "metadata": {},
   "source": [
    "\n",
    "An operating system (OS) is the software that manages computer hardware and software resources and provides common services for computer programs. The choice of operating system impacts your Python setup and the availability of specific tools and libraries for data science.\n"
   ]
  },
  {
   "cell_type": "markdown",
   "metadata": {},
   "source": [
    "**Table of contents**<a id='toc0_'></a>    \n",
    "- [macOS](#toc1_1_)    \n",
    "- [Linux](#toc2_)    \n",
    "- [Windows and Windows Subsystem for Linux (WSL)](#toc3_)    \n",
    "- [Accessing the Terminal](#toc4_)    \n",
    "  - [macOS](#toc4_1_)    \n",
    "  - [Linux](#toc4_2_)    \n",
    "  - [Windows Subsystem for Linux (WSL)](#toc4_3_)    \n",
    "\n",
    "<!-- vscode-jupyter-toc-config\n",
    "\tnumbering=false\n",
    "\tanchor=true\n",
    "\tflat=false\n",
    "\tminLevel=2\n",
    "\tmaxLevel=6\n",
    "\t/vscode-jupyter-toc-config -->\n",
    "<!-- THIS CELL WILL BE REPLACED ON TOC UPDATE. DO NOT WRITE YOUR TEXT IN THIS CELL -->"
   ]
  },
  {
   "cell_type": "markdown",
   "metadata": {},
   "source": [
    "\n",
    "### <a id='toc1_1_'></a>[macOS](#toc0_)\n"
   ]
  },
  {
   "attachments": {},
   "cell_type": "markdown",
   "metadata": {},
   "source": [
    "<img src=\"./images/os-mac.jpg\" width=\"500\">"
   ]
  },
  {
   "cell_type": "markdown",
   "metadata": {},
   "source": [
    "\n",
    "macOS is the operating system designed for Apple's Macintosh computers. It is known for its user-friendly interface, stability, and compatibility with a wide range of software. macOS comes with a built-in terminal application called Terminal, which provides access to the Unix-based command-line interface (CLI).\n"
   ]
  },
  {
   "cell_type": "markdown",
   "metadata": {},
   "source": [
    "\n",
    "Benefits of macOS for Data Science:\n",
    "- Native support for Unix-based tools and libraries.\n",
    "- Integration with Xcode, a development environment that includes compilers and debugging tools.\n",
    "- Seamless compatibility with other Apple devices and software.\n"
   ]
  },
  {
   "cell_type": "markdown",
   "metadata": {},
   "source": [
    "\n",
    "## <a id='toc2_'></a>[Linux](#toc0_)\n"
   ]
  },
  {
   "attachments": {},
   "cell_type": "markdown",
   "metadata": {},
   "source": [
    "<img src=\"./images/os-ubuntu.webp\" width=\"500\">"
   ]
  },
  {
   "attachments": {},
   "cell_type": "markdown",
   "metadata": {},
   "source": [
    "Linux is a popular open-source operating system kernel used by various distributions (distros). For our purposes in data science, we recommend using the Ubuntu distribution. Ubuntu is highly customizable and widely used in scientific and data-intensive applications.\n"
   ]
  },
  {
   "cell_type": "markdown",
   "metadata": {},
   "source": [
    "\n",
    "Benefits of Linux (Ubuntu) for Data Science:\n",
    "- Native support for Unix-based tools and libraries.\n",
    "- Vast community support and a rich ecosystem of software and packages.\n",
    "- Highly customizable and lightweight, allowing for optimized performance.\n",
    "- Availability of specialized distributions for data science, such as Anaconda and Ubuntu Data Science Remix.\n"
   ]
  },
  {
   "cell_type": "markdown",
   "metadata": {},
   "source": [
    "\n",
    "## <a id='toc3_'></a>[Windows and Windows Subsystem for Linux (WSL)](#toc0_)\n"
   ]
  },
  {
   "attachments": {},
   "cell_type": "markdown",
   "metadata": {},
   "source": [
    "<img src=\"./images/os-wsl.webp\" width=\"500\">"
   ]
  },
  {
   "cell_type": "markdown",
   "metadata": {},
   "source": [
    "\n",
    "Windows is a widely used operating system developed by Microsoft. While Windows does not have native Unix-like functionality, it offers the Windows Subsystem for Linux (WSL), which allows you to run a Linux distribution within Windows. WSL provides access to a Linux shell and allows you to run Unix-based tools and applications seamlessly.\n"
   ]
  },
  {
   "cell_type": "markdown",
   "metadata": {},
   "source": [
    "\n",
    "Benefits of Windows and WSL for Data Science:\n",
    "- Familiar Windows interface with access to a Linux environment.\n",
    "- Ability to run Unix-based tools and libraries natively through WSL.\n",
    "- Seamless integration with Windows software and applications.\n"
   ]
  },
  {
   "cell_type": "markdown",
   "metadata": {},
   "source": [
    "\n",
    "## <a id='toc4_'></a>[Accessing the Terminal](#toc0_)\n"
   ]
  },
  {
   "attachments": {},
   "cell_type": "markdown",
   "metadata": {},
   "source": [
    "The terminal or command line interface is a powerful tool for executing commands and running scripts. Here are the steps to access the terminal on each operating system:\n"
   ]
  },
  {
   "cell_type": "markdown",
   "metadata": {},
   "source": [
    "\n",
    "### <a id='toc4_1_'></a>[macOS](#toc0_)\n"
   ]
  },
  {
   "attachments": {},
   "cell_type": "markdown",
   "metadata": {},
   "source": [
    "<img src=\"./images/terminal-mac.png\" width=\"500\">"
   ]
  },
  {
   "cell_type": "markdown",
   "metadata": {},
   "source": [
    "\n",
    "To open the Terminal on macOS:\n",
    "1. Press `Command + Space` to open Spotlight Search.\n",
    "2. Type \"Terminal\" and press Enter.\n"
   ]
  },
  {
   "cell_type": "markdown",
   "metadata": {},
   "source": [
    "\n",
    "### <a id='toc4_2_'></a>[Linux](#toc0_)\n"
   ]
  },
  {
   "attachments": {},
   "cell_type": "markdown",
   "metadata": {},
   "source": [
    "<img src=\"./images/terminal-ubuntu.png\" width=\"500\">"
   ]
  },
  {
   "cell_type": "markdown",
   "metadata": {},
   "source": [
    "\n",
    "To open the terminal on Linux:\n",
    "1. Use the shortcut `Ctrl + Alt + T` to open the terminal.\n",
    "2. Alternatively, you can find the terminal application in the Applications or System menu.\n"
   ]
  },
  {
   "cell_type": "markdown",
   "metadata": {},
   "source": [
    "\n",
    "### <a id='toc4_3_'></a>[Windows Subsystem for Linux (WSL)](#toc0_)\n"
   ]
  },
  {
   "attachments": {},
   "cell_type": "markdown",
   "metadata": {},
   "source": [
    "<img src=\"./images/terminal-wsl.png\" width=\"500\">"
   ]
  },
  {
   "cell_type": "markdown",
   "metadata": {},
   "source": [
    "\n",
    "1. Enable WSL:\n",
    "   - Open PowerShell as Administrator.\n",
    "   - Run the following command and restart your computer when prompted:\n",
    "\n",
    "     ```bash\n",
    "     wsl --install\n",
    "     ```\n",
    "\n",
    "2. Choose a Linux distribution:\n",
    "   - Open Microsoft Store from the Start menu.\n",
    "   - Search for your preferred Linux distribution (e.g., Ubuntu, Debian, or Fedora).\n",
    "   - Select the distribution and click \"Install\" to download and install it.\n",
    "\n",
    "3. Launch and configure your Linux distribution:\n",
    "   - Open the installed Linux distribution from the Start menu.\n",
    "   - The first launch will initialize the distribution and prompt you to create a user account and password.\n",
    "   - Once configured, you can use the\n"
   ]
  }
 ],
 "metadata": {
  "language_info": {
   "name": "python"
  },
  "orig_nbformat": 4
 },
 "nbformat": 4,
 "nbformat_minor": 2
}
