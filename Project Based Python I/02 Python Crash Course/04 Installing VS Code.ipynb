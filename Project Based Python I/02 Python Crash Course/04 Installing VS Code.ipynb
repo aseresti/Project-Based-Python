{
 "cells": [
  {
   "cell_type": "markdown",
   "metadata": {},
   "source": [
    "<img src=\"./images/banner.png\" width=\"600\">"
   ]
  },
  {
   "cell_type": "markdown",
   "metadata": {},
   "source": [
    "## <a id='toc1_'></a>[Installing Visual Studio Code (VS Code)](#toc0_)\n"
   ]
  },
  {
   "cell_type": "markdown",
   "metadata": {},
   "source": [
    "Visual Studio Code (VS Code) is a popular and versatile code editor that provides excellent support for Python development. Follow the steps below to install and enhance VS Code for Python development:\n"
   ]
  },
  {
   "cell_type": "markdown",
   "metadata": {},
   "source": [
    "**Table of contents**<a id='toc0_'></a>    \n",
    "- [Installing Visual Studio Code (VS Code)](#toc1_)    \n",
    "- [Installing VS Code](#toc2_)    \n",
    "- [Launching VS Code](#toc3_)    \n",
    "- [Installing the Jupyter Extension](#toc4_)    \n",
    "\n",
    "<!-- vscode-jupyter-toc-config\n",
    "\tnumbering=false\n",
    "\tanchor=true\n",
    "\tflat=false\n",
    "\tminLevel=2\n",
    "\tmaxLevel=6\n",
    "\t/vscode-jupyter-toc-config -->\n",
    "<!-- THIS CELL WILL BE REPLACED ON TOC UPDATE. DO NOT WRITE YOUR TEXT IN THIS CELL -->"
   ]
  },
  {
   "cell_type": "markdown",
   "metadata": {},
   "source": [
    "## <a id='toc2_'></a>[Installing VS Code](#toc0_)\n"
   ]
  },
  {
   "cell_type": "markdown",
   "metadata": {},
   "source": [
    "To install Visual Studio Code, follow these steps:\n",
    "\n",
    "1. Visit the official VS Code website at [https://code.visualstudio.com/](https://code.visualstudio.com/).\n",
    "2. Download the installer for your operating system.\n",
    "3. Run the installer and follow the on-screen instructions to complete the installation process.\n",
    "4. Once installed, open VS Code.\n"
   ]
  },
  {
   "cell_type": "markdown",
   "metadata": {},
   "source": [
    "## <a id='toc3_'></a>[Launching VS Code](#toc0_)\n"
   ]
  },
  {
   "cell_type": "markdown",
   "metadata": {},
   "source": [
    "You can launch VS Code in different ways depending on your operating system and preferences.\n"
   ]
  },
  {
   "cell_type": "markdown",
   "metadata": {},
   "source": [
    "To launch VS Code with the graphical interface:\n",
    "\n",
    "- On Windows: Look for the VS Code icon in the Start menu or on the desktop and click on it to open the editor.\n",
    "- On macOS: Open the Applications folder, find VS Code, and click on it to launch the editor.\n",
    "- On Linux: Open the Applications menu, search for VS Code, and click on it to open the editor.\n"
   ]
  },
  {
   "cell_type": "markdown",
   "metadata": {},
   "source": [
    "To launch VS Code from the terminal, use the following command:\n",
    "\n",
    "```bash\n",
    "code\n",
    "```\n"
   ]
  },
  {
   "cell_type": "markdown",
   "metadata": {},
   "source": [
    "This command allows you to quickly open files or directories in VS Code without navigating through the file explorer. For example, to open a specific directory as a project, navigate to the directory in the terminal and run `code .`.\n"
   ]
  },
  {
   "cell_type": "markdown",
   "metadata": {},
   "source": [
    "## <a id='toc4_'></a>[Installing the Jupyter Extension](#toc0_)\n"
   ]
  },
  {
   "cell_type": "markdown",
   "metadata": {},
   "source": [
    "The Jupyter extension for VS Code allows you to work with Jupyter notebooks directly within the editor. Jupyter notebooks provide an interactive environment for data analysis, visualization, and code experimentation.\n"
   ]
  },
  {
   "cell_type": "markdown",
   "metadata": {},
   "source": [
    "To install the Jupyter extension, follow these steps:\n",
    "\n",
    "1. Open VS Code.\n",
    "2. Click on the \"Extensions\" button in the left sidebar (or press `Ctrl+Shift+X`).\n",
    "3. In the search bar, type \"Jupyter\" and press Enter.\n",
    "4. Look for the \"Jupyter\" extension in the search results.\n",
    "5. Click the \"Install\" button next to the \"Jupyter\" extension to install it.\n"
   ]
  },
  {
   "attachments": {},
   "cell_type": "markdown",
   "metadata": {},
   "source": [
    "<img src=\"./images/vscode-jupyter-ext.png\" width=\"600\">"
   ]
  },
  {
   "cell_type": "markdown",
   "metadata": {},
   "source": [
    "By installing the Jupyter extension, you can take advantage of the interactive capabilities of Jupyter notebooks within the VS Code environment, enhancing your Python development experience.\n"
   ]
  },
  {
   "cell_type": "markdown",
   "metadata": {},
   "source": [
    "With Visual Studio Code installed, launched either through the graphical interface or the terminal, and the Jupyter extension installed, you're all set to start coding in Python and leveraging the power of Jupyter notebooks within the VS Code editor!"
   ]
  }
 ],
 "metadata": {
  "language_info": {
   "name": "python"
  },
  "orig_nbformat": 4
 },
 "nbformat": 4,
 "nbformat_minor": 2
}
