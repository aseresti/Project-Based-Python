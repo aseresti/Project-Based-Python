{
 "cells": [
  {
   "cell_type": "markdown",
   "metadata": {},
   "source": [
    "<img src=\"./images/banner.png\" width=\"600\">"
   ]
  },
  {
   "cell_type": "markdown",
   "metadata": {},
   "source": [
    "# Section 4: Using Conda Environments in VS Code\n"
   ]
  },
  {
   "cell_type": "markdown",
   "metadata": {},
   "source": [
    "\n",
    "In this section, we will explore how to leverage Conda environments within Visual Studio Code (VS Code) for Python development. Conda environments allow us to isolate our project dependencies, ensuring consistency and reproducibility across different development environments. Let's get started!\n"
   ]
  },
  {
   "cell_type": "markdown",
   "metadata": {},
   "source": [
    "**Table of contents**<a id='toc0_'></a>    \n",
    "- [Installing the VS Code Extension](#toc1_)    \n",
    "- [Selecting a Conda Environment in VS Code](#toc2_)    \n",
    "- [Activating a Conda Environment in the Integrated Terminal](#toc3_)    \n",
    "\n",
    "<!-- vscode-jupyter-toc-config\n",
    "\tnumbering=false\n",
    "\tanchor=true\n",
    "\tflat=false\n",
    "\tminLevel=2\n",
    "\tmaxLevel=6\n",
    "\t/vscode-jupyter-toc-config -->\n",
    "<!-- THIS CELL WILL BE REPLACED ON TOC UPDATE. DO NOT WRITE YOUR TEXT IN THIS CELL -->"
   ]
  },
  {
   "cell_type": "markdown",
   "metadata": {},
   "source": [
    "\n",
    "## <a id='toc1_'></a>[Installing the VS Code Extension](#toc0_)\n"
   ]
  },
  {
   "cell_type": "markdown",
   "metadata": {},
   "source": [
    "\n",
    "Before we begin, make sure you have Visual Studio Code installed on your machine. Once you have VS Code installed, follow these steps to install the necessary extension for working with Conda environments:\n",
    "\n",
    "1. Launch VS Code.\n",
    "2. Go to the Extensions view by clicking on the square icon in the left sidebar or using the shortcut `Ctrl+Shift+X`.\n",
    "3. In the search bar, type \"Python\" and press Enter.\n",
    "4. Look for the \"Python\" extension by Microsoft and click on the \"Install\" button.\n"
   ]
  },
  {
   "cell_type": "markdown",
   "metadata": {},
   "source": [
    "\n",
    "## <a id='toc2_'></a>[Selecting a Conda Environment in VS Code](#toc0_)\n"
   ]
  },
  {
   "cell_type": "markdown",
   "metadata": {},
   "source": [
    "\n",
    "Once you have the Python extension installed, you can choose the desired Conda environment for your project within VS Code. Here's how:\n",
    "\n",
    "1. Open your Python project in VS Code.\n",
    "2. At the bottom left corner of the window, click on the Python interpreter version. It may display the default interpreter or another interpreter you previously selected.\n",
    "3. In the list that appears, select \"Enter interpreter path...\"\n",
    "4. Choose the \"Find...\" option.\n",
    "5. Search for the Conda environment you want to use, typically located in the `envs` directory within your Anaconda installation directory.\n",
    "6. Select the desired Conda environment from the list.\n"
   ]
  },
  {
   "cell_type": "markdown",
   "metadata": {},
   "source": [
    "\n",
    "Once you select a Conda environment, VS Code will use that environment for executing Python code and managing dependencies within your project.\n"
   ]
  },
  {
   "cell_type": "markdown",
   "metadata": {},
   "source": [
    "\n",
    "## <a id='toc3_'></a>[Activating a Conda Environment in the Integrated Terminal](#toc0_)\n"
   ]
  },
  {
   "cell_type": "markdown",
   "metadata": {},
   "source": [
    "\n",
    "To activate the selected Conda environment within the integrated terminal in VS Code, follow these steps:\n",
    "\n",
    "1. Open the integrated terminal in VS Code by selecting \"View\" -> \"Terminal\" or using the shortcut `Ctrl+` backtick (`).\n",
    "2. In the terminal, you will see the current Conda environment name displayed on the left side of the command prompt (e.g., `(myenv) user@machine:~$`).\n",
    "3. If the correct Conda environment is not activated, use the following command to activate it:\n",
    "   ```bash\n",
    "   conda activate myenv\n"
   ]
  }
 ],
 "metadata": {
  "language_info": {
   "name": "python"
  },
  "orig_nbformat": 4
 },
 "nbformat": 4,
 "nbformat_minor": 2
}
