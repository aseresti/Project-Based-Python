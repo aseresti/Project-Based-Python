{
 "cells": [
  {
   "cell_type": "markdown",
   "metadata": {},
   "source": [
    "<img src=\"./images/banner.png\" width=\"800\">"
   ]
  },
  {
   "cell_type": "markdown",
   "metadata": {},
   "source": [
    "# Introduction to Streamlit\n"
   ]
  },
  {
   "cell_type": "markdown",
   "metadata": {},
   "source": [
    "Welcome to the intriguing world of Streamlit, a powerful and interactive Python library that allows developers like you to create beautiful data applications and analytics dashboards with minimal hassle. In this chapter, we'll explore what Streamlit is, how you can set it up and why it's a must-have in your data science toolkit. \n"
   ]
  },
  {
   "cell_type": "markdown",
   "metadata": {},
   "source": [
    "**Table of contents**<a id='toc0_'></a>    \n",
    "- [What is Streamlit?](#toc1_)    \n",
    "- [Why Streamlit?](#toc2_)    \n",
    "- [Installation](#toc3_)    \n",
    "- [Your First Streamlit App](#toc4_)    \n",
    "\n",
    "<!-- vscode-jupyter-toc-config\n",
    "\tnumbering=false\n",
    "\tanchor=true\n",
    "\tflat=false\n",
    "\tminLevel=2\n",
    "\tmaxLevel=6\n",
    "\t/vscode-jupyter-toc-config -->\n",
    "<!-- THIS CELL WILL BE REPLACED ON TOC UPDATE. DO NOT WRITE YOUR TEXT IN THIS CELL -->"
   ]
  },
  {
   "cell_type": "markdown",
   "metadata": {},
   "source": [
    "\n",
    "## <a id='toc1_'></a>[What is Streamlit?](#toc0_)\n"
   ]
  },
  {
   "cell_type": "markdown",
   "metadata": {},
   "source": [
    "\n",
    "Streamlit is an open-source Python library that turns your scripts into interactive web applications without any need for front-end programming. It empowers data scientists to create and share data exploration, visualization, and machine learning tools, providing an intuitive way to turn Python scripts into interactive experiences.\n"
   ]
  },
  {
   "cell_type": "markdown",
   "metadata": {},
   "source": [
    "\n",
    "## <a id='toc2_'></a>[Why Streamlit?](#toc0_)\n"
   ]
  },
  {
   "cell_type": "markdown",
   "metadata": {},
   "source": [
    "\n",
    "1. **Simplicity**: Streamlit employs a pure Pythonic approach, which means there are no requirements for using JavaScript, HTML, or CSS for building amazing interactive web applications. If you can write Python scripts, you can create Streamlit apps!\n",
    "\n",
    "2. **Versatility**: Whether you need a platform for data analysis, machine learning, or just for presenting complex data via data visualization, Streamlit has got you covered.\n",
    "\n",
    "3. **Efficiency**: Streamlit automatically updates your app in real time as you modify your script, thus providing quick feedback, which is crucial during the development phase.\n",
    "\n",
    "4. **Customizability**: Streamlit provides built-in aesthetically pleasing themes, but still gives you the freedom to modify and design your apps based on your specific needs.\n"
   ]
  },
  {
   "cell_type": "markdown",
   "metadata": {},
   "source": [
    "## <a id='toc3_'></a>[Installation](#toc0_)"
   ]
  },
  {
   "cell_type": "markdown",
   "metadata": {},
   "source": [
    "Setting up Streamlit in your Python environment is a breeze. Use pip, a package-management system used to install and manage software packages written in Python. If you have pip configured on your system, installing Streamlit is as simple as running the following command:\n",
    "\n",
    "```sh\n",
    "pip install streamlit\n",
    "```\n"
   ]
  },
  {
   "cell_type": "markdown",
   "metadata": {},
   "source": [
    "**Install Xcode command line tools on macOS**\n",
    "\n",
    "On macOS, you'll need to install Xcode command line tools. They are required to compile some of Streamlit's Python dependencies during installation. To install Xcode command line tools, run:\n",
    "\n",
    "```bash\n",
    "xcode-select --install\n",
    "```"
   ]
  },
  {
   "cell_type": "markdown",
   "metadata": {},
   "source": [
    "After you have installed Streamlit, it’s important to verify that everything went smoothly. Streamlit provides a super-cool way to do this. You can quickly run a demo app in just one command:\n",
    "\n",
    "```sh\n",
    "streamlit hello\n",
    "```\n",
    "\n",
    "This command will open up a new page in your default web browser with a demo app that looks like this:"
   ]
  },
  {
   "cell_type": "markdown",
   "metadata": {},
   "source": [
    "<img src=\"./images/streamlit-hello.png\" width=\"800\">"
   ]
  },
  {
   "cell_type": "markdown",
   "metadata": {},
   "source": [
    "This successful interaction means Streamlit is properly installed and running on your system."
   ]
  },
  {
   "cell_type": "markdown",
   "metadata": {},
   "source": [
    "\n",
    "After checking your installation, press `Ctrl+C` in the terminal to stop the Streamlit server. You can now start building your own Streamlit apps!"
   ]
  },
  {
   "cell_type": "markdown",
   "metadata": {},
   "source": [
    "\n",
    "## <a id='toc4_'></a>[Your First Streamlit App](#toc0_)\n"
   ]
  },
  {
   "cell_type": "markdown",
   "metadata": {},
   "source": [
    "It takes but a few minutes to create an interactive Streamlit app. In a new Python script, import the Streamlit library, then use the `write` function to display your message.\n",
    "\n",
    "```python\n",
    "import streamlit as st\n",
    "\n",
    "st.write(\"Hello, Streamlit!\")\n",
    "```\n"
   ]
  },
  {
   "cell_type": "markdown",
   "metadata": {},
   "source": [
    "\n",
    "To run this app, navigate to your terminal, change to your script's directory, then type in the following command:\n",
    "\n",
    "```sh\n",
    "streamlit run your_script.py\n",
    "```\n"
   ]
  },
  {
   "cell_type": "markdown",
   "metadata": {},
   "source": [
    "\n",
    "Change 'your_script.py' to the name of your Python script. In this case, your web app will simply display the text \"Hello, Streamlit!\"\n"
   ]
  },
  {
   "cell_type": "markdown",
   "metadata": {},
   "source": [
    "\n",
    "This is just the tip of the Streamlit iceberg! In the subsequent chapters, we'll dive deeper and explore the library's core design concepts, functionalities, and elements by building a password generator dashboard. Stay tuned!\n"
   ]
  }
 ],
 "metadata": {
  "language_info": {
   "name": "python"
  }
 },
 "nbformat": 4,
 "nbformat_minor": 2
}
