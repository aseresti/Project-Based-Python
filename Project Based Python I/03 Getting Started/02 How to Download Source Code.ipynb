{
 "cells": [
  {
   "cell_type": "markdown",
   "metadata": {},
   "source": [
    "<img src=\"./images/banner.png\" width=\"800\">"
   ]
  },
  {
   "cell_type": "markdown",
   "metadata": {},
   "source": [
    "**Table of contents**<a id='toc0_'></a>    \n",
    "- [Method 1: Using Git](#toc1_)    \n",
    "  - [Step 1: Install Git (if not already installed)](#toc1_1_)    \n",
    "  - [Step 2: Clone the Repository](#toc1_2_)    \n",
    "  - [Step 3: Update the Repository](#toc1_3_)    \n",
    "- [Method 2: Using the Download Button](#toc2_)    \n",
    "  - [Step 1: Download the Repository ZIP](#toc2_1_)    \n",
    "  - [Step 2: Extract the ZIP](#toc2_2_)    \n",
    "  - [Refreshing Files:](#toc2_3_)    \n",
    "\n",
    "<!-- vscode-jupyter-toc-config\n",
    "\tnumbering=false\n",
    "\tanchor=true\n",
    "\tflat=false\n",
    "\tminLevel=2\n",
    "\tmaxLevel=6\n",
    "\t/vscode-jupyter-toc-config -->\n",
    "<!-- THIS CELL WILL BE REPLACED ON TOC UPDATE. DO NOT WRITE YOUR TEXT IN THIS CELL -->"
   ]
  },
  {
   "cell_type": "markdown",
   "metadata": {},
   "source": [
    "## <a id='toc2_'></a>[Method 1: Using the Download Button](#toc0_)"
   ]
  },
  {
   "cell_type": "markdown",
   "metadata": {},
   "source": [
    "\n",
    "### <a id='toc2_1_'></a>[Step 1: Download the Repository ZIP](#toc0_)\n",
    "\n",
    "1. **Open Your Web Browser**\n",
    "\n",
    "2. **Click on \"Code\" Button**\n",
    "\n",
    "3. **Click \"Download ZIP\"**\n"
   ]
  },
  {
   "cell_type": "markdown",
   "metadata": {},
   "source": [
    "\n",
    "### <a id='toc2_2_'></a>[Step 2: Extract the ZIP](#toc0_)\n",
    "\n",
    "1. **Navigate to Downloads**\n",
    "\n",
    "2. **Extract ZIP**\n"
   ]
  },
  {
   "cell_type": "markdown",
   "metadata": {},
   "source": [
    "## <a id='toc1_'></a>[Method 2: Using Git](#toc0_)\n"
   ]
  },
  {
   "cell_type": "markdown",
   "metadata": {},
   "source": [
    "\n",
    "### <a id='toc1_1_'></a>[Step 1: Install Git (if not already installed)](#toc0_)\n",
    "\n",
    "1. **Mac:**\n",
    "   - Open Terminal.\n",
    "   - Check if Git is installed: `git --version`\n",
    "   - If not installed, you'll be prompted to install the Xcode Command Line Tools.\n",
    "\n",
    "2. **Linux:**\n",
    "   - Open Terminal.\n",
    "   - Check if Git is installed: `git --version`\n",
    "   - If not installed, use your package manager to install Git. For example, on Debian-based systems: `sudo apt-get install git`\n",
    "\n",
    "3. **WSL:**\n",
    "   - Open your WSL terminal.\n",
    "   - Check if Git is installed: `git --version`\n",
    "   - If not installed, use your Linux package manager to install Git.\n"
   ]
  },
  {
   "cell_type": "markdown",
   "metadata": {},
   "source": [
    "\n",
    "### <a id='toc1_2_'></a>[Step 2: Clone the Repository](#toc0_)\n",
    "\n",
    "1. **Open Terminal (Mac and Linux) or Command Prompt (WSL)**\n",
    "\n",
    "2. **Navigate to Desired Directory**\n",
    "\n",
    "3. **Clone the Repository**\n"
   ]
  },
  {
   "cell_type": "markdown",
   "metadata": {},
   "source": [
    "\n",
    "### <a id='toc1_3_'></a>[Step 3: Update the Repository](#toc0_)\n",
    "\n",
    "1. **Navigate to Repository Directory**\n",
    "\n",
    "2. **Pull Changes**: `git pull origin main`\n"
   ]
  },
  {
   "cell_type": "markdown",
   "metadata": {},
   "source": [
    "\n",
    "### <a id='toc2_3_'></a>[Refreshing Files:](#toc0_)\n",
    "\n",
    "If you want to refresh the files using the Download button method, you can follow these steps:\n",
    "\n",
    "1. **Download ZIP Again:** Repeat the steps in \"Step 1: Download the Repository ZIP\" to download the ZIP file again.\n",
    "\n",
    "2. **Extract ZIP:** Repeat the steps in \"Step 2: Extract the ZIP\" to extract the newly downloaded ZIP file.\n",
    "\n",
    "By downloading and extracting the ZIP file again, you'll get the latest version of the repository's contents.\n"
   ]
  }
 ],
 "metadata": {
  "language_info": {
   "name": "python"
  },
  "orig_nbformat": 4
 },
 "nbformat": 4,
 "nbformat_minor": 2
}
