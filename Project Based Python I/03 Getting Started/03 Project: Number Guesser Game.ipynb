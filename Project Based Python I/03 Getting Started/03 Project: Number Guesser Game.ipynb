{
 "cells": [
  {
   "cell_type": "markdown",
   "metadata": {},
   "source": [
    "<img src=\"./images/banner.png\" width=\"800\">"
   ]
  },
  {
   "cell_type": "markdown",
   "metadata": {},
   "source": [
    "# Project: Number Guesser Game"
   ]
  },
  {
   "cell_type": "markdown",
   "metadata": {},
   "source": [
    "## Introduction\n"
   ]
  },
  {
   "cell_type": "markdown",
   "metadata": {},
   "source": [
    "\n",
    "Welcome to the Number Guesser Game project! This is a beginner-friendly Python project where you will build a fun game that challenges the user to guess a randomly generated number. For each incorrect guess, the user will receive hints to help them, but at the cost of reducing their final score.\n"
   ]
  },
  {
   "cell_type": "markdown",
   "metadata": {},
   "source": [
    "\n",
    "## Objective\n"
   ]
  },
  {
   "cell_type": "markdown",
   "metadata": {},
   "source": [
    "\n",
    "Your task is to create a game with the following features:\n",
    "\n",
    "1. The game generates a random number between a given range (e.g., 1 to 100).\n",
    "2. The user is prompted to guess the number.\n",
    "3. For each incorrect guess, the user receives a hint. The hint should indicate whether the actual number is higher or lower than the guessed number.\n",
    "4. Each incorrect guess reduces the user's score.\n",
    "5. The game ends when the user guesses the correct number or decides to quit.\n"
   ]
  },
  {
   "cell_type": "markdown",
   "metadata": {},
   "source": [
    "\n",
    "## Requirements\n"
   ]
  },
  {
   "cell_type": "markdown",
   "metadata": {},
   "source": [
    "\n",
    "1. Organize your project with a clear directory and file structure.\n",
    "2. Implement a scoring system.\n",
    "3. Provide user-friendly messages and hints.\n",
    "4. Ensure the user's input is validated.\n"
   ]
  },
  {
   "cell_type": "markdown",
   "metadata": {},
   "source": [
    "\n",
    "## Tips\n"
   ]
  },
  {
   "cell_type": "markdown",
   "metadata": {},
   "source": [
    "\n",
    "- Think about how you can break down the game into smaller components or modules.\n",
    "- Consider using functions or classes to encapsulate different functionalities.\n",
    "- Test each component separately before integrating them.\n"
   ]
  },
  {
   "cell_type": "markdown",
   "metadata": {},
   "source": [
    "## Solutions"
   ]
  },
  {
   "cell_type": "markdown",
   "metadata": {},
   "source": [
    "\n",
    "Inside the `Number Guesser Game Project` directory, you will find two solutions:\n",
    "\n",
    "1. **Bad Solution**: This solution does not consider design principles and modularity. All the code is lumped together, making it harder to understand and maintain.\n",
    "\n",
    "2. **Good Solution**: This solution adopts the `src` pattern, where all source code is organized inside the `src` directory. The design is modular, separating different functionalities into distinct modules. Additionally, this solution includes a `README.md` for detailed explanations and a `requirements.txt` file to manage dependencies.\n"
   ]
  },
  {
   "cell_type": "markdown",
   "metadata": {},
   "source": [
    "Good luck, and happy coding!"
   ]
  }
 ],
 "metadata": {
  "language_info": {
   "name": "python"
  },
  "orig_nbformat": 4
 },
 "nbformat": 4,
 "nbformat_minor": 2
}
