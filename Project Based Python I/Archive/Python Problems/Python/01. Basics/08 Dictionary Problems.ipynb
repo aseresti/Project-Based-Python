{
 "cells": [
  {
   "cell_type": "markdown",
   "id": "9eb998c7-25db-4fe3-b1fa-0ed29551d490",
   "metadata": {},
   "source": [
    "<img src=\"../../images/banners/python-basics.png\" width=\"600\"/>"
   ]
  },
  {
   "cell_type": "markdown",
   "id": "ac11b170-ee78-4ed0-ae1e-10d29e74c270",
   "metadata": {},
   "source": [
    "# <img src=\"../../images/logos/python.png\" width=\"23\"/> Dictionary Problems"
   ]
  },
  {
   "cell_type": "markdown",
   "id": "6210c8f6-6510-462c-9506-48b14f86166b",
   "metadata": {},
   "source": [
    "## Problem 1"
   ]
  },
  {
   "cell_type": "markdown",
   "id": "4b1b60f3-2ac0-4e65-a583-27472195fb7f",
   "metadata": {},
   "source": [
    "Write a Python program to create a dictionary grouping a sequence of key-value pairs into a dictionary of lists."
   ]
  },
  {
   "cell_type": "markdown",
   "id": "b3788c7b-c061-4039-89bf-5f9212664c9a",
   "metadata": {},
   "source": [
    "For example input:\n",
    "```python\n",
    "colors = [('yellow', 10), ('blue', 20), ('yellow', 30), ('blue', 40), ('red', 10)]\n",
    "```"
   ]
  },
  {
   "cell_type": "markdown",
   "id": "50b3c2fd-3c7a-413f-aeeb-ab2712b75e07",
   "metadata": {},
   "source": [
    "output:\n",
    "```python\n",
    "{'yellow': [10, 30], 'blue': [20, 40], 'red': [10]}\n",
    "```"
   ]
  },
  {
   "cell_type": "markdown",
   "id": "6026a4ee-156e-44fd-8bc9-af731088ef7d",
   "metadata": {},
   "source": [
    "## Solution:"
   ]
  },
  {
   "cell_type": "code",
   "execution_count": null,
   "id": "6cd07d87-ead3-49db-806d-6eaa8a7d6480",
   "metadata": {},
   "outputs": [],
   "source": [
    "result = {}\n",
    "for key, value in colors:\n",
    "     result.setdefault(key, []).append(value)\n",
    "\n",
    "#------------------------------------------\n",
    "colors = [('yellow', 10), ('blue', 20), ('yellow', 30), ('blue', 40), ('red', 10)]\n",
    "print(\"Original list:\")\n",
    "print(colors)\n",
    "print(\"\\nGrouping dictionary of lists:\")\n",
    "print(grouping_dictionary(colors))"
   ]
  },
  {
   "cell_type": "markdown",
   "id": "06f0b6db-6c17-41c7-9abd-d1fa986f5e66",
   "metadata": {},
   "source": [
    "***"
   ]
  },
  {
   "cell_type": "markdown",
   "id": "7d571ad8-d803-4faf-91c7-4dcd18c9fd0a",
   "metadata": {},
   "source": [
    "## Problem 2"
   ]
  },
  {
   "cell_type": "markdown",
   "id": "aafa9305-ad6b-4817-8095-39c9c88f19a4",
   "metadata": {},
   "source": [
    "Print the first element of the weather for Tokyo.\n",
    "```python\n",
    "nested_dict = {\n",
    "    \"Tokyo\": {\"weather\":[\"sunny\", \"cloudy\"], \"roads\":\"dry\"},\n",
    "    \"Dakar\": {\"weather\":[\"foggy\",\"windy\"], \"roads\": \"sandy\"}\n",
    "}\n",
    "```"
   ]
  },
  {
   "cell_type": "markdown",
   "id": "8e11e121-53b0-4947-8489-8c9f1e17850f",
   "metadata": {},
   "source": [
    "Output:  \n",
    "**sunny**"
   ]
  },
  {
   "cell_type": "markdown",
   "id": "5a2dd58a-88be-4cd8-b876-24520b77f8bc",
   "metadata": {},
   "source": [
    "## Solution"
   ]
  },
  {
   "cell_type": "code",
   "execution_count": null,
   "id": "89baef00-d2fe-4122-b9bd-6e258ac5aa5a",
   "metadata": {},
   "outputs": [],
   "source": [
    "nested_dict = {\n",
    "    \"Tokyo\": {\"weather\":[\"sunny\", \"cloudy\"], \"roads\":\"dry\"},\n",
    "    \"Dakar\": {\"weather\":[\"foggy\",\"windy\"], \"roads\": \"sandy\"}\n",
    "}\n",
    "print(nested_dict['Tokyo']['weather'][0])"
   ]
  },
  {
   "cell_type": "markdown",
   "id": "aca2a653-397e-4138-b3a1-784a072f3169",
   "metadata": {},
   "source": [
    "---"
   ]
  }
 ],
 "metadata": {
  "kernelspec": {
   "display_name": "Python 3 (ipykernel)",
   "language": "python",
   "name": "python3"
  },
  "language_info": {
   "codemirror_mode": {
    "name": "ipython",
    "version": 3
   },
   "file_extension": ".py",
   "mimetype": "text/x-python",
   "name": "python",
   "nbconvert_exporter": "python",
   "pygments_lexer": "ipython3",
   "version": "3.9.7"
  }
 },
 "nbformat": 4,
 "nbformat_minor": 5
}
