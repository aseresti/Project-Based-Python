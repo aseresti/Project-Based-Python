{
 "cells": [
  {
   "cell_type": "markdown",
   "metadata": {},
   "source": [
    "<img src=\"../../images/banners/python-basics.png\" width=\"600\"/>"
   ]
  },
  {
   "cell_type": "markdown",
   "metadata": {},
   "source": [
    "# <img src=\"../../images/logos/python.png\" width=\"23\"/> Basic Data Types Problems"
   ]
  },
  {
   "cell_type": "markdown",
   "metadata": {},
   "source": [
    "## Problem 1"
   ]
  },
  {
   "cell_type": "markdown",
   "metadata": {},
   "source": [
    "Write a Python program to print the following string in a specific format (see the figure)\n",
    "\n",
    "String : <br>\n",
    "\"Twinkle, twinkle, little star, How I wonder what you are! Up above the world so high, Like a diamond in the sky. Twinkle, twinkle, little star, How I wonder what you are\"\n",
    "\n",
    "<img src=\"images/python-basic-image-exercise-1.png\" width=\"500\"/>\n",
    "\n",
    "Hints : pay attention to the indents, spaces and new lines. Use escape sequences."
   ]
  },
  {
   "cell_type": "markdown",
   "metadata": {},
   "source": [
    "## Solution: "
   ]
  },
  {
   "cell_type": "code",
   "execution_count": null,
   "metadata": {},
   "outputs": [],
   "source": [
    "print(\"Twinkle, twinkle, little star, \\n\\tHow I wonder what you are! \\n\\t\\tUp above the world so high, \\n\\t\\tLike a diamond in the sky. \\nTwinkle, twinkle, little star, \\n\\tHow I wonder what you are!\")\n"
   ]
  },
  {
   "cell_type": "markdown",
   "metadata": {},
   "source": [
    "***"
   ]
  },
  {
   "cell_type": "markdown",
   "metadata": {},
   "source": [
    "## Problem 2"
   ]
  },
  {
   "cell_type": "markdown",
   "metadata": {},
   "source": [
    "Write a Python program to sort three integers without using conditional statements and loops."
   ]
  },
  {
   "cell_type": "markdown",
   "metadata": {},
   "source": [
    "inputs : x = 30 , y = 40, z = 20"
   ]
  },
  {
   "cell_type": "markdown",
   "metadata": {},
   "source": [
    "output: 20,  30,  40"
   ]
  },
  {
   "cell_type": "markdown",
   "metadata": {},
   "source": [
    "## Solution:"
   ]
  },
  {
   "cell_type": "code",
   "execution_count": null,
   "metadata": {},
   "outputs": [],
   "source": [
    "x = int(input(\"Input first number: \"))\n",
    "y = int(input(\"Input second number: \"))\n",
    "z = int(input(\"Input third number: \"))\n",
    "\n",
    "a1 = min(x, y, z)\n",
    "a3 = max(x, y, z)\n",
    "a2 = (x + y + z) - a1 - a3\n",
    "print(\"Numbers in sorted order: \", a1, a2, a3)"
   ]
  },
  {
   "cell_type": "markdown",
   "metadata": {},
   "source": [
    "***"
   ]
  },
  {
   "cell_type": "markdown",
   "metadata": {},
   "source": [
    "## Problem 3"
   ]
  },
  {
   "cell_type": "markdown",
   "metadata": {},
   "source": [
    "Let's define a variable called ```milk_price```. At first you think that the price of milk for each bottle is 10,000 tomans, but very soon during the code you realize that the price of milk has increased by 25% this week, so in the new line of code you have to set the price of milk at 12,500 and finally print ```milk_price``` ."
   ]
  },
  {
   "cell_type": "markdown",
   "metadata": {},
   "source": [
    "Source link:  \n",
    "https://github.com/pytopia/PyExercises/tree/main"
   ]
  },
  {
   "cell_type": "markdown",
   "metadata": {},
   "source": [
    "## Solution:"
   ]
  },
  {
   "cell_type": "code",
   "execution_count": null,
   "metadata": {},
   "outputs": [],
   "source": [
    "milk_price = 10000\n",
    "print(milk_price)\n",
    "\n",
    "milk_price = 12500\n",
    "print(milk_price)"
   ]
  },
  {
   "cell_type": "markdown",
   "metadata": {},
   "source": [
    "***"
   ]
  },
  {
   "cell_type": "markdown",
   "metadata": {},
   "source": [
    "## Problem 4"
   ]
  },
  {
   "cell_type": "markdown",
   "metadata": {},
   "source": [
    "Consider the number **13** and determine whether it is a *prime* number or not(True or False). Define a variable called `is_13_prime` and set its value to **True** or **False** and then print the variable."
   ]
  },
  {
   "cell_type": "markdown",
   "metadata": {},
   "source": [
    "Source link:  \n",
    "https://github.com/pytopia/PyExercises/tree/main"
   ]
  },
  {
   "cell_type": "markdown",
   "metadata": {},
   "source": [
    "## Solution:"
   ]
  },
  {
   "cell_type": "code",
   "execution_count": null,
   "metadata": {},
   "outputs": [],
   "source": [
    "is_13_prime = True\n",
    "print(is_13_prime)"
   ]
  },
  {
   "cell_type": "markdown",
   "metadata": {},
   "source": [
    "***"
   ]
  },
  {
   "cell_type": "markdown",
   "metadata": {},
   "source": [
    "## Problem 5"
   ]
  },
  {
   "cell_type": "markdown",
   "metadata": {},
   "source": [
    "Print the **type** of following variables:\n",
    "```python\n",
    "a = 12\n",
    "b = 25.3\n",
    "c = False\n",
    "d = 'Python'\n",
    "```"
   ]
  },
  {
   "cell_type": "markdown",
   "metadata": {},
   "source": [
    "Source link:  \n",
    "https://github.com/pytopia/PyExercises/tree/main"
   ]
  },
  {
   "cell_type": "markdown",
   "metadata": {},
   "source": [
    "## Solution:"
   ]
  },
  {
   "cell_type": "code",
   "execution_count": null,
   "metadata": {},
   "outputs": [],
   "source": [
    "a = 12\n",
    "b = 25.3\n",
    "c = False\n",
    "d = 'Python'\n",
    "print('type of a: ',type(a))\n",
    "print('type of b: ',type(b))\n",
    "print('type of c: ',type(c))\n",
    "print('type of d: ',type(d))"
   ]
  },
  {
   "cell_type": "markdown",
   "metadata": {},
   "source": [
    "***"
   ]
  },
  {
   "cell_type": "markdown",
   "metadata": {},
   "source": [
    "## Problem 6"
   ]
  },
  {
   "cell_type": "markdown",
   "metadata": {},
   "source": [
    "Ali's math score is `19.5`. First we ask you to create a variable called the `math_score` and set it to `19.5` Then print the type of this variable using the `type()` function. Then, since in Ali's school, it is customary not to print grades in decimal in the report card, so you also define a variable called the `final_score` and convert the score into the integer and then print it. "
   ]
  },
  {
   "cell_type": "markdown",
   "metadata": {},
   "source": [
    "Source link:  \n",
    "https://github.com/pytopia/PyExercises/tree/main"
   ]
  },
  {
   "cell_type": "markdown",
   "metadata": {},
   "source": [
    "## Solution:"
   ]
  },
  {
   "cell_type": "code",
   "execution_count": null,
   "metadata": {},
   "outputs": [],
   "source": [
    "math_score = 19.5\n",
    "print(type(math_score))\n",
    "\n",
    "final_score = int(math_score)\n",
    "print(type(final_score))"
   ]
  },
  {
   "cell_type": "markdown",
   "metadata": {},
   "source": [
    "***"
   ]
  },
  {
   "cell_type": "markdown",
   "metadata": {},
   "source": [
    "## Problem 7"
   ]
  },
  {
   "cell_type": "markdown",
   "metadata": {},
   "source": [
    "Sara analyzes a company's data.\n",
    "This data contains a variable named ```employed``` For each person who has been looking for a job in this company.\n",
    "If a person is employed, its value is equal to ```1```; otherwise, it is equal to ```0```.\n",
    "Help Sara with converting her data to ```True``` or ```False```. \n",
    "\n",
    "Example Data:\n",
    "```python\n",
    "emp1_name = \"Ebrahim Hamedi\"\n",
    "emp1_employed = 0\n",
    "\n",
    "emp2_name = \"Hassan Shamaizadeh\"\n",
    "emp2_employed = 1\n",
    "```\n",
    "Output:  \n",
    "Ebrahim Hamedi False  \n",
    "Hassan Shamaizadeh True"
   ]
  },
  {
   "cell_type": "markdown",
   "metadata": {},
   "source": [
    "Source link:  \n",
    "https://github.com/pytopia/PyExercises/tree/main"
   ]
  },
  {
   "cell_type": "markdown",
   "metadata": {},
   "source": [
    "## Solution:"
   ]
  },
  {
   "cell_type": "code",
   "execution_count": null,
   "metadata": {},
   "outputs": [],
   "source": [
    "emp1_name = \"Ebrahim Hamedi\"\n",
    "emp1_employed = 0\n",
    "\n",
    "print(emp1_name, bool(emp1_employed))\n",
    "\n",
    "emp2_name = \"Hassan Shamaizadeh\"\n",
    "emp2_employed = 1\n",
    "\n",
    "print(emp2_name, bool(emp2_employed))"
   ]
  },
  {
   "cell_type": "markdown",
   "metadata": {},
   "source": [
    "***"
   ]
  }
 ],
 "metadata": {
  "kernelspec": {
   "display_name": "Python 3 (ipykernel)",
   "language": "python",
   "name": "python3"
  },
  "language_info": {
   "codemirror_mode": {
    "name": "ipython",
    "version": 3
   },
   "file_extension": ".py",
   "mimetype": "text/x-python",
   "name": "python",
   "nbconvert_exporter": "python",
   "pygments_lexer": "ipython3",
   "version": "3.9.7"
  }
 },
 "nbformat": 4,
 "nbformat_minor": 4
}
