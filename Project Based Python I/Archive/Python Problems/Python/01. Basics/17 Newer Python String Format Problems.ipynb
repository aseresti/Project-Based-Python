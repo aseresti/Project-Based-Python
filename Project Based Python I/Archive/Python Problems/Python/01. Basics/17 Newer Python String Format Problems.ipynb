{
 "cells": [
  {
   "cell_type": "markdown",
   "id": "60c4576c-74f2-409a-b780-0fbaf66cad02",
   "metadata": {},
   "source": [
    "<img src=\"../../images/banners/python-basics.png\" width=\"600\"/>"
   ]
  },
  {
   "cell_type": "markdown",
   "id": "7d2e7507-8f00-4020-87dc-0051dc4914d7",
   "metadata": {},
   "source": [
    "# <img src=\"../../images/logos/python.png\" width=\"23\"/> Newer Python String Format Problems "
   ]
  },
  {
   "cell_type": "markdown",
   "id": "dd93909e-b065-4bb8-bf2a-263810411842",
   "metadata": {},
   "source": [
    "## Problem 1"
   ]
  },
  {
   "cell_type": "markdown",
   "id": "d666a325-b163-404a-9fa4-84bcc4c608e1",
   "metadata": {},
   "source": [
    "By filling inside the curly brackets, make sure each bracket is matched to the appropriate value in the following code.\n",
    "```python\n",
    "text = \"One year has {} months, {} weeks and {} days.\".format(52, 365, 12)\n",
    "print(text)\n",
    "```"
   ]
  },
  {
   "cell_type": "markdown",
   "id": "3887e993-6a63-4671-b1d1-21f96761a848",
   "metadata": {},
   "source": [
    "Source link:  \n",
    "https://holypython.com/intermediate-python-exercises/exercise-1-python-format-method/"
   ]
  },
  {
   "cell_type": "markdown",
   "id": "2b00fd19-f436-4284-9989-2fe53a96379e",
   "metadata": {},
   "source": [
    "## Solution"
   ]
  },
  {
   "cell_type": "code",
   "execution_count": null,
   "id": "4caf78a4-3bd3-424e-8f9c-889fe660e2e5",
   "metadata": {},
   "outputs": [],
   "source": [
    "text=\"One year has {2} months, {0} weeks and {1} days.\".format(52, 365, 12)\n",
    "print(text)"
   ]
  },
  {
   "cell_type": "markdown",
   "id": "cd16dfa7-40c0-44b4-956b-c21b27d73b98",
   "metadata": {},
   "source": [
    "---"
   ]
  },
  {
   "cell_type": "markdown",
   "id": "6bb6dfdd-28f5-4cd5-bc5e-74cba6627ace",
   "metadata": {},
   "source": [
    "## Problem 2"
   ]
  },
  {
   "cell_type": "markdown",
   "id": "7e2acd8e-38d7-461b-a1a4-e9a33a0fda57",
   "metadata": {},
   "source": [
    "Fill inside `.format()` parenthesis so that it matches the correct values.\n",
    "```python\n",
    "scores = {\n",
    "    'John': 75,\n",
    "    'Ann': 80,\n",
    "    'Ally': 60,\n",
    "}\n",
    "\n",
    "text = \"Scores were as following: John:{}, Ann:{}, Ally:{}\"\n",
    "text = text.format(# write your code here)\n",
    "print(text)\n",
    "```"
   ]
  },
  {
   "cell_type": "markdown",
   "id": "44f7b831-19cc-42ac-a0b8-5f5a438679f5",
   "metadata": {},
   "source": [
    "Source link:  \n",
    "https://holypython.com/intermediate-python-exercises/exercise-1-python-format-method/"
   ]
  },
  {
   "cell_type": "markdown",
   "id": "42610fe3-d7ca-4cfa-8638-9ce2c257e362",
   "metadata": {},
   "source": [
    "## Solution"
   ]
  },
  {
   "cell_type": "code",
   "execution_count": null,
   "id": "e5a01307-81aa-42d6-877e-ff7fcbfe4ade",
   "metadata": {},
   "outputs": [],
   "source": [
    "scores = {\n",
    "    'John': 75,\n",
    "    'Ann': 80,\n",
    "    'Ally': 60,\n",
    "}\n",
    "\n",
    "text = \"Scores were as following: John:{}, Ann:{}, Ally:{}\"\n",
    "text = text.format(scores['John'], scores['Ann'], scores['Ally'])\n",
    "print(text)"
   ]
  },
  {
   "cell_type": "markdown",
   "id": "6b79abae-4a3f-4f4b-8da1-3cbdba289582",
   "metadata": {},
   "source": [
    "---"
   ]
  },
  {
   "cell_type": "markdown",
   "id": "6b0dd5d2-a3e2-4b45-b844-e072eda71b85",
   "metadata": {},
   "source": [
    "## Problem 3"
   ]
  },
  {
   "cell_type": "markdown",
   "id": "7aaba98e-dfab-4180-a1a5-3b37929bce1b",
   "metadata": {},
   "source": [
    "Use f-string to print the information below in desired format.\n",
    "```python\n",
    "title = \"Joker\"\n",
    "director = \"Todd Phillips\"\n",
    "release_year = 2019\n",
    "```\n",
    "Output shoud be:  \n",
    "Joker (2019), directed by Todd Phillips"
   ]
  },
  {
   "cell_type": "markdown",
   "id": "c1786a0e-738a-4f57-b6e8-33e0d7603f6e",
   "metadata": {},
   "source": [
    "Source link:  \n",
    "https://teclado.com/30-days-of-python/python-30-day-3-exercise-solutions/"
   ]
  },
  {
   "cell_type": "markdown",
   "id": "669f129c-e355-4933-8835-794e00009b92",
   "metadata": {},
   "source": [
    "## Solution"
   ]
  },
  {
   "cell_type": "code",
   "execution_count": null,
   "id": "467f1f02-6966-419f-a7be-b4da42b7ae0e",
   "metadata": {},
   "outputs": [],
   "source": [
    "title = \"Joker\"\n",
    "director = \"Todd Phillips\"\n",
    "release_year = 2019\n",
    "\n",
    "print(f\"{title} ({release_year}), directed by {director}\")"
   ]
  },
  {
   "cell_type": "markdown",
   "id": "f3672a60-11e3-4c8a-b43c-f4a962d69f01",
   "metadata": {},
   "source": [
    "---"
   ]
  },
  {
   "cell_type": "markdown",
   "id": "26e032e6-0d7d-452e-b8b9-9b6032a25e60",
   "metadata": {},
   "source": [
    "## Problem 4"
   ]
  },
  {
   "cell_type": "markdown",
   "id": "f7ac571a-4725-41c5-9794-ba8feb5afb8a",
   "metadata": {},
   "source": [
    "Use tuple unpacking `*` to inject the `mytuple` elements to `mytext`.\n",
    "\n",
    "```python\n",
    "mytuple = (\"Darroudi\", \"Surrealist\", \"Miami\", \"1958\", \"Florida State Art Center\")\n",
    "\n",
    "mytext= \"{}’s paintings are defined as {} works. She was able to combine\\n\\\n",
    "the delicacy and romantic spirit of Persian paintings with the elements of \\n\\\n",
    "Surrealism.Darroudi's first solo exhibition was held in {}, Miami-Dade County, \\n\\\n",
    "Florida, in {} at the invitation of the {}.\"\n",
    "```"
   ]
  },
  {
   "cell_type": "markdown",
   "id": "acb021ac-d7ed-43cc-9c92-253e46c73b89",
   "metadata": {},
   "source": [
    "Source link:  \n",
    "https://github.com/pytopia/PyExercises/tree/main"
   ]
  },
  {
   "cell_type": "markdown",
   "id": "232b6851-ac86-4654-b6ff-fa5e0a2fdc3a",
   "metadata": {},
   "source": [
    "## Solution"
   ]
  },
  {
   "cell_type": "code",
   "execution_count": null,
   "id": "b5105f45-a64d-4fe4-97cb-17cff8b35c68",
   "metadata": {},
   "outputs": [],
   "source": [
    "mytuple = (\"Darroudi\", \"Surrealist\", \"Miami\", \"1958\", \"Florida State Art Center\")\n",
    "\n",
    "mytext= \"{}’s paintings are defined as {} works. She was able to combine\\n\\\n",
    "the delicacy and romantic spirit of Persian paintings with the elements of \\n\\\n",
    "Surrealism.Darroudi's first solo exhibition was held in {}, Miami-Dade County, \\n\\\n",
    "Florida, in {} at the invitation of the {}.\"\n",
    "\n",
    "mytext = mytext.format(*mytuple)\n",
    "print(mytext)"
   ]
  },
  {
   "cell_type": "markdown",
   "id": "4f1b4544-8537-42f8-827c-54737c2eb59d",
   "metadata": {},
   "source": [
    "---"
   ]
  },
  {
   "cell_type": "markdown",
   "id": "a9b8370a-735d-415f-ae60-ff4bacc56c58",
   "metadata": {},
   "source": [
    "## Problem 5"
   ]
  },
  {
   "cell_type": "markdown",
   "id": "dc16befd-d91c-4218-b120-6a37e85ec4f5",
   "metadata": {},
   "source": [
    "Print the numbers below in desired format.\n",
    "```python\n",
    "n = [3.14, 1.618, 6.6260682488]\n",
    "```\n",
    "Output:  \n",
    "\n",
    "3.140000  \n",
    "1.618000  \n",
    "6.626068  "
   ]
  },
  {
   "cell_type": "markdown",
   "id": "986ac67b-ab4f-4038-be9f-9f917142df6c",
   "metadata": {},
   "source": [
    "Source link:  \n",
    "https://github.com/pytopia/PyExercises/tree/main"
   ]
  },
  {
   "cell_type": "markdown",
   "id": "8820ce53-896b-4919-8cda-d11e53bc9636",
   "metadata": {},
   "source": [
    "## Solution"
   ]
  },
  {
   "cell_type": "code",
   "execution_count": null,
   "id": "95e4dd76-b467-4eb9-8e7b-6c8b5aa0e866",
   "metadata": {},
   "outputs": [],
   "source": [
    "n = [3.14, 1.618, 6.6260682488]\n",
    "print('{:8f} \\n{:8f} \\n{:8f}'.format(*n))"
   ]
  },
  {
   "cell_type": "markdown",
   "id": "6026e5c8-8bec-4197-9862-8a3af36285ce",
   "metadata": {},
   "source": [
    "---"
   ]
  }
 ],
 "metadata": {
  "kernelspec": {
   "display_name": "Python 3 (ipykernel)",
   "language": "python",
   "name": "python3"
  },
  "language_info": {
   "codemirror_mode": {
    "name": "ipython",
    "version": 3
   },
   "file_extension": ".py",
   "mimetype": "text/x-python",
   "name": "python",
   "nbconvert_exporter": "python",
   "pygments_lexer": "ipython3",
   "version": "3.9.7"
  }
 },
 "nbformat": 4,
 "nbformat_minor": 5
}
