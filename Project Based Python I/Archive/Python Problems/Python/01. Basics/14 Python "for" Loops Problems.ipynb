{
 "cells": [
  {
   "cell_type": "markdown",
   "id": "7c76b394-6ec6-4567-9f32-16c177551f65",
   "metadata": {},
   "source": [
    "<img src=\"../../images/banners/python-basics.png\" width=\"600\"/>"
   ]
  },
  {
   "cell_type": "markdown",
   "id": "4246f54c-6759-49c0-9f60-f1b046b16504",
   "metadata": {},
   "source": [
    "# <img src=\"../../images/logos/python.png\" width=\"23\"/> Python \"for\" Loops Problems "
   ]
  },
  {
   "cell_type": "markdown",
   "id": "6fbd65fa-5a84-42d5-a483-4e772de4d092",
   "metadata": {},
   "source": [
    "## Problem 1"
   ]
  },
  {
   "cell_type": "markdown",
   "id": "aea38b52-79df-417e-a080-871cc23443d8",
   "metadata": {},
   "source": [
    "Write a Python program to print all even numbers from a given list of numbers in the same order and stop printing any after 237 in the sequence."
   ]
  },
  {
   "cell_type": "markdown",
   "id": "694ce177-31da-44e8-93a5-386fe3c9f1ab",
   "metadata": {},
   "source": [
    "Sample numbers list :\n",
    "\n",
    "numbers = [    \n",
    "    386, 462, 47, 418, 907, 344, 236, 375, 823, 566, 597, 978, 328, 615, 953, 345, \n",
    "    399, 162, 758, 219, 918, 237, 412, 566, 826, 248, 866, 950, 626, 949, 687, 217, \n",
    "    815, 67, 104, 58, 512, 24, 892, 894, 767, 553, 81, 379, 843, 831, 445, 742, 717, \n",
    "    958,743, 527\n",
    "    ]"
   ]
  },
  {
   "cell_type": "markdown",
   "id": "ec6791c7-671b-4d57-b5b2-de690a0bfbf1",
   "metadata": {},
   "source": [
    "output:  \n",
    "386 462 418 344 236 566 978 328 162 758 918 237"
   ]
  },
  {
   "cell_type": "markdown",
   "id": "0186bc80-5794-4feb-bb3b-d9081a23bcbc",
   "metadata": {},
   "source": [
    "## Solution:"
   ]
  },
  {
   "cell_type": "code",
   "execution_count": null,
   "id": "12de5745-00f1-4f41-9a25-98f319989304",
   "metadata": {},
   "outputs": [],
   "source": [
    "numbers = [    \n",
    "    386, 462, 47, 418, 907, 344, 236, 375, 823, 566, 597, 978, 328, 615, 953, 345, \n",
    "    399, 162, 758, 219, 918, 237, 412, 566, 826, 248, 866, 950, 626, 949, 687, 217, \n",
    "    815, 67, 104, 58, 512, 24, 892, 894, 767, 553, 81, 379, 843, 831, 445, 742, 717, \n",
    "    958,743, 527\n",
    "    ]\n",
    "\n",
    "for x in numbers:\n",
    "    if x == 237:\n",
    "        print(x)\n",
    "        break\n",
    "    elif x % 2 == 0:\n",
    "        print(x, end=' ')"
   ]
  },
  {
   "cell_type": "markdown",
   "id": "ee9e7e8c-4954-4b27-9d8d-395dc3f3d8fa",
   "metadata": {},
   "source": [
    "***"
   ]
  },
  {
   "cell_type": "markdown",
   "id": "f18cd4a2-c3f1-47b4-9c77-8548317b1618",
   "metadata": {},
   "source": [
    "## Problem 2"
   ]
  },
  {
   "cell_type": "markdown",
   "id": "724f4919-dc3e-4575-9725-12c86bc88f10",
   "metadata": {},
   "source": [
    "Write a Python program to find the longest common prefix string among a given list of strings. Return false if there is no common prefix."
   ]
  },
  {
   "cell_type": "markdown",
   "id": "1b8be842-b24f-40e9-96e6-ab6a3934cb74",
   "metadata": {},
   "source": [
    "For Example:<br>\n",
    "string_list = [ \"subdomain\", \"subtitle\" ] <br>\n",
    "output: prefix = sub"
   ]
  },
  {
   "cell_type": "markdown",
   "id": "06294d0b-046a-4753-b49e-8fe7f6218f8f",
   "metadata": {},
   "source": [
    "string_list = [ \"domain\", \"title\" ] <br>\n",
    "output: prefix = No prefix found!"
   ]
  },
  {
   "cell_type": "markdown",
   "id": "2a9b4e23-e28e-41e3-bd40-bc71682a0a06",
   "metadata": {},
   "source": [
    "## Solution:"
   ]
  },
  {
   "cell_type": "code",
   "execution_count": null,
   "id": "2e7031ec-413b-44c1-848f-9ec3d69c12e4",
   "metadata": {},
   "outputs": [],
   "source": [
    "string_list = [\"subdomain\",\"subtitle\"]\n",
    "\n",
    "short_string = min(string_list, key=len)\n",
    "prefix = 'No prefix Found!'\n",
    "found = False\n",
    "\n",
    "for index, char in enumerate(short_string):\n",
    "    if found:\n",
    "        break\n",
    "        \n",
    "    for other in str_list:\n",
    "\n",
    "        if other[index] != char:\n",
    "            found = True\n",
    "            if index != 0:\n",
    "                prefix = short_string[:index]\n",
    "                \n",
    "            break\n",
    "\n",
    "print('prefix = ', prefix)\n"
   ]
  },
  {
   "cell_type": "markdown",
   "id": "884bc624-dbfe-495f-b8e6-1ea735def0f4",
   "metadata": {},
   "source": [
    "***"
   ]
  },
  {
   "cell_type": "markdown",
   "id": "490b4cb8-87e9-45f5-a0b0-b03d9b089035",
   "metadata": {},
   "source": [
    "## Problem 3"
   ]
  },
  {
   "cell_type": "markdown",
   "id": "2f11a217-7e51-432e-afb6-d2ad87700f88",
   "metadata": {},
   "source": [
    "Write a Python program to rescale and shift numbers in a given list, so that they cover the range [0, 1]."
   ]
  },
  {
   "cell_type": "markdown",
   "id": "cc89de8e-d28f-4f2e-bfb1-94b479a9cf92",
   "metadata": {},
   "source": [
    "Examples:\n",
    "\n",
    "Input: [18.5, 17.0, 18.0, 19.0, 18.0] <br>\n",
    "Output: [0.75, 0.0, 0.5, 1.0, 0.5] <br>\n",
    "\n",
    "Input: [18.5, 18.5, 18.5, 18.5, 18.5] <br>\n",
    "Output: [1.0, 1.0, 1.0, 1.0, 1.0] <br>\n",
    "\n",
    "**Hint:** if all numbers are equal, display the number 1.0 for them"
   ]
  },
  {
   "cell_type": "markdown",
   "id": "3ff12212-eb64-4728-882c-4159bcfc13c0",
   "metadata": {},
   "source": [
    "## Solution:"
   ]
  },
  {
   "cell_type": "code",
   "execution_count": null,
   "id": "f25dbe9c-c88c-4e3d-b19c-fa66b4f96540",
   "metadata": {},
   "outputs": [],
   "source": [
    "def scale(nums):\n",
    "    a = min(nums)\n",
    "    b = max(nums)\n",
    "    if b - a == 0:\n",
    "        return [1.0] * len(nums)\n",
    "    \n",
    "    for i in range(len(nums)):\n",
    "        nums[i] = (nums[i] - a) / (b - a)\n",
    "    return nums\n",
    "#-------------------------------------\n",
    "nums = [18.5, 17.0, 18.0, 19.0, 18.0]\n",
    "scale(nums)"
   ]
  },
  {
   "cell_type": "markdown",
   "id": "7a2c822e-2aa0-4afa-aa1d-8f322ec5dd76",
   "metadata": {},
   "source": [
    "***"
   ]
  },
  {
   "cell_type": "markdown",
   "id": "1352ea83-8ddf-41cc-bc2c-da5bf39588c3",
   "metadata": {
    "tags": []
   },
   "source": [
    "## Problem 4"
   ]
  },
  {
   "cell_type": "markdown",
   "id": "401500ca-5b87-414c-9395-05fe4815275b",
   "metadata": {},
   "source": [
    "Write a Python program to count the number of even and odd numbers in a series of numbers."
   ]
  },
  {
   "cell_type": "markdown",
   "id": "56440d2d-ab48-4e42-951f-e5c7ed8caaf0",
   "metadata": {},
   "source": [
    "Example input:\n",
    "```python\n",
    "numbers = (1, 2, 3, 4, 5, 6, 7, 8, 9)\n",
    "```"
   ]
  },
  {
   "cell_type": "markdown",
   "id": "032f8b3c-f22e-484f-8430-3111ee89db52",
   "metadata": {},
   "source": [
    "output:\n",
    "\n",
    "Number of even numbers : 4 <br>\n",
    "Number of odd numbers : 5"
   ]
  },
  {
   "cell_type": "markdown",
   "id": "c86363dc-b097-444b-b6eb-847db210141b",
   "metadata": {},
   "source": [
    "## Solution:"
   ]
  },
  {
   "cell_type": "code",
   "execution_count": null,
   "id": "359407a3-d05c-4ca8-8abd-724a5241d13f",
   "metadata": {},
   "outputs": [],
   "source": [
    "numbers = (1, 2, 3, 4, 5, 6, 7, 8, 9)\n",
    "count_odd = 0\n",
    "count_even = 0\n",
    "for x in numbers:\n",
    "    if not x % 2:\n",
    "        count_even+=1\n",
    "    else:\n",
    "        count_odd+=1\n",
    "print(\"Number of even numbers :\",count_even)\n",
    "print(\"Number of odd numbers :\",count_odd)"
   ]
  },
  {
   "cell_type": "markdown",
   "id": "adedc60c-9b16-4eb3-ba85-6035f15953b0",
   "metadata": {
    "tags": []
   },
   "source": [
    "***"
   ]
  },
  {
   "cell_type": "markdown",
   "id": "253233f9-4e16-41c1-93f6-fb2015b59a0c",
   "metadata": {},
   "source": [
    "## Problem 5"
   ]
  },
  {
   "cell_type": "markdown",
   "id": "8875f129-40e2-4dd8-b766-e6544449c5de",
   "metadata": {},
   "source": [
    "Write a Python program to print the alphabet pattern 'Z'."
   ]
  },
  {
   "cell_type": "markdown",
   "id": "385217b2-15dd-482f-a694-a738737d2cdb",
   "metadata": {},
   "source": [
    "<img src=\"images/alphabet-z.png\" width=\"200\"/>"
   ]
  },
  {
   "cell_type": "markdown",
   "id": "e8744a68-afa5-46bb-9b50-f629affed728",
   "metadata": {},
   "source": [
    "## Solution:"
   ]
  },
  {
   "cell_type": "code",
   "execution_count": null,
   "id": "0db8f6bc-02da-44af-ad5b-7fbb40249464",
   "metadata": {},
   "outputs": [],
   "source": [
    "result_str = \"\"  \n",
    "\n",
    "for row in range(0,7):   \n",
    "    for column in range(0,7): \n",
    "        if row == 0 or row == 6 or row + column == 6 :  \n",
    "            result_str = result_str + \"*\"    \n",
    "        else:      \n",
    "            result_str = result_str + \" \" \n",
    "            \n",
    "    result_str = result_str + \"\\n\" \n",
    "    \n",
    "print(result_str)"
   ]
  },
  {
   "cell_type": "markdown",
   "id": "296f34ed-7848-4696-8f90-b113f0767667",
   "metadata": {},
   "source": [
    "***"
   ]
  },
  {
   "cell_type": "markdown",
   "id": "b9969a85-caa9-44ac-b67b-2ebef243b3e1",
   "metadata": {},
   "source": [
    "## Problem 6"
   ]
  },
  {
   "cell_type": "markdown",
   "id": "78031128-b496-4dfd-abcc-53a71ef782c6",
   "metadata": {},
   "source": [
    "Write a Python program that accepts a word from the user and reverses it.(Use `for` loop in your program)"
   ]
  },
  {
   "cell_type": "markdown",
   "id": "9173029f-60fa-49f4-bfb5-05d541e187da",
   "metadata": {},
   "source": [
    "Example input: 'Python'\n",
    "\n",
    "output: nohtyP"
   ]
  },
  {
   "cell_type": "markdown",
   "id": "44725692-c6a8-44af-9795-376e7759bcd4",
   "metadata": {},
   "source": [
    "## Solution:"
   ]
  },
  {
   "cell_type": "code",
   "execution_count": null,
   "id": "8fa3f949-0cae-42a7-afbb-5388b9f56e4c",
   "metadata": {},
   "outputs": [],
   "source": [
    "word = input(\"Input a word to reverse: \")\n",
    "reverse = ''\n",
    "for char in range(len(word) - 1, -1, -1):\n",
    "    reverse += word[char]\n",
    "print('\\nreversed word: ', reverse)"
   ]
  },
  {
   "cell_type": "markdown",
   "id": "48ad411e-24af-418a-8449-a983099a62f2",
   "metadata": {},
   "source": [
    "***"
   ]
  },
  {
   "cell_type": "markdown",
   "id": "6ab3d60d-4898-40b0-a18b-8b7b80252bfe",
   "metadata": {},
   "source": [
    "## Problem 7"
   ]
  },
  {
   "cell_type": "markdown",
   "id": "d4f3f426-4685-420e-ab59-3a138cff691a",
   "metadata": {},
   "source": [
    "Find average of N numbers.\n",
    "Take the numbers one by one from the user.  \n",
    "Numbers can be integer or float."
   ]
  },
  {
   "cell_type": "markdown",
   "id": "0ac5c469-53ca-4977-b991-6d89bb0fe8c4",
   "metadata": {},
   "source": [
    "Example:   \n",
    "Input : 10 , 20 , 120  \n",
    "Output: 50"
   ]
  },
  {
   "cell_type": "markdown",
   "id": "52e7d62e-7d5d-43f2-bf03-c0938e71e467",
   "metadata": {},
   "source": [
    "Source link:  \n",
    "https://www.youtube.com/watch?v=cybMiQYuEwc&list=PLH1n1sJO7tbxmE36txTPhgidmW5Z9Bn7m&index=1"
   ]
  },
  {
   "cell_type": "markdown",
   "id": "ac3a58ad-dda6-403b-9758-6ea7e072b78b",
   "metadata": {},
   "source": [
    "## Solution"
   ]
  },
  {
   "cell_type": "code",
   "execution_count": null,
   "id": "59aec66b-91bb-4511-818b-6ab931b6552a",
   "metadata": {},
   "outputs": [],
   "source": [
    "num = int(input('How many numbers? '))\n",
    "total_sum = 0\n",
    "\n",
    "for n in range(num):\n",
    "    number = float(input('Enter any number: '))\n",
    "    total_sum += number\n",
    "\n",
    "avg = total_sum / num\n",
    "print('Average is: ', avg)"
   ]
  },
  {
   "cell_type": "markdown",
   "id": "11fad92f-c9a7-4b12-ba08-3691a2e4c3ce",
   "metadata": {},
   "source": [
    "---"
   ]
  },
  {
   "cell_type": "markdown",
   "id": "dedb7954-22d7-4d06-8d0c-884fcc76f5d7",
   "metadata": {},
   "source": [
    "## Problem 8"
   ]
  },
  {
   "cell_type": "markdown",
   "id": "cf4b400d-1541-4d51-9da0-3ce993fc6962",
   "metadata": {},
   "source": [
    "Write a program to get a string which is n copies of a given string."
   ]
  },
  {
   "cell_type": "markdown",
   "id": "3f8c1e84-b74f-423c-8a5a-c67e3d17bd4d",
   "metadata": {},
   "source": [
    "Example  \n",
    "Input:   \n",
    "n = 4  \n",
    "text = Python  \n",
    "Output:  \n",
    "Python Python Python Python"
   ]
  },
  {
   "cell_type": "markdown",
   "id": "634a019c-2aa2-47f3-bfa1-839e9a8ba231",
   "metadata": {},
   "source": [
    "Source link:  \n",
    "https://www.youtube.com/watch?v=CLzjsmWf7iU&list=PLH1n1sJO7tbxmE36txTPhgidmW5Z9Bn7m&index=31"
   ]
  },
  {
   "cell_type": "markdown",
   "id": "69de4af6-292a-42be-995f-e4706e570250",
   "metadata": {},
   "source": [
    "## Solution"
   ]
  },
  {
   "cell_type": "code",
   "execution_count": null,
   "id": "0e8f370f-888c-43b8-aa59-88e4bb1ef5e5",
   "metadata": {},
   "outputs": [],
   "source": [
    "n = int(input('Enter number of copies: '))\n",
    "text = input('Enter you string: ')\n",
    "\n",
    "result = ''\n",
    "for i in range(n):\n",
    "    result += text + ' '\n",
    "print('result: \\n', result)"
   ]
  },
  {
   "cell_type": "markdown",
   "id": "86a79909-f9ad-449c-93ef-f192c0092b14",
   "metadata": {},
   "source": [
    "---"
   ]
  },
  {
   "cell_type": "markdown",
   "id": "c83d4631-e394-4d6f-a251-13505dc8b4bb",
   "metadata": {},
   "source": [
    "## Problem 9"
   ]
  },
  {
   "cell_type": "markdown",
   "id": "67d0e558-d918-4170-b9ca-96bff65cd343",
   "metadata": {},
   "source": [
    "Write a program to print numbers in right triangle shape as follows:\n",
    "```python\n",
    "1 \n",
    "1 2 \n",
    "1 2 3 \n",
    "1 2 3 4 \n",
    "1 2 3 4 5 \n",
    "```"
   ]
  },
  {
   "cell_type": "markdown",
   "id": "ff3cf9ad-3b57-428d-b192-0983d6eadd28",
   "metadata": {},
   "source": [
    "The number of rows should be entered by the user."
   ]
  },
  {
   "cell_type": "markdown",
   "id": "26e15485-1d51-4edb-afbb-3c693fabd0d6",
   "metadata": {},
   "source": [
    "Source link:  \n",
    "https://www.youtube.com/watch?v=0PkIvXfP3ew&list=PLzgPDYo_3xulOYHoVsg7uASoF-OE3GE-S&index=2"
   ]
  },
  {
   "cell_type": "markdown",
   "id": "da5c76a7-6b25-401d-8275-a782b002d120",
   "metadata": {},
   "source": [
    "## Solution"
   ]
  },
  {
   "cell_type": "code",
   "execution_count": null,
   "id": "8f772155-862a-4235-a314-503c3df36a39",
   "metadata": {},
   "outputs": [],
   "source": [
    "n = int(input('Enter the number of rows: '))\n",
    "for i in range(1, n+1):\n",
    "    for j in range(1, i+1):\n",
    "        print(j, end=' ')\n",
    "    print()"
   ]
  },
  {
   "cell_type": "markdown",
   "id": "a939ed8c-b2fc-4785-85c0-cd1ac16c1bc1",
   "metadata": {},
   "source": [
    "---"
   ]
  },
  {
   "cell_type": "markdown",
   "id": "4964cc98-df93-43ed-9bae-d3c2719e6020",
   "metadata": {},
   "source": [
    "## Problem 10"
   ]
  },
  {
   "cell_type": "markdown",
   "id": "f97cfdfe-e9f5-411b-a4b5-554003016a93",
   "metadata": {},
   "source": [
    "Write a program to show hollow right triangle star pattern as follows:\n",
    "```python\n",
    "*                   \n",
    "* *                 \n",
    "*   *               \n",
    "*     *             \n",
    "*       *           \n",
    "*         *         \n",
    "*           *       \n",
    "*             *     \n",
    "*               *   \n",
    "* * * * * * * * * *\n",
    "```"
   ]
  },
  {
   "cell_type": "markdown",
   "id": "2772b3a1-116a-4a9c-b25d-cd72f19fadd3",
   "metadata": {},
   "source": [
    "The number of rows should be entered by the user."
   ]
  },
  {
   "cell_type": "markdown",
   "id": "d84f75e8-d640-45e1-8536-ac63fd35cb67",
   "metadata": {},
   "source": [
    "Source link:  \n",
    "https://www.youtube.com/watch?v=wrZpdoXXHhc&list=PLzgPDYo_3xulOYHoVsg7uASoF-OE3GE-S&index=4"
   ]
  },
  {
   "cell_type": "markdown",
   "id": "5f292f74-bd21-45d1-a398-315157f5392a",
   "metadata": {},
   "source": [
    "## Solution"
   ]
  },
  {
   "cell_type": "code",
   "execution_count": null,
   "id": "53ca9194-b038-4720-a702-2ea4f369d4e4",
   "metadata": {},
   "outputs": [],
   "source": [
    "n = int(input('Enter the number of rows: '))\n",
    "for row in range(n):\n",
    "    for col in range(n):\n",
    "        if (col == 0) or (col == row) or (row == (n-1)) :\n",
    "            print('*', end=' ')\n",
    "        else:\n",
    "            print(' ', end=' ')\n",
    "    print()"
   ]
  },
  {
   "cell_type": "markdown",
   "id": "6306c8dc-e513-4859-a695-c0cce20988dc",
   "metadata": {},
   "source": [
    "---"
   ]
  },
  {
   "cell_type": "markdown",
   "id": "261ab79b-e6e4-4762-a25e-b1b7f2dfe51b",
   "metadata": {},
   "source": [
    "## Problem 11"
   ]
  },
  {
   "cell_type": "markdown",
   "id": "7bdfa21d-a5aa-4bde-b790-cde82bf8089e",
   "metadata": {},
   "source": [
    "Write a program to print a **string** entered by user, in right triangle shape.  \n",
    "For example, if user enters `Python` as an input, we will see:\n",
    "```python\n",
    "P\n",
    "Py\n",
    "Pyt\n",
    "Pyth\n",
    "Pytho\n",
    "Python\n",
    "```"
   ]
  },
  {
   "cell_type": "markdown",
   "id": "78ac48ef-8af1-473b-a2e0-ba9ad82c2e9e",
   "metadata": {},
   "source": [
    "Source link:  \n",
    "https://www.youtube.com/watch?v=MirXmHQsMOk&list=PLzgPDYo_3xulOYHoVsg7uASoF-OE3GE-S&index=10"
   ]
  },
  {
   "cell_type": "markdown",
   "id": "6cb651d2-d928-4aa9-97cf-7228ee94bac8",
   "metadata": {},
   "source": [
    "## Solution"
   ]
  },
  {
   "cell_type": "code",
   "execution_count": null,
   "id": "96806cb4-aef7-40ca-bc69-59416b0d2261",
   "metadata": {},
   "outputs": [],
   "source": [
    "string = input('Enter the string:')\n",
    "length = len(string)\n",
    "\n",
    "for row in range(length):\n",
    "    for col in range(row+1):\n",
    "        print(string[col], end='')\n",
    "    print()"
   ]
  },
  {
   "cell_type": "markdown",
   "id": "58fac103-cd37-4307-afa6-05dd6626cd2a",
   "metadata": {},
   "source": [
    "---"
   ]
  },
  {
   "cell_type": "markdown",
   "id": "d9b7f1d3-0d30-4abc-b056-acc2af2eaa08",
   "metadata": {},
   "source": [
    "## Problem 12"
   ]
  },
  {
   "cell_type": "markdown",
   "id": "eaddc255-6f4e-478f-8b62-58884af38640",
   "metadata": {},
   "source": [
    "Write a program to print all the non-empty substrings of the given string."
   ]
  },
  {
   "cell_type": "markdown",
   "id": "db2e0de2-87f3-417c-bd9e-94b04575d8de",
   "metadata": {},
   "source": [
    "Example  \n",
    "Input:  \n",
    "abcde\n",
    "\n",
    "Output:  \n",
    "a ab abc abcd abcde   \n",
    "b bc bcd bcde   \n",
    "c cd cde   \n",
    "d de   \n",
    "e   "
   ]
  },
  {
   "cell_type": "markdown",
   "id": "b51c783c-b536-4ad8-ae93-7622bf407f2e",
   "metadata": {},
   "source": [
    "Source link:  \n",
    "https://www.youtube.com/watch?v=8qHVcp3gYoc&list=PLzgPDYo_3xulOYHoVsg7uASoF-OE3GE-S&index=91"
   ]
  },
  {
   "cell_type": "markdown",
   "id": "9cfdbdae-9eb4-48a0-991e-0f65b06bee71",
   "metadata": {},
   "source": [
    "## Solution"
   ]
  },
  {
   "cell_type": "code",
   "execution_count": null,
   "id": "a15fc151-22d7-4156-bdde-9f20be2e79e4",
   "metadata": {},
   "outputs": [],
   "source": [
    "string = input('Enter the string:')\n",
    "n = len(string)\n",
    "for i in range(n):\n",
    "    for j in range(i+1, n+1):\n",
    "        print(string[i:j], end=' ')\n",
    "    print()"
   ]
  },
  {
   "cell_type": "markdown",
   "id": "e3dadae2-7c6d-4f24-a885-daf6dc5530c7",
   "metadata": {},
   "source": [
    "---"
   ]
  },
  {
   "cell_type": "markdown",
   "id": "997dc188-153a-413a-9c44-6f0a571e56a2",
   "metadata": {},
   "source": [
    "## Problem 13"
   ]
  },
  {
   "cell_type": "markdown",
   "id": "18084705-932c-4065-8982-485abd561fde",
   "metadata": {},
   "source": [
    "Write a program to count the vowels in the given sentence."
   ]
  },
  {
   "cell_type": "markdown",
   "id": "0002467f-ca46-4486-a905-d59a2c9b5564",
   "metadata": {},
   "source": [
    "Example\n",
    "Input:  \n",
    "Welcome to Python programming.  \n",
    "\n",
    "Output:  \n",
    "Number of vowels =  8"
   ]
  },
  {
   "cell_type": "markdown",
   "id": "dca6c466-8c4c-472e-a06d-904ed68198da",
   "metadata": {},
   "source": [
    "Source link:  \n",
    "https://www.youtube.com/watch?v=2tHxfu1qKZU&list=PLzgPDYo_3xulOYHoVsg7uASoF-OE3GE-S&index=45"
   ]
  },
  {
   "cell_type": "markdown",
   "id": "f8982377-acf7-483a-85d6-8378a962cadb",
   "metadata": {},
   "source": [
    "## Solution"
   ]
  },
  {
   "cell_type": "code",
   "execution_count": null,
   "id": "771b4488-2ed9-4ddb-b1af-237581a1292e",
   "metadata": {},
   "outputs": [],
   "source": [
    "sentence = input('Enter the sentence: ')\n",
    "\n",
    "sentence = sentence.lower()\n",
    "count = 0\n",
    "for char in sentence:\n",
    "    if char in 'aeiou':\n",
    "        count +=1\n",
    "print('Number of vowels = ', count)"
   ]
  },
  {
   "cell_type": "markdown",
   "id": "2ac357b5-7356-4136-a585-33741919c259",
   "metadata": {},
   "source": [
    "---"
   ]
  },
  {
   "cell_type": "markdown",
   "id": "b3a8ebf7-581b-4ce8-ad22-b7b5da816f87",
   "metadata": {},
   "source": [
    "## Problem 14"
   ]
  },
  {
   "cell_type": "markdown",
   "id": "57f18ca8-bccf-4c8f-8cba-8f2c30062ec7",
   "metadata": {},
   "source": [
    "Write a program which will find all such numbers which are divisible by 7 but are not a multiple of 5,\n",
    "between 1 and 200 (both included)."
   ]
  },
  {
   "cell_type": "markdown",
   "id": "c93c2ec5-a683-4010-91dc-f85fe4357dc7",
   "metadata": {},
   "source": [
    "Output:  \n",
    "[7, 14, 21, 28, 42, 49, 56, 63, 77, 84, 91, 98, 112, 119, 126, 133, 147, 154, 161, 168, 182, 189, 196]"
   ]
  },
  {
   "cell_type": "markdown",
   "id": "4518e745-76fa-4cf0-882f-9be343984fcc",
   "metadata": {},
   "source": [
    "Source link:  \n",
    "https://gist.github.com/KirosG/f265f136bd97bd669632fa0f2f2721b4"
   ]
  },
  {
   "cell_type": "markdown",
   "id": "5bd06759-4135-480a-a0fd-fb3b8a7d062f",
   "metadata": {},
   "source": [
    "## Solution"
   ]
  },
  {
   "cell_type": "code",
   "execution_count": null,
   "id": "5f98c406-0f2f-4774-98e4-50f8074d3648",
   "metadata": {},
   "outputs": [],
   "source": [
    "l=[]\n",
    "for i in range(1, 201):\n",
    "    if (i % 7 == 0) and (i % 5 != 0):\n",
    "        l.append(i)\n",
    "\n",
    "print(l)"
   ]
  },
  {
   "cell_type": "markdown",
   "id": "43b398f2-aef4-4ded-abf3-b56648610440",
   "metadata": {},
   "source": [
    "---"
   ]
  },
  {
   "cell_type": "markdown",
   "id": "97102702-3280-457f-a880-9f01f1f2aa2f",
   "metadata": {},
   "source": [
    "## Problem 15"
   ]
  },
  {
   "cell_type": "markdown",
   "id": "10b01295-640b-44ca-a9c6-84084e9eac60",
   "metadata": {},
   "source": [
    "With a given integral number n, write a program to generate a dictionary that contains `(i, i*i)` such that is an integral number between 1 and n (both included)."
   ]
  },
  {
   "cell_type": "markdown",
   "id": "1ef1ccfc-9c46-4cb4-86a5-ea2186c5e6ea",
   "metadata": {},
   "source": [
    "Example\n",
    "\n",
    "Input:  \n",
    "5\n",
    "\n",
    "Output: \n",
    "```python\n",
    "{1: 1, 2: 4, 3: 9, 4: 16, 5: 25}\n",
    "```"
   ]
  },
  {
   "cell_type": "markdown",
   "id": "2a42da40-7567-424b-82b7-23148647adbc",
   "metadata": {},
   "source": [
    "Source link:  \n",
    "https://gist.github.com/KirosG/f265f136bd97bd669632fa0f2f2721b4"
   ]
  },
  {
   "cell_type": "markdown",
   "id": "ab7f63eb-98e5-46b3-9752-e530b99e8e23",
   "metadata": {},
   "source": [
    "## Solution"
   ]
  },
  {
   "cell_type": "code",
   "execution_count": null,
   "id": "8a456a49-7719-4eb0-a20f-2ea805512a00",
   "metadata": {},
   "outputs": [],
   "source": [
    "n = int(input('Enter an integer:'))\n",
    "d = dict()\n",
    "for i in range(1, n+1):\n",
    "    d[i] = i*i\n",
    "\n",
    "print(d)"
   ]
  },
  {
   "cell_type": "markdown",
   "id": "6f248666-c808-46e3-8fe5-e2ff2ef1f1ac",
   "metadata": {},
   "source": [
    "---"
   ]
  },
  {
   "cell_type": "markdown",
   "id": "e8651b98-53e4-4c79-8d01-5d7117cd2a4e",
   "metadata": {},
   "source": [
    "## Problem 16"
   ]
  },
  {
   "cell_type": "markdown",
   "id": "2824f692-b61a-4eec-a39f-efa74c3499bc",
   "metadata": {},
   "source": [
    "Write a program which takes 2 digits, X,Y as input and generates a 2-dimensional array. The element value in the i-th row and j-th column of the array should be `i*j`."
   ]
  },
  {
   "cell_type": "markdown",
   "id": "7171bdbc-08e5-4172-a391-cb555b62ca95",
   "metadata": {},
   "source": [
    "Example\n",
    "\n",
    "Input:  \n",
    "3 5\n",
    "\n",
    "Output: \n",
    "```python\n",
    "[[0, 0, 0, 0, 0], [0, 1, 2, 3, 4], [0, 2, 4, 6, 8]]\n",
    "```"
   ]
  },
  {
   "cell_type": "markdown",
   "id": "155b72a9-61da-4f47-81d0-62e5d495d809",
   "metadata": {},
   "source": [
    "Source link:  \n",
    "https://gist.github.com/KirosG/f265f136bd97bd669632fa0f2f2721b4"
   ]
  },
  {
   "cell_type": "markdown",
   "id": "d633b31a-d79c-4955-9a03-91064d4fd85a",
   "metadata": {},
   "source": [
    "## Solution"
   ]
  },
  {
   "cell_type": "code",
   "execution_count": null,
   "id": "fcba414d-97a6-407b-bd82-544ee8d07a43",
   "metadata": {},
   "outputs": [],
   "source": [
    "digits = input('Enter number of rows and columns (seprated by space):')\n",
    "rows, cols = digits.split(' ')\n",
    "\n",
    "multi_list = []\n",
    "for row in range(int(rows)):\n",
    "    \n",
    "    row_list = []\n",
    "    for col in range(int(cols)):\n",
    "        row_list.append(row * col)\n",
    "        \n",
    "    multi_list.append(row_list)\n",
    "\n",
    "print(multi_list)"
   ]
  },
  {
   "cell_type": "markdown",
   "id": "0542d650-ebe5-4763-9df0-b4bae18337e1",
   "metadata": {},
   "source": [
    "---"
   ]
  },
  {
   "cell_type": "markdown",
   "id": "28ababb3-5064-4864-8fea-c8a35f35a0f6",
   "metadata": {},
   "source": [
    "## Problem 17"
   ]
  },
  {
   "cell_type": "markdown",
   "id": "2ca73482-6d4e-4556-a74c-343d19624c2f",
   "metadata": {},
   "source": [
    "Write a program which accepts a sequence of comma separated 4 digit binary numbers as its input and then check whether they are divisible by 5 or not. The numbers that are divisible by 5 should save as keys in a dictionary which the values are base 10 of them."
   ]
  },
  {
   "cell_type": "markdown",
   "id": "dc82346e-0020-4136-a71f-9d79aa7d6f8e",
   "metadata": {},
   "source": [
    "Example\n",
    "\n",
    "Input:  \n",
    "0100,0011,1010,1001,0101\n",
    "\n",
    "Output:  \n",
    "{'1010': 10, '0101': 5}"
   ]
  },
  {
   "cell_type": "markdown",
   "id": "47d39ed0-dad0-450e-a5f8-78d9f235d5da",
   "metadata": {},
   "source": [
    "Source link:  \n",
    "https://gist.github.com/KirosG/f265f136bd97bd669632fa0f2f2721b4"
   ]
  },
  {
   "cell_type": "markdown",
   "id": "6b649bb2-54db-4f7b-a37f-15597cdc84d9",
   "metadata": {},
   "source": [
    "## Solution"
   ]
  },
  {
   "cell_type": "code",
   "execution_count": null,
   "id": "2fc038c0-417a-4412-807d-eab59a0291fb",
   "metadata": {},
   "outputs": [],
   "source": [
    "value = { }\n",
    "inputs = input('Enter camma seprated 4 digit binary numbers:')\n",
    "\n",
    "for p in inputs.split(','):\n",
    "    intp = int(p, 2)\n",
    "    if not intp % 5:\n",
    "        value[p] = intp\n",
    "\n",
    "print(value)"
   ]
  },
  {
   "cell_type": "markdown",
   "id": "ab1fabbc-6206-4145-ae63-28f2e45874f7",
   "metadata": {},
   "source": [
    "---"
   ]
  },
  {
   "cell_type": "markdown",
   "id": "6b3e04db-c747-43ad-a9f7-28a5a1a01050",
   "metadata": {},
   "source": [
    "## Problem 18"
   ]
  },
  {
   "cell_type": "markdown",
   "id": "84233e53-24ce-4619-bafc-f17a5b36b197",
   "metadata": {},
   "source": [
    "Write a program, which will find all such numbers between 1000 and 3000 (both included) such that each digit of the number is an even number."
   ]
  },
  {
   "cell_type": "markdown",
   "id": "f44c2e12-5d63-493c-bf86-a684f9feba81",
   "metadata": {},
   "source": [
    "Source link:  \n",
    "https://gist.github.com/KirosG/f265f136bd97bd669632fa0f2f2721b4"
   ]
  },
  {
   "cell_type": "markdown",
   "id": "b2b634e6-3fc6-414a-8648-ff7ec8db77bb",
   "metadata": {},
   "source": [
    "## Solution"
   ]
  },
  {
   "cell_type": "code",
   "execution_count": null,
   "id": "08ea196e-6f03-4375-8e86-9cb471509f39",
   "metadata": {},
   "outputs": [],
   "source": [
    "values = []\n",
    "for i in range(1000, 3001):\n",
    "    s = str(i)\n",
    "    if (int(s[0])%2==0) and (int(s[1])%2==0) and (int(s[2])%2==0) and (int(s[3])%2==0):\n",
    "        values.append(s)\n",
    "\n",
    "print(values)"
   ]
  },
  {
   "cell_type": "markdown",
   "id": "8989e452-f19e-4abd-bf9e-7ae55b3baeae",
   "metadata": {},
   "source": [
    "---"
   ]
  },
  {
   "cell_type": "markdown",
   "id": "ac065b47-32c7-43f1-acbf-b37bc1264ae1",
   "metadata": {},
   "source": [
    "## Problem 19"
   ]
  },
  {
   "cell_type": "markdown",
   "id": "edfaf102-6bba-4aa1-af90-fa70ecadfe4c",
   "metadata": {},
   "source": [
    "Write a program that accepts a sentence and calculate the number of letters and digits."
   ]
  },
  {
   "cell_type": "markdown",
   "id": "70b5d3de-1e88-44d1-9f32-b5eed99bb99d",
   "metadata": {},
   "source": [
    "Example\n",
    "\n",
    "Input:  \n",
    "He is 25 years old.\n",
    "\n",
    "Output:  \n",
    "LETTERS 12  \n",
    "DIGITS 2"
   ]
  },
  {
   "cell_type": "markdown",
   "id": "6dc46575-9651-4328-901d-c1e1ffe83c46",
   "metadata": {},
   "source": [
    "Source link:  \n",
    "https://gist.github.com/KirosG/f265f136bd97bd669632fa0f2f2721b4"
   ]
  },
  {
   "cell_type": "markdown",
   "id": "0ac2832c-a20b-48ca-8343-74d573483815",
   "metadata": {},
   "source": [
    "## Solution"
   ]
  },
  {
   "cell_type": "code",
   "execution_count": null,
   "id": "f42ce049-37d1-4aa4-be43-dec3f7f6e937",
   "metadata": {},
   "outputs": [],
   "source": [
    "s = input('Enter the sentence: ')\n",
    "d = {\"DIGITS\":0, \"LETTERS\":0}\n",
    "for char in s:\n",
    "    if char.isdigit():\n",
    "        d[\"DIGITS\"] += 1\n",
    "    elif char.isalpha():\n",
    "        d[\"LETTERS\"] += 1\n",
    "        \n",
    "print(\"LETTERS\", d[\"LETTERS\"])\n",
    "print(\"DIGITS\", d[\"DIGITS\"])"
   ]
  },
  {
   "cell_type": "markdown",
   "id": "4828d832-5bcd-4237-b1a3-2ae1ff1b1d59",
   "metadata": {},
   "source": [
    "---"
   ]
  },
  {
   "cell_type": "markdown",
   "id": "7c6f24e3-a9bd-48bb-8f83-ce9cd7bd7aa5",
   "metadata": {},
   "source": [
    "## Problem 20"
   ]
  },
  {
   "cell_type": "markdown",
   "id": "41d02390-e03b-45ef-9b9b-afdb90570ea0",
   "metadata": {},
   "source": [
    "Write a program that accepts a sentence and calculate the number of upper case letters and lower case letters."
   ]
  },
  {
   "cell_type": "markdown",
   "id": "cb0ca5ec-95de-49d7-a911-089da4eed0d6",
   "metadata": {},
   "source": [
    "Example\n",
    "\n",
    "Input:  \n",
    "Find UPPER case and LOWER case letters.\n",
    "\n",
    "Output:  \n",
    "UPPER CASE 11\n",
    "LOWER CASE 21"
   ]
  },
  {
   "cell_type": "markdown",
   "id": "98c8a21c-e503-4faf-a201-cfbc9ad3a8f7",
   "metadata": {},
   "source": [
    "Source link:  \n",
    "https://gist.github.com/KirosG/f265f136bd97bd669632fa0f2f2721b4"
   ]
  },
  {
   "cell_type": "markdown",
   "id": "b4bb69fc-d0d1-4342-9cc3-dc2581e15964",
   "metadata": {},
   "source": [
    "## Solution"
   ]
  },
  {
   "cell_type": "code",
   "execution_count": null,
   "id": "255901a6-9bf2-4daf-b155-d3dcc999ac7c",
   "metadata": {},
   "outputs": [],
   "source": [
    "s = input('Enter the sentence:')\n",
    "d = {\"UPPER CASE\":0, \"LOWER CASE\":0}\n",
    "for c in s:\n",
    "    if c.isupper():\n",
    "        d[\"UPPER CASE\"] += 1\n",
    "    elif c.islower():\n",
    "        d[\"LOWER CASE\"] += 1\n",
    "\n",
    "print(\"UPPER CASE\", d[\"UPPER CASE\"])\n",
    "print(\"LOWER CASE\", d[\"LOWER CASE\"])"
   ]
  },
  {
   "cell_type": "markdown",
   "id": "f5f799ac-d7a8-437f-9821-95bf9be8471d",
   "metadata": {},
   "source": [
    "---"
   ]
  },
  {
   "cell_type": "markdown",
   "id": "3966c708-8cdb-4b6d-b119-9321ab8664e2",
   "metadata": {},
   "source": [
    "## Problem 21"
   ]
  },
  {
   "cell_type": "markdown",
   "id": "af7f3936-d858-4cf3-a6fa-611ced383229",
   "metadata": {},
   "source": [
    "Write a program to compute the frequency of the words from the user input."
   ]
  },
  {
   "cell_type": "markdown",
   "id": "cd5e86f8-1c6d-4025-923b-077137dae544",
   "metadata": {},
   "source": [
    "Example\n",
    "\n",
    "Input:  \n",
    "New to Python or choosing between Python 2 and Python 3? Read Python 2 or Python 3.\n",
    "\n",
    "Output:  \n",
    "\n",
    "<img src='images/word-freq.png' >\n"
   ]
  },
  {
   "cell_type": "markdown",
   "id": "5a9bbcad-c92d-4d1e-a273-638af5e7113e",
   "metadata": {},
   "source": [
    "Source link:  \n",
    "https://gist.github.com/KirosG/f265f136bd97bd669632fa0f2f2721b4"
   ]
  },
  {
   "cell_type": "markdown",
   "id": "96c4d3b4-4ec8-47e4-819b-f3d7559ed9fc",
   "metadata": {},
   "source": [
    "## Solution"
   ]
  },
  {
   "cell_type": "code",
   "execution_count": null,
   "id": "58d04e62-49b1-4130-9f56-8902651e6a3c",
   "metadata": {},
   "outputs": [],
   "source": [
    "freq = {}\n",
    "line = input('Enter the sentence:\\n')\n",
    "\n",
    "for word in line.split():\n",
    "    freq[word] = freq.get(word,0) + 1\n",
    "\n",
    "print('\\n{:10s} {}'.format('WORD', 'FREQ'))\n",
    "for k,v in freq.items():\n",
    "    print(f'{k:10s} {v}')"
   ]
  },
  {
   "cell_type": "markdown",
   "id": "9d18727a-7357-448b-8088-2f7becbc4fc0",
   "metadata": {},
   "source": [
    "---"
   ]
  },
  {
   "cell_type": "markdown",
   "id": "633462b0-3090-4f17-9d0b-e26ee25d6be3",
   "metadata": {},
   "source": [
    "## Problem 22"
   ]
  },
  {
   "cell_type": "markdown",
   "id": "a12ad693-6641-4a71-9c2c-8e4c240c382a",
   "metadata": {},
   "source": [
    "Write a program to generate all sentences where subject is in `[\"I\", \"You\"]` and verb is in `[\"Play\", \"Love\"]` and the object is in `[\"Hockey\",\"Football\"]`."
   ]
  },
  {
   "cell_type": "markdown",
   "id": "bbde743f-8993-45e6-b8aa-22c2b13df4c3",
   "metadata": {},
   "source": [
    "Output:\n",
    "    \n",
    "I Play Hockey.  \n",
    "I Play Football.  \n",
    "I Love Hockey.  \n",
    "I Love Football.  \n",
    "You Play Hockey.  \n",
    "You Play Football.  \n",
    "You Love Hockey.  \n",
    "You Love Football.   "
   ]
  },
  {
   "cell_type": "markdown",
   "id": "d9d6ffa3-02aa-446d-80a7-47533892e3ea",
   "metadata": {},
   "source": [
    "Source link:  \n",
    "https://gist.github.com/KirosG/f265f136bd97bd669632fa0f2f2721b4"
   ]
  },
  {
   "cell_type": "markdown",
   "id": "f4440e7a-8df4-4991-ac52-186c4d9073a0",
   "metadata": {},
   "source": [
    "## Solution"
   ]
  },
  {
   "cell_type": "code",
   "execution_count": null,
   "id": "94187d0d-5099-4ed1-92ea-f490a83f9dbd",
   "metadata": {},
   "outputs": [],
   "source": [
    "subjects=[\"I\", \"You\"]\n",
    "verbs=[\"Play\", \"Love\"]\n",
    "objects=[\"Hockey\",\"Football\"]\n",
    "for i in range(len(subjects)):\n",
    "    for j in range(len(verbs)):\n",
    "        for k in range(len(objects)):\n",
    "            sentence = \"%s %s %s.\" % (subjects[i], verbs[j], objects[k])\n",
    "            print(sentence)"
   ]
  },
  {
   "cell_type": "markdown",
   "id": "8d1ec6ce-35d3-4c47-93b7-1d63c38fe4ce",
   "metadata": {},
   "source": [
    "---"
   ]
  },
  {
   "cell_type": "markdown",
   "id": "675e6076-1138-4686-a819-65a53965b046",
   "metadata": {},
   "source": [
    "## Problem 23"
   ]
  },
  {
   "cell_type": "markdown",
   "id": "6ddacfe0-0dcd-47df-818a-f307f5e14579",
   "metadata": {},
   "source": [
    "Write a program to solve a **classic ancient Chinese puzzle**: \n",
    "\n",
    "We count `35 heads` and `94 legs` among the chickens and rabbits in a farm. How many rabbits and how many chickens do we have?"
   ]
  },
  {
   "cell_type": "markdown",
   "id": "e1516acf-7a3b-4f2f-95c0-c711fe2d542e",
   "metadata": {},
   "source": [
    "Output:  \n",
    "chickens = 23 and rabbits = 12"
   ]
  },
  {
   "cell_type": "markdown",
   "id": "63289ab6-ac77-4900-8075-45a00eb47f38",
   "metadata": {},
   "source": [
    "Source link:  \n",
    "https://gist.github.com/KirosG/f265f136bd97bd669632fa0f2f2721b4"
   ]
  },
  {
   "cell_type": "markdown",
   "id": "fcdc7511-fd80-4fe0-833a-7ea43656ed95",
   "metadata": {},
   "source": [
    "## Solution"
   ]
  },
  {
   "cell_type": "code",
   "execution_count": null,
   "id": "c9700126-d88e-4a94-98ed-56f386cdb477",
   "metadata": {},
   "outputs": [],
   "source": [
    "numheads = 35\n",
    "numlegs = 94\n",
    "\n",
    "for chicken in range(numheads+1):\n",
    "    rabbit = numheads-chicken\n",
    "    legs = (2 * chicken) + (4 * rabbit)\n",
    "    if legs == numlegs:\n",
    "        print(f'chickens = {chicken} and rabbits = {rabbit}')\n",
    "        break\n",
    "else:\n",
    "    print('No result found!')"
   ]
  },
  {
   "cell_type": "markdown",
   "id": "d6ee0485-6327-4f02-bb7d-e0a6ce84ab72",
   "metadata": {},
   "source": [
    "---"
   ]
  },
  {
   "cell_type": "markdown",
   "id": "09f00097-812a-45b4-bb92-25da39b759d9",
   "metadata": {},
   "source": [
    "## Problem 24"
   ]
  },
  {
   "cell_type": "markdown",
   "id": "56ba3c99-c8e5-4246-9f67-b385e0eea6d5",
   "metadata": {},
   "source": [
    "Create a function that determines whether the input number is a `prime number`."
   ]
  },
  {
   "cell_type": "markdown",
   "id": "a50ddeb8-c7f4-494c-b3f4-5e05cb2ba9ec",
   "metadata": {},
   "source": [
    "**Example 1:**\n",
    "\n",
    "Enter the number: 91  \n",
    "91 is not prime!  \n",
    "At least it is divisible by 7  "
   ]
  },
  {
   "cell_type": "markdown",
   "id": "658d22d9-fbe3-4914-97c9-f7ff369bcb31",
   "metadata": {},
   "source": [
    "**Example 2:**\n",
    "\n",
    "Enter the number: 97  \n",
    "97 is prime! "
   ]
  },
  {
   "cell_type": "markdown",
   "id": "7139e673-9818-48c8-85e7-b0ca6e686333",
   "metadata": {},
   "source": [
    "## Solution"
   ]
  },
  {
   "cell_type": "code",
   "execution_count": null,
   "id": "e6d1cf8d-30d7-4515-94ad-bea45855b344",
   "metadata": {},
   "outputs": [],
   "source": [
    "num = int(input('Enter the number:'))\n",
    "for i in range(2, num):\n",
    "    if not num % i:\n",
    "        print(num, 'is not prime!')\n",
    "        print('At least it is divisible by',i)\n",
    "        break\n",
    "else:\n",
    "    print(num, 'is prime!')"
   ]
  },
  {
   "cell_type": "markdown",
   "id": "d779898c-2742-4999-b548-7ed33de0afe8",
   "metadata": {},
   "source": [
    "---"
   ]
  }
 ],
 "metadata": {
  "kernelspec": {
   "display_name": "Python 3 (ipykernel)",
   "language": "python",
   "name": "python3"
  },
  "language_info": {
   "codemirror_mode": {
    "name": "ipython",
    "version": 3
   },
   "file_extension": ".py",
   "mimetype": "text/x-python",
   "name": "python",
   "nbconvert_exporter": "python",
   "pygments_lexer": "ipython3",
   "version": "3.9.7"
  }
 },
 "nbformat": 4,
 "nbformat_minor": 5
}
