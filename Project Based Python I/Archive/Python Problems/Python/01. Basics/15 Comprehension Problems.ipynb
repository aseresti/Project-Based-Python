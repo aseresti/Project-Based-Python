{
 "cells": [
  {
   "cell_type": "markdown",
   "id": "787f395b-0545-4fd0-941a-76aed624ef4d",
   "metadata": {},
   "source": [
    "<img src=\"../../images/banners/python-basics.png\" width=\"600\"/>"
   ]
  },
  {
   "cell_type": "markdown",
   "id": "b2d772ca-d1cc-4050-bc5e-0ddfa8b09b67",
   "metadata": {},
   "source": [
    "# <img src=\"../../images/logos/python.png\" width=\"23\"/> Comprehension Problems"
   ]
  },
  {
   "cell_type": "markdown",
   "id": "3e997e56-205f-47e0-99f8-e97778d718af",
   "metadata": {},
   "source": [
    "## Problem 1 "
   ]
  },
  {
   "cell_type": "markdown",
   "id": "4ffa98de-28bf-4392-8b28-93b6ed4dc132",
   "metadata": {},
   "source": [
    "Write a Python program to find all the factors of a given natural number.<br>\n",
    "The factors of a number are the numbers that divide into it exactly."
   ]
  },
  {
   "cell_type": "markdown",
   "id": "fb435873-c4cf-4737-9f05-9ba173dc3e84",
   "metadata": {},
   "source": [
    "**Example:**\n",
    "The number 12 has six factors:\n",
    "1, 2, 3, 4, 6 and 12"
   ]
  },
  {
   "cell_type": "markdown",
   "id": "588ae7e5-739b-42d3-9af5-c05df27c40cd",
   "metadata": {},
   "source": [
    "## Solution:"
   ]
  },
  {
   "cell_type": "code",
   "execution_count": null,
   "id": "b682091c-7a7f-48fc-a901-2a2480b3f510",
   "metadata": {},
   "outputs": [],
   "source": [
    "n = 12\n",
    "[fac for fac in range(1, n+1) if n % fac ==0]"
   ]
  },
  {
   "cell_type": "markdown",
   "id": "b2adb92d-c09c-4767-8497-67db152b175a",
   "metadata": {},
   "source": [
    "***"
   ]
  },
  {
   "cell_type": "markdown",
   "id": "e7525486-5258-45d8-a81c-10055aa390f1",
   "metadata": {},
   "source": [
    "## Problem 2"
   ]
  },
  {
   "cell_type": "markdown",
   "id": "3b948777-adbd-44f9-9526-ba78452ecc6f",
   "metadata": {},
   "source": [
    "Write a Python program to find the indices of all occurrences of a given item in a given list."
   ]
  },
  {
   "cell_type": "markdown",
   "id": "a6e9c1a8-7675-43f0-92f5-23e110f5713e",
   "metadata": {},
   "source": [
    "**Example**\n",
    "\n",
    "Input:\n",
    "```python\n",
    "nums_list = [54, 25, 87, 64, 54, 78, 54]\n",
    "```\n",
    "Output for 54: \n",
    "```python\n",
    "[0, 4, 6]\n",
    "```"
   ]
  },
  {
   "cell_type": "markdown",
   "id": "294ca663-47de-4ec8-8ca6-4302b0f9ddb1",
   "metadata": {},
   "source": [
    "## Solutions:"
   ]
  },
  {
   "cell_type": "code",
   "execution_count": null,
   "id": "c6ed23ec-d359-4df5-ade6-4caff80fdd63",
   "metadata": {},
   "outputs": [],
   "source": [
    "nums_list = [54, 25, 87, 64, 54, 78, 54]\n",
    "n = 54\n",
    "[idx for idx, i in enumerate(nums_list) if i == n]"
   ]
  },
  {
   "cell_type": "markdown",
   "id": "19f96878-fdbf-4cc5-87cb-18e881f8457d",
   "metadata": {},
   "source": [
    "***"
   ]
  },
  {
   "cell_type": "markdown",
   "id": "92672ea2-2ace-49c6-8ec3-f5acdc6aa1ec",
   "metadata": {},
   "source": [
    "## Problem 3"
   ]
  },
  {
   "cell_type": "markdown",
   "id": "32b47525-95ab-4f0e-ac41-d93f11b44fa6",
   "metadata": {},
   "source": [
    "We have two list. First is the name of students, second is their scores in order:\n",
    "\n",
    "```python\n",
    "students = ['Ali', 'Mohsen', 'Maryam', 'Neda', 'Reza', 'Asal']\n",
    "scores = [5, 18, 10, 6, 20, 15]\n",
    "```"
   ]
  },
  {
   "cell_type": "markdown",
   "id": "20d48b96-7b59-4738-b44e-e4146c75a6f5",
   "metadata": {},
   "source": [
    "We ask you to do the following:\n",
    "    \n",
    "1. Combine the values of the two lists into a dictionary.\n",
    "2. Find the student who has the highest score.\n",
    "3. Find all students who scored less than 10. Show their name and score.\n",
    "4. Find the three students who have the highest score in order.\n",
    "5. Sort the combined dictionary base on scores in descending order and make a sorted dictionary (Not a list)."
   ]
  },
  {
   "cell_type": "markdown",
   "id": "1b6b8178-72e3-4278-b1e3-9390f1d00635",
   "metadata": {},
   "source": [
    "**output:**\n",
    "1. combined dictionaty:\n",
    "```python\n",
    "{'Ali': 5, 'Mohsen': 18, 'Maryam': 10, 'Neda': 6, 'Reza': 20, 'Asal': 15}\n",
    "```\n",
    "2. student with max score:\n",
    "```python\n",
    "Reza\n",
    "```\n",
    "3. students who scored less than 10:\n",
    "```python\n",
    "{'Ali': 5, 'Neda': 6}\n",
    "```\n",
    "4. top three students:\n",
    "```python\n",
    "['Reza', 'Mohsen', 'Asal']\n",
    "```\n",
    "5. sorted dictionary:\n",
    "```python\n",
    "{'Reza': 20, 'Mohsen': 18, 'Asal': 15, 'Maryam': 10, 'Neda': 6, 'Ali': 5}\n",
    "```"
   ]
  },
  {
   "cell_type": "markdown",
   "id": "cb92a576-082a-45c0-8027-3dec11292b35",
   "metadata": {},
   "source": [
    "## Solution:"
   ]
  },
  {
   "cell_type": "code",
   "execution_count": null,
   "id": "f9648eef-d320-47b8-8099-2395920db579",
   "metadata": {},
   "outputs": [],
   "source": [
    "students = ['Ali', 'Mohsen', 'Maryam', 'Neda', 'Reza', 'Asal']\n",
    "scores = [5, 18, 10, 6, 20, 15]\n",
    "\n",
    "#---------------------------------------------\n",
    "new_dict = {key: value for key, value in zip(students, scores)}\n",
    "print('\\n1. combined dictionaty: ')\n",
    "print(new_dict)\n",
    "\n",
    "#--------------------------------------------\n",
    "max_score = max(new_dict, key=new_dict.get)\n",
    "print('\\n2. student with max score: ')\n",
    "print(max_score)\n",
    "\n",
    "#--------------------------------------------\n",
    "less_scores = {key: value for key, value in new_dict.items() if value < 10}\n",
    "print('\\n3. students who scored less than 10: ')\n",
    "print(less_scores)\n",
    "\n",
    "#--------------------------------------------\n",
    "three_max = sorted(new_dict, key=new_dict.get, reverse=True)[:3]\n",
    "print('\\n4. top three students: ')\n",
    "print(three_max)\n",
    "\n",
    "#-------------------------------------------------------------\n",
    "sorted_list = sorted(new_dict.items(), key=lambda x:x[1], reverse=True)\n",
    "sorted_dict = {key: value for key, value in sorted_list}\n",
    "print('\\n5. sorted dictionary:')\n",
    "print(sorted_dict)"
   ]
  },
  {
   "cell_type": "markdown",
   "id": "80664d04-ac50-41d1-aefd-c600d0080370",
   "metadata": {
    "tags": []
   },
   "source": [
    "***"
   ]
  },
  {
   "cell_type": "markdown",
   "id": "d1930a34-ea33-4394-a0e1-46997395fbf0",
   "metadata": {},
   "source": [
    "## Problem 4"
   ]
  },
  {
   "cell_type": "markdown",
   "id": "11bf4ac6-5dea-4337-a8b0-218a758a2d86",
   "metadata": {},
   "source": [
    "Write a Python program to calculate the average of the numbers in a given tuple of tuples."
   ]
  },
  {
   "cell_type": "markdown",
   "id": "a57a0bd8-41a1-4542-afdf-dc21fbac4657",
   "metadata": {},
   "source": [
    "input:\n",
    "```python\n",
    "nums = ((10, 10, 10, 12), (30, 45, 56, 45), (81, 80, 39, 32), (1, 2, 3, 4))\n",
    "```"
   ]
  },
  {
   "cell_type": "markdown",
   "id": "0bd61235-1717-46bf-9db4-9d7d65f72979",
   "metadata": {},
   "source": [
    "output:\n",
    "```python\n",
    "(30.5, 34.25, 27.0, 23.25)\n",
    "```"
   ]
  },
  {
   "cell_type": "markdown",
   "id": "f70e84ce-6aeb-4f78-adc6-cd9fc6b3ec35",
   "metadata": {},
   "source": [
    "## Solution:"
   ]
  },
  {
   "cell_type": "code",
   "execution_count": null,
   "id": "7d995751-5da1-4368-99cc-170e2026b0e2",
   "metadata": {},
   "outputs": [],
   "source": [
    "def average_tuple(nums):\n",
    "    result = [sum(x) / len(x) for x in zip(*nums)]\n",
    "    return tuple(result)\n",
    "\n",
    "#-----------------------------------------------\n",
    "nums = ((10, 10, 10, 12), (30, 45, 56, 45), (81, 80, 39, 32), (1, 2, 3, 4))\n",
    "print (\"input: \\n\", nums)\n",
    "print(\"\\naverage tuple of tuples: \\n\", average_tuple(nums))"
   ]
  },
  {
   "cell_type": "markdown",
   "id": "97c7f6f2-05aa-4095-9ef7-a29373a8d089",
   "metadata": {},
   "source": [
    "***"
   ]
  },
  {
   "cell_type": "markdown",
   "id": "917b96a4-a1ab-4692-892c-14ae217a40bb",
   "metadata": {},
   "source": [
    "## Problem 5"
   ]
  },
  {
   "cell_type": "markdown",
   "id": "0d46a3d4-75a9-468f-a089-df1d541c16f4",
   "metadata": {},
   "source": [
    "treepersqkm is a dictionary showing the tree number of countries per square kilometer for random countries with sizeable population numbers.  \n",
    "Write a pytonic code to delete country names with less than 20.000 trees per square kilometer from the dictionary.\n",
    "```python\n",
    "treepersqkm = {\"Finland\": 90652, \"Taiwan\": 69593, \"Japan\": 49894, \"Russia\": 41396, \"Brazil\": 39542, \"Canada\": 36388, \"Bulgaria\": 24987, \"France\": 24436, \"Greece\": 24323, \"United States\": 23513, \"Turkey\": 11126, \"India\": 11109, \"Denmark\": 6129, \"Syria\": 534, \"Saudi Arabia\": 1}\n",
    "```"
   ]
  },
  {
   "cell_type": "markdown",
   "id": "7ce675d4-339c-41ce-8af9-72e8e750d582",
   "metadata": {},
   "source": [
    "## Solution"
   ]
  },
  {
   "cell_type": "code",
   "execution_count": null,
   "id": "d34eb481-32ed-458e-a0a5-e7576580c7e3",
   "metadata": {},
   "outputs": [],
   "source": [
    "treepersqkm = {\n",
    "    \"Finland\": 90652, \"Taiwan\": 69593, \"Japan\": 49894,\n",
    "    \"Russia\": 41396, \"Brazil\": 39542, \"Canada\": 36388,\n",
    "    \"Bulgaria\": 24987, \"France\": 24436, \"Greece\": 24323,\n",
    "    \"United States\": 23513, \"Turkey\": 11126, \"India\": 11109,\n",
    "    \"Denmark\": 6129, \"Syria\": 534, \"Saudi Arabia\": 1\n",
    "}\n",
    "new_dict = {k:v for k,v in treepersqkm.items() if v > 20000}\n",
    "print(new_dict)"
   ]
  },
  {
   "cell_type": "markdown",
   "id": "c8bcc90a-8e8b-418a-8f5b-cdebeda2d77b",
   "metadata": {},
   "source": [
    "---"
   ]
  },
  {
   "cell_type": "markdown",
   "id": "8249834a-bbcb-4064-81d5-97b7d2b669aa",
   "metadata": {},
   "source": [
    "## Problem 6"
   ]
  },
  {
   "cell_type": "markdown",
   "id": "9a17e091-f2d5-4939-9a18-7780193fe284",
   "metadata": {},
   "source": [
    "Using list comprehension, construct a list from the squares of each element in the list, if the square is greater than 50.\n",
    "```python\n",
    "lst1 = [2, 4, 6, 8, 10, 12, 14]\n",
    "```\n",
    "Output:\n",
    "```python\n",
    "[64, 100, 144, 196]\n",
    "```"
   ]
  },
  {
   "cell_type": "markdown",
   "id": "36681f85-d1b6-40e6-94be-af3f0acefef5",
   "metadata": {},
   "source": [
    "Source link:  \n",
    "https://holypython.com/intermediate-python-exercises/exercise-16-python-list-comprehensions/"
   ]
  },
  {
   "cell_type": "markdown",
   "id": "52d99856-086d-45c6-9a4f-b461c44d24a1",
   "metadata": {},
   "source": [
    "## Solution"
   ]
  },
  {
   "cell_type": "code",
   "execution_count": null,
   "id": "ed1a5159-d364-4060-85cf-e4f7c728d256",
   "metadata": {},
   "outputs": [],
   "source": [
    "lst1 = [2, 4, 6, 8, 10, 12, 14]\n",
    "lst2 = [x **2 for x in lst1 if x ** 2 > 50]\n",
    "print(lst2)"
   ]
  },
  {
   "cell_type": "markdown",
   "id": "d1a6b985-bd7c-4ca6-81ef-d5a016d8c6f0",
   "metadata": {},
   "source": [
    "---"
   ]
  },
  {
   "cell_type": "markdown",
   "id": "f0d9a398-cf00-4aa2-b75d-a80f88d2c5c0",
   "metadata": {},
   "source": [
    "## Problem 7"
   ]
  },
  {
   "cell_type": "markdown",
   "id": "8b277423-67ea-40f9-a574-34bc5b4486ea",
   "metadata": {},
   "source": [
    "Given dictionary is consisted of vehicles and their weights in kilograms. Contruct a dictionary of the names of vehicles and their weights if the weight is over than 2000 kilograms.\n",
    "```python\n",
    "dict1 = {\n",
    "    \"Sedan\": 1500, \"SUV\": 2000, \"Pickup\": 2500, \"Minivan\": 1600,\n",
    "    \"Van\": 2400, \"Semi\": 13600, \"Bicycle\": 7, \"Motorcycle\": 110\n",
    "}\n",
    "```\n",
    "Output:\n",
    "```python\n",
    "{'Pickup': 2500, 'Van': 2400, 'Semi': 13600}\n",
    "```"
   ]
  },
  {
   "cell_type": "markdown",
   "id": "36d01e13-cdc3-4546-b871-28088efe20a0",
   "metadata": {},
   "source": [
    "Source link:  \n",
    "https://holypython.com/intermediate-python-exercises/exercise-16-python-list-comprehensions/"
   ]
  },
  {
   "cell_type": "markdown",
   "id": "595febc6-c223-4a7a-afe1-2702b5fc115f",
   "metadata": {},
   "source": [
    "## Solution"
   ]
  },
  {
   "cell_type": "code",
   "execution_count": null,
   "id": "a145e5c9-8c03-4e0f-836f-c254b65c7c1b",
   "metadata": {},
   "outputs": [],
   "source": [
    "dict1 = {\n",
    "    \"Sedan\": 1500, \"SUV\": 2000, \"Pickup\": 2500, \"Minivan\": 1600,\n",
    "    \"Van\": 2400, \"Semi\": 13600, \"Bicycle\": 7, \"Motorcycle\": 110\n",
    "}\n",
    "dict2 = {k:v for k,v in dict1.items() if v > 2000}\n",
    "# other solution:\n",
    "# dict2 = {k:dict1[k] for k in dict1 if dict1[k] > 2000}\n",
    "print(dict2)"
   ]
  },
  {
   "cell_type": "markdown",
   "id": "07e119bd-597d-4a96-bda6-1409129e0992",
   "metadata": {},
   "source": [
    "---"
   ]
  },
  {
   "cell_type": "markdown",
   "id": "38ad10aa-5bbd-4c41-93e3-0f8102e615e4",
   "metadata": {},
   "source": [
    "## Problem 8"
   ]
  },
  {
   "cell_type": "markdown",
   "id": "bd025382-8529-49c0-8f73-c4e0429f6483",
   "metadata": {},
   "source": [
    "Use dictionary comprehension to make a dictionary which the keys are integer numbers between 1 and n and the values are square of the keys. User enters the n variable. \n",
    "```python\n",
    "n = 10\n",
    "```\n",
    "Output:\n",
    "```python\n",
    "{1: 1, 2: 4, 3: 9, 4: 16, 5: 25, 6: 36, 7: 49, 8: 64, 9: 81, 10: 100}\n",
    "```"
   ]
  },
  {
   "cell_type": "markdown",
   "id": "c5eff32e-2d55-408b-9565-19e1c236c408",
   "metadata": {},
   "source": [
    "## Solution"
   ]
  },
  {
   "cell_type": "code",
   "execution_count": null,
   "id": "d34560d4-0858-4eaa-9460-e68b5252bf5c",
   "metadata": {},
   "outputs": [],
   "source": [
    "n = input('Enter the number of elements:')\n",
    "n = int(n) + 1\n",
    "d = {k:k**2 for k in range(1, n)}\n",
    "print(d)"
   ]
  },
  {
   "cell_type": "markdown",
   "id": "353d0dff-12aa-43b5-a5e8-3a66471eb48d",
   "metadata": {},
   "source": [
    "---"
   ]
  },
  {
   "cell_type": "markdown",
   "id": "80a0ef1d-c5e2-4468-a9f8-951c2af6ad3f",
   "metadata": {},
   "source": [
    "## Problem 9"
   ]
  },
  {
   "cell_type": "markdown",
   "id": "a87b94a8-3359-4732-a33c-8b5910e1af06",
   "metadata": {},
   "source": [
    "Write a program to print the given list after removing even numbers.\n",
    "```python\n",
    "[5, 6, 77, 45, 22, 12, 24]\n",
    "```\n",
    "Output:\n",
    "```python\n",
    "[5, 77, 45]\n",
    "```"
   ]
  },
  {
   "cell_type": "markdown",
   "id": "5273d9d8-0b6f-4bae-8c2a-e7710c4c9a8b",
   "metadata": {},
   "source": [
    "## Solution"
   ]
  },
  {
   "cell_type": "code",
   "execution_count": null,
   "id": "56a7d8e6-5619-44dc-9f96-285a4eff767c",
   "metadata": {},
   "outputs": [],
   "source": [
    "li = [5, 6, 77, 45, 22, 12, 24]\n",
    "li = [x for x in li if x % 2 != 0]\n",
    "print(li)"
   ]
  },
  {
   "cell_type": "markdown",
   "id": "e861153f-d838-4d07-b98b-b4c1849f359f",
   "metadata": {},
   "source": [
    "---"
   ]
  },
  {
   "cell_type": "markdown",
   "id": "355c80e3-8b9b-4219-898b-c7c306faaa2f",
   "metadata": {},
   "source": [
    "## Problem 10"
   ]
  },
  {
   "cell_type": "markdown",
   "id": "974dce7e-5e70-445a-ae65-a10676f2c2eb",
   "metadata": {},
   "source": [
    "By using list comprehension, write a program to print the given list after removing the numbers with even index :0, 2, 4, ...\n",
    "```python\n",
    "[12, 24, 35, 70, 88, 120, 155]\n",
    "```\n",
    "Output:  \n",
    "```python\n",
    "[24, 70, 120]\n",
    "```"
   ]
  },
  {
   "cell_type": "markdown",
   "id": "7a51c9b9-e719-4a38-99b4-c9fde8ff8fe8",
   "metadata": {},
   "source": [
    "## Solution"
   ]
  },
  {
   "cell_type": "code",
   "execution_count": null,
   "id": "11def6a0-161c-4d64-ad3c-6139b7735415",
   "metadata": {},
   "outputs": [],
   "source": [
    "li = [12, 24, 35, 70, 88, 120, 155]\n",
    "li = [x for (i,x) in enumerate(li) if i%2!=0]\n",
    "print(li)"
   ]
  },
  {
   "cell_type": "markdown",
   "id": "31f9ee2b-b32b-4bef-a2ef-b8e162d37439",
   "metadata": {},
   "source": [
    "---"
   ]
  },
  {
   "cell_type": "markdown",
   "id": "da2db18d-aeb3-44ba-8d69-fde0fe3a3cf9",
   "metadata": {},
   "source": [
    "## Problem 11"
   ]
  },
  {
   "cell_type": "markdown",
   "id": "f3d98b33-85db-4dc8-a4d1-b0034b67cc74",
   "metadata": {},
   "source": [
    "By using list comprehension, Write a program to print the list after removing the 0th,4th,5th numbers in the following list:\n",
    "```python\n",
    "[12, 25, 855, 180, 65, 10, 222, 650, 470]\n",
    "```\n",
    "Output:  \n",
    "```python\n",
    "[25, 855, 180, 222, 650, 470]\n",
    "```"
   ]
  },
  {
   "cell_type": "markdown",
   "id": "3182ca82-7b1f-4d0f-97c0-d55ecefca7cd",
   "metadata": {},
   "source": [
    "## Solution"
   ]
  },
  {
   "cell_type": "code",
   "execution_count": null,
   "id": "51507739-ddf6-41a0-90d3-1de6b6aea59b",
   "metadata": {},
   "outputs": [],
   "source": [
    "lst1 = [12, 25, 855, 180, 65, 10, 222, 650, 470]\n",
    "new = [x for (i,x) in enumerate(lst1) if i not in (0,4,5)]\n",
    "print(new)"
   ]
  },
  {
   "cell_type": "markdown",
   "id": "f5e95d89-9bb7-445d-8352-acf8ae1eb6a5",
   "metadata": {},
   "source": [
    "---"
   ]
  },
  {
   "cell_type": "markdown",
   "id": "224eaec2-1c2d-41e8-8ede-bfa067f9745a",
   "metadata": {},
   "source": [
    "## Problem 12"
   ]
  },
  {
   "cell_type": "markdown",
   "id": "c4271875-d347-4490-a351-e3022ed3bf11",
   "metadata": {},
   "source": [
    "Find **Standard Deviation** of the numbers in the following list by using `map` and `lambda` functions.\n",
    "```python\n",
    "numbers = [-1, 2, -3, 4, -5, 8, -2, 7, 8, -9, 10, 11, -12]\n",
    "```\n",
    "**Output:**  \n",
    "standard deviation = 7.109456990391379\n",
    "\n",
    "\n",
    "**Hint**: Calculate the Standart Deviation by equation below:\n",
    "$$ s = \\sqrt{\\frac{1}{N} \\sum_{i=1}^N (x_i - \\overline{x})^2} $$"
   ]
  },
  {
   "cell_type": "markdown",
   "id": "152b4769-daeb-440e-a93f-c918a32a65ae",
   "metadata": {},
   "source": [
    "## Solution"
   ]
  },
  {
   "cell_type": "code",
   "execution_count": null,
   "id": "787081e6-c03c-48e9-a839-ea39d1205bad",
   "metadata": {},
   "outputs": [],
   "source": [
    "numbers = [-1, 2, -3, 4, -5, 8, -2, 7, 8, -9, 10, 11, -12]\n",
    "n = len(numbers)\n",
    "mean = sum(numbers) / n\n",
    "f = lambda x: (x - mean)** 2\n",
    "\n",
    "s = ( sum(map(f, numbers)) / n ) ** 0.5\n",
    "print('standard deviation =', s)"
   ]
  },
  {
   "cell_type": "markdown",
   "id": "967a5d93-af33-462b-a136-f7b6156d8c90",
   "metadata": {},
   "source": [
    "---"
   ]
  },
  {
   "cell_type": "markdown",
   "id": "5aa666fd-ad78-4444-b26a-d39c4e93247b",
   "metadata": {},
   "source": [
    "## Problem 13"
   ]
  },
  {
   "cell_type": "markdown",
   "id": "b7133d53-42aa-4d19-a77b-8508dce5173a",
   "metadata": {},
   "source": [
    "Below is a list of tuples, including the **height** and **weight** of each person, respectively.\n",
    "```python\n",
    "data = [\n",
    "    (172, 137), (190, 131), (171, 60), (177, 108), (175, 100),\n",
    "    (189, 135), (170, 86), (168, 72), (155, 124), (174, 76),\n",
    "    (160, 109), (153, 50), (168, 51), (175, 127), (182, 69),\n",
    "    (187, 119), (172, 122), (160, 146), (161, 58),(165, 76)\n",
    "]\n",
    "```\n",
    "If the formula for calculating body mass index is as follows:\n",
    "\n",
    "$$BMI = \\frac{(Weight)}{Height^2} =  \\frac{kg}{meter^2}$$\n",
    "\n",
    "Show the people who are **obese** in the list.\n",
    "\n",
    "*(We define obesity with a body mass index above 30)* "
   ]
  },
  {
   "cell_type": "markdown",
   "id": "c5ffd1ca-00f9-44e3-bb94-5f44379cfd55",
   "metadata": {},
   "source": [
    "Source link:  \n",
    "https://github.com/pytopia/PyExercises/tree/main"
   ]
  },
  {
   "cell_type": "markdown",
   "id": "be786281-fbd3-4596-85f5-dbebf2dbcacf",
   "metadata": {},
   "source": [
    "## Solution"
   ]
  },
  {
   "cell_type": "code",
   "execution_count": null,
   "id": "494c38ab-d706-4780-8697-145053f07c7e",
   "metadata": {},
   "outputs": [],
   "source": [
    "data = [\n",
    "    (172, 137), (190, 131), (171, 60), (177, 108), (175, 100),\n",
    "    (189, 135), (170, 86), (168, 72), (155, 124), (174, 76),\n",
    "    (160, 109), (153, 50), (168, 51), (175, 127), (182, 69),\n",
    "    (187, 119), (172, 122), (160, 146), (161, 58),(165, 76)\n",
    "]\n",
    "bmi = [(x[1] / (x[0]/100)**2) for x in data]\n",
    "obese = {i:x for i,x in enumerate(bmi) if x > 30}\n",
    "for index in obese:\n",
    "    print(f'Person {data[index]} has BMI = {obese[index]:.2f} is obese')"
   ]
  },
  {
   "cell_type": "markdown",
   "id": "2542e141-2133-4c48-9d7e-5168cf0d2a70",
   "metadata": {},
   "source": [
    "---"
   ]
  },
  {
   "cell_type": "markdown",
   "id": "9e31c233-7a49-41b1-80e4-0f7a2cc38b95",
   "metadata": {},
   "source": [
    "## Problem 14"
   ]
  },
  {
   "cell_type": "markdown",
   "id": "55bab11e-0ac5-4ebc-a35b-fb8d38ac4043",
   "metadata": {},
   "source": [
    "Use dict comprehension to **swap** the keys and values and create a new dictionary.\n",
    "```python\n",
    "x = {\"BTCUSDT\":66678,\"LINKUSDT\":35.8,\"ADAUSDT\":2.166}\n",
    "```"
   ]
  },
  {
   "cell_type": "markdown",
   "id": "3e512d5c-68a9-4da6-a240-fb8a74e8ac8b",
   "metadata": {},
   "source": [
    "Source link:  \n",
    "https://github.com/pytopia/PyExercises/tree/main"
   ]
  },
  {
   "cell_type": "markdown",
   "id": "2303a264-463a-40e2-84d8-b01b8add2818",
   "metadata": {},
   "source": [
    "## Solution"
   ]
  },
  {
   "cell_type": "code",
   "execution_count": null,
   "id": "36bda15c-0ff2-4b19-a532-e00c5c6d46cd",
   "metadata": {},
   "outputs": [],
   "source": [
    "x = {\"BTCUSDT\":66678,\"LINKUSDT\":35.8,\"ADAUSDT\":2.166}\n",
    "new = {value:key for key, value in x.items()}\n",
    "print(new)"
   ]
  },
  {
   "cell_type": "markdown",
   "id": "0af1d4cc-ff17-4d32-82d1-79684e249f8f",
   "metadata": {},
   "source": [
    "---"
   ]
  }
 ],
 "metadata": {
  "kernelspec": {
   "display_name": "Python 3 (ipykernel)",
   "language": "python",
   "name": "python3"
  },
  "language_info": {
   "codemirror_mode": {
    "name": "ipython",
    "version": 3
   },
   "file_extension": ".py",
   "mimetype": "text/x-python",
   "name": "python",
   "nbconvert_exporter": "python",
   "pygments_lexer": "ipython3",
   "version": "3.9.7"
  }
 },
 "nbformat": 4,
 "nbformat_minor": 5
}
