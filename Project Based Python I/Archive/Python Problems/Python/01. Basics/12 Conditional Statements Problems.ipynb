{
 "cells": [
  {
   "cell_type": "markdown",
   "id": "098a5ae5-687a-44a9-97c3-20a543b284b3",
   "metadata": {},
   "source": [
    "<img src=\"../../images/banners/python-basics.png\" width=\"600\"/>"
   ]
  },
  {
   "cell_type": "markdown",
   "id": "f276996f-0260-479d-8a0f-8a922f1b447a",
   "metadata": {},
   "source": [
    "# <img src=\"../../images/logos/python.png\" width=\"23\"/> Conditional Statements in Python Problems"
   ]
  },
  {
   "cell_type": "markdown",
   "id": "3080c183-e360-4cb1-8982-800995b1cdb1",
   "metadata": {},
   "source": [
    "## Problem 1"
   ]
  },
  {
   "cell_type": "markdown",
   "id": "c91ac794-b66d-4389-bedd-f3378fcdc97d",
   "metadata": {},
   "source": [
    "Write a Python program to get a newly-generated string from a given string where \"is\" has been added to the front. Return the string unchanged if the given string already begins with \"is\".\n",
    "```python\n",
    ">>> Please input a string:  isnum\n",
    "isnum\n",
    ">>> Please input a string:  num\n",
    "isnum\n",
    "```"
   ]
  },
  {
   "cell_type": "markdown",
   "id": "0780797c-2fcb-44ec-8711-1d5bbc602f72",
   "metadata": {},
   "source": [
    "## Solution:"
   ]
  },
  {
   "cell_type": "code",
   "execution_count": null,
   "id": "6c369876-35da-41d0-99b2-d153376b051f",
   "metadata": {},
   "outputs": [],
   "source": [
    "text = input('Please input a string: ')\n",
    "if len(text) >= 2 and text[:2] == \"is\":\n",
    "    print(text)\n",
    "else:\n",
    "    print('is' + text)"
   ]
  },
  {
   "cell_type": "markdown",
   "id": "49bdbc86-1a90-4927-ad3c-17535df58448",
   "metadata": {},
   "source": [
    "***"
   ]
  },
  {
   "cell_type": "markdown",
   "id": "9201fb94-5d13-438e-b4c6-b70473878bfd",
   "metadata": {},
   "source": [
    "## Problem 2"
   ]
  },
  {
   "cell_type": "markdown",
   "id": "1d6d22c5-0c6b-4bbd-a651-be0b75eeee42",
   "metadata": {},
   "source": [
    "Write a Python program to sum two given integers. However, if the sum is between 15 and 20 it will return 20"
   ]
  },
  {
   "cell_type": "markdown",
   "id": "34d37fd6-f0d5-4fbb-bff0-4ec8dddfd041",
   "metadata": {},
   "source": [
    "**Hint:** if you know how to define a function, you can use it."
   ]
  },
  {
   "cell_type": "markdown",
   "id": "92acb747-175b-4c37-8d16-94831e1c2e38",
   "metadata": {},
   "source": [
    "## Solution:"
   ]
  },
  {
   "cell_type": "code",
   "execution_count": null,
   "id": "bd1238bb-5979-4db1-b7e2-fa88177b23a0",
   "metadata": {},
   "outputs": [],
   "source": [
    "def add(x, y):\n",
    "    total = x + y\n",
    "    if total in range(15, 20):\n",
    "        return 20\n",
    "    else:\n",
    "        return total\n",
    "\n",
    "print(add(10, 6))\n",
    "print(add(10, 2))\n",
    "print(add(10, 12))"
   ]
  },
  {
   "cell_type": "markdown",
   "id": "37313674-259b-4f4a-abd3-733b890ed584",
   "metadata": {},
   "source": [
    "***"
   ]
  },
  {
   "cell_type": "markdown",
   "id": "636dbd5b-cfec-45fd-88b3-372398ab3d4b",
   "metadata": {},
   "source": [
    "## Problem 3"
   ]
  },
  {
   "cell_type": "markdown",
   "id": "65c30cbd-6006-436f-8be0-e3ba4e607e22",
   "metadata": {},
   "source": [
    "Write an if statement that asks for the user's name via `input()` function. If the name is **Bond** or **bond** make it print \"Welcome on board 007.\" Otherwise make it print \"Good morning NAME\". (Replace NAME with user's name)"
   ]
  },
  {
   "cell_type": "markdown",
   "id": "addc52c5-34ae-424e-949f-22a96367f5f3",
   "metadata": {},
   "source": [
    "## Solution"
   ]
  },
  {
   "cell_type": "code",
   "execution_count": null,
   "id": "2996eff9-3257-44c3-8e27-f4149658a51c",
   "metadata": {},
   "outputs": [],
   "source": [
    "name = input('Enter your name:')\n",
    "if (name == 'Bond') or (name =='bond'):\n",
    "    print('Welcome on board 007')\n",
    "else:\n",
    "    print(f'Good morning {name}')"
   ]
  },
  {
   "cell_type": "markdown",
   "id": "0677e28a-0f18-4027-9d5c-e1e66e09370f",
   "metadata": {},
   "source": [
    "---"
   ]
  },
  {
   "cell_type": "markdown",
   "id": "4c20e05a-7e7d-4305-a74c-79ced98eb8da",
   "metadata": {},
   "source": [
    "## Problem 4"
   ]
  },
  {
   "cell_type": "markdown",
   "id": "80ecd589-814c-4b56-b735-8cdc8d3a46f9",
   "metadata": {},
   "source": [
    "Write a program which accepts a string as input and prints \"Yes\" if the string is \"yes\" or \"YES\" or \"Yes\", otherwise print \"No\". "
   ]
  },
  {
   "cell_type": "markdown",
   "id": "09a324fb-d86f-4a79-963d-1602c1edff40",
   "metadata": {
    "tags": []
   },
   "source": [
    "## Solution"
   ]
  },
  {
   "cell_type": "code",
   "execution_count": null,
   "id": "6e388149-bc12-4009-b997-56111f611428",
   "metadata": {},
   "outputs": [],
   "source": [
    "text = input('Enter your name:')\n",
    "options = ('Yes', 'YES', 'yes')\n",
    "\n",
    "if text in options:\n",
    "    print('Yes')\n",
    "else:\n",
    "    print('No')"
   ]
  },
  {
   "cell_type": "markdown",
   "id": "2377c937-20bd-42eb-9ccc-8b1e4a01d7cb",
   "metadata": {},
   "source": [
    "---"
   ]
  },
  {
   "cell_type": "markdown",
   "id": "363398e9-93b1-44db-b001-bc4bfe12aa1a",
   "metadata": {},
   "source": [
    "## Problem 5"
   ]
  },
  {
   "cell_type": "markdown",
   "id": "e7fede9e-e273-4f30-a027-a30a710d6d14",
   "metadata": {},
   "source": [
    "Ask the user to enter a number. Tell the user whether the number is positive, negative, or zero."
   ]
  },
  {
   "cell_type": "markdown",
   "id": "dd3e3fa7-f576-41f3-97b9-496b34dc7f25",
   "metadata": {
    "tags": []
   },
   "source": [
    "## Solution"
   ]
  },
  {
   "cell_type": "code",
   "execution_count": null,
   "id": "2dc48891-f988-4bd3-8004-391ee707b637",
   "metadata": {},
   "outputs": [],
   "source": [
    "user_number = float(input(\"Please enter a number: \"))\n",
    "\n",
    "if user_number > 0:\n",
    "    print(f\"{user_number} is positive!\")\n",
    "elif user_number < 0:\n",
    "    print(f\"{user_number} is negative!\")\n",
    "else:\n",
    "    print(f\"You entered 0!\")"
   ]
  },
  {
   "cell_type": "markdown",
   "id": "e5c552c4-fb0a-457d-bcd7-c6a3aa1e0e5a",
   "metadata": {},
   "source": [
    "---"
   ]
  },
  {
   "cell_type": "markdown",
   "id": "19a7df1d-1e0b-478e-9eaa-9425c8d769a1",
   "metadata": {},
   "source": [
    "## Problem 6"
   ]
  },
  {
   "cell_type": "markdown",
   "id": "54333808-9fbd-45ec-abed-715556414a20",
   "metadata": {},
   "source": [
    "Ask the user to enter the hours he worked last week. Show him a message whether he worked over than 50 hours."
   ]
  },
  {
   "cell_type": "markdown",
   "id": "8ed8c1ed-4a0b-44c6-9b33-22417bba402d",
   "metadata": {
    "tags": []
   },
   "source": [
    "## Solution"
   ]
  },
  {
   "cell_type": "code",
   "execution_count": null,
   "id": "c2ecb548-9d8a-4335-b1ee-eb8a73723319",
   "metadata": {},
   "outputs": [],
   "source": [
    "hours = float(input(\"Enter the hours:\"))\n",
    "\n",
    "if hours > 50:\n",
    "    print('You worked more than 50 hours!')\n",
    "else:\n",
    "    print('You worked less than 50 hours!')    "
   ]
  },
  {
   "cell_type": "markdown",
   "id": "67c1353e-eca5-4850-b05e-7232432734e8",
   "metadata": {},
   "source": [
    "---"
   ]
  },
  {
   "cell_type": "markdown",
   "id": "81aff0e0-e2c8-4fe1-bec9-1e2fc4ee82ff",
   "metadata": {
    "tags": []
   },
   "source": [
    "## Problem 7"
   ]
  },
  {
   "cell_type": "markdown",
   "id": "000c3b9a-ed4a-4c09-9ced-13fea10cdb86",
   "metadata": {},
   "source": [
    "Create a Python program that receive a number from the user and determines if a given integer is even or odd.\n",
    "\n",
    "Example:  \n",
    "Enter the number: 147  \n",
    "Your number is (odd)  "
   ]
  },
  {
   "cell_type": "markdown",
   "id": "d982ee3c-c0d7-4262-92a3-10de9795d4f1",
   "metadata": {},
   "source": [
    "Source link:  \n",
    "https://github.com/pytopia/PyExercises/tree/main"
   ]
  },
  {
   "cell_type": "markdown",
   "id": "f5b14a60-f5eb-4350-8c16-cabc095c47c3",
   "metadata": {
    "tags": []
   },
   "source": [
    "## Solution"
   ]
  },
  {
   "cell_type": "code",
   "execution_count": null,
   "id": "2ca4d293-1498-4490-bc6a-33db983f8ba2",
   "metadata": {},
   "outputs": [],
   "source": [
    "number = int(input(\"Enter the number:\"))\n",
    "\n",
    "if number % 2:\n",
    "    print('Your number is (odd)')\n",
    "else:\n",
    "    print('Your number is (even)')    "
   ]
  },
  {
   "cell_type": "markdown",
   "id": "d9d226f1-2b21-4e77-a61a-2d7bd6de8ac0",
   "metadata": {},
   "source": [
    "---"
   ]
  },
  {
   "cell_type": "markdown",
   "id": "8b6095f4-ebff-46dc-80fd-8f4dd7476e6f",
   "metadata": {
    "tags": []
   },
   "source": [
    "## Problem 8"
   ]
  },
  {
   "cell_type": "markdown",
   "id": "1a93c883-950c-4ed5-b00a-d5398033d5ea",
   "metadata": {},
   "source": [
    "Write a Python program that receive three numbers from the user to calculate the root of a Quadratic Equation.\n",
    "$$ax^2+bx+c$$\n",
    "\n",
    "As you know, the roots of the quadratic equation can be obtained using the following formula: \n",
    "$$x= \\frac{-b \\pm \\sqrt{ \\Delta } }{2a} $$\n",
    "\n",
    "* If the delta is a number greater than zero ($\\Delta  > 0$), our quadratic equation has two roots as follows: \n",
    "$$x_{1}= \\frac{-b+ \\sqrt{ \\Delta } }{2a} $$\n",
    "$$x_{2}= \\frac{-b- \\sqrt{ \\Delta } }{2a} $$\n",
    "* If the delta is zero, then there is exactly one real root:\n",
    "$$x= \\frac{-b}{2a} $$\n",
    "* If the delta is negative, then there are no real roots\n",
    "\n",
    "\n",
    "We also know that Delta equals: \n",
    "$$ \\Delta =  b^{2} - 4ac$$"
   ]
  },
  {
   "cell_type": "markdown",
   "id": "e73e32cc-1b4c-4a62-bc19-9a4c7cc65c04",
   "metadata": {},
   "source": [
    "Example:\n",
    "\n",
    "Quadratic Equation: ax^2 + bx + c  \n",
    "Enter a = 1  \n",
    "Enter b = 3  \n",
    "Enter c = -70  \n",
    "DELTA is greater than zero  \n",
    "x1 = 7.0  \n",
    "x2 = -10.0  "
   ]
  },
  {
   "cell_type": "markdown",
   "id": "9273328a-f0b5-4761-8875-f7683e2a64a9",
   "metadata": {},
   "source": [
    "Source link:  \n",
    "https://github.com/pytopia/PyExercises/tree/main"
   ]
  },
  {
   "cell_type": "markdown",
   "id": "c500f1e2-baef-4b38-89ac-479ce5bdfa23",
   "metadata": {
    "tags": []
   },
   "source": [
    "## Solution"
   ]
  },
  {
   "cell_type": "code",
   "execution_count": null,
   "id": "381eadff-6cec-4f6f-93c6-8e23b7d309bb",
   "metadata": {},
   "outputs": [],
   "source": [
    "print('Quadratic Equation: ax^2 + bx + c')\n",
    "a = float(input('Enter a ='))   \n",
    "b = float(input('Enter b ='))\n",
    "c = float(input('Enter c ='))\n",
    "d = b**2 - 4*a*c\n",
    "print(d)\n",
    "\n",
    "if d > 0:\n",
    "    x1 = (-b + d**0.5) / (2*a)\n",
    "    x2 = (-b - d**0.5) / (2*a)\n",
    "    print('DELTA is greater than zero')\n",
    "    print('x1 =', x1)\n",
    "    print('x2 =', x2)\n",
    "elif d < 0:\n",
    "    print('DELTA is less than zero')\n",
    "    print('There are no real roots!')\n",
    "else:\n",
    "    print('DELTA is equal to zero')\n",
    "    x = -b / (2*a)\n",
    "    print('x =', x)"
   ]
  },
  {
   "cell_type": "markdown",
   "id": "dbee00b7-ccee-4ed3-8eed-daed1f207d52",
   "metadata": {},
   "source": [
    "---"
   ]
  },
  {
   "cell_type": "markdown",
   "id": "f72d877f-083d-491d-9679-8e4a5993a651",
   "metadata": {
    "tags": []
   },
   "source": [
    "## Problem 9"
   ]
  },
  {
   "cell_type": "markdown",
   "id": "3074ff7a-121e-4007-a5ab-165c2346ea70",
   "metadata": {},
   "source": [
    "Create an application that initially displays a list of geometric shapes to the user. By entering a number, the user can pick one of those shapes. Then, based on the geometric shape selected, obtain the shape parameters from the user. Finally, as the output, display the shape's area.\n",
    "\n",
    "Example:\n",
    "\n",
    "<img src=\"images/if-area.png\" width=700>"
   ]
  },
  {
   "cell_type": "markdown",
   "id": "7e98f954-bb8b-49e3-a6d9-4d7f3838bfc7",
   "metadata": {},
   "source": [
    "Source link:  \n",
    "https://github.com/pytopia/PyExercises/tree/main"
   ]
  },
  {
   "cell_type": "markdown",
   "id": "ab4e6156-7924-4189-8bc0-6013260989a7",
   "metadata": {
    "tags": []
   },
   "source": [
    "## Solution"
   ]
  },
  {
   "cell_type": "code",
   "execution_count": null,
   "id": "098015ff-5a58-4b71-a6b6-aaeae848739a",
   "metadata": {},
   "outputs": [],
   "source": [
    "print('Which shape do you want to select?')\n",
    "print('1. square \\n2. rectangle \\n3. circle')\n",
    "num =int(input('Just enter the number:'))\n",
    "\n",
    "if num == 1:\n",
    "    print('You select square.')\n",
    "    a = int(input('\\tEnter side of the square ='))\n",
    "    print('\\tArea =', a**2)\n",
    "    \n",
    "elif num == 2:\n",
    "    print('You select rectangle.')\n",
    "    width = int(input('\\tEnter width ='))\n",
    "    length = int(input('\\tEnter length ='))\n",
    "    print('\\tArea =', length*width)\n",
    "    \n",
    "elif num == 3:\n",
    "    print('You select circle.')\n",
    "    r = int(input('\\tEnter radius ='))\n",
    "    print('\\tArea =', 3.14*r**2)\n",
    "    \n",
    "else:\n",
    "    print('You entered WRONG number. Try again.')"
   ]
  },
  {
   "cell_type": "markdown",
   "id": "1a5be9ec-c226-4d31-849b-99554cba9029",
   "metadata": {},
   "source": [
    "---"
   ]
  }
 ],
 "metadata": {
  "kernelspec": {
   "display_name": "Python 3 (ipykernel)",
   "language": "python",
   "name": "python3"
  },
  "language_info": {
   "codemirror_mode": {
    "name": "ipython",
    "version": 3
   },
   "file_extension": ".py",
   "mimetype": "text/x-python",
   "name": "python",
   "nbconvert_exporter": "python",
   "pygments_lexer": "ipython3",
   "version": "3.9.7"
  }
 },
 "nbformat": 4,
 "nbformat_minor": 5
}
