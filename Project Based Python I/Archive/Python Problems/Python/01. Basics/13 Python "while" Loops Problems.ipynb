{
 "cells": [
  {
   "cell_type": "markdown",
   "id": "3c7cf762-d74a-4a5a-b47d-fded3fe17e38",
   "metadata": {},
   "source": [
    "<img src=\"../../images/banners/python-basics.png\" width=\"600\"/>"
   ]
  },
  {
   "cell_type": "markdown",
   "id": "4976f1a4-a0b5-47ec-a5db-684a3aa2b4bd",
   "metadata": {},
   "source": [
    "# <img src=\"../../images/logos/python.png\" width=\"23\"/> Python \"while\" Loops Problems "
   ]
  },
  {
   "cell_type": "markdown",
   "id": "096fa261-9c8b-4b3f-bb81-764c617bf929",
   "metadata": {},
   "source": [
    "## Problem 1"
   ]
  },
  {
   "cell_type": "markdown",
   "id": "d30acd3d-ad98-4880-aa0b-6fb8716821ab",
   "metadata": {},
   "source": [
    "Write a Python function to reverse a list at a specific location.\n",
    "\n",
    "User specifies the **start-index** and **end-index**"
   ]
  },
  {
   "cell_type": "markdown",
   "id": "0b7bcb4e-e78c-4810-8259-0d01ed90aa3d",
   "metadata": {},
   "source": [
    "Example:\n",
    "\n",
    "start_pos = 2 <br>\n",
    "end_pos = 4 <br>\n",
    "input: [10, 20, 30, 40, 50, 60, 70, 80] <br>\n",
    "output: [10, 20, 50, 40, 30, 60, 70, 80]"
   ]
  },
  {
   "cell_type": "markdown",
   "id": "39bc274f-462c-4a28-9908-b7d8ab6ac341",
   "metadata": {},
   "source": [
    "## Solution:"
   ]
  },
  {
   "cell_type": "code",
   "execution_count": null,
   "id": "89f3b0b8-96e7-43f4-b4f2-760eb2944216",
   "metadata": {},
   "outputs": [],
   "source": [
    "def reverse_list_in_location(lst, start_pos, end_pos):\n",
    "    while start_pos < end_pos:\n",
    "        lst[start_pos], lst[end_pos] = lst[end_pos], lst[start_pos]\n",
    "        start_pos += 1\n",
    "        end_pos -= 1\n",
    "    return lst\n",
    "\n",
    "#-----------------------------------------------------\n",
    "nums = [10,20,30,40,50,60,70,80]\n",
    "start_pos = 2\n",
    "end_pos = 4\n",
    "print(\"Original list:\")\n",
    "print(nums)\n",
    "print(f\"Reverse elements between index position {start_pos} and {end_pos}\")\n",
    "print(reverse_list_in_location(nums,start_pos,end_pos))"
   ]
  },
  {
   "cell_type": "markdown",
   "id": "1c41a87b-89ba-497d-8ca7-b1bfca271303",
   "metadata": {},
   "source": [
    "***"
   ]
  },
  {
   "cell_type": "markdown",
   "id": "918df96d-bd68-4f6d-adb0-0e548d41fa3c",
   "metadata": {
    "tags": []
   },
   "source": [
    "## Problem 2"
   ]
  },
  {
   "cell_type": "markdown",
   "id": "0f461c07-15a2-49af-a557-f60d0056a194",
   "metadata": {},
   "source": [
    "Write a Python program to convert temperature from Celsius to Fahrenheit and vice versa.\n",
    "\n",
    "Input the temperature must have unit F or C (e.g. 45F or 102C)\n",
    "\n",
    "Your program should continue until the user enters q.\n",
    "\n",
    "Expected Output :\n",
    "```python\n",
    "60°C is 140 in Fahrenheit\n",
    "\n",
    "45°F is 7 in Celsius\n",
    "```"
   ]
  },
  {
   "cell_type": "markdown",
   "id": "f1d9f768-f8c0-4411-bc66-145116359439",
   "metadata": {},
   "source": [
    "## Solution:"
   ]
  },
  {
   "cell_type": "code",
   "execution_count": null,
   "id": "8aeac13f-cec5-4cde-b3c0-042dc0e19cd2",
   "metadata": {},
   "outputs": [],
   "source": [
    "while True:\n",
    "    \n",
    "    temp = input(\"Input the  temperature you like to convert? (e.g. 45F, 102C): \")\n",
    "    convention = temp[-1]\n",
    "    \n",
    "    try:\n",
    "        degree = int(temp[:-1])\n",
    "    except ValueError:\n",
    "        print(\"Invalid input. try again...\")\n",
    "        continue\n",
    "    \n",
    "    \n",
    "    if convention.upper() == \"C\":\n",
    "        result = int(round((9 * degree) / 5 + 32))\n",
    "        print(f\"The temperature {temp} is equal to {result} Farenhiet\")\n",
    "\n",
    "    elif convention.upper() == \"F\":\n",
    "        result = int(round((degree - 32) * 5 / 9))\n",
    "        print(f\"The temperature {temp} is equal to {result} Celsius\")\n",
    "    else:\n",
    "        print(\"Invalid input. try again...\")\n",
    "        continue\n",
    "    \n",
    "    ans = input('Continue? Enter (y/n): ')\n",
    "    if ans[0].lower() == 'n':\n",
    "        print('Bye!')\n",
    "        break\n",
    "     "
   ]
  },
  {
   "cell_type": "markdown",
   "id": "f7935b75-7fc3-4f1d-a578-b92c5786db9b",
   "metadata": {
    "tags": []
   },
   "source": [
    "***"
   ]
  },
  {
   "cell_type": "markdown",
   "id": "03138f45-b8ee-4ea7-bff6-a86581dd03b1",
   "metadata": {},
   "source": [
    "## Problem 3"
   ]
  },
  {
   "cell_type": "markdown",
   "id": "b91da3ac-6578-4142-927a-903281c66616",
   "metadata": {},
   "source": [
    "Write a program to check if a number is the power of 2 or not. Use `<<` operator in your program. It is *bitwise left shift operator* that operates as follows:"
   ]
  },
  {
   "cell_type": "markdown",
   "id": "25e2ed23-17f6-4e09-8c0f-576942aec5af",
   "metadata": {},
   "source": [
    "$$\n",
    "a << n  =  a \\times 2^n\n",
    "$$"
   ]
  },
  {
   "cell_type": "markdown",
   "id": "7cd913e1-aac0-489b-9c67-b55ac4b9b7d7",
   "metadata": {},
   "source": [
    "Example:  \n",
    "Enter an integer: 256  \n",
    "Number 256 is equal to 2^8"
   ]
  },
  {
   "cell_type": "markdown",
   "id": "f0ff857a-cf44-42a8-89ce-710ebda2ec87",
   "metadata": {},
   "source": [
    "Source link:  \n",
    "https://www.youtube.com/watch?v=QCV2mRuC8zc&list=PLzgPDYo_3xulOYHoVsg7uASoF-OE3GE-S&index=92"
   ]
  },
  {
   "cell_type": "markdown",
   "id": "bff80edb-51dd-4a19-a5bf-d0e885769c68",
   "metadata": {},
   "source": [
    "## Solution"
   ]
  },
  {
   "cell_type": "code",
   "execution_count": null,
   "id": "a092ca20-9ab7-4c52-a685-7d354e7161cb",
   "metadata": {},
   "outputs": [],
   "source": [
    "num = int(input('Enter an integer:'))\n",
    "i = 0\n",
    "pow2 = 0\n",
    "while pow2 < num:\n",
    "    pow2 = 1 << i\n",
    "    if pow2 == num:\n",
    "        print(f'Number {num} is equal to 2^{i}')\n",
    "        break\n",
    "    i +=1\n",
    "else:\n",
    "    print('Entered number is not the power of 2!')"
   ]
  },
  {
   "cell_type": "markdown",
   "id": "ef61be14-cb34-4738-af3e-36e3b254c521",
   "metadata": {},
   "source": [
    "---"
   ]
  },
  {
   "cell_type": "markdown",
   "id": "106da9c8-a910-4953-a983-28eab3a8794b",
   "metadata": {},
   "source": [
    "## Problem 4"
   ]
  },
  {
   "cell_type": "markdown",
   "id": "ab1a1b46-76ac-4bc9-b3a7-da92ebc0deeb",
   "metadata": {},
   "source": [
    "Write a program to take an item from the user and add it to a list object. Continue this untill the user enters **yes** as the answer to the question: 'Do you want to stop?'"
   ]
  },
  {
   "cell_type": "markdown",
   "id": "fbbc0e83-0932-4735-81f8-e3d28f5db67b",
   "metadata": {},
   "source": [
    "Source link:  \n",
    "https://www.youtube.com/watch?v=INDmGRIiyZg&list=PLzgPDYo_3xulOYHoVsg7uASoF-OE3GE-S&index=79"
   ]
  },
  {
   "cell_type": "markdown",
   "id": "3ae365f6-ca9f-4af5-ba3f-42f333731ef3",
   "metadata": {},
   "source": [
    "## Solution"
   ]
  },
  {
   "cell_type": "code",
   "execution_count": null,
   "id": "1e04a2a4-5517-47a3-b07d-cdd691f2e767",
   "metadata": {},
   "outputs": [],
   "source": [
    "new_list = []\n",
    "while True:\n",
    "    \n",
    "    item = input('Enter the item: ')\n",
    "    new_list.append(item)\n",
    "    choice = input('Do you want to stop? (yes/no)')\n",
    "    if choice == 'yes':\n",
    "        break\n",
    "        \n",
    "print('\\nYour list is:', new_list)"
   ]
  },
  {
   "cell_type": "markdown",
   "id": "a9929305-0a83-43e5-9e4b-a7f31cd2f042",
   "metadata": {},
   "source": [
    "---"
   ]
  },
  {
   "cell_type": "markdown",
   "id": "1a5835cf-599c-4af5-b8e5-78d85e95e571",
   "metadata": {},
   "source": [
    "## Problem 5"
   ]
  },
  {
   "cell_type": "markdown",
   "id": "03d881bb-8840-4c36-bd58-942b6a15ec88",
   "metadata": {},
   "source": [
    "Write a while loop that adds all the integer numbers up from 1 to 100 (inclusive).  \n",
    "\n",
    "Output:  \n",
    "Sum of the numbers from 1 to 100 is equal to 5050"
   ]
  },
  {
   "cell_type": "markdown",
   "id": "5e7cf29a-05a0-4aca-b5d3-3198621cee0c",
   "metadata": {},
   "source": [
    "## Solution"
   ]
  },
  {
   "cell_type": "code",
   "execution_count": null,
   "id": "47bb6e2b-9771-4b36-be76-fc28a07bd75f",
   "metadata": {},
   "outputs": [],
   "source": [
    "add = 0\n",
    "number = 1\n",
    "while number <= 100:\n",
    "    add += number\n",
    "    number += 1\n",
    "    \n",
    "print('Sum of the numbers from 1 to 100 is equal to', add)\n",
    "    "
   ]
  },
  {
   "cell_type": "markdown",
   "id": "a8710bad-164a-42f4-9cf6-a533f261bc2c",
   "metadata": {},
   "source": [
    "---"
   ]
  },
  {
   "cell_type": "markdown",
   "id": "bafdcbfc-29ae-4d25-a0f1-3ad82faba016",
   "metadata": {},
   "source": [
    "## Problem 6"
   ]
  },
  {
   "cell_type": "markdown",
   "id": "37d94ec8-482d-4dbd-b37f-62297ed2da45",
   "metadata": {},
   "source": [
    "Using a while loop to iterate through the given list and if there is a 100, print a notification message with the index of number 100.\n",
    "```python\n",
    "given_list = [10, 99, 98, 85, 45, 100, 65, 66, 76, 12, 35, 13, 100, 80, 95]\n",
    "```\n",
    "Output:  \n",
    "There is a 100 at index no: 5  \n",
    "There is a 100 at index no: 12"
   ]
  },
  {
   "cell_type": "markdown",
   "id": "ea217bac-9d19-42a0-a30b-49378ba16837",
   "metadata": {},
   "source": [
    "## Solution"
   ]
  },
  {
   "cell_type": "code",
   "execution_count": null,
   "id": "f9cc5846-eee4-445f-8514-5bec25008fbb",
   "metadata": {},
   "outputs": [],
   "source": [
    "given_list = [10, 99, 98, 85, 45, 100, 65, 66, 76, 12, 35, 13, 100, 80, 95]\n",
    "index = 0\n",
    "n = len(given_list)\n",
    "while index < n:\n",
    "    if given_list[index] == 100:\n",
    "        print('There is a 100 at index no:', index)\n",
    "    index += 1"
   ]
  },
  {
   "cell_type": "markdown",
   "id": "bfc0557c-b50a-4bf9-95a0-1e77ccece4cd",
   "metadata": {},
   "source": [
    "---"
   ]
  },
  {
   "cell_type": "markdown",
   "id": "9dfca78d-61d6-4a52-91b1-96a54ecfc3d7",
   "metadata": {},
   "source": [
    "## Problem 7"
   ]
  },
  {
   "cell_type": "markdown",
   "id": "2e9874ab-7c7d-4880-9419-13942dcb26f1",
   "metadata": {},
   "source": [
    "Using a while loop to append all the elements in a **lst1** to a new list unless the element is an empty string.\n",
    "```python\n",
    "lst1=[\"Joe\", \"Sarah\", \"Mike\", \"Jess\", \"\", \"Matt\", \"\", \"Greg\"]\n",
    "```\n",
    "Output:  \n",
    "```python\n",
    "[\"Joe\", \"Sarah\", \"Mike\", \"Jess\", \"Matt\", \"Greg\"]\n",
    "```"
   ]
  },
  {
   "cell_type": "markdown",
   "id": "8dec33e2-0839-4ecd-bf1b-4dc15a7091e4",
   "metadata": {},
   "source": [
    "## Solution"
   ]
  },
  {
   "cell_type": "code",
   "execution_count": null,
   "id": "05f2e435-bc9f-4751-8fa2-416aaebf97d5",
   "metadata": {},
   "outputs": [],
   "source": [
    "lst1=[\"Joe\", \"Sarah\", \"Mike\", \"Jess\", \"\", \"Matt\", \"\", \"Greg\"]\n",
    "new_list = []\n",
    "i = 0\n",
    "while i < len(lst1):\n",
    "    if lst1[i] != '':\n",
    "        new_list.append(lst1[i])\n",
    "    i +=1\n",
    "print(new_list)"
   ]
  },
  {
   "cell_type": "markdown",
   "id": "f3eb9564-fc0e-4b79-9fc0-6c27f546f05b",
   "metadata": {},
   "source": [
    "---"
   ]
  },
  {
   "cell_type": "markdown",
   "id": "273708b1-7b5e-42f9-a778-6bb2e7984078",
   "metadata": {},
   "source": [
    "## Problem 8"
   ]
  },
  {
   "cell_type": "markdown",
   "id": "05cca3fc-6a90-4469-a659-36fba5c5f070",
   "metadata": {},
   "source": [
    "Write a program that accepts sequence of lines as input and prints the lines after making all characters in the sentence capitalized.  \n",
    "Take lines one by one, if user enters empty string, stop."
   ]
  },
  {
   "cell_type": "markdown",
   "id": "18bfe0a7-5f23-435a-8592-d37238f9552e",
   "metadata": {},
   "source": [
    "Example\n",
    "\n",
    "Input:  \n",
    "Hello world  \n",
    "Practice makes perfect\n",
    "\n",
    "Output:   \n",
    "HELLO WORLD  \n",
    "PRACTICE MAKES PERFECT  "
   ]
  },
  {
   "cell_type": "markdown",
   "id": "bed106f8-2368-4e10-81fd-1759ff6c29de",
   "metadata": {},
   "source": [
    "Source link:  \n",
    "https://gist.github.com/KirosG/f265f136bd97bd669632fa0f2f2721b4"
   ]
  },
  {
   "cell_type": "markdown",
   "id": "fa184d0d-ac6b-4ed1-accb-19abdf79281a",
   "metadata": {},
   "source": [
    "## Solution"
   ]
  },
  {
   "cell_type": "code",
   "execution_count": null,
   "id": "b6ee70ad-3248-437c-a2f2-37e0d4d51c44",
   "metadata": {},
   "outputs": [],
   "source": [
    "lines = []\n",
    "while True:\n",
    "    s = input('Enter something:')\n",
    "    if s:\n",
    "        lines.append(s.upper())\n",
    "    else:\n",
    "        break\n",
    "\n",
    "for sentence in lines:\n",
    "    print(sentence)"
   ]
  },
  {
   "cell_type": "markdown",
   "id": "d39c162b-2434-4360-9121-9deb336fb0f7",
   "metadata": {},
   "source": [
    "---"
   ]
  },
  {
   "cell_type": "markdown",
   "id": "c80cb67a-e3c9-462a-9b3a-db51bafecf65",
   "metadata": {
    "tags": []
   },
   "source": [
    "## Problem 9"
   ]
  },
  {
   "cell_type": "markdown",
   "id": "c5e0000b-b7f8-4fb9-aa61-d87d51c72b83",
   "metadata": {},
   "source": [
    "Write a program that computes the net amount of a bank account based a transaction log that user enters. The transaction log format is shown as following:  \n",
    "D 100  \n",
    "W 200  \n",
    "(D means deposit, W means withdrawal)  \n",
    "Consider a statement for compute the amount."
   ]
  },
  {
   "cell_type": "markdown",
   "id": "0a57dc50-cbef-4f83-b998-6d828df740d4",
   "metadata": {},
   "source": [
    "Example\n",
    "\n",
    "Input:  \n",
    "D 300  \n",
    "D 300  \n",
    "W 200   \n",
    "D 100  \n",
    "\n",
    "Output:   \n",
    "500 "
   ]
  },
  {
   "cell_type": "markdown",
   "id": "0de6e9f9-f1a3-4786-8675-ef5896e8dccc",
   "metadata": {},
   "source": [
    "Source link:  \n",
    "https://gist.github.com/KirosG/f265f136bd97bd669632fa0f2f2721b4"
   ]
  },
  {
   "cell_type": "markdown",
   "id": "1b4a3558-ed37-4dd4-9db6-2e86fd5599a8",
   "metadata": {},
   "source": [
    "## Solution"
   ]
  },
  {
   "cell_type": "code",
   "execution_count": null,
   "id": "7dc41e42-664d-422d-9045-59105de49298",
   "metadata": {},
   "outputs": [],
   "source": [
    "net_amount = 0\n",
    "print('Enter q to qiut')\n",
    "while True:\n",
    "    s = input('Enter transaction:')\n",
    "    \n",
    "    if s == 'q':\n",
    "        break\n",
    "        \n",
    "    values = s.split(\" \")\n",
    "    operation = values[0]\n",
    "    amount = int(values[1])\n",
    "    if operation == \"D\":\n",
    "        net_amount += amount\n",
    "    elif operation == \"W\":\n",
    "        net_amount -= amount\n",
    "    \n",
    "    print('Net Amount =', net_amount)"
   ]
  },
  {
   "cell_type": "markdown",
   "id": "63fa7d88-fa99-4a27-b4ba-fe635f2b1545",
   "metadata": {},
   "source": [
    "---"
   ]
  },
  {
   "cell_type": "markdown",
   "id": "9c33e71b-e9c4-4451-b00f-9e974b44a4c6",
   "metadata": {
    "tags": []
   },
   "source": [
    "## Problem 10"
   ]
  },
  {
   "cell_type": "markdown",
   "id": "eed721bf-3abe-44c5-a516-f6e5f1b42f5d",
   "metadata": {},
   "source": [
    "A robot moves in a plane starting from the original point (0,0). The robot can move toward UP, DOWN, LEFT and RIGHT with a given steps. The trace of robot movement is shown as the following:  \n",
    "U 5  \n",
    "D 3  \n",
    "L 3  \n",
    "R 2"
   ]
  },
  {
   "cell_type": "markdown",
   "id": "21cc44a8-90be-4006-89c0-73d025033452",
   "metadata": {},
   "source": [
    "The numbers after the direction are steps. Write a program to compute the position of robot."
   ]
  },
  {
   "cell_type": "markdown",
   "id": "eeb34b86-9f8d-4283-b0e0-d05637757e29",
   "metadata": {},
   "source": [
    "Example\n",
    "\n",
    "Input:  \n",
    "U 5  \n",
    "D 3  \n",
    "L 3  \n",
    "R 2  \n",
    "\n",
    "Output:   \n",
    "current position: [2, -1]"
   ]
  },
  {
   "cell_type": "markdown",
   "id": "2dd030d4-5bf9-4499-b014-6bba529b9bed",
   "metadata": {},
   "source": [
    "Source link:  \n",
    "https://gist.github.com/KirosG/f265f136bd97bd669632fa0f2f2721b4"
   ]
  },
  {
   "cell_type": "markdown",
   "id": "c9e6a935-8006-49e9-9b11-92266197f885",
   "metadata": {},
   "source": [
    "## Solution"
   ]
  },
  {
   "cell_type": "code",
   "execution_count": null,
   "id": "a1e3be9b-acaf-4a84-b35c-f402ba352640",
   "metadata": {},
   "outputs": [],
   "source": [
    "pos = [0,0]\n",
    "while True:\n",
    "    s = input('Enter the movement:')\n",
    "    if not s:\n",
    "        break\n",
    "    movement = s.split(\" \")\n",
    "    direction = movement[0]\n",
    "    steps = int(movement[1])\n",
    "    \n",
    "    if direction == \"U\":\n",
    "        pos[0] += steps\n",
    "    elif direction == \"D\":\n",
    "        pos[0] -= steps\n",
    "    elif direction == \"L\":\n",
    "        pos[1] -= steps\n",
    "    elif direction == \"R\":\n",
    "        pos[1] += steps\n",
    "    else:\n",
    "        print('Incorrect movement')\n",
    "    \n",
    "    print('current position:', pos)"
   ]
  },
  {
   "cell_type": "markdown",
   "id": "3340bbe1-494e-4244-9c95-ed71cfcaec64",
   "metadata": {},
   "source": [
    "---"
   ]
  }
 ],
 "metadata": {
  "kernelspec": {
   "display_name": "Python 3 (ipykernel)",
   "language": "python",
   "name": "python3"
  },
  "language_info": {
   "codemirror_mode": {
    "name": "ipython",
    "version": 3
   },
   "file_extension": ".py",
   "mimetype": "text/x-python",
   "name": "python",
   "nbconvert_exporter": "python",
   "pygments_lexer": "ipython3",
   "version": "3.9.7"
  }
 },
 "nbformat": 4,
 "nbformat_minor": 5
}
