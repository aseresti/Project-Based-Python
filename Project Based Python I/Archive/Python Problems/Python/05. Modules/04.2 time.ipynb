{
 "cells": [
  {
   "cell_type": "markdown",
   "id": "828ab2ef-bd40-4c64-98e9-1f7f0169280a",
   "metadata": {},
   "source": [
    "<img src=\"../../images/banners/python-modules.png\" width=\"600\"/>"
   ]
  },
  {
   "cell_type": "markdown",
   "id": "27c05286-00fc-4271-b8cb-b000ef7541cf",
   "metadata": {},
   "source": [
    "# <img src=\"../../images/logos/python.png\" width=\"23\"/> `time`"
   ]
  },
  {
   "cell_type": "markdown",
   "id": "e644df0f-670d-4ef1-99ec-748ce4c812d2",
   "metadata": {},
   "source": [
    "## Problem 1"
   ]
  },
  {
   "cell_type": "markdown",
   "id": "44dbd7b6-a8e2-4853-8975-73daa147c76b",
   "metadata": {},
   "source": [
    "Write a Python program to create a countdown timer that asks the user for a number of seconds via user input, and it then counts down, second by second, until it displays a message."
   ]
  },
  {
   "cell_type": "markdown",
   "id": "ca9515f6-b1dd-4c5f-bb8e-b8a2bc156ef6",
   "metadata": {},
   "source": [
    "Output:   \n",
    "Enter a time in seconds:  5  \n",
    "It's over!"
   ]
  },
  {
   "cell_type": "markdown",
   "id": "818992bf-0f0c-4478-824c-abc64d880624",
   "metadata": {},
   "source": [
    "## Solution"
   ]
  },
  {
   "cell_type": "code",
   "execution_count": null,
   "id": "22cec6d7-4689-410b-a842-06eccce352c1",
   "metadata": {},
   "outputs": [],
   "source": [
    "import time\n",
    "user_time = int(input(\"Enter a time in seconds: \"))\n",
    "\n",
    "while user_time >= 0:\n",
    "    mins, secs = divmod(user_time, 60)\n",
    "    timer = '{:02d}:{:02d}'.format(mins, secs)\n",
    "    print(timer, end='\\r')\n",
    "    time.sleep(1)\n",
    "    user_time -= 1\n",
    "print('It\\'s over!')"
   ]
  },
  {
   "cell_type": "markdown",
   "id": "2edb3211-9194-4705-badf-c26401aa0d81",
   "metadata": {},
   "source": [
    "---"
   ]
  },
  {
   "cell_type": "markdown",
   "id": "405ca044-7425-46ba-bc99-8a0c628c081e",
   "metadata": {},
   "source": [
    "## Problem 2"
   ]
  },
  {
   "cell_type": "markdown",
   "id": "c4fad4f0-176f-4452-9ffb-3b69cde5c76f",
   "metadata": {},
   "source": [
    "Determine the given date is which day of the year?"
   ]
  },
  {
   "cell_type": "markdown",
   "id": "2fd171e4-fd67-492c-a25a-9166e5b5f26d",
   "metadata": {},
   "source": [
    "Given:  \n",
    "given_date = \"10 May, 2023\"\n",
    "\n",
    "Output:   \n",
    "Given date is 130 day of the year"
   ]
  },
  {
   "cell_type": "markdown",
   "id": "383d785d-bf08-462b-97b2-4e49ee5ee21c",
   "metadata": {},
   "source": [
    "## Solution"
   ]
  },
  {
   "cell_type": "code",
   "execution_count": null,
   "id": "507e729a-8a62-48ea-8b00-430df49c36af",
   "metadata": {},
   "outputs": [],
   "source": [
    "import time\n",
    "\n",
    "given_date = \"10 May, 2023\"\n",
    "result = time.strptime(given_date, \"%d %B, %Y\")\n",
    "\n",
    "print(f'Given date is {result.tm_yday} day of the year')"
   ]
  },
  {
   "cell_type": "markdown",
   "id": "3cd14288-b11b-4a72-9334-33fdfa955053",
   "metadata": {},
   "source": [
    "---"
   ]
  },
  {
   "cell_type": "markdown",
   "id": "de71a014-878c-4f5b-817b-4cc1ba898fb3",
   "metadata": {},
   "source": [
    "## Problem 3"
   ]
  },
  {
   "cell_type": "markdown",
   "id": "58410fa1-be86-4b3b-a939-e0a7249e8cc7",
   "metadata": {},
   "source": [
    "Convert the seconds passed since epoch to the following format:\n",
    "\n",
    "date: **Day_number**-**Month_name**-**Year**, time: **Hour:Minute**\n"
   ]
  },
  {
   "cell_type": "markdown",
   "id": "db81e015-ffc2-4ca1-b307-6ac4bf97ce4e",
   "metadata": {},
   "source": [
    "Given:  \n",
    "seconds = 1683314400\n",
    "\n",
    "Output:   \n",
    "date: 05-May-2023, time: 22:50"
   ]
  },
  {
   "cell_type": "markdown",
   "id": "4d8774de-55be-48fa-a735-a5117116de35",
   "metadata": {},
   "source": [
    "## Solution"
   ]
  },
  {
   "cell_type": "code",
   "execution_count": null,
   "id": "3751d7a7-137d-4ad9-8ba7-c25ba4560a48",
   "metadata": {},
   "outputs": [],
   "source": [
    "import time\n",
    "\n",
    "seconds = 1683314400\n",
    "date = time.ctime(seconds)\n",
    "named_tuple = time.strptime(date)\n",
    "time_string = time.strftime(\"date: %d-%B-%Y, time: %H:%M\", named_tuple)\n",
    "\n",
    "print(time_string)"
   ]
  },
  {
   "cell_type": "markdown",
   "id": "ff761231-8dd7-4457-abd4-98522ddd231a",
   "metadata": {},
   "source": [
    "---"
   ]
  }
 ],
 "metadata": {
  "kernelspec": {
   "display_name": "Python 3 (ipykernel)",
   "language": "python",
   "name": "python3"
  },
  "language_info": {
   "codemirror_mode": {
    "name": "ipython",
    "version": 3
   },
   "file_extension": ".py",
   "mimetype": "text/x-python",
   "name": "python",
   "nbconvert_exporter": "python",
   "pygments_lexer": "ipython3",
   "version": "3.9.7"
  }
 },
 "nbformat": 4,
 "nbformat_minor": 5
}
