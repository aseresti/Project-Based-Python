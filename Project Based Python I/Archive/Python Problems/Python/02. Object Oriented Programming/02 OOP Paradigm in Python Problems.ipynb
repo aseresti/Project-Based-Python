{
 "cells": [
  {
   "cell_type": "markdown",
   "id": "ef8d7057-af7b-41e3-b270-a19dd41e3e81",
   "metadata": {},
   "source": [
    "<img src=\"../../images/banners/python-oop.png\" width=\"600\"/>"
   ]
  },
  {
   "cell_type": "markdown",
   "id": "f8bdaab7-bd01-4922-972c-6f9a3dd7d492",
   "metadata": {},
   "source": [
    "# <img src=\"../../images/logos/python.png\" width=\"23\"/> Object Oriented Programming in Python Problems"
   ]
  },
  {
   "cell_type": "markdown",
   "id": "135c009c-ce65-49bc-a6b7-faddbc8586f2",
   "metadata": {},
   "source": [
    "## Problem 1"
   ]
  },
  {
   "cell_type": "markdown",
   "id": "a0249526-d5ef-47d9-ba24-0af56401cb36",
   "metadata": {},
   "source": [
    "Write a Python class `MaxSizeList` with:\n",
    "- attributes: **output** and **max_size**\n",
    "- methods: **push** and **show**"
   ]
  },
  {
   "cell_type": "markdown",
   "id": "15496e0e-03f7-4454-9c4e-25e6290e6ba5",
   "metadata": {},
   "source": [
    "MaxSizeList class acts a little bit like a list, with a pre-configured limit on its size. It accepts the elements one by one. If the list reaches maximum size , pop the first element."
   ]
  },
  {
   "cell_type": "markdown",
   "id": "6f7c42eb-2991-4a8c-a674-7a7a940472b9",
   "metadata": {},
   "source": [
    "Example:"
   ]
  },
  {
   "cell_type": "markdown",
   "id": "48b6528c-0ee1-4b5a-82a6-b2a74eb7f620",
   "metadata": {},
   "source": [
    "```python\n",
    ">>> a = MaxSizeList(2)\n",
    ">>> a.push('a')\n",
    ">>> a.show()\n",
    " ['a']\n",
    ">>> a.push('b')\n",
    ">>> a.show()\n",
    " ['a', 'b']\n",
    ">>> a.push('c')\n",
    ">>> a.show()\n",
    "['b', 'c']\n",
    ">>> a.push('d')\n",
    ">>> a.show()\n",
    "['c', 'd']\n",
    "```"
   ]
  },
  {
   "cell_type": "markdown",
   "id": "5f0c6109-ce87-4025-95de-4d1ab73733fb",
   "metadata": {},
   "source": [
    "## Solution:"
   ]
  },
  {
   "cell_type": "code",
   "execution_count": null,
   "id": "ad6a3c8d-d754-4aef-b454-e5ba1fd48717",
   "metadata": {},
   "outputs": [],
   "source": [
    "class MaxSizeList:\n",
    "    \n",
    "    def __init__(self, max_size=0):\n",
    "        self.output = []\n",
    "        self.max_size = max_size\n",
    "        \n",
    "    def push(self, x):\n",
    "        self.output.append(x)\n",
    "        \n",
    "        if len(self.output) > self.max_size:\n",
    "            self.output.pop(0)                \n",
    "    \n",
    "    def show(self):\n",
    "        print(self.output)\n",
    "        \n",
    "#---------------------------------------------\n",
    "a = MaxSizeList(2)\n",
    "a.push('a')\n",
    "a.show()\n",
    "a.push('b')\n",
    "a.show()\n",
    "a.push('c')\n",
    "a.show()\n",
    "a.push('d')\n",
    "a.show()"
   ]
  },
  {
   "cell_type": "markdown",
   "id": "102cceea-896c-474a-a7f3-e155ebd67460",
   "metadata": {},
   "source": [
    "***"
   ]
  },
  {
   "cell_type": "markdown",
   "id": "44927069-c581-474d-bccf-41fe8dc640fc",
   "metadata": {},
   "source": [
    "## Problem 2"
   ]
  },
  {
   "cell_type": "markdown",
   "id": "f5ab93db-4ca8-4165-ab4e-d9d90887f2a0",
   "metadata": {},
   "source": [
    "Write a Python class `Employee` with:\n",
    "- attributes: **name**, **emp_id**, **salary**, and **department**\n",
    "- methods: **assign_department**, **employee_details** and **calculate_salary**"
   ]
  },
  {
   "cell_type": "markdown",
   "id": "93d46d0b-5625-4911-9a46-31c23902d941",
   "metadata": {},
   "source": [
    "Sample Employee Data:\n",
    "```python\n",
    "\"ADAMS\", \"E7010\", 5000, \"ACCOUNTING\"\n",
    "\"JONES\", \"E7020\", 4500, \"RESEARCH\"\n",
    "\"MARTIN\", \"E7030\", 6000, \"SALES\"\n",
    "\"SMITH\", \"E7040\", 5500, \"OPERATIONS\"\n",
    "```"
   ]
  },
  {
   "cell_type": "markdown",
   "id": "07d1261b-d3b3-4266-9c19-457518b8afe7",
   "metadata": {},
   "source": [
    "**assign_department:** change the department of an employee.\n",
    "\n",
    "**employee_details:** print the details of an employee.\n",
    "\n",
    "**calculate_salary:** takes hours_worked, which is the hours the employee has worked. If the number of hoursـworked is more than 50, the method computes overtime and adds it to the salary. Overtime pay is 30% more than normal."
   ]
  },
  {
   "cell_type": "markdown",
   "id": "fef765d3-2a94-4c98-b1c3-c3749cebf297",
   "metadata": {},
   "source": [
    "Perform the following tasks:\n",
    "1. Instantiate four employees with given data\n",
    "2. Print employee details\n",
    "3. Use assign_department and calculate_salary methods\n",
    "4. Print updated employee details."
   ]
  },
  {
   "cell_type": "markdown",
   "id": "411a1049-2b64-4f20-8aee-823dcedcd3cb",
   "metadata": {},
   "source": [
    "## Solution:"
   ]
  },
  {
   "cell_type": "code",
   "execution_count": null,
   "id": "7b56becd-8f00-46de-9582-7fac9fd7a209",
   "metadata": {},
   "outputs": [],
   "source": [
    "class Employee:\n",
    "    def __init__(self, name, emp_id, salary, department):\n",
    "        self.name = name\n",
    "        self.id = emp_id\n",
    "        self.salary = salary\n",
    "        self.department = department\n",
    "\n",
    "    def calculate_salary(self, hours_worked):\n",
    "        overtime = 0\n",
    "        if hours_worked > 50:\n",
    "            overtime = hours_worked - 50\n",
    "        self.salary = self.salary + (overtime * (self.salary / 50) * 1.30)\n",
    "\n",
    "    def assign_department(self, emp_department):\n",
    "        self.department = emp_department\n",
    "\n",
    "    def employee_details(self):\n",
    "        print(\"\\n{:10s} : {}\".format('Name', self.name))\n",
    "        print(\"{:10s} : {}\".format('ID', self.id))\n",
    "        print(\"{:10s} : {}\".format('Salary', self.salary))\n",
    "        print(\"{:10s} : {}\".format('Department', self.department))\n",
    "        print(\"----------------------\")\n",
    "\n",
    "        \n",
    "#-----------------------------------------------------\n",
    "employee1 = Employee(\"ADAMS\", \"E7876\", 5000, \"ACCOUNTING\")\n",
    "employee2 = Employee(\"JONES\", \"E7499\", 4500, \"RESEARCH\")\n",
    "employee3 = Employee(\"MARTIN\", \"E7900\", 6000, \"SALES\")\n",
    "employee4 = Employee(\"SMITH\", \"E7698\", 5500, \"OPERATIONS\")\n",
    "\n",
    "print(\"Employee Details:\")\n",
    "employee1.employee_details()\n",
    "employee2.employee_details()\n",
    "employee3.employee_details()\n",
    "employee4.employee_details()\n",
    "\n",
    "# Change the departments of employee1 and employee4\n",
    "employee1.assign_department(\"OPERATIONS\")\n",
    "employee4.assign_department(\"SALES\")\n",
    "\n",
    "# Now calculate the overtime of the employees who are eligible:\n",
    "employee2.calculate_salary(80)\n",
    "employee4.calculate_salary(60)\n",
    "\n",
    "print(\"\\nUpdated Employee Details:\")\n",
    "employee1.employee_details()\n",
    "employee2.employee_details()\n",
    "employee3.employee_details()\n",
    "employee4.employee_details()"
   ]
  },
  {
   "cell_type": "markdown",
   "id": "c2da784b-c849-44d1-991e-767ec3231ef9",
   "metadata": {},
   "source": [
    "***"
   ]
  },
  {
   "cell_type": "markdown",
   "id": "b03dce4f-6b36-44be-8906-32afc4fbdc04",
   "metadata": {},
   "source": [
    "## Problem 3"
   ]
  },
  {
   "cell_type": "markdown",
   "id": "8f03ba7a-eb21-4ec9-a4e3-8d9407cbc168",
   "metadata": {},
   "source": [
    "Write a Python class `Restaurant` with:\n",
    "- attributes: **menu_items**, **book_table**, and **customer_orders**,\n",
    "- methods: **add_item_to_menu**, **book_tables**, **customer_order** and other methods for printing details"
   ]
  },
  {
   "cell_type": "markdown",
   "id": "56781d1b-db8d-478d-b723-6dd94ae51bbf",
   "metadata": {},
   "source": [
    "Each item includes the name of the item and its price. \n",
    "\n",
    "Each table has a number. \n",
    "\n",
    "To order, the customer must specify the table number and the name of order items."
   ]
  },
  {
   "cell_type": "markdown",
   "id": "cc7faa44-64be-4979-9221-7b67c1f67bfc",
   "metadata": {},
   "source": [
    "Perform the following tasks:\n",
    "    \n",
    "1. add items to the menu.\n",
    "2. Make table reservations.\n",
    "3. Take customer orders.\n",
    "4. Print the menu.\n",
    "5. Print table reservations.\n",
    "6. Print customer orders.\n",
    "\n",
    "Use dictionaries and lists to store the data."
   ]
  },
  {
   "cell_type": "markdown",
   "id": "36b2c2d1-3285-4d6a-9826-821c0a2b9ab4",
   "metadata": {},
   "source": [
    "## Solution:"
   ]
  },
  {
   "cell_type": "code",
   "execution_count": null,
   "id": "72fd9584-34ff-4e04-8468-948b1c50c878",
   "metadata": {},
   "outputs": [],
   "source": [
    "class Restaurant:\n",
    "    def __init__(self):\n",
    "        self.menu_items = {}\n",
    "        self.book_table = []\n",
    "        self.customer_orders = []\n",
    "\n",
    "    def add_item_to_menu(self, item_name, price):\n",
    "        self.menu_items[item_name] = price\n",
    "\n",
    "    def book_tables(self, table_number):\n",
    "        self.book_table.append(table_number)\n",
    "\n",
    "    def customer_order(self, table_number, *order):\n",
    "        order_details = {'table_number': table_number, 'order': [*order]}\n",
    "        self.customer_orders.append(order_details)\n",
    "\n",
    "    def print_menu_items(self):\n",
    "        for item, price in self.menu_items.items():\n",
    "            print(\"{:15s} = ${}\".format(item, price))\n",
    "\n",
    "    def print_table_reservations(self):\n",
    "        for table in self.book_table:\n",
    "            print(\"Table {}\".format(table))\n",
    "\n",
    "    def print_customer_orders(self):\n",
    "        for order in self.customer_orders:\n",
    "            print(\"Table {}: {}\".format(order['table_number'], order['order']))\n",
    "\n",
    "#-----------------------------------------------\n",
    "restaurant = Restaurant()\n",
    "\n",
    "# Add items\n",
    "restaurant.add_item_to_menu(\"Cheeseburger\", 9.99)\n",
    "restaurant.add_item_to_menu(\"Grilled Salmon\", 19.99)\n",
    "restaurant.add_item_to_menu(\"French Fries\", 3.99)\n",
    "restaurant.add_item_to_menu(\"Fish & Chips\", 15)\n",
    "\n",
    "# Book table\n",
    "restaurant.book_tables(1)\n",
    "restaurant.book_tables(2)\n",
    "restaurant.book_tables(3)\n",
    "\n",
    "# Order items\n",
    "restaurant.customer_order(1, \"Cheeseburger\", \"Grilled Salmon\")\n",
    "restaurant.customer_order(2, \"Fish & Chips\")\n",
    "\n",
    "print(\"\\nPopular dishes in the restaurant along with their prices:\")\n",
    "restaurant.print_menu_items()\n",
    "print(\"\\nTable reserved in the Restaurant:\")\n",
    "restaurant.print_table_reservations()\n",
    "print(\"\\nPrint customer orders:\")\n",
    "restaurant.print_customer_orders()\n"
   ]
  },
  {
   "cell_type": "markdown",
   "id": "2b723e08-5c05-4408-b564-c8b4e1b76c09",
   "metadata": {},
   "source": [
    "***"
   ]
  },
  {
   "cell_type": "markdown",
   "id": "493ffc39-63f3-4084-b0ed-7230d7e6321c",
   "metadata": {},
   "source": [
    "## Problem 4"
   ]
  },
  {
   "cell_type": "markdown",
   "id": "a4d5e7f8-37ca-402c-8882-cf42654bb0fe",
   "metadata": {},
   "source": [
    "Write a Python class `BankAccount` with:\n",
    "- attributes: **account_number**, **balance**, and **customer_name** \n",
    "- methods: **deposit**, **withdraw**, and **check_balance** and other methods for printing details"
   ]
  },
  {
   "cell_type": "markdown",
   "id": "aecc310d-f897-451d-8c4f-afa4c332ee0f",
   "metadata": {
    "tags": []
   },
   "source": [
    "Sample BankAccount data:\n",
    "```python\n",
    "2345000145, 1000, \"Toninho Takeo\"\n",
    "1234000741, 2000, \"Astrid Rugile\"\n",
    "```"
   ]
  },
  {
   "cell_type": "markdown",
   "id": "5951257f-84de-4bcd-bda9-6dbe0ddc7a2d",
   "metadata": {
    "tags": []
   },
   "source": [
    "Perform the following tasks:\n",
    "1. Instantiate two accounts with given data.\n",
    "2. Print accounts details.\n",
    "3. Use deposit and withdraw methods.\n",
    "4. Print updated accounts details."
   ]
  },
  {
   "cell_type": "markdown",
   "id": "95c48cd3-1d2b-4c80-adda-7df93a138f55",
   "metadata": {},
   "source": [
    "## Solution:"
   ]
  },
  {
   "cell_type": "code",
   "execution_count": null,
   "id": "9db8db01-4787-4dc5-bf01-210716a6e2db",
   "metadata": {},
   "outputs": [],
   "source": [
    "class BankAccount:\n",
    "    def __init__(self, account_number, balance, customer_name):\n",
    "        self.account_number = account_number\n",
    "        self.balance = balance\n",
    "        self.customer_name = customer_name\n",
    "        \n",
    "    def deposit(self, amount):\n",
    "        self.balance += amount\n",
    "        print(f\"${amount} has been deposited in {self.customer_name} account.\")\n",
    "        print(f\"Current balance is ${self.balance}.\\n\")\n",
    "    \n",
    "    def withdraw(self, amount):\n",
    "        if amount > self.balance:\n",
    "            print(f\"{self.customer_name} current balance is ${self.balance}.\")\n",
    "            print(f\"It is insufficient to withdraw ${amount}.\\n\")\n",
    "        else:\n",
    "            self.balance -= amount\n",
    "            print(f\"${amount} has been withdrawn from {self.customer_name} account.\")\n",
    "            print(f\"{self.customer_name} current balance is ${self.balance}.\\n\")\n",
    "            \n",
    "    def check_balance(self):\n",
    "        print(f\"{self.customer_name} current balance is ${self.balance}.\\n\")\n",
    "        \n",
    "    def print_account_details(self):\n",
    "        print(f\"{'Name':20s} :\", self.customer_name)\n",
    "        print(f\"{'Account Number':20s} :\", self.account_number)\n",
    "        print(f\"{'Balance':20s} : ${self.balance}\\n\")   \n",
    "\n",
    "#---------------------------------------------------------------\n",
    "ac_no_1 = BankAccount(2345000145, 1000, \"Toninho Takeo\")\n",
    "ac_no_2 = BankAccount(1234000741, 2000, \"Astrid Rugile\")\n",
    "\n",
    "print(\"Account Details:\")\n",
    "ac_no_1.print_account_details()\n",
    "ac_no_2.print_account_details()\n",
    "\n",
    "print(\"-\" * 50)\n",
    "ac_no_1.check_balance()\n",
    "ac_no_1.deposit(1000)\n",
    "ac_no_1.withdraw(5000)\n",
    "ac_no_1.deposit(7000)\n",
    "ac_no_1.withdraw(5000)"
   ]
  },
  {
   "cell_type": "markdown",
   "id": "fe856031-b5fb-441d-a934-441d863725ba",
   "metadata": {},
   "source": [
    "***"
   ]
  },
  {
   "cell_type": "markdown",
   "id": "f5b34ec6-0859-41b8-b94a-495c28112f00",
   "metadata": {},
   "source": [
    "## Problem 5"
   ]
  },
  {
   "cell_type": "markdown",
   "id": "5771b20c-e64a-4e00-98e2-57a848010f1d",
   "metadata": {},
   "source": [
    "Write a Python class `Inventory` with:\n",
    "- attributes: **item_id**, **item_name**, **stock**, and **price**, \n",
    "- methods: **add_item**, **update_item**, and **show_item_details**\n",
    "\n",
    "Use a dictionary to store the item details, where the key is the item_id and the value is a dictionary containing the item_name, stock, and price."
   ]
  },
  {
   "cell_type": "markdown",
   "id": "3a7d0f4c-f1a0-4e55-84df-63554fab7054",
   "metadata": {
    "tags": []
   },
   "source": [
    "Sample Inventory data:\n",
    "```python\n",
    "\"I001\", \"Laptop\", 100, 500.0\n",
    "\"I002\", \"Mobile\", 110, 120.0\n",
    "\"I003\", \"Desktop\", 120, 400.0\n",
    "\"I004\", \"Tablet\", 90, 200.0\n",
    "```"
   ]
  },
  {
   "cell_type": "markdown",
   "id": "8fbb4601-d19b-4efd-8f29-886bd3221a80",
   "metadata": {
    "tags": []
   },
   "source": [
    "Perform the following tasks:\n",
    "1. Instantiate an inventory.\n",
    "2. Use add_item method to add given data.\n",
    "2. Print inventory details.\n",
    "3. Use update_item method to update stock and/or price.\n",
    "4. Print updated inventory details."
   ]
  },
  {
   "cell_type": "markdown",
   "id": "89c1caf9-66d2-4f18-a4ce-eb89d91e0c9a",
   "metadata": {},
   "source": [
    "## Solution:"
   ]
  },
  {
   "cell_type": "code",
   "execution_count": null,
   "id": "3945c2f7-0983-468e-9e45-6a94735b1167",
   "metadata": {},
   "outputs": [],
   "source": [
    "class Inventory:\n",
    "    def __init__(self):\n",
    "        self.inventory = {}\n",
    "        \n",
    "    def add_item(self, item_id, item_name, stock, price):\n",
    "        self.inventory[item_id] = {\"item_name\": item_name, \"stock\": stock, \"price\": price}\n",
    "\n",
    "    def update_item(self, item_id, *, stock=0, price=0):\n",
    "        if item_id in self.inventory:\n",
    "            if stock:\n",
    "                self.inventory[item_id][\"stock\"] = stock\n",
    "            if price:\n",
    "                self.inventory[item_id][\"price\"] = price\n",
    "        else:\n",
    "            print(\"Item not found in inventory.\")\n",
    "\n",
    "    def show_item_details(self, item_id):\n",
    "        if item_id in self.inventory:\n",
    "            item = self.inventory[item_id]\n",
    "            return f\"Product {item_id} => Name: {item['item_name']:8s}, Stock: {item['stock']:3d} , Price: ${item['price']}\"\n",
    "        else:\n",
    "            return \"Item not found in inventory.\"\n",
    "\n",
    "#--------------------------------------------------------\n",
    "inventory = Inventory()\n",
    "\n",
    "inventory.add_item(\"I001\", \"Laptop\", 100, 500.0)\n",
    "inventory.add_item(\"I002\", \"Mobile\", 110, 120.0)\n",
    "inventory.add_item(\"I003\", \"Desktop\", 120, 400.0)\n",
    "inventory.add_item(\"I004\", \"Tablet\", 90, 200.0)\n",
    "\n",
    "print(\"Item Details:\")\n",
    "print(inventory.show_item_details(\"I001\"))\n",
    "print(inventory.show_item_details(\"I002\"))\n",
    "print(inventory.show_item_details(\"I003\"))\n",
    "print(inventory.show_item_details(\"I004\"))\n",
    "\n",
    "print(\"\\nUpdate stock in item I001:\")\n",
    "inventory.update_item(\"I001\", stock=80)\n",
    "print(inventory.show_item_details(\"I001\"))\n",
    "\n",
    "print(\"\\nUpdate price in item I002:\")\n",
    "inventory.update_item(\"I002\", price=100.0)\n",
    "print(inventory.show_item_details(\"I002\"))\n",
    "\n",
    "print(\"\\nUpdate stock & price in item I003:\")\n",
    "inventory.update_item(\"I003\", stock=300, price=410.0)\n",
    "print(inventory.show_item_details(\"I003\"))"
   ]
  },
  {
   "cell_type": "markdown",
   "id": "e30735ef-5595-4bc7-93fe-60a3aa233a76",
   "metadata": {},
   "source": [
    "***"
   ]
  },
  {
   "cell_type": "markdown",
   "id": "af83ae71-8a91-417c-9246-cff93d1558ad",
   "metadata": {},
   "source": [
    "## Problem 6"
   ]
  },
  {
   "cell_type": "markdown",
   "id": "39493be1-eebf-417e-b053-314e61da3555",
   "metadata": {},
   "source": [
    "Write a Python class `FlashCard` with:\n",
    "- attribute: **fruits**\n",
    "- method: **quiz**"
   ]
  },
  {
   "cell_type": "markdown",
   "id": "999d027e-3ebd-4fac-bd3a-78ba4601b96c",
   "metadata": {},
   "source": [
    "Perform the following tasks:\n",
    "1. Initialize the *fruits* attribute with some fruits and their colors.\n",
    "2. Randomly choose a pair from fruits using *choice* method of random module.  \n",
    "3. Store the key in variable fruit and value in variable color.  \n",
    "4. In *quiz* method, prompt the user to answer the color of the randomly chosen fruit.  \n",
    "5. If correct print *correct* else print *wrong*."
   ]
  },
  {
   "cell_type": "markdown",
   "id": "8259a33a-0e40-420c-a4a8-908a5da51f04",
   "metadata": {},
   "source": [
    "## Solution"
   ]
  },
  {
   "cell_type": "code",
   "execution_count": null,
   "id": "f2d991d0-cb97-438e-9870-9706f38b2326",
   "metadata": {},
   "outputs": [],
   "source": [
    "import random\n",
    "\n",
    "class FlashCard:\n",
    "    def __init__(self):\n",
    "    \n",
    "        self.fruits={'apple':'red',\n",
    "                    'orange':'orange',\n",
    "                    'watermelon':'green',\n",
    "                    'banana':'yellow'}\n",
    "\n",
    "    def quiz(self):\n",
    "        while (True):\n",
    "\n",
    "            fruit, color = random.choice(list(self.fruits.items()))\n",
    "\n",
    "            print(\"What is the color of {}\".format(fruit))\n",
    "            user_answer = input()\n",
    "\n",
    "            if(user_answer.lower() == color):\n",
    "                print(\"Correct answer\")\n",
    "            else:\n",
    "                print(\"Wrong answer\")\n",
    "\n",
    "            option = int(input(\"enter 0 , if you want to play again : \"))\n",
    "            if (option):\n",
    "                break\n",
    "#----------------------------------------------------------------\n",
    "print(\"welcome to fruit quiz \")\n",
    "fc = FlashCard()\n",
    "fc.quiz()"
   ]
  },
  {
   "cell_type": "markdown",
   "id": "a12004f0-7fca-4d52-89e4-2062c4c1f83b",
   "metadata": {},
   "source": [
    "---"
   ]
  },
  {
   "cell_type": "markdown",
   "id": "77461b4a-0f0e-4d68-aec0-aeffed2bcf65",
   "metadata": {},
   "source": [
    "## Problem 7"
   ]
  },
  {
   "cell_type": "markdown",
   "id": "3d1ad8ca-b03c-423d-b659-f83c8a32c891",
   "metadata": {},
   "source": [
    "How to count number of instances of a class in Python?  \n",
    "Write a Python class with a **counter** attribute to keep track of the counts of objects in the class."
   ]
  },
  {
   "cell_type": "markdown",
   "id": "fa7445e5-3bad-4a83-863b-85608ffb38a7",
   "metadata": {},
   "source": [
    "## Solution"
   ]
  },
  {
   "cell_type": "code",
   "execution_count": null,
   "id": "59993ea3-7dd5-4ef3-80ca-2f9f3c365258",
   "metadata": {},
   "outputs": [],
   "source": [
    "class geeks:\n",
    "    counter = 0\n",
    "    \n",
    "    def __init__(self):\n",
    "        \n",
    "        # increment\n",
    "        geeks.counter += 1\n",
    "#-------------------------\n",
    "g1 = geeks()\n",
    "g2 = geeks()\n",
    "g3 = geeks()\n",
    "print(geeks.counter)"
   ]
  },
  {
   "cell_type": "markdown",
   "id": "730a0556-0010-4b83-a9ef-085a380628a4",
   "metadata": {},
   "source": [
    "---"
   ]
  },
  {
   "cell_type": "markdown",
   "id": "92a74587-ae51-478f-a107-acab4f8af66e",
   "metadata": {},
   "source": [
    "## Problem 8"
   ]
  },
  {
   "cell_type": "markdown",
   "id": "fbe9b701-e316-46d2-a64f-078101cf88b5",
   "metadata": {},
   "source": [
    "Write a Python class `HeartsCards` with:\n",
    "- attributes: **suit**, **values** and **cardset**\n",
    "- methods: **shuffle_cards** and **show_cards**"
   ]
  },
  {
   "cell_type": "markdown",
   "id": "b1f0a7b7-7848-4691-b0fb-1b10d0a997cf",
   "metadata": {},
   "source": [
    "Perform the following tasks:\n",
    "1. Define *suit* attribute as Hearts\n",
    "2. Define *values* attribute as ['A', '2', '3', '4', '5', '6', '7', '8', '9', '10', 'J', 'Q', 'K']\n",
    "3. Create all possible card and store them in *cardset* attribute.\n",
    "4. Define *shuffle_cards* to shuffle the cards with shuffle method of random module.\n",
    "5. Defire *show_cards* method to show all cards."
   ]
  },
  {
   "cell_type": "markdown",
   "id": "6ce56efb-12aa-4a55-96a9-b4df3ea1fd47",
   "metadata": {},
   "source": [
    "Example:\n",
    "```python\n",
    "Before shuffle:  \n",
    "['Hearts of A', 'Hearts of 2', 'Hearts of 3', 'Hearts of 4', 'Hearts of 5', 'Hearts of 6', 'Hearts of 7', 'Hearts of 8', 'Hearts of 9', 'Hearts of 10', 'Hearts of J', 'Hearts of Q', 'Hearts of K']\n",
    "\n",
    "After shuffle:  \n",
    "['Hearts of Q', 'Hearts of J', 'Hearts of 7', 'Hearts of 10', 'Hearts of 6', 'Hearts of A', 'Hearts of 5', 'Hearts of 3', 'Hearts of K', 'Hearts of 9', 'Hearts of 2', 'Hearts of 8', 'Hearts of 4']\n",
    "```"
   ]
  },
  {
   "cell_type": "markdown",
   "id": "836cd6ab-a607-4c31-ae5c-12c34b41edde",
   "metadata": {},
   "source": [
    "## Solution"
   ]
  },
  {
   "cell_type": "code",
   "execution_count": null,
   "id": "08b9eb24-ce0e-4212-8c56-937eec6bbc34",
   "metadata": {},
   "outputs": [],
   "source": [
    "from random import shuffle\n",
    "\n",
    "class HeartsCards:\n",
    "    def __init__(self):\n",
    "        self.suit = 'Hearts'\n",
    "        self.values = ['A', '2', '3', '4', '5', '6', '7', '8', '9', '10', 'J', 'Q', 'K']\n",
    "        \n",
    "        self.cardset = []\n",
    "        for value in self.values:\n",
    "            self.cardset.append((self.suit)+\" \"+\"of\"+\" \"+value)\n",
    "            \n",
    "    def shuffle_cards(self):\n",
    "        return shuffle(self.cardset)\n",
    "    \n",
    "    def show_cards(self):\n",
    "        print(self.cardset)\n",
    "        \n",
    "#-----------------------------------------------\n",
    "deck = HeartsCards()\n",
    "print('Before shuffle:')\n",
    "deck.show_cards()\n",
    "deck.shuffle_cards()\n",
    "print('\\nAfter shuffle:')\n",
    "deck.show_cards()"
   ]
  },
  {
   "cell_type": "markdown",
   "id": "e2f9fad7-d20b-42f5-8281-5708895ee040",
   "metadata": {},
   "source": [
    "---"
   ]
  },
  {
   "cell_type": "markdown",
   "id": "99d0079d-5dae-4595-a751-fce410c65716",
   "metadata": {},
   "source": [
    "## Problem 9"
   ]
  },
  {
   "cell_type": "markdown",
   "id": "d8729580-80a9-4e79-9727-82792c0c64dd",
   "metadata": {},
   "source": [
    "Write a Python class `Matrix` with:\n",
    "- attributes: **rows**, **cols** and **matrix**\n",
    "- methods: **size**, **get_cell**, **set_cell**, **mult**  and **\\_\\_str\\__**\n",
    "\n",
    "Description:\n",
    "\n",
    "- `size`: returns the number of rows and the number of columns.\n",
    "- `get_cell`: takes the row number and column number as parameters, and returns the value of corresponding cell.\n",
    "- `set_cell`: takes the row number, column number and a value as parameters, and sets the value of corresponding cell.\n",
    "- `mult`: takes a scalar and return a new matrix which is the scalar product of the matrix and the scalar.\n",
    "- `__str__`: returns a string representation of the matrix."
   ]
  },
  {
   "cell_type": "markdown",
   "id": "98d4d91e-a3ad-4596-835f-60188e90f231",
   "metadata": {},
   "source": [
    "Example:  \n",
    "```python\n",
    "mat = Matrix(2, 3)\n",
    "print(mat)\n",
    "mat.set_cell(0, 2, 200)\n",
    "mat.get_cell(0, 2)\n",
    "print(mat)\n",
    "mat.mult(4)\n",
    "print(mat)\n",
    "```\n",
    "Output:  \n",
    "[0, 0, 0]  \n",
    "[0, 0, 0]  \n",
    "\n",
    "[0, 0, 200]  \n",
    "[0, 0, 0]  \n",
    "\n",
    "[0, 0, 800]  \n",
    "[0, 0, 0]   "
   ]
  },
  {
   "cell_type": "markdown",
   "id": "c5a9ef7b-a990-4e66-b3b2-f68e782442d8",
   "metadata": {},
   "source": [
    "## Solution"
   ]
  },
  {
   "cell_type": "code",
   "execution_count": null,
   "id": "d4ac7bca-8d02-425a-845b-e2e5d37a2f4b",
   "metadata": {},
   "outputs": [],
   "source": [
    "class Matrix:\n",
    "\n",
    "    def __init__(self, rows, cols, val=0):\n",
    "        self._rows = rows\n",
    "        self._cols = cols\n",
    "        self._matrix = []\n",
    "        for i in range(rows):\n",
    "            c = [val] * cols\n",
    "            self._matrix.append(c)\n",
    "\n",
    "    def size(self):\n",
    "        return self._rows, self._cols\n",
    "\n",
    "    def get_cell(self, row, col):\n",
    "        return self._matrix[row][col]\n",
    "\n",
    "    def set_cell(self, row, col, val):\n",
    "        self._matrix[row][col] = val\n",
    "\n",
    "    def __str__(self):\n",
    "        s = ''\n",
    "        for i in range(self._rows):\n",
    "            s += str(self._matrix[i])\n",
    "            s += '\\n'\n",
    "        return s\n",
    "\n",
    "    def mult(self, scalar):\n",
    "        for i in range(self._rows):\n",
    "            for j in range(self._cols):\n",
    "                self._matrix[i][j] *= scalar\n",
    "        return self._matrix\n",
    "    \n",
    "#----------------------------------------\n",
    "mat = Matrix(2, 3)\n",
    "print(mat)\n",
    "mat.set_cell(0, 2, 200)\n",
    "mat.get_cell(0, 2)\n",
    "print(mat)\n",
    "mat.mult(4)\n",
    "print(mat)"
   ]
  },
  {
   "cell_type": "markdown",
   "id": "4c70d885-c810-41e5-80f0-1a9a93817dcb",
   "metadata": {},
   "source": [
    "---"
   ]
  },
  {
   "cell_type": "markdown",
   "id": "9a2bfadb-8fa1-4868-9a13-322f8ba37845",
   "metadata": {},
   "source": [
    "## Problem 10"
   ]
  },
  {
   "cell_type": "markdown",
   "id": "b8349baa-a629-49ac-9a1b-2bf1ff5fd431",
   "metadata": {},
   "source": [
    "Define a class which has at least two methods:  \n",
    "- `get_string`: to get a string from the user\n",
    "- `print_string`: to print the string in **upper case**.  "
   ]
  },
  {
   "cell_type": "markdown",
   "id": "ec264f4d-847d-4117-824d-d4b02744d2e0",
   "metadata": {},
   "source": [
    "Example\n",
    "```python\n",
    ">>> str_obj = InputOutString()\n",
    ">>> str_obj.get_string()\n",
    ">>> str_obj.print_string()\n",
    "Enter the string: Python\n",
    "PYTHON\n",
    "```"
   ]
  },
  {
   "cell_type": "markdown",
   "id": "995e04bb-0b26-47a2-ae2b-f8474ceebf9e",
   "metadata": {},
   "source": [
    "Source link:  \n",
    "https://gist.github.com/KirosG/f265f136bd97bd669632fa0f2f2721b4"
   ]
  },
  {
   "cell_type": "markdown",
   "id": "4a6a30f0-925a-4243-890e-510283cd4d2e",
   "metadata": {},
   "source": [
    "## Solution"
   ]
  },
  {
   "cell_type": "code",
   "execution_count": null,
   "id": "01641b86-5cf0-4939-bfa2-e9273b929ad6",
   "metadata": {},
   "outputs": [],
   "source": [
    "class InputOutString:\n",
    "    def __init__(self):\n",
    "        self.s = \"\"\n",
    "\n",
    "    def get_string(self):\n",
    "        self.s = input('Enter the string:')\n",
    "\n",
    "    def print_string(self):\n",
    "        print(self.s.upper())\n",
    "\n",
    "str_obj = InputOutString()\n",
    "str_obj.get_string()\n",
    "str_obj.print_string()"
   ]
  },
  {
   "cell_type": "markdown",
   "id": "a1912b92-ce9b-46ac-80e5-ad4647d507e3",
   "metadata": {},
   "source": [
    "---"
   ]
  }
 ],
 "metadata": {
  "kernelspec": {
   "display_name": "Python 3 (ipykernel)",
   "language": "python",
   "name": "python3"
  },
  "language_info": {
   "codemirror_mode": {
    "name": "ipython",
    "version": 3
   },
   "file_extension": ".py",
   "mimetype": "text/x-python",
   "name": "python",
   "nbconvert_exporter": "python",
   "pygments_lexer": "ipython3",
   "version": "3.9.7"
  }
 },
 "nbformat": 4,
 "nbformat_minor": 5
}
