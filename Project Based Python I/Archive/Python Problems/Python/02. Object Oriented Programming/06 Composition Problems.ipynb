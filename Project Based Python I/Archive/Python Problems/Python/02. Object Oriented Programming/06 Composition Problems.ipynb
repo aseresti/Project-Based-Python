{
 "cells": [
  {
   "cell_type": "markdown",
   "id": "9e45eb4a-becd-4463-ab33-5c440f7d67ce",
   "metadata": {},
   "source": [
    "<img src=\"../../images/banners/python-oop.png\" width=\"600\"/>"
   ]
  },
  {
   "cell_type": "markdown",
   "id": "6fbc789c-1527-4be6-a81a-2b434e93bccb",
   "metadata": {},
   "source": [
    "# <img src=\"../../images/logos/python.png\" width=\"23\"/> Composition Problems"
   ]
  },
  {
   "cell_type": "markdown",
   "id": "3f835350-e395-4624-ac79-7bef8d22a6f5",
   "metadata": {},
   "source": [
    "## Problem 1"
   ]
  },
  {
   "cell_type": "markdown",
   "id": "c2cdc7b3-2afb-4119-bf83-497d58f5d9af",
   "metadata": {},
   "source": [
    "Create a class named **WriteFile** that takes two arguments. First argument is a file path and second one is a formatter class. WriteFile has `write()` method to write input text into the file."
   ]
  },
  {
   "cell_type": "markdown",
   "id": "bdd4b448-5974-414a-9c90-18bbb81ce8a1",
   "metadata": {},
   "source": [
    "Formatter is a class with `reformat()` method that do the following rules:\n",
    "\n",
    "- **LogFormatter:** reformats input text to a date and message:<br>\n",
    "2023-01-21 18:35 this is a log message\n",
    "- **CSVFormatter:** reformats input list to values separated by a delimeter:<br>\n",
    "a,b,c,d"
   ]
  },
  {
   "cell_type": "markdown",
   "id": "2ed587ad-5793-47d4-a4bc-005d117347b0",
   "metadata": {},
   "source": [
    "**Hint:** you need to `import datetime` "
   ]
  },
  {
   "cell_type": "markdown",
   "id": "748ec341-694b-40df-9d5a-6cf4aa81ef10",
   "metadata": {},
   "source": [
    "Example:"
   ]
  },
  {
   "cell_type": "markdown",
   "id": "e62a20bb-7a03-4e61-a5aa-03ee02277b5b",
   "metadata": {},
   "source": [
    "```python\n",
    "writelog = WriteFile('log.txt', LogFormatter)\n",
    "writelog.write('this is a log message')\n",
    "writelog.close()\n",
    "\n",
    "writecsv = WriteFile('data.csv', CSVFormatter)\n",
    "writecsv.write(['a', 'b', 'c', 'd'])\n",
    "writecsv.close()\n",
    "```"
   ]
  },
  {
   "cell_type": "markdown",
   "id": "3efe0f20-a232-49d3-9f12-948427e58f57",
   "metadata": {},
   "source": [
    "# Solution:"
   ]
  },
  {
   "cell_type": "code",
   "execution_count": null,
   "id": "5732ab6a-7965-4103-8356-d12fd4e017b2",
   "metadata": {},
   "outputs": [],
   "source": [
    "from datetime import datetime\n",
    "# write to file class\n",
    "class WriteFile:\n",
    "    \n",
    "    def __init__(self, filename, formatter):\n",
    "        self.fh = open(filename, 'a')\n",
    "        self.formatter = formatter\n",
    "        \n",
    "    def write(self, text):\n",
    "        self.fh.write(self.formatter().reformat(text) + '\\n')\n",
    "        \n",
    "    def close(self, ):\n",
    "        self.fh.close()\n",
    "        \n",
    "# classes that make desire format        \n",
    "class CSVFormatter:\n",
    "       \n",
    "    def reformat(self, one_list):\n",
    "        return ','.join(one_list)\n",
    "    \n",
    "class LogFormatter:\n",
    "    \n",
    "    def reformat(self, one_line):\n",
    "        dt = datetime.now().strftime('%Y-%m-%d %H:%M')\n",
    "        return dt + '\\t' + one_line\n",
    "    \n",
    "#-----------------------------------------\n",
    "writelog = WriteFile('log.txt', LogFormatter)\n",
    "writelog.write('this is a log message')\n",
    "writelog.write('this is another log message')\n",
    "writelog.close()\n",
    "\n",
    "writecsv = WriteFile('data.csv', CSVFormatter)\n",
    "writecsv.write(['a', 'b', 'c', 'd'])\n",
    "writecsv.write(['1', '2', '3', '4'])\n",
    "writecsv.close()"
   ]
  },
  {
   "cell_type": "markdown",
   "id": "6a84df55-01c4-405e-9395-c8f6d6951c9b",
   "metadata": {},
   "source": [
    "***"
   ]
  },
  {
   "cell_type": "markdown",
   "id": "4f9a5891-d92b-4175-8eef-3cc28ffb3830",
   "metadata": {},
   "source": [
    "## Problem 2"
   ]
  },
  {
   "cell_type": "markdown",
   "id": "3ba45fe7-427d-4ff1-a2d4-e99c6b540af9",
   "metadata": {},
   "source": [
    "We have two classes as follows:\n",
    "```python\n",
    "class Doors:\n",
    "    def __init__(self, num_doors):\n",
    "        self.num_doors = num_doors\n",
    "        \n",
    "    def display(self):\n",
    "        print(f'It has {self.num_doors} doors!')\n",
    "\n",
    "class Windows:\n",
    "    def __init__(self, num_windows):\n",
    "        self.num_windows = num_windows\n",
    "        \n",
    "    def display(self):\n",
    "        print(f'It has {self.num_windows} windows!')\n",
    "```\n",
    "Write a third class named **House** that use both of above classes as a component and use their functionalities."
   ]
  },
  {
   "cell_type": "markdown",
   "id": "d91962c4-64b5-4d80-b3b9-373ce050a8fb",
   "metadata": {},
   "source": [
    "Input:\n",
    "```python\n",
    "new_house = House(Doors(2), Windows(4))\n",
    "new_house.show_details()\n",
    "```\n",
    "Output:  \n",
    "Details of the house:  \n",
    "It has 2 doors!  \n",
    "It has 4 windows!  "
   ]
  },
  {
   "cell_type": "markdown",
   "id": "00f117bc-a52b-45fd-835f-e465f87005ac",
   "metadata": {},
   "source": [
    "## Solution"
   ]
  },
  {
   "cell_type": "code",
   "execution_count": null,
   "id": "bf3e1931-620c-4e39-9c5e-93c94c5d1074",
   "metadata": {},
   "outputs": [],
   "source": [
    "class Doors:\n",
    "    def __init__(self, num_doors):\n",
    "        self.num_doors = num_doors\n",
    "        \n",
    "    def display(self):\n",
    "        print(f'It has {self.num_doors} doors!')\n",
    "\n",
    "class Windows:\n",
    "    def __init__(self, num_windows):\n",
    "        self.num_windows = num_windows\n",
    "        \n",
    "    def display(self):\n",
    "        print(f'It has {self.num_windows} windows!')\n",
    "  \n",
    "    \n",
    "class House:\n",
    "  \n",
    "    def __init__(self, doors, windows):\n",
    "        self.doors = doors\n",
    "        self.windows = windows\n",
    "  \n",
    "    def show_details(self):\n",
    "        print('Details of the house:')\n",
    "        self.doors.display()\n",
    "        self.windows.display()\n",
    "#--------------------------------------------\n",
    "new_house = House(Doors(2), Windows(4))\n",
    "new_house.show_details()"
   ]
  },
  {
   "cell_type": "markdown",
   "id": "f0595cbd-5966-4ccd-8fdf-6dd933d922d2",
   "metadata": {},
   "source": [
    "---"
   ]
  },
  {
   "cell_type": "markdown",
   "id": "daf3631f-aa78-4a8b-ba1a-dce86a555f81",
   "metadata": {},
   "source": [
    "## Problem 3"
   ]
  },
  {
   "cell_type": "markdown",
   "id": "2d68d599-0581-4ce1-9a2e-94b06b69c505",
   "metadata": {},
   "source": [
    "We have a **Salary** class that takes *pay per month* and *bonus* then calculates the total salary per year. \n",
    "```python\n",
    "class Salary:\n",
    "    def __init__(self, pay, bonus):\n",
    "        self.total_salary = (pay*12) + bonus\n",
    "```"
   ]
  },
  {
   "cell_type": "markdown",
   "id": "97829536-3a19-412d-bcee-cf8eaf45dbca",
   "metadata": {},
   "source": [
    "Write an **Employee** class that takes name of the employee, pay per month and bonus. For example Alex, 15000, 10000 ,respectively.  \n",
    "Use Composition pattern to calculate the total salary of the employee without any code duplicating."
   ]
  },
  {
   "cell_type": "markdown",
   "id": "99fe20ce-588a-4a42-8780-3dd9230d7dee",
   "metadata": {},
   "source": [
    "Output:  \n",
    "Alex's salary is $190000 per year."
   ]
  },
  {
   "cell_type": "markdown",
   "id": "50fbf289-b177-4d23-a32d-1f4a169e1202",
   "metadata": {},
   "source": [
    "## Solution"
   ]
  },
  {
   "cell_type": "code",
   "execution_count": null,
   "id": "f0a4d6af-50c2-4790-91d2-904c4b863d9e",
   "metadata": {},
   "outputs": [],
   "source": [
    "class Salary:\n",
    "    def __init__(self, pay, bonus):\n",
    "        self.total_salary = (pay*12) + bonus\n",
    "    \n",
    "class Employee:  \n",
    "    \n",
    "    def __init__(self, name, pay, bonus): \n",
    "        self.name = name\n",
    "        self.salary = Salary(pay, bonus).total_salary\n",
    "    \n",
    "#------------------------------------------\n",
    "emp = Employee('Alex', 15000, 10000)\n",
    "print(f\"{emp.name}'s salary is ${emp.salary} per year.\")"
   ]
  },
  {
   "cell_type": "markdown",
   "id": "71ca2980-7af6-494f-91e3-7358147ec754",
   "metadata": {},
   "source": [
    "---"
   ]
  }
 ],
 "metadata": {
  "kernelspec": {
   "display_name": "Python 3 (ipykernel)",
   "language": "python",
   "name": "python3"
  },
  "language_info": {
   "codemirror_mode": {
    "name": "ipython",
    "version": 3
   },
   "file_extension": ".py",
   "mimetype": "text/x-python",
   "name": "python",
   "nbconvert_exporter": "python",
   "pygments_lexer": "ipython3",
   "version": "3.9.7"
  }
 },
 "nbformat": 4,
 "nbformat_minor": 5
}
