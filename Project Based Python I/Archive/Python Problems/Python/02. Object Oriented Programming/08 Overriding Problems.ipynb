{
 "cells": [
  {
   "cell_type": "markdown",
   "id": "8f89fc96-450a-49ef-a7bf-a1e5e1008a8e",
   "metadata": {},
   "source": [
    "<img src=\"../../images/banners/python-oop.png\" width=\"600\"/>"
   ]
  },
  {
   "cell_type": "markdown",
   "id": "4339c8c4-0473-41d0-8a9f-9f5ee300cb93",
   "metadata": {},
   "source": [
    "# <img src=\"../../images/logos/python.png\" width=\"23\"/> OOP: Overriding Problems"
   ]
  },
  {
   "cell_type": "markdown",
   "id": "367005cf-cbda-4f47-9e4a-89d07c7b1dd2",
   "metadata": {},
   "source": [
    "## Problem 1"
   ]
  },
  {
   "cell_type": "markdown",
   "id": "6f51f227-2e6e-4e98-b2d4-dbd51390920e",
   "metadata": {},
   "source": [
    "Create a class named **ConfigDict** to read and write keys and values from a configuration file.\n",
    "In order to implement a dictionary, ConfigDict will inherit from dict (the dictionary class), so in most respects it will act like a dictionary."
   ]
  },
  {
   "cell_type": "markdown",
   "id": "3f52db10-5031-43a6-a473-b31d4a72f761",
   "metadata": {},
   "source": [
    "You have to override `__setitem__` method to implement desired method for setting ConfigDict items."
   ]
  },
  {
   "cell_type": "markdown",
   "id": "26e82107-30d7-4a75-8e32-db3567ea7379",
   "metadata": {},
   "source": [
    "First make the configuration file, `config.txt` in your working directory.<br>\n",
    "It is key=value per line similar to this:<br>\n",
    "sql_query=SELECT this FROM that WHERE condition <br>\n",
    "email_to=me@mydomain.com <br>\n",
    "num_retries=5"
   ]
  },
  {
   "cell_type": "markdown",
   "id": "46860bf2-604c-4276-b80e-b171c3ff13c0",
   "metadata": {},
   "source": [
    "Example:\n",
    "```python\n",
    "`>>>` cd = ConfigDict('config.txt')\n",
    "`>>>` print(cd['query'])\n",
    "SELECT this FROM that WHERE condition\n",
    "`>>>` print(cd['email_to'])\n",
    "me@mydomain.com\n",
    "`>>>` cd['database'] = 'mysql_managed'\n",
    "`>>>` print(cd['database'])\n",
    "mysql_managed\n",
    "```"
   ]
  },
  {
   "cell_type": "markdown",
   "id": "ed7ffe22-2e6f-4712-bbd2-444b493cceb8",
   "metadata": {},
   "source": [
    "## Solution:"
   ]
  },
  {
   "cell_type": "code",
   "execution_count": null,
   "id": "d14538db-76a5-4370-95e7-dc308c8e6523",
   "metadata": {},
   "outputs": [],
   "source": [
    "class ConfigDict(dict):\n",
    "    \n",
    "    def __init__(self, filename):\n",
    "        self.filename = filename\n",
    "        \n",
    "        with open(filename, 'r') as f:\n",
    "            for line in f.readlines():\n",
    "                line = ''.join(filter(lambda char: char != '\\n', line))\n",
    "                key, value = line.split('=', 1)\n",
    "                self[key] = value\n",
    "\n",
    "    def __setitem__(self, key, value):\n",
    "        dict.__setitem__(self, key, value) \n",
    "        \n",
    "        with open(self.filename, 'w') as f:\n",
    "        \n",
    "            for key, value in self.items():\n",
    "                key_value_pair = str(key) + '=' + str(value) + '\\n'\n",
    "                f.write(key_value_pair)\n",
    "                \n",
    "#--------------------------------------------------\n",
    "cd = ConfigDict('data/config.txt')\n",
    "print(cd['sql_query'])                  \n",
    "print(cd['email_to'])               \n",
    "cd['database'] = 'mysql_managed'\n",
    "print(cd['database'])"
   ]
  },
  {
   "cell_type": "markdown",
   "id": "d423a019-b70a-4e29-a086-ea86e7f72488",
   "metadata": {},
   "source": [
    "***"
   ]
  },
  {
   "cell_type": "markdown",
   "id": "53245672-18c2-45eb-9120-1100ff18335f",
   "metadata": {},
   "source": [
    "## Problem 2"
   ]
  },
  {
   "cell_type": "markdown",
   "id": "e5326c73-6e11-48a3-9c39-7ac9a95fec5b",
   "metadata": {},
   "source": [
    "Create a **Shopping** class that has an attribute called **basket**. This class can take several inputs for instantiation.  \n",
    "Override `__len__` built-in function for this class so that when you call it with any instance of Shopping class, it will show the count of inputs of that object."
   ]
  },
  {
   "cell_type": "markdown",
   "id": "fd3e17a3-bc65-4efb-a712-66c6808b6287",
   "metadata": {},
   "source": [
    "Inputs:\n",
    "```python\n",
    "shopping1 = Shopping('shoes', 'dress')\n",
    "print(len(shopping1))\n",
    "shopping2 = Shopping('jacket', 'shoes', 'T-shirt')\n",
    "print(len(shopping2))\n",
    "```\n",
    "Output:\n",
    "```python\n",
    "Number of inputs =  2\n",
    "Number of inputs =  3\n",
    "```"
   ]
  },
  {
   "cell_type": "markdown",
   "id": "6c0e87ce-9852-4664-9e67-651a41767e83",
   "metadata": {},
   "source": [
    "## Solution"
   ]
  },
  {
   "cell_type": "code",
   "execution_count": null,
   "id": "f30b9a7c-1580-40da-b323-4b48a010b1d8",
   "metadata": {},
   "outputs": [],
   "source": [
    "class Shopping:\n",
    "    def __init__(self, *items):\n",
    "        self.basket = items\n",
    "\n",
    "    def __len__(self):\n",
    "        print('Number of inputs = ', end=' ')\n",
    "        count = len(self.basket)\n",
    "        return count\n",
    "#------------------------------\n",
    "shopping1 = Shopping('shoes', 'dress')\n",
    "print(len(shopping1))\n",
    "shopping2 = Shopping('jacket', 'shoes', 'T-shirt')\n",
    "print(len(shopping2))"
   ]
  },
  {
   "cell_type": "markdown",
   "id": "e8421366-2b5f-4116-bdd9-e4996e5f9ac4",
   "metadata": {},
   "source": [
    "---"
   ]
  },
  {
   "cell_type": "markdown",
   "id": "14828ce6-fbe4-47a4-a004-c7e27cc13ff6",
   "metadata": {},
   "source": [
    "## Problem 3"
   ]
  },
  {
   "cell_type": "markdown",
   "id": "7b8f67e1-19b1-4df5-a09a-197c4ee536ed",
   "metadata": {},
   "source": [
    "Run the following code:\n",
    "\n",
    "```python\n",
    "class Book:\n",
    "    def __init__(self, pages):\n",
    "        self.pages = pages\n",
    "\n",
    "b1 = Book(400)\n",
    "b2 = Book(300)\n",
    "print(b1 + b2)\n",
    "```\n"
   ]
  },
  {
   "cell_type": "markdown",
   "id": "7d99f8c2-46ed-43df-a63c-a3a44a67ef8b",
   "metadata": {},
   "source": [
    "You will see an **error**. Change the code so that the error is fixed and we can add the number of pages of two books. Output of this code must be 700."
   ]
  },
  {
   "cell_type": "markdown",
   "id": "9fae8d5c-0b27-446d-8483-5a6ba8a53ba2",
   "metadata": {},
   "source": [
    "## Solution"
   ]
  },
  {
   "cell_type": "code",
   "execution_count": null,
   "id": "9a265b32-6209-410b-8d94-b3f6ac0631f4",
   "metadata": {},
   "outputs": [],
   "source": [
    "class Book:\n",
    "    def __init__(self, pages):\n",
    "        self.pages = pages\n",
    "    \n",
    "    def __add__(self, other):\n",
    "        return self.pages + other.pages\n",
    "        \n",
    "b1 = Book(400)\n",
    "b2 = Book(300)\n",
    "print(b1 + b2)"
   ]
  },
  {
   "cell_type": "markdown",
   "id": "4d7c6a3f-9beb-4e93-b860-9e669a82778d",
   "metadata": {},
   "source": [
    "---"
   ]
  }
 ],
 "metadata": {
  "kernelspec": {
   "display_name": "Python 3 (ipykernel)",
   "language": "python",
   "name": "python3"
  },
  "language_info": {
   "codemirror_mode": {
    "name": "ipython",
    "version": 3
   },
   "file_extension": ".py",
   "mimetype": "text/x-python",
   "name": "python",
   "nbconvert_exporter": "python",
   "pygments_lexer": "ipython3",
   "version": "3.9.7"
  }
 },
 "nbformat": 4,
 "nbformat_minor": 5
}
