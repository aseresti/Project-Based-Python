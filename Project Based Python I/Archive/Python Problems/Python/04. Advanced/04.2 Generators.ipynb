{
 "cells": [
  {
   "cell_type": "markdown",
   "id": "9cc8b412-e047-4fba-855e-ad1f6d879bf6",
   "metadata": {},
   "source": [
    "<img src=\"../../images/banners/python-advanced.png\" width=\"600\"/>"
   ]
  },
  {
   "cell_type": "markdown",
   "id": "abc93611-9e6d-41bb-8c5c-1202b3389a8a",
   "metadata": {},
   "source": [
    "# <img src=\"../../images/logos/python.png\" width=\"23\"/> Generators Problems"
   ]
  },
  {
   "cell_type": "markdown",
   "id": "2fabcdee-d389-4923-ba86-e59ea5a6d156",
   "metadata": {},
   "source": [
    "## Problem 1"
   ]
  },
  {
   "cell_type": "markdown",
   "id": "2f7e301a-b849-45b8-9b33-1b088eaf0231",
   "metadata": {},
   "source": [
    "Write a generator function named **my_generator** that produces a sequence of numbers.\n",
    "\n",
    "Example:\n",
    "```python\n",
    "for num in my_generator(10):\n",
    "    print(num, end=' ')\n",
    "```\n",
    "Output:  \n",
    "0 1 2 3 4 5 6 7 8 9 "
   ]
  },
  {
   "cell_type": "markdown",
   "id": "51b88747-0df0-4e97-8946-d21c9c25f63d",
   "metadata": {},
   "source": [
    "## Solution"
   ]
  },
  {
   "cell_type": "code",
   "execution_count": null,
   "id": "39f30cbf-b0ab-4916-b836-107a09f56956",
   "metadata": {},
   "outputs": [],
   "source": [
    "def my_generator(n):\n",
    "\n",
    "    value = 0\n",
    "    while value < n:\n",
    "\n",
    "        yield value\n",
    "        value += 1\n",
    "        \n",
    "#-----------------------\n",
    "for num in my_generator(10):\n",
    "    print(num, end=' ')"
   ]
  },
  {
   "cell_type": "markdown",
   "id": "50cc539d-024c-47d0-8995-5ae6fb630d74",
   "metadata": {},
   "source": [
    "---"
   ]
  },
  {
   "cell_type": "markdown",
   "id": "929c883c-eae6-4ef7-b873-d4342e2ebb61",
   "metadata": {},
   "source": [
    "## Problem 2"
   ]
  },
  {
   "cell_type": "markdown",
   "id": "a0a0be13-bd02-413e-8314-6aacbf7b6865",
   "metadata": {},
   "source": [
    "Look at the following code:\n",
    "```python\n",
    "first = [10, 20, 30, 40, 50]\n",
    "new1 = (item + 1000 for item in list1)\n",
    "new2 = [item + 1000 for item in list1]\n",
    "```\n",
    "What is the difference between `print(new1)` and `print(new2)`?"
   ]
  },
  {
   "cell_type": "markdown",
   "id": "ebe4edae-de5b-4e83-ab44-8aea1574ab01",
   "metadata": {},
   "source": [
    "## Solution"
   ]
  },
  {
   "cell_type": "code",
   "execution_count": null,
   "id": "3ee17cb2-2335-4b1d-81b6-c87f985de885",
   "metadata": {},
   "outputs": [],
   "source": [
    "first = [10, 20, 30, 40, 50]\n",
    "new1 = (item + 1000 for item in list1)\n",
    "new2 = [item + 1000 for item in list1]\n",
    "print(new1) # it is a generator object\n",
    "print(new2) # it is a new list"
   ]
  },
  {
   "cell_type": "markdown",
   "id": "6b8a17b8-856e-4eae-a53e-188d64f4e4ed",
   "metadata": {},
   "source": [
    "---"
   ]
  },
  {
   "cell_type": "markdown",
   "id": "4787cf0f-7b8d-4850-8fca-e6267ebd0167",
   "metadata": {},
   "source": [
    "## Problem 3"
   ]
  },
  {
   "cell_type": "markdown",
   "id": "2a0600ff-2336-47fc-a8d8-c362f6bbecd6",
   "metadata": {},
   "source": [
    "Implement a sequence of power of 2 using generator function. Consider end input for the power.\n",
    "\n",
    "Example:\n",
    "```python\n",
    ">>> powers = pow_two_gen(6)\n",
    ">>> print(list(powers))\n",
    "[1, 2, 4, 8, 16, 32, 64]\n",
    "```"
   ]
  },
  {
   "cell_type": "markdown",
   "id": "234cac99-6c7f-4977-a8a2-085a8d34c77d",
   "metadata": {},
   "source": [
    "## Solution"
   ]
  },
  {
   "cell_type": "code",
   "execution_count": null,
   "id": "3c888073-7592-4275-818b-ed1119bf7dcb",
   "metadata": {},
   "outputs": [],
   "source": [
    "def pow_two_gen(end=1):\n",
    "    n = 0\n",
    "    while n <= end:\n",
    "        yield 2 ** n\n",
    "        n += 1\n",
    "#------------------------\n",
    "powers = pow_two_gen(6)\n",
    "print(list(powers))"
   ]
  },
  {
   "cell_type": "markdown",
   "id": "d501be95-27f2-4b06-b806-a32f1a1fdbc7",
   "metadata": {},
   "source": [
    "---"
   ]
  },
  {
   "cell_type": "markdown",
   "id": "7cdbd8f6-4539-4e1b-aae0-16dd7c04dfd0",
   "metadata": {},
   "source": [
    "## Problem 4"
   ]
  },
  {
   "cell_type": "markdown",
   "id": "df362d64-312e-460f-82b3-c83e85ad55e1",
   "metadata": {},
   "source": [
    "Write a generator named `fibonacci_numbers` that produces the numbers in the **Fibonacci** series.\n",
    "\n",
    "Example:\n",
    "```python\n",
    ">>> for num in fibonacci_numbers(10):\n",
    ">>>     print(num, end=', ')\n",
    "0, 1, 1, 2, 3, 5, 8, 13, 21, 34,\n",
    "```"
   ]
  },
  {
   "cell_type": "markdown",
   "id": "dca064c2-c709-4e99-976e-1cb3c6bc2d91",
   "metadata": {},
   "source": [
    "## Solution"
   ]
  },
  {
   "cell_type": "code",
   "execution_count": null,
   "id": "dc18ef30-d122-427f-8d5e-4719a308fc56",
   "metadata": {},
   "outputs": [],
   "source": [
    "def fibonacci_numbers(nums):\n",
    "    x, y = 0, 1\n",
    "    for _ in range(nums):\n",
    "        yield x\n",
    "        x, y = y, x + y\n",
    "        \n",
    "#-------------------------\n",
    "for num in fibonacci_numbers(10):\n",
    "    print(num, end=', ')"
   ]
  },
  {
   "cell_type": "markdown",
   "id": "1cb14a75-7b88-4530-ac10-a06845e1e566",
   "metadata": {},
   "source": [
    "---"
   ]
  },
  {
   "cell_type": "markdown",
   "id": "37f6447f-806d-47be-a41a-89d7f1914f94",
   "metadata": {},
   "source": [
    "## Problem 5"
   ]
  },
  {
   "cell_type": "markdown",
   "id": "9d4ff0bf-b67e-44e6-84b2-89f89f6103e6",
   "metadata": {},
   "source": [
    "Define a generator function named **divisible** which can iterate the numbers, which are divisible by 7, between a given range 0 and n."
   ]
  },
  {
   "cell_type": "markdown",
   "id": "3f61d8eb-ea0d-442f-9476-2cd6fa5cd9f9",
   "metadata": {},
   "source": [
    "Example\n",
    "```python\n",
    ">>> for i in divisible(100):\n",
    "        print(i, end=' ')\n",
    "0 7 14 21 28 35 42 49 56 63 70 77 84 91 98 \n",
    "```"
   ]
  },
  {
   "cell_type": "markdown",
   "id": "5812fdbd-9c4c-49dd-976b-2bdd951785c6",
   "metadata": {},
   "source": [
    "Source link:  \n",
    "https://gist.github.com/KirosG/f265f136bd97bd669632fa0f2f2721b4"
   ]
  },
  {
   "cell_type": "markdown",
   "id": "a639b7db-9503-4592-ba2a-80d9ca95828a",
   "metadata": {},
   "source": [
    "## Solution"
   ]
  },
  {
   "cell_type": "code",
   "execution_count": null,
   "id": "530c77ad-b9d5-47a5-b790-8a4f75ca85a6",
   "metadata": {},
   "outputs": [],
   "source": [
    "def divisible(n):\n",
    "    num = 0\n",
    "    while num < n:\n",
    "\n",
    "        if num % 7 == 0:\n",
    "            yield num\n",
    "            \n",
    "        num += 1\n",
    "#------------------------\n",
    "for i in divisible(100):\n",
    "    print(i, end=' ')"
   ]
  },
  {
   "cell_type": "markdown",
   "id": "74fabc0b-0ccf-4cbf-b0fd-aa1f7a89ba0a",
   "metadata": {},
   "source": [
    "---"
   ]
  }
 ],
 "metadata": {
  "kernelspec": {
   "display_name": "Python 3 (ipykernel)",
   "language": "python",
   "name": "python3"
  },
  "language_info": {
   "codemirror_mode": {
    "name": "ipython",
    "version": 3
   },
   "file_extension": ".py",
   "mimetype": "text/x-python",
   "name": "python",
   "nbconvert_exporter": "python",
   "pygments_lexer": "ipython3",
   "version": "3.9.7"
  }
 },
 "nbformat": 4,
 "nbformat_minor": 5
}
