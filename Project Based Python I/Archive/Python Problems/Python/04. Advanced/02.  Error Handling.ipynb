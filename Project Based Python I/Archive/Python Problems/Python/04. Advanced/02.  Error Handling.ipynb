{
 "cells": [
  {
   "cell_type": "markdown",
   "id": "4e280a90-c024-44a8-80fc-33e3bb2f9a54",
   "metadata": {},
   "source": [
    "<img src=\"../../images/banners/python-advanced.png\" width=\"600\"/>"
   ]
  },
  {
   "cell_type": "markdown",
   "id": "4d7d62d6-d5dd-46ac-a30b-87fd85a90bbb",
   "metadata": {},
   "source": [
    "# <img src=\"../../images/logos/python.png\" width=\"23\"/> Error Handling Problems"
   ]
  },
  {
   "cell_type": "markdown",
   "id": "330e160b-5087-4e8e-8910-c5e83cd5928f",
   "metadata": {},
   "source": [
    "## Problem 1"
   ]
  },
  {
   "cell_type": "markdown",
   "id": "3197ed4f-dc11-4a17-a490-3b19665ab42c",
   "metadata": {},
   "source": [
    "Here is a function that converts a temperature from Kelvin to Fahrenheit degrees.  \n",
    "```python\n",
    "def kelvin_to_fahrenheit(temperature):\n",
    "    return ((temperature-273)*1.8)+32\n",
    "```\n",
    "Because zero Kelvin is as cold as it gets, change the code to raise `AssertionError` if it sees a negative temperature."
   ]
  },
  {
   "cell_type": "markdown",
   "id": "82f77426-b566-444c-99f2-99a23fc42ec7",
   "metadata": {},
   "source": [
    "Example:\n",
    "```python\n",
    ">>> print(kelvin_to_fahrenheit(-5))\n",
    "AssertionError: Colder than absolute zero!\n",
    "```"
   ]
  },
  {
   "cell_type": "markdown",
   "id": "3a1033a5-26f6-44fd-8069-892ac210786c",
   "metadata": {},
   "source": [
    "## Solution"
   ]
  },
  {
   "cell_type": "code",
   "execution_count": null,
   "id": "7ea1f004-a30f-4151-b566-4b50b0949f08",
   "metadata": {},
   "outputs": [],
   "source": [
    "def kelvin_to_fahrenheit(temperature):\n",
    "    \n",
    "    assert (temperature >= 0),\"Colder than absolute zero!\"\n",
    "    return ((temperature-273)*1.8)+32\n",
    "#--------------------------------------\n",
    "print(kelvin_to_fahrenheit(273))\n",
    "print(kelvin_to_fahrenheit(-5))"
   ]
  },
  {
   "cell_type": "markdown",
   "id": "4d4544da-d0db-43a7-995e-ec7146211b45",
   "metadata": {},
   "source": [
    "---"
   ]
  },
  {
   "cell_type": "markdown",
   "id": "a5bb5a79-7e29-412a-93e7-e15518e3deb5",
   "metadata": {},
   "source": [
    "## Problem 2"
   ]
  },
  {
   "cell_type": "markdown",
   "id": "ab7f3f23-05f3-4577-9764-7dc403d5b274",
   "metadata": {},
   "source": [
    "Look at the following code:\n",
    "```python\n",
    "x = int(input('Enter an integer: '))\n",
    "```\n",
    "If user inputs a non-integer, `int()` function raises `ValueError` exception.  \n",
    "Use error handling and while loop to make sure that the user inputs an integer."
   ]
  },
  {
   "cell_type": "markdown",
   "id": "f280a39c-01b9-4aa3-b91c-ccf27df32ec9",
   "metadata": {},
   "source": [
    "## Solution"
   ]
  },
  {
   "cell_type": "code",
   "execution_count": null,
   "id": "d4d07191-1084-4e16-b9d9-4611acc99ebf",
   "metadata": {},
   "outputs": [],
   "source": [
    "while True:\n",
    "    try:\n",
    "        x = int(input('Enter an integer: '))\n",
    "        break\n",
    "    except ValueError:\n",
    "        print('your input isn\\'t an integer!')\n",
    "        continue"
   ]
  },
  {
   "cell_type": "markdown",
   "id": "d336421b-23dc-4f5d-ad14-420e1598ce08",
   "metadata": {},
   "source": [
    "---"
   ]
  },
  {
   "cell_type": "markdown",
   "id": "c91719d5-b741-49df-b1d0-21ad7bc50174",
   "metadata": {},
   "source": [
    "## Problem 3"
   ]
  },
  {
   "cell_type": "markdown",
   "id": "69318a85-5e8e-401b-baba-65339f1b7665",
   "metadata": {},
   "source": [
    "Write a function that takes a list object and append 'new_item' to it. What if you call this function with a non-list argument?  \n",
    "Handle the exception by try/except block so that function shows a message when raising exception.  \n",
    "\n",
    "Example :\n",
    "```python\n",
    "func_append('hello')\n",
    "```\n",
    "Output:  \n",
    "Error! type of (hello) isn't list"
   ]
  },
  {
   "cell_type": "code",
   "execution_count": null,
   "id": "ddd05b26-c50a-480e-9f57-6021adaca51a",
   "metadata": {},
   "outputs": [],
   "source": [
    "def func_append(x):\n",
    "    try:\n",
    "        x.append('new_item')\n",
    "        \n",
    "    except AttributeError:\n",
    "        print(f'Error! type of ({x}) isn\\'t list')\n",
    "        return None \n",
    "    return x\n",
    "#---------------------\n",
    "func_append('hello')"
   ]
  },
  {
   "cell_type": "markdown",
   "id": "fd68e161-9ccb-4619-adde-0c2dd140ee88",
   "metadata": {
    "tags": []
   },
   "source": [
    "---"
   ]
  },
  {
   "cell_type": "markdown",
   "id": "1a3c137a-e00e-422a-87ec-8966af503edb",
   "metadata": {},
   "source": [
    "## Problem 4"
   ]
  },
  {
   "cell_type": "markdown",
   "id": "72f78e80-f475-4168-ad34-8c623d79afa6",
   "metadata": {},
   "source": [
    "We have a function takes two integer from the user: **start** and **end**. The end variable must be greater than the start.\n",
    "First raise exception with appropriate message if the numbers are not integers. Then raise exception if the condition is not meet.  \n",
    "\n",
    "```python\n",
    "def increase(start, end):\n",
    "    pass\n",
    "```\n",
    "\n",
    "Example 1:  \n",
    "```python\n",
    ">>> increase(5, 'book')\n",
    "Exception: inputs must be integer.\n",
    "```\n",
    "Example 2:\n",
    "```python\n",
    ">>> increase(5, 1)\n",
    "Exception: end must be greater than start\n",
    "```"
   ]
  },
  {
   "cell_type": "markdown",
   "id": "61b27981-d7af-4309-9197-cd409616f5a9",
   "metadata": {},
   "source": [
    "## Solution"
   ]
  },
  {
   "cell_type": "code",
   "execution_count": null,
   "id": "69010fcd-fac4-4fc2-a7f8-328e36d9ebee",
   "metadata": {},
   "outputs": [],
   "source": [
    "def increase(start, end):\n",
    "    if (type(start) != int) or (type(end) != int):\n",
    "        raise Exception('inputs must be integer.')\n",
    "    if start >= end:\n",
    "        raise Exception('end must be greater than start')\n",
    "    pass\n",
    "#----------------------------\n",
    "increase(5, 'book')\n",
    "# increase(5, 1)"
   ]
  },
  {
   "cell_type": "markdown",
   "id": "645bcb0c-6bb8-44ac-964e-327b8da65cd2",
   "metadata": {
    "tags": []
   },
   "source": [
    "---"
   ]
  },
  {
   "cell_type": "markdown",
   "id": "6e051ffc-84f3-48fb-9d40-a87e0b414d85",
   "metadata": {},
   "source": [
    "## Problem 5"
   ]
  },
  {
   "cell_type": "markdown",
   "id": "aec143fe-b1aa-4bd9-83ae-cc3c285ac5d5",
   "metadata": {},
   "source": [
    "We have a function takes two lists from the user and creates an new list that will aggregate elements from two lists.(similar to `zip()` function). We want to put zero in the new list if one of the lists has fewer elements.\n",
    "\n",
    "```python\n",
    "def zipping(a, b):\n",
    "\n",
    "    max_len = max(len(a),len(b))\n",
    "    new_list = []\n",
    "\n",
    "    for i in range(max_len):\n",
    "        a_element = a[i]\n",
    "        b_element = b[i]   \n",
    "        new_list.append((a_element, b_element))\n",
    "\n",
    "    return new_list\n",
    "```\n",
    "Example:\n",
    "```python\n",
    ">>> zipping([10, 20, 30, 40], [100, 200])\n",
    "[(10, 100), (20, 200), (30, 0), (40, 0)]\n",
    "```"
   ]
  },
  {
   "cell_type": "markdown",
   "id": "8011c02a-e30d-4592-aca2-2956ba6b7a64",
   "metadata": {},
   "source": [
    "This code doesn't run because of `IndexError`. Use `try/except` block to solve the problem."
   ]
  },
  {
   "cell_type": "markdown",
   "id": "f88d6a94-6ce0-4d20-a1d4-e25352d70e5c",
   "metadata": {},
   "source": [
    "## Solution"
   ]
  },
  {
   "cell_type": "code",
   "execution_count": null,
   "id": "2e127c9c-eea9-4dc0-b6db-1705c441d5d7",
   "metadata": {},
   "outputs": [],
   "source": [
    "def zipping(a, b):\n",
    "\n",
    "    max_len = max(len(a),len(b))\n",
    "    new_list = []\n",
    "\n",
    "    for i in range(max_len):\n",
    "        try:\n",
    "            a_element = a[i]\n",
    "        except IndexError:\n",
    "            a_element = 0\n",
    "        \n",
    "        try:\n",
    "            b_element = b[i]\n",
    "        except IndexError:\n",
    "            b_element = 0\n",
    "            \n",
    "        new_list.append((a_element, b_element))\n",
    "\n",
    "    return new_list\n",
    "#---------------------------------------------\n",
    "zipping([10, 20, 30, 40], [100, 200])"
   ]
  },
  {
   "cell_type": "markdown",
   "id": "a2f6d660-5e4f-4c07-9aea-8372b88869b6",
   "metadata": {
    "tags": []
   },
   "source": [
    "---"
   ]
  },
  {
   "cell_type": "markdown",
   "id": "f79e6724-0cc8-462d-9fe5-03f66da1e74a",
   "metadata": {},
   "source": [
    "## Problem 6"
   ]
  },
  {
   "cell_type": "markdown",
   "id": "321de828-55c7-4dff-9747-c4b4ab796c5d",
   "metadata": {},
   "source": [
    "Define a custom exception class named **MyError** which takes a string message as attribute.\n",
    "\n",
    "Example:\n",
    "```python\n",
    ">>> raise MyError(\"something wrong\")\n",
    "MyError: something wrong\n",
    "```"
   ]
  },
  {
   "cell_type": "markdown",
   "id": "8caa9f6d-6051-403a-b2c2-0ab43995b83f",
   "metadata": {},
   "source": [
    "Source link:  \n",
    "https://gist.github.com/KirosG/f265f136bd97bd669632fa0f2f2721b4"
   ]
  },
  {
   "cell_type": "markdown",
   "id": "ab44f1ae-5735-4c76-bab0-dcb8c254b3ce",
   "metadata": {},
   "source": [
    "## Solution"
   ]
  },
  {
   "cell_type": "code",
   "execution_count": null,
   "id": "2a8a4704-2314-4460-b8a1-15f1f9b63fe7",
   "metadata": {},
   "outputs": [],
   "source": [
    "class MyError(Exception):\n",
    "    \"\"\"My own exception class\n",
    "\n",
    "    Attributes:\n",
    "        msg  -- explanation of the error\n",
    "    \"\"\"\n",
    "\n",
    "    def __init__(self, msg):\n",
    "        self.msg = msg\n",
    "#---------------------------------\n",
    "raise MyError(\"something wrong\")"
   ]
  },
  {
   "cell_type": "markdown",
   "id": "cd922b48-cf99-41d6-b55f-601b576f2db6",
   "metadata": {
    "tags": []
   },
   "source": [
    "---"
   ]
  },
  {
   "cell_type": "markdown",
   "id": "6edbec5e-1d7d-48df-8bd8-86737996aae0",
   "metadata": {},
   "source": [
    "## Problem 7"
   ]
  },
  {
   "cell_type": "markdown",
   "id": "b270dcb7-2bc4-4fb8-afef-3a4da650096a",
   "metadata": {},
   "source": [
    "What's the error of the code below? Handle this error with `try/except` syntax.\n",
    "\n",
    "Example:\n",
    "```python\n",
    "class Car:\n",
    "    def __init__(self, name):\n",
    "        self.name = name\n",
    "        \n",
    "mycar = Car(\"Benz\")\n",
    "print(mycar.Benz)\n",
    "```"
   ]
  },
  {
   "cell_type": "markdown",
   "id": "188a2fde-ea06-4142-9f72-ecee36ad641e",
   "metadata": {},
   "source": [
    "## Solution"
   ]
  },
  {
   "cell_type": "code",
   "execution_count": null,
   "id": "ccdf91ac-c4b1-4454-982e-479cfb959e80",
   "metadata": {},
   "outputs": [],
   "source": [
    "class Car:\n",
    "    def __init__(self, name):\n",
    "        self.name = name\n",
    "        \n",
    "mycar = Car(\"Benz\")\n",
    "try:\n",
    "    print(mycar.Benz)\n",
    "except:\n",
    "    print(mycar.name)"
   ]
  },
  {
   "cell_type": "markdown",
   "id": "51994a73-12a6-4a4a-afc2-8c252355f821",
   "metadata": {
    "tags": []
   },
   "source": [
    "---"
   ]
  },
  {
   "cell_type": "markdown",
   "id": "70763f02-1268-4ee1-9e9d-b0342eeb9a80",
   "metadata": {},
   "source": [
    "## Problem 8"
   ]
  },
  {
   "cell_type": "markdown",
   "id": "466a6269-01e0-4845-b69d-bf26b0c3dc2f",
   "metadata": {},
   "source": [
    "Modify the code below to show a message if file not exist without raising any error.\n",
    "\n",
    "Example:\n",
    "```python\n",
    "with open('file001.txt' ,'r') as f: \n",
    "    for line in f.readlines():\n",
    "        print(line)\n",
    "```"
   ]
  },
  {
   "cell_type": "markdown",
   "id": "0a0f4950-52c7-414b-8f03-f5af5b876dea",
   "metadata": {},
   "source": [
    "## Solution"
   ]
  },
  {
   "cell_type": "code",
   "execution_count": null,
   "id": "35f58d2b-4531-45ab-9441-22b500bafba5",
   "metadata": {},
   "outputs": [],
   "source": [
    "try:\n",
    "    with open('file001.txt' ,'r') as f: \n",
    "        for line in f.readlines():\n",
    "            print(line)\n",
    "except:\n",
    "    print('File Not Exist.')"
   ]
  },
  {
   "cell_type": "markdown",
   "id": "65c20efc-e284-487f-af9e-84a8d7158f5e",
   "metadata": {
    "tags": []
   },
   "source": [
    "---"
   ]
  }
 ],
 "metadata": {
  "kernelspec": {
   "display_name": "Python 3 (ipykernel)",
   "language": "python",
   "name": "python3"
  },
  "language_info": {
   "codemirror_mode": {
    "name": "ipython",
    "version": 3
   },
   "file_extension": ".py",
   "mimetype": "text/x-python",
   "name": "python",
   "nbconvert_exporter": "python",
   "pygments_lexer": "ipython3",
   "version": "3.9.7"
  }
 },
 "nbformat": 4,
 "nbformat_minor": 5
}
