{
 "cells": [
  {
   "cell_type": "markdown",
   "id": "767ca232-607a-4c06-8920-5c851d729138",
   "metadata": {},
   "source": [
    "<img src=\"../../images/banners/python-advanced.png\" width=\"600\"/>"
   ]
  },
  {
   "cell_type": "markdown",
   "id": "8ad30822-11d7-4a12-94ad-973d4dde4593",
   "metadata": {},
   "source": [
    "# <img src=\"../../images/logos/python.png\" width=\"23\"/> Iterators Problems"
   ]
  },
  {
   "cell_type": "markdown",
   "id": "f0253089-6d8b-4225-a6e2-064f53a270b1",
   "metadata": {},
   "source": [
    "## Problem 1"
   ]
  },
  {
   "cell_type": "markdown",
   "id": "f182ab13-6899-4877-a541-8c88df7d3dab",
   "metadata": {},
   "source": [
    "Implement a sequence of power of 3 using an iterator class. Consider end input for the power."
   ]
  },
  {
   "cell_type": "markdown",
   "id": "f45e8789-af1c-45b1-be73-67733be2a614",
   "metadata": {},
   "source": [
    "Example:  \n",
    "```python\n",
    ">>> new_iter = PowThree(2)\n",
    ">>> print(next(new_iter))\n",
    "1\n",
    ">>> print(next(new_iter))\n",
    "3\n",
    ">>> print(next(new_iter))\n",
    "9\n",
    ">>> print(next(new_iter))\n",
    "StopIteration: end of iterator\n",
    "```"
   ]
  },
  {
   "cell_type": "markdown",
   "id": "d1b805e7-a6b3-4e9b-9602-e5133befe382",
   "metadata": {},
   "source": [
    "## Solution"
   ]
  },
  {
   "cell_type": "code",
   "execution_count": null,
   "id": "b85c4adc-0359-4431-843a-e203a4f0332b",
   "metadata": {},
   "outputs": [],
   "source": [
    "class PowThree:\n",
    "    def __init__(self, end=0):\n",
    "        self.n = 0\n",
    "        self.max = end\n",
    "\n",
    "    def __iter__(self):\n",
    "        return self\n",
    "\n",
    "    def __next__(self):\n",
    "        if self.n > self.max:\n",
    "            raise StopIteration('end of iterator')\n",
    "\n",
    "        result = 3 ** self.n\n",
    "        self.n += 1\n",
    "        return result\n",
    "#--------------------------------------\n",
    "new_iter = PowThree(2)\n",
    "print(next(new_iter))\n",
    "print(next(new_iter))\n",
    "print(next(new_iter))\n",
    "print(next(new_iter))"
   ]
  },
  {
   "cell_type": "markdown",
   "id": "d110e4eb-3035-4ac7-aba3-b302c9b3275c",
   "metadata": {},
   "source": [
    "---"
   ]
  },
  {
   "cell_type": "code",
   "execution_count": null,
   "id": "e4fa7c4a-98e3-4a9d-af67-a7d1bfccf5b4",
   "metadata": {},
   "outputs": [],
   "source": []
  }
 ],
 "metadata": {
  "kernelspec": {
   "display_name": "Python 3 (ipykernel)",
   "language": "python",
   "name": "python3"
  },
  "language_info": {
   "codemirror_mode": {
    "name": "ipython",
    "version": 3
   },
   "file_extension": ".py",
   "mimetype": "text/x-python",
   "name": "python",
   "nbconvert_exporter": "python",
   "pygments_lexer": "ipython3",
   "version": "3.9.7"
  }
 },
 "nbformat": 4,
 "nbformat_minor": 5
}
