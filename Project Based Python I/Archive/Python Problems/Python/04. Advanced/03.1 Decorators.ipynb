{
 "cells": [
  {
   "cell_type": "markdown",
   "id": "59fe67c9-166d-4cea-b697-6684ec0d79d3",
   "metadata": {},
   "source": [
    "<img src=\"../../images/banners/python-advanced.png\" width=\"600\"/>"
   ]
  },
  {
   "cell_type": "markdown",
   "id": "41a14a90-4346-4e54-af8b-a3e2f1a39bf9",
   "metadata": {},
   "source": [
    "# <img src=\"../../images/logos/python.png\" width=\"23\"/> Decorators Problems"
   ]
  },
  {
   "cell_type": "markdown",
   "id": "8f64ec80-a74b-4a47-b5fb-4c1d83a23e6d",
   "metadata": {},
   "source": [
    "## Problem 1"
   ]
  },
  {
   "cell_type": "markdown",
   "id": "ddf5b352-09cb-4432-ba79-1dfaf8161e19",
   "metadata": {},
   "source": [
    "Write a decorator that logs the date and time when a function is executed."
   ]
  },
  {
   "cell_type": "markdown",
   "id": "28f7b7a1-384b-41a7-8070-3aac5fd1e15e",
   "metadata": {},
   "source": [
    "Example function:\n",
    "```python\n",
    "def daily_backup():\n",
    "\n",
    "    print('Daily backup job has finished.') \n",
    "```\n",
    "Output:  \n",
    "Function: daily_backup  \n",
    "Run on: 2023-01-06 20:30:08  \n",
    "\\------------------------------  \n",
    "Daily backup job has finished.  "
   ]
  },
  {
   "cell_type": "markdown",
   "id": "52359d3a-f86f-4270-8958-204402480e78",
   "metadata": {},
   "source": [
    "## Solution"
   ]
  },
  {
   "cell_type": "code",
   "execution_count": null,
   "id": "291c5f55-c4aa-4a30-b82b-2772afaa41ff",
   "metadata": {},
   "outputs": [],
   "source": [
    "from datetime import datetime\n",
    "def log_datetime(func):\n",
    "    \n",
    "    def wrapper():\n",
    "        print(f'Function: {func.__name__}')\n",
    "        print(f'Run on: {datetime.today().strftime(\"%Y-%m-%d %H:%M:%S\")}')\n",
    "        print(f'{\"-\"*30}')\n",
    "        func()\n",
    "    return wrapper\n",
    "\n",
    "#---------------------------------------------\n",
    "@log_datetime\n",
    "def daily_backup():\n",
    "\n",
    "    print('Daily backup job has finished.')   \n",
    "\n",
    "     \n",
    "daily_backup()"
   ]
  },
  {
   "cell_type": "markdown",
   "id": "b72c9bb2-3435-4d95-bc47-8bacefe6a7a9",
   "metadata": {},
   "source": [
    "---"
   ]
  },
  {
   "cell_type": "markdown",
   "id": "8ed34ac6-73cc-46c4-8e87-69fe87bec93f",
   "metadata": {},
   "source": [
    "## Problem 2"
   ]
  },
  {
   "cell_type": "markdown",
   "id": "bcd62ec1-577f-4345-9699-cf5ad019e271",
   "metadata": {},
   "source": [
    "We want to make a list with 100_000 elements using two methods: \n",
    "```python\n",
    "def list_func():\n",
    "    '''List'''\n",
    "\n",
    "    my_list = list(range(100_000))\n",
    "#-------------------------------\n",
    "def concat_func():\n",
    "    '''Concatenation'''\n",
    "\n",
    "    my_list = []\n",
    "    for item in range(100_000):\n",
    "        my_list = my_list + [item]\n",
    "```"
   ]
  },
  {
   "cell_type": "markdown",
   "id": "cbd47b51-532c-46ce-ad13-73a06c6908e8",
   "metadata": {},
   "source": [
    "Create a decorator that will measure memory and speed of a function. Run two given functions with your decorator."
   ]
  },
  {
   "cell_type": "markdown",
   "id": "46ca0ae3-a069-4581-9fc9-8c4a1a0285dd",
   "metadata": {},
   "source": [
    "Output should be as follows:  \n",
    "\n",
    "<img src='images/decorators-p2.png' width=400>"
   ]
  },
  {
   "cell_type": "markdown",
   "id": "c98d9d30-2821-4825-9129-76a5a5841616",
   "metadata": {},
   "source": [
    "**Hint**: Use `time` and `tracemalloc` modules."
   ]
  },
  {
   "cell_type": "markdown",
   "id": "dcf166eb-f491-42d9-a2a8-f890e9f100e3",
   "metadata": {},
   "source": [
    "## Solution"
   ]
  },
  {
   "cell_type": "code",
   "execution_count": null,
   "id": "12035f74-b018-4719-953c-a29179042ca1",
   "metadata": {},
   "outputs": [],
   "source": [
    "from functools import wraps\n",
    "import tracemalloc\n",
    "from time import perf_counter \n",
    "\n",
    "def measure_performance(func):\n",
    "    '''Measure performance of a function'''\n",
    "\n",
    "    @wraps(func)\n",
    "    def wrapper(*args, **kwargs):\n",
    "        tracemalloc.start()\n",
    "        start_time = perf_counter()\n",
    "        func(*args, **kwargs)\n",
    "        current, peak = tracemalloc.get_traced_memory()\n",
    "        finish_time = perf_counter()\n",
    "        print(f'Function: {func.__name__}')\n",
    "        print(f'Method: {func.__doc__}')\n",
    "        print(f'Memory usage:\\t\\t {current / 10**6:.6f} MB')\n",
    "        print(f'Peak memory usage:\\t {peak / 10**6:.6f} MB')\n",
    "        print(f'Time elapsed is seconds: {finish_time - start_time:.6f}')\n",
    "        print(f'{\"-\"*40}')\n",
    "        tracemalloc.stop()\n",
    "    return wrapper\n",
    "#------------------------------\n",
    "@measure_performance\n",
    "def list_func():\n",
    "    '''List'''\n",
    "\n",
    "    my_list = list(range(100_000))\n",
    "#-------------------------------\n",
    "@measure_performance\n",
    "def concat_func():\n",
    "    '''Concatenation'''\n",
    "\n",
    "    my_list = []\n",
    "    for item in range(100_000):\n",
    "        my_list = my_list + [item]\n",
    "#----------------------------------\n",
    "list_func()\n",
    "concat_func()"
   ]
  },
  {
   "cell_type": "markdown",
   "id": "06a13b40-8cee-4f49-927c-929e31d4847f",
   "metadata": {},
   "source": [
    "---"
   ]
  }
 ],
 "metadata": {
  "kernelspec": {
   "display_name": "Python 3 (ipykernel)",
   "language": "python",
   "name": "python3"
  },
  "language_info": {
   "codemirror_mode": {
    "name": "ipython",
    "version": 3
   },
   "file_extension": ".py",
   "mimetype": "text/x-python",
   "name": "python",
   "nbconvert_exporter": "python",
   "pygments_lexer": "ipython3",
   "version": "3.9.7"
  }
 },
 "nbformat": 4,
 "nbformat_minor": 5
}
